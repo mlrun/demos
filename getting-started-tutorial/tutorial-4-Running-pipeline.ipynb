{
 "cells": [
  {
   "cell_type": "markdown",
   "metadata": {},
   "source": [
    "# Tutorial 4 Running a pipeline"
   ]
  },
  {
   "cell_type": "markdown",
   "metadata": {},
   "source": [
    "### Overview"
   ]
  },
  {
   "cell_type": "markdown",
   "metadata": {},
   "source": [
    "This tutorial demonstrates how to create an automated pipeline for our project. <br>\n",
    "In order to create a pipeline we are using Kubeflow pipeline (if you are using Iguazio platform you'll find it as a built-in service). <br> \n",
    "The integration with MLRun enables us to take the functions previously created in our porject and build a pipeline that comprises of those functions. <br>\n"
   ]
  },
  {
   "cell_type": "markdown",
   "metadata": {},
   "source": [
    "## Prerequisites"
   ]
  },
  {
   "cell_type": "markdown",
   "metadata": {},
   "source": [
    "The tutorial is a continuation of [Tutorial 3](tutorial-3.ipynb). Make sure to complete the prior tutorial before running this tutorial."
   ]
  },
  {
   "cell_type": "markdown",
   "metadata": {},
   "source": [
    "### Load Project"
   ]
  },
  {
   "cell_type": "code",
   "execution_count": 1,
   "metadata": {},
   "outputs": [
    {
     "name": "stdout",
     "output_type": "stream",
     "text": [
      "Project path: /User/new-tutorials/conf\n",
      "Project name: getting-started-tutorial-admin\n",
      "Artifacts path: /v3io/projects/{{run.project}}/artifacts\n"
     ]
    }
   ],
   "source": [
    "from os import path, getenv\n",
    "from mlrun import load_project\n",
    "import mlrun\n",
    "\n",
    "project_path = path.abspath('conf')\n",
    "project = load_project(project_path)\n",
    "\n",
    "print(f'Project path: {project_path}\\nProject name: {project.name}')\n",
    "print(f'Artifacts path: {mlrun.mlconf.artifact_path}')"
   ]
  },
  {
   "cell_type": "markdown",
   "metadata": {},
   "source": [
    "### View all existing functions in my project"
   ]
  },
  {
   "cell_type": "markdown",
   "metadata": {},
   "source": [
    "Run \"get_run_db.list_functions\" to get the list of the functions for this project.Use the latest tag <br>\n",
    "In our project we should expect to have the following functions: \n",
    "* get_data - the first function that ingest the iris dataset to the platform\n",
    "* describe - generate statistics on the dataset\n",
    "* train-iris - training function\n",
    "* test-classifier - testing the model\n",
    "* mlrun-model - the serving function "
   ]
  },
  {
   "cell_type": "code",
   "execution_count": 2,
   "metadata": {
    "collapsed": true,
    "jupyter": {
     "outputs_hidden": true
    }
   },
   "outputs": [
    {
     "data": {
      "text/plain": [
       "[{'kind': 'job',\n",
       "  'metadata': {'name': 'get-data',\n",
       "   'tag': 'latest',\n",
       "   'project': 'getting-started-tutorial-admin',\n",
       "   'hash': 'b590278815fff64145e375b13e3ba937e1454bf0',\n",
       "   'updated': '2021-01-04T14:21:55.538190+00:00'},\n",
       "  'spec': {'command': '',\n",
       "   'args': [],\n",
       "   'image': 'mlrun/ml-models',\n",
       "   'volumes': [{'flexVolume': {'driver': 'v3io/fuse',\n",
       "      'options': {'accessKey': '273a4e69-e87b-4d6b-8692-c0aa9f20f939'}},\n",
       "     'name': 'v3io'}],\n",
       "   'volume_mounts': [{'mountPath': '/v3io', 'name': 'v3io', 'subPath': ''},\n",
       "    {'mountPath': '/User', 'name': 'v3io', 'subPath': 'users/admin'}],\n",
       "   'env': [{'name': 'V3IO_API',\n",
       "     'value': 'v3io-webapi.default-tenant.svc:8081'},\n",
       "    {'name': 'V3IO_USERNAME', 'value': 'admin'},\n",
       "    {'name': 'V3IO_ACCESS_KEY',\n",
       "     'value': '273a4e69-e87b-4d6b-8692-c0aa9f20f939'}],\n",
       "   'default_handler': '',\n",
       "   'entry_points': {'get_data': {'name': 'get_data',\n",
       "     'doc': '',\n",
       "     'parameters': [{'name': 'context', 'default': ''},\n",
       "      {'name': 'source_url', 'default': ''},\n",
       "      {'name': 'format', 'default': 'csv'}],\n",
       "     'outputs': [{'default': ''}],\n",
       "     'lineno': 3}},\n",
       "   'description': '',\n",
       "   'build': {'functionSourceCode': 'IyBHZW5lcmF0ZWQgYnkgbnVjbGlvLmV4cG9ydC5OdWNsaW9FeHBvcnRlcgoKZGVmIGdldF9kYXRhKGNvbnRleHQsIHNvdXJjZV91cmwsIGZvcm1hdD0nY3N2Jyk6CgogICAgZGYgPSBzb3VyY2VfdXJsLmFzX2RmKCkKCiAgICBjb250ZXh0LmxvZ19kYXRhc2V0KCdzb3VyY2VfZGF0YScsIGRmPWRmLCBmb3JtYXQ9Zm9ybWF0LAogICAgICAgICAgICAgICAgICAgICAgICBpbmRleD1GYWxzZSkKCg==',\n",
       "    'commands': []}},\n",
       "  'verbose': False,\n",
       "  'status': {}},\n",
       " {'kind': 'job',\n",
       "  'metadata': {'name': 'train-iris',\n",
       "   'tag': 'latest',\n",
       "   'hash': '5e376743d90aafe7cfe3fd735a58ec395d9d67ab',\n",
       "   'project': 'getting-started-tutorial-admin',\n",
       "   'categories': [],\n",
       "   'updated': '2021-01-04T14:24:56.329467+00:00'},\n",
       "  'spec': {'command': '',\n",
       "   'args': [],\n",
       "   'image': 'mlrun/ml-models',\n",
       "   'volumes': [{'flexVolume': {'driver': 'v3io/fuse',\n",
       "      'options': {'accessKey': '273a4e69-e87b-4d6b-8692-c0aa9f20f939'}},\n",
       "     'name': 'v3io'}],\n",
       "   'volume_mounts': [{'mountPath': '/v3io', 'name': 'v3io', 'subPath': ''},\n",
       "    {'mountPath': '/User', 'name': 'v3io', 'subPath': 'users/admin'}],\n",
       "   'env': [{'name': 'V3IO_API',\n",
       "     'value': 'v3io-webapi.default-tenant.svc:8081'},\n",
       "    {'name': 'V3IO_USERNAME', 'value': 'admin'},\n",
       "    {'name': 'V3IO_ACCESS_KEY',\n",
       "     'value': '273a4e69-e87b-4d6b-8692-c0aa9f20f939'}],\n",
       "   'default_handler': 'train_iris',\n",
       "   'entry_points': {'train_iris': {'name': 'train_iris',\n",
       "     'doc': '',\n",
       "     'parameters': [{'name': 'context', 'type': 'MLClientCtx', 'default': ''},\n",
       "      {'name': 'dataset', 'type': 'DataItem', 'default': ''},\n",
       "      {'name': 'label_column', 'type': 'str', 'default': 'labels'}],\n",
       "     'outputs': [{'default': ''}],\n",
       "     'lineno': 14}},\n",
       "   'description': '',\n",
       "   'build': {'functionSourceCode': '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',\n",
       "    'commands': [],\n",
       "    'code_origin': 'train_iris.ipynb'}},\n",
       "  'verbose': False,\n",
       "  'status': {}},\n",
       " {'kind': 'job',\n",
       "  'metadata': {'name': 'describe',\n",
       "   'tag': 'latest',\n",
       "   'hash': '8594e1a07b5ab883c2b18a8c3a8f8c14224ea1ff',\n",
       "   'project': 'getting-started-tutorial-admin',\n",
       "   'labels': {'author': 'yjb'},\n",
       "   'categories': ['analysis'],\n",
       "   'updated': '2021-01-04T14:25:18.807987+00:00'},\n",
       "  'spec': {'command': '',\n",
       "   'args': [],\n",
       "   'image': 'mlrun/ml-models',\n",
       "   'volumes': [{'flexVolume': {'driver': 'v3io/fuse',\n",
       "      'options': {'accessKey': '273a4e69-e87b-4d6b-8692-c0aa9f20f939'}},\n",
       "     'name': 'v3io'}],\n",
       "   'volume_mounts': [{'mountPath': '/v3io', 'name': 'v3io', 'subPath': ''},\n",
       "    {'mountPath': '/User', 'name': 'v3io', 'subPath': 'users/admin'}],\n",
       "   'env': [{'name': 'V3IO_API',\n",
       "     'value': 'v3io-webapi.default-tenant.svc:8081'},\n",
       "    {'name': 'V3IO_USERNAME', 'value': 'admin'},\n",
       "    {'name': 'V3IO_ACCESS_KEY',\n",
       "     'value': '273a4e69-e87b-4d6b-8692-c0aa9f20f939'}],\n",
       "   'default_handler': 'summarize',\n",
       "   'entry_points': {'summarize': {'name': 'summarize',\n",
       "     'doc': 'Summarize a table',\n",
       "     'parameters': [{'name': 'context',\n",
       "       'type': 'MLClientCtx',\n",
       "       'doc': 'the function context',\n",
       "       'default': ''},\n",
       "      {'name': 'table',\n",
       "       'type': 'DataItem',\n",
       "       'doc': 'MLRun input pointing to pandas dataframe (csv/parquet file path)',\n",
       "       'default': ''},\n",
       "      {'name': 'label_column',\n",
       "       'type': 'str',\n",
       "       'doc': 'ground truth column label',\n",
       "       'default': None},\n",
       "      {'name': 'class_labels',\n",
       "       'type': 'List[str]',\n",
       "       'doc': 'label for each class in tables and plots',\n",
       "       'default': []},\n",
       "      {'name': 'plot_hist',\n",
       "       'type': 'bool',\n",
       "       'doc': '(True) set this to False for large tables',\n",
       "       'default': True},\n",
       "      {'name': 'plots_dest',\n",
       "       'type': 'str',\n",
       "       'doc': 'destination folder of summary plots (relative to artifact_path)',\n",
       "       'default': 'plots'},\n",
       "      {'name': 'update_dataset',\n",
       "       'doc': 'when the table is a registered dataset update the charts in-place',\n",
       "       'default': False}],\n",
       "     'outputs': [{'default': ''}],\n",
       "     'lineno': 21}},\n",
       "   'description': 'describe and visualizes dataset stats',\n",
       "   'build': {'functionSourceCode': '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',\n",
       "    'commands': [],\n",
       "    'code_origin': 'git@github.com:mlrun/functions.git#da80a31139fa5ecd0e04756886b1e9e2da8ffd63:describe.ipynb'}},\n",
       "  'verbose': False,\n",
       "  'status': {}},\n",
       " {'kind': 'job',\n",
       "  'metadata': {'name': 'test-classifier',\n",
       "   'tag': 'latest',\n",
       "   'hash': '6f40be253d98a47f29f11ab98f1efa3f60ec3faa',\n",
       "   'project': 'getting-started-tutorial-admin',\n",
       "   'labels': {'author': 'yjb', 'framework': 'sklearn'},\n",
       "   'categories': ['ml', 'test'],\n",
       "   'updated': '2021-01-04T14:25:37.705502+00:00'},\n",
       "  'spec': {'command': '',\n",
       "   'args': [],\n",
       "   'image': 'mlrun/ml-models',\n",
       "   'volumes': [{'flexVolume': {'driver': 'v3io/fuse',\n",
       "      'options': {'accessKey': '273a4e69-e87b-4d6b-8692-c0aa9f20f939'}},\n",
       "     'name': 'v3io'}],\n",
       "   'volume_mounts': [{'mountPath': '/v3io', 'name': 'v3io', 'subPath': ''},\n",
       "    {'mountPath': '/User', 'name': 'v3io', 'subPath': 'users/admin'}],\n",
       "   'env': [{'name': 'V3IO_API',\n",
       "     'value': 'v3io-webapi.default-tenant.svc:8081'},\n",
       "    {'name': 'V3IO_USERNAME', 'value': 'admin'},\n",
       "    {'name': 'V3IO_ACCESS_KEY',\n",
       "     'value': '273a4e69-e87b-4d6b-8692-c0aa9f20f939'}],\n",
       "   'default_handler': 'test_classifier',\n",
       "   'entry_points': {'test_classifier': {'name': 'test_classifier',\n",
       "     'doc': 'Test one or more classifier models against held-out dataset\\n\\nUsing held-out test features, evaluates the peformance of the estimated model\\n\\nCan be part of a kubeflow pipeline as a test step that is run post EDA and \\ntraining/validation cycles',\n",
       "     'parameters': [{'name': 'context',\n",
       "       'doc': 'the function context',\n",
       "       'default': ''},\n",
       "      {'name': 'models_path',\n",
       "       'type': 'DataItem',\n",
       "       'doc': 'artifact models representing a file or a folder',\n",
       "       'default': ''},\n",
       "      {'name': 'test_set',\n",
       "       'type': 'DataItem',\n",
       "       'doc': 'test features and labels',\n",
       "       'default': ''},\n",
       "      {'name': 'label_column',\n",
       "       'type': 'str',\n",
       "       'doc': 'column name for ground truth labels',\n",
       "       'default': ''},\n",
       "      {'name': 'score_method',\n",
       "       'type': 'str',\n",
       "       'doc': 'for multiclass classification',\n",
       "       'default': 'micro'},\n",
       "      {'name': 'plots_dest',\n",
       "       'type': 'str',\n",
       "       'doc': 'dir for test plots',\n",
       "       'default': ''},\n",
       "      {'name': 'model_evaluator',\n",
       "       'doc': 'NOT IMPLEMENTED: specific method to generate eval, passed in as string or available in this folder',\n",
       "       'default': None},\n",
       "      {'name': 'default_model', 'type': 'str', 'default': 'model.pkl'},\n",
       "      {'name': 'predictions_column',\n",
       "       'type': 'str',\n",
       "       'doc': 'column name for the predictions column on the resulted artifact',\n",
       "       'default': 'yscore'},\n",
       "      {'name': 'model_update',\n",
       "       'doc': '(True) update model, when running as stand alone no need in update',\n",
       "       'default': True}],\n",
       "     'outputs': [{'default': ''}],\n",
       "     'lineno': 15}},\n",
       "   'description': 'test a classifier using held-out or new data',\n",
       "   'build': {'functionSourceCode': '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',\n",
       "    'commands': [],\n",
       "    'code_origin': 'git@github.com:mlrun/functions.git#9f91c27b89aa9d6b5cb890a35da2b7ce1a050900:test_classifier.ipynb'}},\n",
       "  'verbose': False,\n",
       "  'status': {}},\n",
       " {'kind': 'serving',\n",
       "  'metadata': {'name': 'serving',\n",
       "   'tag': 'latest',\n",
       "   'project': 'getting-started-tutorial-admin',\n",
       "   'hash': 'e7c3ed2dc3ef498fe5a4190e7f3991c23bcdbd49',\n",
       "   'updated': '2021-01-04T14:29:35.220393+00:00'},\n",
       "  'spec': {'command': 'http://default-tenant.app.product-a.iguazio-cd0.com:30117',\n",
       "   'args': [],\n",
       "   'image': 'mlrun/mlrun',\n",
       "   'entry_points': {'load': {'name': 'load',\n",
       "     'doc': 'load and initialize the model and/or other elements',\n",
       "     'parameters': [{'name': 'self', 'default': ''}],\n",
       "     'outputs': [{'default': ''}],\n",
       "     'lineno': 9},\n",
       "    'predict': {'name': 'predict',\n",
       "     'doc': 'Generate model predictions from sample.',\n",
       "     'parameters': [{'name': 'self', 'default': ''},\n",
       "      {'name': 'body', 'type': 'dict', 'default': ''}],\n",
       "     'outputs': [{'default': '', 'type': 'List'}],\n",
       "     'lineno': 14},\n",
       "    'init_context': {'name': 'init_context',\n",
       "     'doc': '',\n",
       "     'parameters': [{'name': 'context', 'default': ''}],\n",
       "     'outputs': [{'default': ''}],\n",
       "     'lineno': 22},\n",
       "    'handler': {'name': 'handler',\n",
       "     'doc': '',\n",
       "     'parameters': [{'name': 'context', 'default': ''},\n",
       "      {'name': 'event', 'default': ''}],\n",
       "     'outputs': [{'default': ''}],\n",
       "     'lineno': 25}},\n",
       "   'description': '',\n",
       "   'min_replicas': 1,\n",
       "   'max_replicas': 4,\n",
       "   'volumes': [{'flexVolume': {'driver': 'v3io/fuse',\n",
       "      'options': {'accessKey': '273a4e69-e87b-4d6b-8692-c0aa9f20f939',\n",
       "       'container': 'projects',\n",
       "       'subPath': ''}},\n",
       "     'name': 'v3io'}],\n",
       "   'volume_mounts': [{'mountPath': '/v3io/projects',\n",
       "     'name': 'v3io',\n",
       "     'subPath': ''}],\n",
       "   'env': [{'name': 'V3IO_API',\n",
       "     'value': 'v3io-webapi.default-tenant.svc:8081'},\n",
       "    {'name': 'V3IO_USERNAME', 'value': 'admin'},\n",
       "    {'name': 'V3IO_ACCESS_KEY',\n",
       "     'value': '273a4e69-e87b-4d6b-8692-c0aa9f20f939'}],\n",
       "   'base_spec': {'apiVersion': 'nuclio.io/v1',\n",
       "    'kind': 'Function',\n",
       "    'metadata': {'annotations': {'nuclio.io/generated_by': 'function generated from /User/new-tutorials/tutorial-3.ipynb'},\n",
       "     'labels': {},\n",
       "     'name': 'serving'},\n",
       "    'spec': {'build': {'commands': [],\n",
       "      'functionSourceCode': 'IyBHZW5lcmF0ZWQgYnkgbnVjbGlvLmV4cG9ydC5OdWNsaW9FeHBvcnRlcgoKZnJvbSBjbG91ZHBpY2tsZSBpbXBvcnQgbG9hZAppbXBvcnQgbnVtcHkgYXMgbnAKZnJvbSB0eXBpbmcgaW1wb3J0IExpc3QKaW1wb3J0IG1scnVuCgpjbGFzcyBDbGFzc2lmaWVyTW9kZWwobWxydW4uc2VydmluZy5WMk1vZGVsU2VydmVyKToKICAgIGRlZiBsb2FkKHNlbGYpOgogICAgICAgICIiImxvYWQgYW5kIGluaXRpYWxpemUgdGhlIG1vZGVsIGFuZC9vciBvdGhlciBlbGVtZW50cyIiIgogICAgICAgIG1vZGVsX2ZpbGUsIGV4dHJhX2RhdGEgPSBzZWxmLmdldF9tb2RlbCgnLnBrbCcpCiAgICAgICAgc2VsZi5tb2RlbCA9IGxvYWQob3Blbihtb2RlbF9maWxlLCAncmInKSkKCiAgICBkZWYgcHJlZGljdChzZWxmLCBib2R5OiBkaWN0KSAtPiBMaXN0OgogICAgICAgICIiIkdlbmVyYXRlIG1vZGVsIHByZWRpY3Rpb25zIGZyb20gc2FtcGxlLiIiIgogICAgICAgIGZlYXRzID0gbnAuYXNhcnJheShib2R5WydpbnB1dHMnXSkKICAgICAgICByZXN1bHQ6IG5wLm5kYXJyYXkgPSBzZWxmLm1vZGVsLnByZWRpY3QoZmVhdHMpCiAgICAgICAgcmV0dXJuIHJlc3VsdC50b2xpc3QoKQoKCmZyb20gbWxydW4ucnVudGltZXMgaW1wb3J0IG51Y2xpb19pbml0X2hvb2sKZGVmIGluaXRfY29udGV4dChjb250ZXh0KToKICAgIG51Y2xpb19pbml0X2hvb2soY29udGV4dCwgZ2xvYmFscygpLCAnc2VydmluZ192MicpCgpkZWYgaGFuZGxlcihjb250ZXh0LCBldmVudCk6CiAgICByZXR1cm4gY29udGV4dC5tbHJ1bl9oYW5kbGVyKGNvbnRleHQsIGV2ZW50KQo=',\n",
       "      'noBaseImagesPull': True},\n",
       "     'env': [],\n",
       "     'handler': 'tutorial-3:handler',\n",
       "     'runtime': 'python:3.6',\n",
       "     'volumes': []}},\n",
       "   'source': '',\n",
       "   'function_kind': 'serving_v2',\n",
       "   'graph': {'kind': 'router',\n",
       "    'routes': {'my_model': {'kind': 'task',\n",
       "      'class_name': 'ClassifierModel',\n",
       "      'class_args': {'model_path': 'store://getting-started-tutorial-admin/train-iris-train_iris_model'}}}},\n",
       "   'default_class': 'ClassifierModel',\n",
       "   'build': {'commands': [], 'code_origin': 'serving.ipynb'}},\n",
       "  'status': {'state': 'ready',\n",
       "   'nuclio_name': 'getting-started-tutorial-admin-serving',\n",
       "   'address': 'default-tenant.app.product-a.iguazio-cd0.com:30117'},\n",
       "  'verbose': False},\n",
       " {'kind': '',\n",
       "  'metadata': {'name': 'get_data',\n",
       "   'tag': 'latest',\n",
       "   'project': 'getting-started-tutorial-admin',\n",
       "   'categories': [],\n",
       "   'hash': '8dd908245b03eec6601c8ca9393687367a46a1cb',\n",
       "   'updated': '2021-01-04T14:21:30.994468+00:00'},\n",
       "  'spec': {'command': '/tmp/tmptcio3t01.py',\n",
       "   'args': [],\n",
       "   'image': '',\n",
       "   'build': {'commands': []},\n",
       "   'description': ''},\n",
       "  'verbose': False,\n",
       "  'status': {}}]"
      ]
     },
     "execution_count": 2,
     "metadata": {},
     "output_type": "execute_result"
    }
   ],
   "source": [
    "from mlrun import get_run_db\n",
    "get_run_db().list_functions(project={project.name}, tag='latest')"
   ]
  },
  {
   "cell_type": "markdown",
   "metadata": {},
   "source": [
    "You're now ready to create a full ML pipeline.\n",
    "This is done by using [Kubeflow Pipelines](https://www.kubeflow.org/docs/pipelines/overview/pipelines-overview/), which is integrated into the Iguazio Data Science Platform.\n",
    "Kubeflow Pipelines is an open-source framework for building and deploying portable, scalable machine-learning workflows based on Docker containers.\n",
    "MLRun leverages this framework to take your existing code and deploy it as steps in the pipeline."
   ]
  },
  {
   "cell_type": "markdown",
   "metadata": {},
   "source": [
    "<a id=\"gs-pipeline-workflow-define-n-save\"></a>"
   ]
  },
  {
   "cell_type": "markdown",
   "metadata": {},
   "source": [
    "### Define and Save a Pipeline Workflow"
   ]
  },
  {
   "cell_type": "markdown",
   "metadata": {},
   "source": [
    "A pipeline is created by running an MLRun **\"workflow\"**.\n",
    "The following code defines a workflow and writes it to a file in your project conf directory (file name is workflow.py).\n",
    "The workflow describes a directed acyclic graph (DAG) for execution using Kubeflow Pipelines, and depicts the connections between the functions and the data as part of an end-to-end pipeline.\n",
    "The workflow file has two parts &mdash; initialization of the function objects, and definition of a pipeline DSL (domain-specific language) for connecting the function inputs and outputs.\n",
    "Examine the code to see how functions objects are initialized and used (by name) within the workflow.\n",
    "\n",
    "The defined pipeline includes the following steps:\n",
    "\n",
    "- Ingest the Iris flower data set (`ingest`).\n",
    "- Train and the model (`train`).\n",
    "- Test the model with its test dataset\n",
    "- Deploy the model as a real-time serverless function (`deploy`).\n",
    "\n",
    "> **Note**: A pipeline can also include continuous build integration and deployment (CI/CD) steps, such as building container images and deploying models."
   ]
  },
  {
   "cell_type": "code",
   "execution_count": 3,
   "metadata": {},
   "outputs": [
    {
     "name": "stdout",
     "output_type": "stream",
     "text": [
      "Overwriting /User/new-tutorials/conf/workflow.py\n"
     ]
    }
   ],
   "source": [
    "%%writefile {path.join(project_path, 'workflow.py')}\n",
    "\n",
    "from kfp import dsl\n",
    "from mlrun import mount_v3io\n",
    "import mlrun\n",
    "from mlrun.platforms import mount_v3io_extended, mount_v3io\n",
    "\n",
    "\n",
    "funcs = {}\n",
    "DATASET = 'source_data'\n",
    "LABELS = \"label\"\n",
    "\n",
    "# Configure function resources and local settings\n",
    "def init_functions(functions: dict, project=None, secrets=None):\n",
    "    for f in functions.values():\n",
    "#        f.apply(mount_v3io_extended())\n",
    "         f.apply(mount_v3io(remote='projects',mount_path='/v3io/projects'))\n",
    "\n",
    "# Create a Kubeflow Pipelines pipeline\n",
    "@dsl.pipeline(\n",
    "    name=\"Getting-started-tutorial\",\n",
    "    description=\"This tutorial is designed to demonstrate some of the main \"\n",
    "                \"capabilities of the Iguazio Data Science Platform.\\n\"\n",
    "                \"The tutorial uses the Iris flower data set.\"\n",
    ")\n",
    "def kfpipeline(source_url='https://s3.wasabisys.com/iguazio/data/iris/iris_dataset.csv'):\n",
    "\n",
    "    # Ingest the data set\n",
    "    ingest = funcs['get-data'].as_step(\n",
    "        name=\"get-data\",\n",
    "        handler='get_data',\n",
    "        inputs={'source_url': source_url},\n",
    "        params={'format': 'csv'},\n",
    "        outputs=[DATASET])\n",
    "    \n",
    "    # Train a model   \n",
    "    train = funcs[\"train-iris\"].as_step(\n",
    "        name=\"train\",\n",
    "        params={\"label_column\": LABELS},\n",
    "        inputs={\"dataset\": ingest.outputs[DATASET]},\n",
    "        outputs=['model', 'test_set'])\n",
    "    \n",
    "    # Test and visualize the model\n",
    "    test = funcs[\"test\"].as_step(\n",
    "        name=\"test\",\n",
    "        params={\"label_column\": LABELS},\n",
    "        inputs={\"models_path\": train.outputs['model'],\n",
    "                \"test_set\": train.outputs['test_set']})\n",
    "    \n",
    "    # Deploy the model as a serverless function\n",
    "    deploy = funcs[\"serving\"].deploy_step(\n",
    "        models={f\"{DATASET}_v1\": train.outputs['model']})"
   ]
  },
  {
   "cell_type": "markdown",
   "metadata": {},
   "source": [
    "#### Register the Workflow"
   ]
  },
  {
   "cell_type": "markdown",
   "metadata": {},
   "source": [
    "Use the `set_workflow` MLRun project method to register your workflow with MLRun.\n",
    "The following code sets the `name` parameter to the selected workflow name (\"main\") and the `code` parameter to the name of the workflow file that is found in your project directory (**workflow.py**)."
   ]
  },
  {
   "cell_type": "code",
   "execution_count": 4,
   "metadata": {},
   "outputs": [],
   "source": [
    "# Register the workflow file as \"main\"\n",
    "project.set_workflow('main', 'workflow.py')"
   ]
  },
  {
   "cell_type": "markdown",
   "metadata": {},
   "source": [
    "<a id=\"gs-save-project\"></a>"
   ]
  },
  {
   "cell_type": "markdown",
   "metadata": {},
   "source": [
    "### Save Your Project Configuration"
   ]
  },
  {
   "cell_type": "code",
   "execution_count": 5,
   "metadata": {},
   "outputs": [],
   "source": [
    "project.save()"
   ]
  },
  {
   "cell_type": "markdown",
   "metadata": {},
   "source": [
    "Use the `run` MLRun project method to execute your workflow pipeline with Kubeflow Pipelines.\n",
    "The tutorial code sets the following method parameters; (for the full parameters list, see the MLRun documentation or embedded help):\n",
    "\n",
    "- **`name`** &mdash; the workflow name (in this case, \"main\" &mdash; see the previous step).\n",
    "- **`arguments`** &mdash; A dictionary of Kubeflow Pipelines arguments (parameters).\n",
    "  The tutorial code sets this parameter to an empty arguments list (`{}`), but you can edit the code to add arguments.\n",
    "- **`artifact_path`** &mdash; a path or URL that identifies a location for storing the workflow artifacts.\n",
    "  You can use `{{workflow.uid}}` in the path to signify the ID of the current workflow run iteration.\n",
    "  The tutorial code sets the artifacts path to a **&lt;worker ID&gt;** directory (`{{workflow.uid}}`) in a **pipeline** directory under the projects container (**/v3io/projects/getting-started-tutorial-project name/pipeline/&lt;worker ID&gt;**).\n",
    "- **`dirty`** &mdash; set to `True` to allow running the workflow also when the project's Git repository is dirty (i.e., contains uncommitted changes).\n",
    "  (When the notebook that contains the execution code is in the same Git directory as the executed workflow, the directory will always be dirty during the execution.)\n",
    "\n",
    "The `run` method returns the ID of the executed workflow, which the code stores in a `run_id` variable.\n",
    "You can use this ID to track the progress or your workflow, as demonstrated in the following sections.\n",
    "\n",
    "> **Note**: You can also run the workflow from a command-line shell by using the `mlrun` CLI.\n",
    "> The following CLI command defines a similar execution logic as that of the `run` call in the tutorial:\n",
    "> ```\n",
    "> mlrun project /User/getting-started-tutorial/conf -r main -p \"$V3IO_HOME_URL/getting-started-tutorial/pipeline/{{workflow.uid}}/\"\n",
    "> ```"
   ]
  },
  {
   "cell_type": "code",
   "execution_count": 6,
   "metadata": {},
   "outputs": [],
   "source": [
    "import os \n",
    "from os import environ, path\n",
    "from mlrun import mlconf"
   ]
  },
  {
   "cell_type": "code",
   "execution_count": 7,
   "metadata": {},
   "outputs": [
    {
     "name": "stdout",
     "output_type": "stream",
     "text": [
      "> 2021-01-04 14:31:51,710 [info] using in-cluster config.\n"
     ]
    },
    {
     "data": {
      "text/html": [
       "Experiment link <a href=\"https://dashboard.default-tenant.app.product-a.iguazio-cd0.com/pipelines/#/experiments/details/034bee55-09fd-4643-82a9-f15507ab0c5e\" target=\"_blank\" >here</a>"
      ],
      "text/plain": [
       "<IPython.core.display.HTML object>"
      ]
     },
     "metadata": {},
     "output_type": "display_data"
    },
    {
     "data": {
      "text/html": [
       "Run link <a href=\"https://dashboard.default-tenant.app.product-a.iguazio-cd0.com/pipelines/#/runs/details/f07c7c0d-ce73-4ce2-9298-d9ecfc4a7b68\" target=\"_blank\" >here</a>"
      ],
      "text/plain": [
       "<IPython.core.display.HTML object>"
      ]
     },
     "metadata": {},
     "output_type": "display_data"
    },
    {
     "name": "stdout",
     "output_type": "stream",
     "text": [
      "> 2021-01-04 14:31:52,143 [info] Pipeline run id=f07c7c0d-ce73-4ce2-9298-d9ecfc4a7b68, check UI or DB for progress\n",
      "> 2021-01-04 14:31:52,144 [info] waiting for pipeline run completion\n"
     ]
    },
    {
     "data": {
      "text/html": [
       "<h2>Run Results</h2>Workflow f07c7c0d-ce73-4ce2-9298-d9ecfc4a7b68 finished, status=Succeeded<br>click the hyper links below to see detailed results<br><table border=\"1\" class=\"dataframe\">\n",
       "  <thead>\n",
       "    <tr style=\"text-align: right;\">\n",
       "      <th>uid</th>\n",
       "      <th>start</th>\n",
       "      <th>state</th>\n",
       "      <th>name</th>\n",
       "      <th>results</th>\n",
       "      <th>artifacts</th>\n",
       "    </tr>\n",
       "  </thead>\n",
       "  <tbody>\n",
       "    <tr>\n",
       "      <td><div title=\"a18d552a5f1b404caf80ad4c3b7a65cf\"><a href=\"https://mlrun-ui.default-tenant.app.product-a.iguazio-cd0.com/projects/getting-started-tutorial-admin/jobs/monitor/a18d552a5f1b404caf80ad4c3b7a65cf/info\" target=\"_blank\" >...3b7a65cf</a></div></td>\n",
       "      <td>Jan 04 14:32:22</td>\n",
       "      <td>completed</td>\n",
       "      <td>test</td>\n",
       "      <td><div class=\"dictlist\">accuracy=1.0</div><div class=\"dictlist\">test-error=0.0</div><div class=\"dictlist\">auc-micro=1.0</div><div class=\"dictlist\">auc-weighted=1.0</div><div class=\"dictlist\">f1-score=1.0</div><div class=\"dictlist\">precision_score=1.0</div><div class=\"dictlist\">recall_score=1.0</div></td>\n",
       "      <td><div title=\"/v3io/projects/getting-started-tutorial-admin/artifacts/pipeline/f07c7c0d-ce73-4ce2-9298-d9ecfc4a7b68/plots/confusion-matrix.html\">confusion-matrix</div><div title=\"/v3io/projects/getting-started-tutorial-admin/artifacts/pipeline/f07c7c0d-ce73-4ce2-9298-d9ecfc4a7b68/plots/precision-recall-multiclass.html\">precision-recall-multiclass</div><div title=\"/v3io/projects/getting-started-tutorial-admin/artifacts/pipeline/f07c7c0d-ce73-4ce2-9298-d9ecfc4a7b68/plots/roc-multiclass.html\">roc-multiclass</div><div title=\"/v3io/projects/getting-started-tutorial-admin/artifacts/pipeline/f07c7c0d-ce73-4ce2-9298-d9ecfc4a7b68/test_set_preds.parquet\">test_set_preds</div></td>\n",
       "    </tr>\n",
       "    <tr>\n",
       "      <td><div title=\"92b57f94cd224b10acc07aeff90f9aa6\"><a href=\"https://mlrun-ui.default-tenant.app.product-a.iguazio-cd0.com/projects/getting-started-tutorial-admin/jobs/monitor/92b57f94cd224b10acc07aeff90f9aa6/info\" target=\"_blank\" >...f90f9aa6</a></div></td>\n",
       "      <td>Jan 04 14:32:10</td>\n",
       "      <td>completed</td>\n",
       "      <td>train</td>\n",
       "      <td><div class=\"dictlist\">accuracy=1.0</div><div class=\"dictlist\">test-error=0.0</div><div class=\"dictlist\">auc-micro=1.0</div><div class=\"dictlist\">auc-weighted=1.0</div><div class=\"dictlist\">f1-score=1.0</div><div class=\"dictlist\">precision_score=1.0</div><div class=\"dictlist\">recall_score=1.0</div></td>\n",
       "      <td><div title=\"/v3io/projects/getting-started-tutorial-admin/artifacts/pipeline/f07c7c0d-ce73-4ce2-9298-d9ecfc4a7b68/data/train_set.csv\">train_set</div><div title=\"/v3io/projects/getting-started-tutorial-admin/artifacts/pipeline/f07c7c0d-ce73-4ce2-9298-d9ecfc4a7b68/data/test_set.csv\">test_set</div><div title=\"/v3io/projects/getting-started-tutorial-admin/artifacts/pipeline/f07c7c0d-ce73-4ce2-9298-d9ecfc4a7b68/plots/confusion-matrix.html\">confusion-matrix</div><div title=\"/v3io/projects/getting-started-tutorial-admin/artifacts/pipeline/f07c7c0d-ce73-4ce2-9298-d9ecfc4a7b68/plots/precision-recall-multiclass.html\">precision-recall-multiclass</div><div title=\"/v3io/projects/getting-started-tutorial-admin/artifacts/pipeline/f07c7c0d-ce73-4ce2-9298-d9ecfc4a7b68/plots/roc-multiclass.html\">roc-multiclass</div><div title=\"/v3io/projects/getting-started-tutorial-admin/artifacts/pipeline/f07c7c0d-ce73-4ce2-9298-d9ecfc4a7b68/models\">model</div></td>\n",
       "    </tr>\n",
       "    <tr>\n",
       "      <td><div title=\"97e1de1100e74f539f9845ae074c44a5\"><a href=\"https://mlrun-ui.default-tenant.app.product-a.iguazio-cd0.com/projects/getting-started-tutorial-admin/jobs/monitor/97e1de1100e74f539f9845ae074c44a5/info\" target=\"_blank\" >...074c44a5</a></div></td>\n",
       "      <td>Jan 04 14:31:58</td>\n",
       "      <td>completed</td>\n",
       "      <td>get-data</td>\n",
       "      <td></td>\n",
       "      <td><div title=\"/v3io/projects/getting-started-tutorial-admin/artifacts/pipeline/f07c7c0d-ce73-4ce2-9298-d9ecfc4a7b68/source_data.csv\">source_data</div></td>\n",
       "    </tr>\n",
       "  </tbody>\n",
       "</table>"
      ],
      "text/plain": [
       "<IPython.core.display.HTML object>"
      ]
     },
     "metadata": {},
     "output_type": "display_data"
    }
   ],
   "source": [
    "pipeline_path = mlconf.artifact_path\n",
    "\n",
    "run_id = project.run(\n",
    "    'main',\n",
    "    arguments={}, \n",
    "    artifact_path=os.path.join(pipeline_path, \"pipeline\", '{{workflow.uid}}'),\n",
    "    dirty=True,\n",
    "    watch=True)"
   ]
  },
  {
   "cell_type": "markdown",
   "metadata": {},
   "source": [
    "### View pipeline in the UI"
   ]
  },
  {
   "cell_type": "markdown",
   "metadata": {},
   "source": [
    "Go go to the pipeline report (on the left hand menu). After completion you should be able to view the pipeline comprises of 3 functions \n",
    "* get-data\n",
    "* train\n",
    "* test\n"
   ]
  },
  {
   "cell_type": "markdown",
   "metadata": {},
   "source": [
    "<img src=\"./images/kubeflow-pipeline.JPG\" alt=\"pipeline\" width=\"600\"/>"
   ]
  },
  {
   "cell_type": "markdown",
   "metadata": {},
   "source": [
    "<a id='gs-pipeline-workflow-run'></a>"
   ]
  },
  {
   "cell_type": "markdown",
   "metadata": {},
   "source": [
    "## Done!"
   ]
  },
  {
   "cell_type": "markdown",
   "metadata": {},
   "source": [
    "Congratulation! You've completed the getting started tutorial of the Iguazio Data Science Platform."
   ]
  }
 ],
 "metadata": {
  "kernelspec": {
   "display_name": "Python 3",
   "language": "python",
   "name": "python3"
  },
  "language_info": {
   "codemirror_mode": {
    "name": "ipython",
    "version": 3
   },
   "file_extension": ".py",
   "mimetype": "text/x-python",
   "name": "python",
   "nbconvert_exporter": "python",
   "pygments_lexer": "ipython3",
   "version": "3.7.6"
  }
 },
 "nbformat": 4,
 "nbformat_minor": 4
}
