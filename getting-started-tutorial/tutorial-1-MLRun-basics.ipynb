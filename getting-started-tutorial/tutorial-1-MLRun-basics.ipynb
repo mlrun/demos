{
 "cells": [
  {
   "cell_type": "markdown",
   "metadata": {},
   "source": [
    "# Tutorial 1 - MLRun Basics"
   ]
  },
  {
   "cell_type": "markdown",
   "metadata": {},
   "source": [
    "## Tutorial intro"
   ]
  },
  {
   "cell_type": "markdown",
   "metadata": {},
   "source": [
    "The best way to learn how to work with Iguazio is by going through hands-on tutorials that covers the fundamental  of working with Iguazio and demonstrate how to <br>\n",
    "create an end to end machine learning pipeline all the way from collecting data, analyze it, train model, deploy models , monitor model and create an automated pipeline out of it <br>\n",
    "\n",
    "Here are 5 tutorials along with their content:<br>\n",
    "note that each tutorial rely on the previous one.\n",
    "1. MLRun Basics\n",
    "2. Model training\n",
    "3. Model deployment\n",
    "4. Create an automated pipeline\n",
    "5. Working with CI/CD \n"
   ]
  },
  {
   "cell_type": "markdown",
   "metadata": {},
   "source": [
    "In this first tutorial you will learn the basics of working with functions in Iguazio using an open source tool called MLRun. <br>\n",
    "The tutorial starts with some general overview and then takes you through the following steps: <br>\n",
    "\n",
    "* Step 1: Settings and basic configuration\n",
    "* Step 2: Create a basic function and run it locally\n",
    "* Step 3: Run the function on the cluster\n",
    "* Step 4: View functions in the UI\n",
    "* Step 5: Schedule functions"
   ]
  },
  {
   "cell_type": "markdown",
   "metadata": {},
   "source": [
    "# Overview"
   ]
  },
  {
   "cell_type": "markdown",
   "metadata": {},
   "source": [
    "## What is MLRun"
   ]
  },
  {
   "cell_type": "markdown",
   "metadata": {},
   "source": [
    "MLRun is an end-to-end open source MLOps solution to manage and automate your entire analytics and machine learning lifecycle, from data ingestion through model development and full pipeline deployment. <br>\n",
    "MLRun is running as a built-in service in Iguazio and is integrated well with other services in the platform. <br>\n",
    "It's primary goal is to ease the development of machine learning pipeline at scale and help organization to build a robust process for moving from the research phase to a full operational production."
   ]
  },
  {
   "cell_type": "markdown",
   "metadata": {},
   "source": [
    "## Challange"
   ]
  },
  {
   "cell_type": "markdown",
   "metadata": {},
   "source": [
    "As an ML developer or data scientist, you typically want to write code in your preferred local development environment (IDE) or web notebook, and then run the same code on a larger cluster using scale-out containers or functions. When you determine that the code is ready, you or someone else need to transfer the code to an automated ML workflow (for example, using Kubeflow Pipelines). This pipeline should be secured and include capabilities such as logging and monitoring, as well as allow adjustments to relevant components and easy redeployment.\n",
    "\n",
    "However, the implementation is challenging: various environments (“runtimes”) use different configurations, parameters, and data sources. In addition, multiple frameworks and platforms are used to focus on different stages of the development life cycle. This leads to constant development and DevOps/MLOps work.\n",
    "\n",
    "Furthermore, as your project scales, you need greater computation power or GPUs, and you need to access large-scale data sets. This cannot work on laptops. You need a way to seamlessly run your code on a remote cluster and automatically scale it out."
   ]
  },
  {
   "cell_type": "markdown",
   "metadata": {},
   "source": [
    "## Why MLRun ?"
   ]
  },
  {
   "cell_type": "markdown",
   "metadata": {},
   "source": [
    "When ML running experiments, you should ideally be able to record and version your code, configuration, outputs, and associated inputs (lineage), so you can easily reproduce and explain your results. The fact that you probably need to use different types of storage (such as files and AWS S3 buckets) and various databases, further complicates the implementation.\n",
    "\n",
    "Wouldn’t it be great if you could write the code once, using your preferred development environment and simple “local” semantics, and then run it as-is on different platforms? Imagine a layer that automates the build process, execution, data movement, scaling, versioning, parameterization, outputs tracking, and more. A world of easily developed, published, or consumed data or ML “functions” that can be used to form complex and large-scale ML pipelines.\n",
    "\n",
    "In addition, imagine a marketplace of ML functions that includes both open-source templates and your internally developed functions, to support code reuse across projects and companies and thus further accelerate your work."
   ]
  },
  {
   "cell_type": "markdown",
   "metadata": {},
   "source": [
    "## Basic components"
   ]
  },
  {
   "cell_type": "markdown",
   "metadata": {},
   "source": [
    "MLRun has the following main components, which are usually grouped into “projects”:\n",
    "\n",
    "* **Project** — a container for all your work on a particular activity. All the associated code, jobs and artifacts are organized within the projects. Projects consist of metadata, source code, workflows, data & artifacts, models, triggers and member management for user collaboration.\n",
    "\n",
    "* **Function** — a software package with one or more methods and runtime-specific attributes (such as image, command, arguments, and environment).\n",
    "\n",
    "* **Run** — contains information about an executed function. The run object is created as a result of running a function, and it has attributes such as run parameters, inputs, outputs etc with the  addition of the execution status and results (including links to output artifacts).\n",
    "\n",
    "* **Artifact** — versioned data artifacts (such as datasets, files and models) that are produced or consumed by functions, runs, and workflows.\n",
    "\n",
    "* **Workflow** — defines a functions pipeline or a directed acyclic graph (DAG) to execute using Kubeflow Pipelines.\n",
    "\n",
    "* **UI** - displaying and managing all experiments, artifacts and code under their project"
   ]
  },
  {
   "cell_type": "markdown",
   "metadata": {},
   "source": [
    "## Step 1: Setup"
   ]
  },
  {
   "cell_type": "markdown",
   "metadata": {},
   "source": [
    "### Setting MLrun "
   ]
  },
  {
   "cell_type": "markdown",
   "metadata": {},
   "source": [
    "MLRun is a built-in service in Iguazio. in order to start working with it you need to run the imports below and set up the following: <br>\n",
    "* MLRun database - set it to the URL of the MLRun database/API serivce. The URL of the service can be taken from the services screen in the platform <br>\n",
    "* Artifact path - In order to store the artifacts you need to set the artifact_path to the desired root folder of your artifacts. <br>\n",
    "Artifacts from each run are stored in the artifact_path which can be set globally through environment var (MLRUN_ARTIFACT_PATH) or through the config, if its not already set we can create a directory and use it in our runs.  <br>\n",
    "Using {{run.uid}} in the path will allow us to create a unique directory per run. <br>\n",
    "You can use {{run.project}} to include the project name in the path. <br>\n",
    "Later on when you run your jobs you can use {{run.uid}} to include the specific run uid in the artifact path. <br>\n",
    "if you don't do that then the jobs artifact will overwrite the old ones. <br>\n",
    "if you want to store a new artifact every time you run your job then use run.uid <br>"
   ]
  },
  {
   "cell_type": "markdown",
   "metadata": {},
   "source": [
    "### Pre-requisite"
   ]
  },
  {
   "cell_type": "markdown",
   "metadata": {},
   "source": [
    "If you already installed MLRun then ignore this step. if not, then run the script below <br>\n",
    "The script run pip install mlrun with the mlrun version that is aligned to the mlrun service running in the platform"
   ]
  },
  {
   "cell_type": "code",
   "execution_count": 1,
   "metadata": {},
   "outputs": [
    {
     "name": "stdout",
     "output_type": "stream",
     "text": [
      "Both server & client are aligned (0.6.0rc9).\n"
     ]
    }
   ],
   "source": [
    "!/User/align_mlrun.sh"
   ]
  },
  {
   "cell_type": "markdown",
   "metadata": {},
   "source": [
    "> **Note:**  Restart jupyter kernel after running the above script"
   ]
  },
  {
   "cell_type": "markdown",
   "metadata": {},
   "source": [
    "Run imports"
   ]
  },
  {
   "cell_type": "code",
   "execution_count": 2,
   "metadata": {},
   "outputs": [],
   "source": [
    "from os import environ, path\n",
    "from mlrun import mlconf"
   ]
  },
  {
   "cell_type": "markdown",
   "metadata": {},
   "source": [
    "### Artifacts setting"
   ]
  },
  {
   "cell_type": "markdown",
   "metadata": {},
   "source": [
    "By defualt all artifacts are stored under data container called \"Projects\" and the \"project name\" folder <br>\n",
    "You can change the artifact path by setting a different path: <br>\n",
    "`mlconf.artifact_path = '/v3io/projects/<new name>'`"
   ]
  },
  {
   "cell_type": "markdown",
   "metadata": {},
   "source": [
    "Show the artifact path"
   ]
  },
  {
   "cell_type": "code",
   "execution_count": 3,
   "metadata": {},
   "outputs": [
    {
     "data": {
      "text/plain": [
       "'/v3io/projects/{{run.project}}/artifacts'"
      ]
     },
     "execution_count": 3,
     "metadata": {},
     "output_type": "execute_result"
    }
   ],
   "source": [
    "mlconf.artifact_path"
   ]
  },
  {
   "cell_type": "markdown",
   "metadata": {},
   "source": [
    "### Working from remote \n",
    "This tutorial showcases how to run your project in this built-in jupyter service, however, as a developer you may want to develop from <br>\n",
    "remote using your own IDE (local jupyter, pycharm etc..). <br>\n",
    "Go to this link to learn how to work with a remote IDE <br>\n",
    "https://mlrun.readthedocs.io/en/latest/remote.html"
   ]
  },
  {
   "cell_type": "markdown",
   "metadata": {},
   "source": [
    "### Setting your project"
   ]
  },
  {
   "cell_type": "markdown",
   "metadata": {},
   "source": [
    "Projects in the platform are used to package multiple functions, workflows, and artifacts.\n",
    "Projects are created by using the `new_project` MLRun method, which receives the following parameters:\n",
    "\n",
    "- **`name`** (Required) &mdash; the project name.\n",
    "- **`context`** &mdash; the path to a local project directory (the project's context directory).\n",
    "  The project directory contains a project-configuration file (default: **project.yaml**), which defines the project, and additional generated Python code.\n",
    "  The project file is created when you save your project (using the `save` MLRun project method or when saving your first function within the project).\n",
    "- **`functions`** &mdash; a list of functions objects or links to function code or objects.\n",
    "- **`init_git`** &mdash; set to `True` to perform Git initialization of the project directory (`context`).\n",
    "  > **Note:** It's customary to store project code and definitions in a Git repository.\n",
    "\n",
    "Projects are visible in the MLRun dashboard only after they're saved to the MLRun database, which happens whenever you run code for a project.\n",
    "\n",
    "The following code creates a project named \"getting-started-iris-&lt;V3IO_USERNAME&gt;\", where **&lt;V3IO_USERNAME&gt;** is your current running username in the platform, and sets the project directory to a **conf** directory in the current tutorial directory (**/User/getting-started-tutorial/conf**).\n",
    "\n",
    "> **Note:** Platform projects are shared among all users of the parent tenant, to facilitate collaboration. Therefore,\n",
    ">\n",
    "> - Synchronize your projects execution with other users on your platform cluster, as needed, or use unique project names to avoid conflicts.\n",
    ">   You can easily change the default project name for this tutorial by changing the definition of the `project_name` variable in the following code.\n",
    "> - Don't include in your project proprietary information that you don't want to expose to other users.\n",
    ">   Note that while projects are a useful tool, you can easily develop and run code in the platform without using projects."
   ]
  },
  {
   "cell_type": "code",
   "execution_count": 4,
   "metadata": {},
   "outputs": [
    {
     "name": "stdout",
     "output_type": "stream",
     "text": [
      "Project path: /User/nd/demos/getting-started-tutorial/conf\n",
      "Project name: getting-started-tutorial-orz\n",
      "Artifacts path: /v3io/projects/{{run.project}}/artifacts\n"
     ]
    }
   ],
   "source": [
    "from os import path, getenv\n",
    "from mlrun import new_project\n",
    "\n",
    "project_name = '-'.join(filter(None, ['getting-started-tutorial', getenv('V3IO_USERNAME', None)])).lower()\n",
    "project_path = path.abspath('conf')\n",
    "project = new_project(project_name, project_path, init_git=True)\n",
    "\n",
    "print(f'Project path: {project_path}\\nProject name: {project_name}')\n",
    "print(f'Artifacts path: {mlconf.artifact_path}')"
   ]
  },
  {
   "cell_type": "markdown",
   "metadata": {},
   "source": [
    "<a id=\"step-2\"></a>\n",
    "## Step 2: Create a basic function"
   ]
  },
  {
   "cell_type": "markdown",
   "metadata": {},
   "source": [
    "### Working with Functions "
   ]
  },
  {
   "cell_type": "markdown",
   "metadata": {},
   "source": [
    "MLRun Function is a software package with one or more methods and runtime-specific attributes (such as image, command, arguments, and environment). <br> \n",
    "The MLrun function code is being stored in the MLRun database and can be used for running jobs with a single function or as part of a pipeline. <br>\n",
    "Each function is stored in the mlrun database with a unique hash code and gets a new hash code upon changes. <br>\n",
    "The function spec is kept as a YAML file and can be viewed by an API or via the UI.<br>\n",
    "\n",
    "In order to work with functions we need to be familiar with the following:\n",
    "\n",
    "* Context - MLRun introduces a concept of a runtime \"context\": the code can be set up to get parameters and inputs from the context, as well as log run outputs, artifacts, tags, and time-series metrics in the context.\n",
    "\n",
    "* Parameters - the arguments that are sent to the functions.\n",
    "\n",
    "* Input - input is yet another argument called \"input\", however, the input is used to get data object like dataset ,  model or file. <br>\n",
    "For sending data items to a function, users should send it via “inputs” and not as params.\n"
   ]
  },
  {
   "cell_type": "markdown",
   "metadata": {},
   "source": [
    "Let’s take a simple scenario. First you have some code that reads either a csv file or parquet and returns a DataFrame."
   ]
  },
  {
   "cell_type": "code",
   "execution_count": 5,
   "metadata": {},
   "outputs": [],
   "source": [
    "import pandas as pd\n",
    "\n",
    "# Ingest a data set into the platform\n",
    "def get_data(source_url):\n",
    "\n",
    "    if source_url.endswith(\".csv\"):\n",
    "        df = pd.read_csv(source_url)\n",
    "    elif source_url.endswith(\".parquet\") or source_url.endswith(\".pq\"):\n",
    "        df = pd.read_parquet(source_url)\n",
    "    else:\n",
    "        raise Exception(f\"file type unhandled {source_url}\")\n",
    "\n",
    "    return df"
   ]
  },
  {
   "cell_type": "markdown",
   "metadata": {},
   "source": [
    "Now, let's take this function and run it as an MLrun function. MLrun will be used for the following:\n",
    "* Have MLRun handle the data read\n",
    "* Log this data to the MLRun database\n"
   ]
  },
  {
   "cell_type": "markdown",
   "metadata": {},
   "source": [
    "### Working with artifacts"
   ]
  },
  {
   "cell_type": "markdown",
   "metadata": {},
   "source": [
    "An artifact is any data that is produced and/or consumed by functions or jobs.\n",
    "\n",
    "The artifacts are stored in the project and are divided to 3 main types:\n",
    "\n",
    "* Datasets — any data , such as tables and DataFrames.\n",
    "\n",
    "* Plots — images, figures, and plotlines.\n",
    "\n",
    "* Models — all trained models.\n",
    "\n",
    "For detailed information about managing different artifacts go to https://mlrun.readthedocs.io/en/latest/data-management-and-versioning.html\n"
   ]
  },
  {
   "cell_type": "markdown",
   "metadata": {},
   "source": [
    "### Create and run your first MLrun function "
   ]
  },
  {
   "cell_type": "markdown",
   "metadata": {},
   "source": [
    "For this purpose, we’ll add a context parameter which will be used to log our artifacts. In addition, we are also saving the file <br>  as csv using format = 'csv', yet we can use other file formats such as parquet.\n",
    "Our code will now look as follows:\n",
    "\n",
    "In our example we are using the dataset artifact:"
   ]
  },
  {
   "cell_type": "code",
   "execution_count": 6,
   "metadata": {},
   "outputs": [],
   "source": [
    "def get_data(context, source_url, format='csv'):\n",
    "\n",
    "    df = source_url.as_df()\n",
    "\n",
    "    # Store the data set in your artifacts database\n",
    "    context.log_dataset('source_data', df=df, format=format,\n",
    "                        index=False)"
   ]
  },
  {
   "cell_type": "markdown",
   "metadata": {},
   "source": [
    "As input, we will provide a CSV file from a cloud object store service called wasabisys:"
   ]
  },
  {
   "cell_type": "code",
   "execution_count": 7,
   "metadata": {},
   "outputs": [],
   "source": [
    "# Set the source-data URL\n",
    "source_url = 'https://s3.wasabisys.com/iguazio/data/iris/iris_dataset.csv'"
   ]
  },
  {
   "cell_type": "markdown",
   "metadata": {},
   "source": [
    "##### Convert the Notebook Code Into a Function"
   ]
  },
  {
   "cell_type": "markdown",
   "metadata": {},
   "source": [
    "Use the MLRun `code_to_function` method to convert your notebook code into a project MLRun function &mdash; a function object with embedded code, which can run on the cluster. <br>\n",
    "This will also come in handy later in the tutorial, after you create an automated pipeline. <br>\n",
    "In order to identify the sections that need to be converted we are using annotation and magic commands that starts with `%nuclio` (don't confuse it with the nuclio serverless function framework, we are planning to change the name in future versions).  \n",
    "<br>\n",
    "`%nuclio` magic commands and some comment annotations  (e.g.` # nuclio: ignore`) help us provide non-intrusive hints as to how we want to convert the notebook into a full function + spec.  \n",
    "Since in the notebook we sometimes add extra cells which should not be included in the actual function (e.g. prints, plots, tests, debug code, etc.) we can set `# nuclio: start-code` and `# nuclio: end-code` annotations before and after our relevant code cells.  or we can simply add `# nuclio: ignore` to the top of the cells we wish not to include.  \n",
    ">Note that you can use the `nuclio: start-code` and `nuclio: end-code` annotations only once in the same notebook.  <br>  \n",
    "\n",
    "If we want settings such as environment variables and package installations to automatically appear in the function spec we can use the `%nuclio env` or `%nuclio cmd` commands and those will copy themself into the function spec. <br>\n",
    "\n",
    "For more information about using the annotations and magic command go to https://github.com/nuclio/nuclio-jupyter#controlling-function-code-and-configuration <br>"
   ]
  },
  {
   "cell_type": "code",
   "execution_count": 8,
   "metadata": {},
   "outputs": [],
   "source": [
    "# nuclio: start-code"
   ]
  },
  {
   "cell_type": "code",
   "execution_count": 9,
   "metadata": {},
   "outputs": [
    {
     "name": "stdout",
     "output_type": "stream",
     "text": [
      "%nuclio: setting spec.image to 'mlrun/ml-models'\n"
     ]
    }
   ],
   "source": [
    "%nuclio config spec.image = \"mlrun/ml-models\""
   ]
  },
  {
   "cell_type": "code",
   "execution_count": 10,
   "metadata": {},
   "outputs": [],
   "source": [
    "def get_data(context, source_url, format='csv'):\n",
    "\n",
    "    df = source_url.as_df()\n",
    "\n",
    "    # Store the data set in your artifacts database\n",
    "    context.log_dataset('source_data', df=df, format=format,\n",
    "                        index=False)"
   ]
  },
  {
   "cell_type": "code",
   "execution_count": 11,
   "metadata": {},
   "outputs": [],
   "source": [
    "# nuclio: end-code"
   ]
  },
  {
   "cell_type": "markdown",
   "metadata": {},
   "source": [
    "The following code converts the code of your local 'get-data' data-ingestion function into a 'gen_func' project function. <br>\n",
    "Note that users can use different engines to run their code such as job (python process), spark, mpijob, nuclio and dask. <br>\n",
    "In the example below we use kind=job as we'd like to run it as a python job <br> \n",
    "Then, we use set_function to save the function object in the project."
   ]
  },
  {
   "cell_type": "code",
   "execution_count": 12,
   "metadata": {},
   "outputs": [
    {
     "data": {
      "text/plain": [
       "<mlrun.runtimes.kubejob.KubejobRuntime at 0x7fd04bcb7490>"
      ]
     },
     "execution_count": 12,
     "metadata": {},
     "output_type": "execute_result"
    }
   ],
   "source": [
    "from mlrun import code_to_function\n",
    "\n",
    "# Convert the local get_data function into a gen_func project function\n",
    "gen_data_func = code_to_function(name='get_data',kind='job')\n",
    "project.set_function(gen_data_func)"
   ]
  },
  {
   "cell_type": "markdown",
   "metadata": {},
   "source": [
    "Next,  call this function localy, meaning that it would  be running as part of the jupyter pod. <br>\n",
    "The execution results is stored in the MLRun database. <br>\n",
    "In this example we are using the following parameters: <br>\n",
    "* name = jobs name \n",
    "* handler = function handler as stated above\n",
    "* input = url of the dataset\n",
    "* project = project name <br>\n",
    "\n",
    "By default the artifact (iris_dataset csv file) will be stored in the project default artifact (in our case it's /v3io/projects/project name]) <br>\n",
    "users can change that by using the artifact_path parameter to store the artifact in a different place "
   ]
  },
  {
   "cell_type": "markdown",
   "metadata": {},
   "source": [
    "Now let's run the function using the \"run\" method. By using local=True it runs the code \"localy\" as part of the Jupyter pod. <br>\n",
    "When running localy the function runs within the jupyter pod meaning that it uses the envrieonment variables, volumes and image that are running in this pod.  \n",
    "> Note that when running a \"local\" function, the function code is only saved in a temp folder and won't be saved in your project's ML Functions code repo.\n"
   ]
  },
  {
   "cell_type": "code",
   "execution_count": 13,
   "metadata": {},
   "outputs": [
    {
     "name": "stdout",
     "output_type": "stream",
     "text": [
      "> 2021-01-10 14:30:14,797 [info] starting run get_data uid=6272adfe98494221b2cd81dc5331faad DB=http://mlrun-api:8080\n"
     ]
    },
    {
     "data": {
      "text/html": [
       "<style>\n",
       ".dictlist {\n",
       "  background-color: #4EC64B;\n",
       "  text-align: center;\n",
       "  margin: 4px;\n",
       "  border-radius: 3px; padding: 0px 3px 1px 3px; display: inline-block;}\n",
       ".artifact {\n",
       "  cursor: pointer;\n",
       "  background-color: #4EC64B;\n",
       "  text-align: left;\n",
       "  margin: 4px; border-radius: 3px; padding: 0px 3px 1px 3px; display: inline-block;\n",
       "}\n",
       "div.block.hidden {\n",
       "  display: none;\n",
       "}\n",
       ".clickable {\n",
       "  cursor: pointer;\n",
       "}\n",
       ".ellipsis {\n",
       "  display: inline-block;\n",
       "  max-width: 60px;\n",
       "  white-space: nowrap;\n",
       "  overflow: hidden;\n",
       "  text-overflow: ellipsis;\n",
       "}\n",
       ".master-wrapper {\n",
       "  display: flex;\n",
       "  flex-flow: row nowrap;\n",
       "  justify-content: flex-start;\n",
       "  align-items: stretch;\n",
       "}\n",
       ".master-tbl {\n",
       "  flex: 3\n",
       "}\n",
       ".master-wrapper > div {\n",
       "  margin: 4px;\n",
       "  padding: 10px;\n",
       "}\n",
       "iframe.fileview {\n",
       "  border: 0 none;\n",
       "  height: 100%;\n",
       "  width: 100%;\n",
       "  white-space: pre-wrap;\n",
       "}\n",
       ".pane-header-title {\n",
       "  width: 80%;\n",
       "  font-weight: 500;\n",
       "}\n",
       ".pane-header {\n",
       "  line-height: 1;\n",
       "  background-color: #4EC64B;\n",
       "  padding: 3px;\n",
       "}\n",
       ".pane-header .close {\n",
       "  font-size: 20px;\n",
       "  font-weight: 700;\n",
       "  float: right;\n",
       "  margin-top: -5px;\n",
       "}\n",
       ".master-wrapper .right-pane {\n",
       "  border: 1px inset silver;\n",
       "  width: 40%;\n",
       "  min-height: 300px;\n",
       "  flex: 3\n",
       "  min-width: 500px;\n",
       "}\n",
       ".master-wrapper * {\n",
       "  box-sizing: border-box;\n",
       "}\n",
       "</style><script>\n",
       "function copyToClipboard(fld) {\n",
       "    if (document.queryCommandSupported && document.queryCommandSupported('copy')) {\n",
       "        var textarea = document.createElement('textarea');\n",
       "        textarea.textContent = fld.innerHTML;\n",
       "        textarea.style.position = 'fixed';\n",
       "        document.body.appendChild(textarea);\n",
       "        textarea.select();\n",
       "\n",
       "        try {\n",
       "            return document.execCommand('copy'); // Security exception may be thrown by some browsers.\n",
       "        } catch (ex) {\n",
       "\n",
       "        } finally {\n",
       "            document.body.removeChild(textarea);\n",
       "        }\n",
       "    }\n",
       "}\n",
       "function expandPanel(el) {\n",
       "  const panelName = \"#\" + el.getAttribute('paneName');\n",
       "  console.log(el.title);\n",
       "\n",
       "  document.querySelector(panelName + \"-title\").innerHTML = el.title\n",
       "  iframe = document.querySelector(panelName + \"-body\");\n",
       "\n",
       "  const tblcss = `<style> body { font-family: Arial, Helvetica, sans-serif;}\n",
       "    #csv { margin-bottom: 15px; }\n",
       "    #csv table { border-collapse: collapse;}\n",
       "    #csv table td { padding: 4px 8px; border: 1px solid silver;} </style>`;\n",
       "\n",
       "  function csvToHtmlTable(str) {\n",
       "    return '<div id=\"csv\"><table><tr><td>' +  str.replace(/[\\n\\r]+$/g, '').replace(/[\\n\\r]+/g, '</td></tr><tr><td>')\n",
       "      .replace(/,/g, '</td><td>') + '</td></tr></table></div>';\n",
       "  }\n",
       "\n",
       "  function reqListener () {\n",
       "    if (el.title.endsWith(\".csv\")) {\n",
       "      iframe.setAttribute(\"srcdoc\", tblcss + csvToHtmlTable(this.responseText));\n",
       "    } else {\n",
       "      iframe.setAttribute(\"srcdoc\", this.responseText);\n",
       "    }\n",
       "    console.log(this.responseText);\n",
       "  }\n",
       "\n",
       "  const oReq = new XMLHttpRequest();\n",
       "  oReq.addEventListener(\"load\", reqListener);\n",
       "  oReq.open(\"GET\", el.title);\n",
       "  oReq.send();\n",
       "\n",
       "\n",
       "  //iframe.src = el.title;\n",
       "  const resultPane = document.querySelector(panelName + \"-pane\");\n",
       "  if (resultPane.classList.contains(\"hidden\")) {\n",
       "    resultPane.classList.remove(\"hidden\");\n",
       "  }\n",
       "}\n",
       "function closePanel(el) {\n",
       "  const panelName = \"#\" + el.getAttribute('paneName')\n",
       "  const resultPane = document.querySelector(panelName + \"-pane\");\n",
       "  if (!resultPane.classList.contains(\"hidden\")) {\n",
       "    resultPane.classList.add(\"hidden\");\n",
       "  }\n",
       "}\n",
       "\n",
       "</script>\n",
       "<div class=\"master-wrapper\">\n",
       "  <div class=\"block master-tbl\"><div>\n",
       "<style scoped>\n",
       "    .dataframe tbody tr th:only-of-type {\n",
       "        vertical-align: middle;\n",
       "    }\n",
       "\n",
       "    .dataframe tbody tr th {\n",
       "        vertical-align: top;\n",
       "    }\n",
       "\n",
       "    .dataframe thead th {\n",
       "        text-align: right;\n",
       "    }\n",
       "</style>\n",
       "<table border=\"1\" class=\"dataframe\">\n",
       "  <thead>\n",
       "    <tr style=\"text-align: right;\">\n",
       "      <th>project</th>\n",
       "      <th>uid</th>\n",
       "      <th>iter</th>\n",
       "      <th>start</th>\n",
       "      <th>state</th>\n",
       "      <th>name</th>\n",
       "      <th>labels</th>\n",
       "      <th>inputs</th>\n",
       "      <th>parameters</th>\n",
       "      <th>results</th>\n",
       "      <th>artifacts</th>\n",
       "    </tr>\n",
       "  </thead>\n",
       "  <tbody>\n",
       "    <tr>\n",
       "      <td>getting-started-tutorial-orz</td>\n",
       "      <td><div title=\"6272adfe98494221b2cd81dc5331faad\"><a href=\"https://mlrun-ui.default-tenant.app.ds.iguazio-cd2.com/projects/getting-started-tutorial-orz/jobs/monitor/6272adfe98494221b2cd81dc5331faad/info\" target=\"_blank\" >...5331faad</a></div></td>\n",
       "      <td>0</td>\n",
       "      <td>Jan 10 14:30:14</td>\n",
       "      <td>completed</td>\n",
       "      <td>get_data</td>\n",
       "      <td><div class=\"dictlist\">v3io_user=orz</div><div class=\"dictlist\">kind=</div><div class=\"dictlist\">owner=orz</div><div class=\"dictlist\">host=jupyter-orz-6fd46d5d99-t2d5w</div></td>\n",
       "      <td><div title=\"https://s3.wasabisys.com/iguazio/data/iris/iris_dataset.csv\">source_url</div></td>\n",
       "      <td></td>\n",
       "      <td></td>\n",
       "      <td><div title=\"/v3io/projects/getting-started-tutorial-orz/artifacts/source_data.csv\">source_data</div></td>\n",
       "    </tr>\n",
       "  </tbody>\n",
       "</table>\n",
       "</div></div>\n",
       "  <div id=\"result4830eead-pane\" class=\"right-pane block hidden\">\n",
       "    <div class=\"pane-header\">\n",
       "      <span id=\"result4830eead-title\" class=\"pane-header-title\">Title</span>\n",
       "      <span onclick=\"closePanel(this)\" paneName=\"result4830eead\" class=\"close clickable\">&times;</span>\n",
       "    </div>\n",
       "    <iframe class=\"fileview\" id=\"result4830eead-body\"></iframe>\n",
       "  </div>\n",
       "</div>\n"
      ],
      "text/plain": [
       "<IPython.core.display.HTML object>"
      ]
     },
     "metadata": {},
     "output_type": "display_data"
    },
    {
     "name": "stdout",
     "output_type": "stream",
     "text": [
      "to track results use .show() or .logs() or in CLI: \n",
      "!mlrun get run 6272adfe98494221b2cd81dc5331faad --project getting-started-tutorial-orz , !mlrun logs 6272adfe98494221b2cd81dc5331faad --project getting-started-tutorial-orz\n",
      "> 2021-01-10 14:30:15,246 [info] run executed, status=completed\n"
     ]
    }
   ],
   "source": [
    "get_data_run = gen_data_func.run(name='get_data',\n",
    "                                 handler='get_data',\n",
    "                                 inputs={'source_url': source_url},\n",
    "                                 local=True)"
   ]
  },
  {
   "cell_type": "markdown",
   "metadata": {},
   "source": [
    "### Getting info on the \"run\" object"
   ]
  },
  {
   "cell_type": "markdown",
   "metadata": {},
   "source": [
    "Every run object (the result of a .run() method) has the following properties and methods:\n",
    "\n",
    "`.uid()` - return the unique id <br>\n",
    "`.state()` - return the last known state <br>\n",
    "`.show()` - show the latest task state and data in a visual widget (with hyper links and hints) <br>\n",
    "`.outputs` - return a dict of the run results and artifact paths <br>\n",
    "`.logs()` - return the latest logs, use Watch=False to disable interactive mode in running tasks <br>\n",
    "`.artifact(key)` - return full artifact details <br>\n",
    "`.output(key)` - return specific result or artifact (path) <br>\n",
    "`.to_dict()`, `.to_yaml()`, `.to_json()` - convert the run object to dict/yaml/json"
   ]
  },
  {
   "cell_type": "code",
   "execution_count": 14,
   "metadata": {},
   "outputs": [
    {
     "data": {
      "text/plain": [
       "'completed'"
      ]
     },
     "execution_count": 14,
     "metadata": {},
     "output_type": "execute_result"
    }
   ],
   "source": [
    "# example\n",
    "get_data_run.state()"
   ]
  },
  {
   "cell_type": "code",
   "execution_count": 15,
   "metadata": {},
   "outputs": [
    {
     "data": {
      "text/plain": [
       "'store://getting-started-tutorial-orz/get_data_source_data#6272adfe98494221b2cd81dc5331faad'"
      ]
     },
     "execution_count": 15,
     "metadata": {},
     "output_type": "execute_result"
    }
   ],
   "source": [
    "get_data_run.outputs['source_data']"
   ]
  },
  {
   "cell_type": "markdown",
   "metadata": {},
   "source": [
    "### Read the output"
   ]
  },
  {
   "cell_type": "markdown",
   "metadata": {},
   "source": [
    "The dataset location is returned in the outputs field, therefore you can get the location by calling get_data_run.outputs['source_data'] and use the get_dataitem function to get the dataset itself."
   ]
  },
  {
   "cell_type": "code",
   "execution_count": 16,
   "metadata": {},
   "outputs": [],
   "source": [
    "from mlrun.run import get_dataitem\n",
    "dataset = get_dataitem(get_data_run.outputs['source_data'])"
   ]
  },
  {
   "cell_type": "markdown",
   "metadata": {},
   "source": [
    "You can also get the data as a Pandas Dataframe by calling the dataset.as_df()."
   ]
  },
  {
   "cell_type": "code",
   "execution_count": 17,
   "metadata": {},
   "outputs": [
    {
     "data": {
      "text/html": [
       "<div>\n",
       "<style scoped>\n",
       "    .dataframe tbody tr th:only-of-type {\n",
       "        vertical-align: middle;\n",
       "    }\n",
       "\n",
       "    .dataframe tbody tr th {\n",
       "        vertical-align: top;\n",
       "    }\n",
       "\n",
       "    .dataframe thead th {\n",
       "        text-align: right;\n",
       "    }\n",
       "</style>\n",
       "<table border=\"1\" class=\"dataframe\">\n",
       "  <thead>\n",
       "    <tr style=\"text-align: right;\">\n",
       "      <th></th>\n",
       "      <th>sepal length (cm)</th>\n",
       "      <th>sepal width (cm)</th>\n",
       "      <th>petal length (cm)</th>\n",
       "      <th>petal width (cm)</th>\n",
       "      <th>label</th>\n",
       "    </tr>\n",
       "  </thead>\n",
       "  <tbody>\n",
       "    <tr>\n",
       "      <th>0</th>\n",
       "      <td>5.1</td>\n",
       "      <td>3.5</td>\n",
       "      <td>1.4</td>\n",
       "      <td>0.2</td>\n",
       "      <td>0</td>\n",
       "    </tr>\n",
       "    <tr>\n",
       "      <th>1</th>\n",
       "      <td>4.9</td>\n",
       "      <td>3.0</td>\n",
       "      <td>1.4</td>\n",
       "      <td>0.2</td>\n",
       "      <td>0</td>\n",
       "    </tr>\n",
       "    <tr>\n",
       "      <th>2</th>\n",
       "      <td>4.7</td>\n",
       "      <td>3.2</td>\n",
       "      <td>1.3</td>\n",
       "      <td>0.2</td>\n",
       "      <td>0</td>\n",
       "    </tr>\n",
       "    <tr>\n",
       "      <th>3</th>\n",
       "      <td>4.6</td>\n",
       "      <td>3.1</td>\n",
       "      <td>1.5</td>\n",
       "      <td>0.2</td>\n",
       "      <td>0</td>\n",
       "    </tr>\n",
       "    <tr>\n",
       "      <th>4</th>\n",
       "      <td>5.0</td>\n",
       "      <td>3.6</td>\n",
       "      <td>1.4</td>\n",
       "      <td>0.2</td>\n",
       "      <td>0</td>\n",
       "    </tr>\n",
       "    <tr>\n",
       "      <th>...</th>\n",
       "      <td>...</td>\n",
       "      <td>...</td>\n",
       "      <td>...</td>\n",
       "      <td>...</td>\n",
       "      <td>...</td>\n",
       "    </tr>\n",
       "    <tr>\n",
       "      <th>145</th>\n",
       "      <td>6.7</td>\n",
       "      <td>3.0</td>\n",
       "      <td>5.2</td>\n",
       "      <td>2.3</td>\n",
       "      <td>2</td>\n",
       "    </tr>\n",
       "    <tr>\n",
       "      <th>146</th>\n",
       "      <td>6.3</td>\n",
       "      <td>2.5</td>\n",
       "      <td>5.0</td>\n",
       "      <td>1.9</td>\n",
       "      <td>2</td>\n",
       "    </tr>\n",
       "    <tr>\n",
       "      <th>147</th>\n",
       "      <td>6.5</td>\n",
       "      <td>3.0</td>\n",
       "      <td>5.2</td>\n",
       "      <td>2.0</td>\n",
       "      <td>2</td>\n",
       "    </tr>\n",
       "    <tr>\n",
       "      <th>148</th>\n",
       "      <td>6.2</td>\n",
       "      <td>3.4</td>\n",
       "      <td>5.4</td>\n",
       "      <td>2.3</td>\n",
       "      <td>2</td>\n",
       "    </tr>\n",
       "    <tr>\n",
       "      <th>149</th>\n",
       "      <td>5.9</td>\n",
       "      <td>3.0</td>\n",
       "      <td>5.1</td>\n",
       "      <td>1.8</td>\n",
       "      <td>2</td>\n",
       "    </tr>\n",
       "  </tbody>\n",
       "</table>\n",
       "<p>150 rows × 5 columns</p>\n",
       "</div>"
      ],
      "text/plain": [
       "     sepal length (cm)  sepal width (cm)  petal length (cm)  petal width (cm)  \\\n",
       "0                  5.1               3.5                1.4               0.2   \n",
       "1                  4.9               3.0                1.4               0.2   \n",
       "2                  4.7               3.2                1.3               0.2   \n",
       "3                  4.6               3.1                1.5               0.2   \n",
       "4                  5.0               3.6                1.4               0.2   \n",
       "..                 ...               ...                ...               ...   \n",
       "145                6.7               3.0                5.2               2.3   \n",
       "146                6.3               2.5                5.0               1.9   \n",
       "147                6.5               3.0                5.2               2.0   \n",
       "148                6.2               3.4                5.4               2.3   \n",
       "149                5.9               3.0                5.1               1.8   \n",
       "\n",
       "     label  \n",
       "0        0  \n",
       "1        0  \n",
       "2        0  \n",
       "3        0  \n",
       "4        0  \n",
       "..     ...  \n",
       "145      2  \n",
       "146      2  \n",
       "147      2  \n",
       "148      2  \n",
       "149      2  \n",
       "\n",
       "[150 rows x 5 columns]"
      ]
     },
     "execution_count": 17,
     "metadata": {},
     "output_type": "execute_result"
    }
   ],
   "source": [
    "dataset.as_df()"
   ]
  },
  {
   "cell_type": "markdown",
   "metadata": {},
   "source": [
    "### Saving the artifacts in a unique folder for each run"
   ]
  },
  {
   "cell_type": "markdown",
   "metadata": {},
   "source": [
    "In the previous steps when we ran the function it overwrites the existing artifact every time we run it. <br>\n",
    "in this step, we'd like to save the result (source data file) on a different folder per job run. <br>\n",
    "In order to do that we are setting the artifact path to use the {run.uid} parameter <br>\n",
    "Now, under the artifact path you should be able to see the source_data file resides under a new folder."
   ]
  },
  {
   "cell_type": "code",
   "execution_count": 18,
   "metadata": {},
   "outputs": [
    {
     "name": "stdout",
     "output_type": "stream",
     "text": [
      "> 2021-01-10 14:30:15,324 [info] starting run get_data uid=49091bc3a759416094f02047ce6c276c DB=http://mlrun-api:8080\n"
     ]
    },
    {
     "data": {
      "text/html": [
       "<style>\n",
       ".dictlist {\n",
       "  background-color: #4EC64B;\n",
       "  text-align: center;\n",
       "  margin: 4px;\n",
       "  border-radius: 3px; padding: 0px 3px 1px 3px; display: inline-block;}\n",
       ".artifact {\n",
       "  cursor: pointer;\n",
       "  background-color: #4EC64B;\n",
       "  text-align: left;\n",
       "  margin: 4px; border-radius: 3px; padding: 0px 3px 1px 3px; display: inline-block;\n",
       "}\n",
       "div.block.hidden {\n",
       "  display: none;\n",
       "}\n",
       ".clickable {\n",
       "  cursor: pointer;\n",
       "}\n",
       ".ellipsis {\n",
       "  display: inline-block;\n",
       "  max-width: 60px;\n",
       "  white-space: nowrap;\n",
       "  overflow: hidden;\n",
       "  text-overflow: ellipsis;\n",
       "}\n",
       ".master-wrapper {\n",
       "  display: flex;\n",
       "  flex-flow: row nowrap;\n",
       "  justify-content: flex-start;\n",
       "  align-items: stretch;\n",
       "}\n",
       ".master-tbl {\n",
       "  flex: 3\n",
       "}\n",
       ".master-wrapper > div {\n",
       "  margin: 4px;\n",
       "  padding: 10px;\n",
       "}\n",
       "iframe.fileview {\n",
       "  border: 0 none;\n",
       "  height: 100%;\n",
       "  width: 100%;\n",
       "  white-space: pre-wrap;\n",
       "}\n",
       ".pane-header-title {\n",
       "  width: 80%;\n",
       "  font-weight: 500;\n",
       "}\n",
       ".pane-header {\n",
       "  line-height: 1;\n",
       "  background-color: #4EC64B;\n",
       "  padding: 3px;\n",
       "}\n",
       ".pane-header .close {\n",
       "  font-size: 20px;\n",
       "  font-weight: 700;\n",
       "  float: right;\n",
       "  margin-top: -5px;\n",
       "}\n",
       ".master-wrapper .right-pane {\n",
       "  border: 1px inset silver;\n",
       "  width: 40%;\n",
       "  min-height: 300px;\n",
       "  flex: 3\n",
       "  min-width: 500px;\n",
       "}\n",
       ".master-wrapper * {\n",
       "  box-sizing: border-box;\n",
       "}\n",
       "</style><script>\n",
       "function copyToClipboard(fld) {\n",
       "    if (document.queryCommandSupported && document.queryCommandSupported('copy')) {\n",
       "        var textarea = document.createElement('textarea');\n",
       "        textarea.textContent = fld.innerHTML;\n",
       "        textarea.style.position = 'fixed';\n",
       "        document.body.appendChild(textarea);\n",
       "        textarea.select();\n",
       "\n",
       "        try {\n",
       "            return document.execCommand('copy'); // Security exception may be thrown by some browsers.\n",
       "        } catch (ex) {\n",
       "\n",
       "        } finally {\n",
       "            document.body.removeChild(textarea);\n",
       "        }\n",
       "    }\n",
       "}\n",
       "function expandPanel(el) {\n",
       "  const panelName = \"#\" + el.getAttribute('paneName');\n",
       "  console.log(el.title);\n",
       "\n",
       "  document.querySelector(panelName + \"-title\").innerHTML = el.title\n",
       "  iframe = document.querySelector(panelName + \"-body\");\n",
       "\n",
       "  const tblcss = `<style> body { font-family: Arial, Helvetica, sans-serif;}\n",
       "    #csv { margin-bottom: 15px; }\n",
       "    #csv table { border-collapse: collapse;}\n",
       "    #csv table td { padding: 4px 8px; border: 1px solid silver;} </style>`;\n",
       "\n",
       "  function csvToHtmlTable(str) {\n",
       "    return '<div id=\"csv\"><table><tr><td>' +  str.replace(/[\\n\\r]+$/g, '').replace(/[\\n\\r]+/g, '</td></tr><tr><td>')\n",
       "      .replace(/,/g, '</td><td>') + '</td></tr></table></div>';\n",
       "  }\n",
       "\n",
       "  function reqListener () {\n",
       "    if (el.title.endsWith(\".csv\")) {\n",
       "      iframe.setAttribute(\"srcdoc\", tblcss + csvToHtmlTable(this.responseText));\n",
       "    } else {\n",
       "      iframe.setAttribute(\"srcdoc\", this.responseText);\n",
       "    }\n",
       "    console.log(this.responseText);\n",
       "  }\n",
       "\n",
       "  const oReq = new XMLHttpRequest();\n",
       "  oReq.addEventListener(\"load\", reqListener);\n",
       "  oReq.open(\"GET\", el.title);\n",
       "  oReq.send();\n",
       "\n",
       "\n",
       "  //iframe.src = el.title;\n",
       "  const resultPane = document.querySelector(panelName + \"-pane\");\n",
       "  if (resultPane.classList.contains(\"hidden\")) {\n",
       "    resultPane.classList.remove(\"hidden\");\n",
       "  }\n",
       "}\n",
       "function closePanel(el) {\n",
       "  const panelName = \"#\" + el.getAttribute('paneName')\n",
       "  const resultPane = document.querySelector(panelName + \"-pane\");\n",
       "  if (!resultPane.classList.contains(\"hidden\")) {\n",
       "    resultPane.classList.add(\"hidden\");\n",
       "  }\n",
       "}\n",
       "\n",
       "</script>\n",
       "<div class=\"master-wrapper\">\n",
       "  <div class=\"block master-tbl\"><div>\n",
       "<style scoped>\n",
       "    .dataframe tbody tr th:only-of-type {\n",
       "        vertical-align: middle;\n",
       "    }\n",
       "\n",
       "    .dataframe tbody tr th {\n",
       "        vertical-align: top;\n",
       "    }\n",
       "\n",
       "    .dataframe thead th {\n",
       "        text-align: right;\n",
       "    }\n",
       "</style>\n",
       "<table border=\"1\" class=\"dataframe\">\n",
       "  <thead>\n",
       "    <tr style=\"text-align: right;\">\n",
       "      <th>project</th>\n",
       "      <th>uid</th>\n",
       "      <th>iter</th>\n",
       "      <th>start</th>\n",
       "      <th>state</th>\n",
       "      <th>name</th>\n",
       "      <th>labels</th>\n",
       "      <th>inputs</th>\n",
       "      <th>parameters</th>\n",
       "      <th>results</th>\n",
       "      <th>artifacts</th>\n",
       "    </tr>\n",
       "  </thead>\n",
       "  <tbody>\n",
       "    <tr>\n",
       "      <td>getting-started-tutorial-orz</td>\n",
       "      <td><div title=\"49091bc3a759416094f02047ce6c276c\"><a href=\"https://mlrun-ui.default-tenant.app.ds.iguazio-cd2.com/projects/getting-started-tutorial-orz/jobs/monitor/49091bc3a759416094f02047ce6c276c/info\" target=\"_blank\" >...ce6c276c</a></div></td>\n",
       "      <td>0</td>\n",
       "      <td>Jan 10 14:30:15</td>\n",
       "      <td>completed</td>\n",
       "      <td>get_data</td>\n",
       "      <td><div class=\"dictlist\">v3io_user=orz</div><div class=\"dictlist\">kind=</div><div class=\"dictlist\">owner=orz</div><div class=\"dictlist\">host=jupyter-orz-6fd46d5d99-t2d5w</div></td>\n",
       "      <td><div title=\"https://s3.wasabisys.com/iguazio/data/iris/iris_dataset.csv\">source_url</div></td>\n",
       "      <td></td>\n",
       "      <td></td>\n",
       "      <td><div title=\"/v3io/projects/getting-started-tutorial-orz/artifacts/49091bc3a759416094f02047ce6c276c/source_data.csv\">source_data</div></td>\n",
       "    </tr>\n",
       "  </tbody>\n",
       "</table>\n",
       "</div></div>\n",
       "  <div id=\"result57c2500b-pane\" class=\"right-pane block hidden\">\n",
       "    <div class=\"pane-header\">\n",
       "      <span id=\"result57c2500b-title\" class=\"pane-header-title\">Title</span>\n",
       "      <span onclick=\"closePanel(this)\" paneName=\"result57c2500b\" class=\"close clickable\">&times;</span>\n",
       "    </div>\n",
       "    <iframe class=\"fileview\" id=\"result57c2500b-body\"></iframe>\n",
       "  </div>\n",
       "</div>\n"
      ],
      "text/plain": [
       "<IPython.core.display.HTML object>"
      ]
     },
     "metadata": {},
     "output_type": "display_data"
    },
    {
     "name": "stdout",
     "output_type": "stream",
     "text": [
      "to track results use .show() or .logs() or in CLI: \n",
      "!mlrun get run 49091bc3a759416094f02047ce6c276c --project getting-started-tutorial-orz , !mlrun logs 49091bc3a759416094f02047ce6c276c --project getting-started-tutorial-orz\n",
      "> 2021-01-10 14:30:15,811 [info] run executed, status=completed\n"
     ]
    }
   ],
   "source": [
    "out = mlconf.artifact_path \n",
    "\n",
    "get_data_run = gen_data_func.run(name='get_data',\n",
    "                         handler=get_data,\n",
    "                         inputs={'source_url': source_url},\n",
    "                         project=project_name,\n",
    "                         local=True,\n",
    "                         artifact_path = path.join(out, '{{run.uid}}'))"
   ]
  },
  {
   "cell_type": "markdown",
   "metadata": {},
   "source": [
    "## Step 3: Run the Function on a Cluster"
   ]
  },
  {
   "cell_type": "markdown",
   "metadata": {},
   "source": [
    "Now, we'd like to run the function on the cluster itself as opposed to running it locally in the jupyter pod as we've done in the previous step. <br>\n",
    "By doing that we can leverage the cluster resources and run a more resource intensive workloads. <br>\n",
    "MLRun helps us to easily run our code without the hassle of creating Yamls and build images. <br>\n",
    "In order to run on the cluster all we need to do is to change the \"local\" flag to False. <br>"
   ]
  },
  {
   "cell_type": "markdown",
   "metadata": {},
   "source": [
    "When running the function as a pod in Kubernetes the output needs to be written to a shared file system where the artifact path resides. <br>\n",
    "In order to do that one need to add \"apply(mount_v3io())\" to attach an Iguazio Data Science Platform data volume (a.k.a. \"a v3io volume\") to the project function. <br>\n",
    "This connects your function to the platform's shared file system and allows you to pass data to and from the platform. <br>\n",
    "you can find more info about the various mount options in the next tutorial"
   ]
  },
  {
   "cell_type": "code",
   "execution_count": 19,
   "metadata": {},
   "outputs": [],
   "source": [
    "from mlrun import mount_v3io"
   ]
  },
  {
   "cell_type": "code",
   "execution_count": 20,
   "metadata": {},
   "outputs": [
    {
     "name": "stdout",
     "output_type": "stream",
     "text": [
      "> 2021-01-10 14:30:15,837 [info] starting run get_data uid=dc9e6e5e17d24b559571fe8c4b116ccb DB=http://mlrun-api:8080\n",
      "> 2021-01-10 14:30:15,990 [info] Job is running in the background, pod: get-data-5dr4f\n",
      "> 2021-01-10 14:30:19,801 [info] run executed, status=completed\n",
      "final state: completed\n"
     ]
    },
    {
     "data": {
      "text/html": [
       "<style>\n",
       ".dictlist {\n",
       "  background-color: #4EC64B;\n",
       "  text-align: center;\n",
       "  margin: 4px;\n",
       "  border-radius: 3px; padding: 0px 3px 1px 3px; display: inline-block;}\n",
       ".artifact {\n",
       "  cursor: pointer;\n",
       "  background-color: #4EC64B;\n",
       "  text-align: left;\n",
       "  margin: 4px; border-radius: 3px; padding: 0px 3px 1px 3px; display: inline-block;\n",
       "}\n",
       "div.block.hidden {\n",
       "  display: none;\n",
       "}\n",
       ".clickable {\n",
       "  cursor: pointer;\n",
       "}\n",
       ".ellipsis {\n",
       "  display: inline-block;\n",
       "  max-width: 60px;\n",
       "  white-space: nowrap;\n",
       "  overflow: hidden;\n",
       "  text-overflow: ellipsis;\n",
       "}\n",
       ".master-wrapper {\n",
       "  display: flex;\n",
       "  flex-flow: row nowrap;\n",
       "  justify-content: flex-start;\n",
       "  align-items: stretch;\n",
       "}\n",
       ".master-tbl {\n",
       "  flex: 3\n",
       "}\n",
       ".master-wrapper > div {\n",
       "  margin: 4px;\n",
       "  padding: 10px;\n",
       "}\n",
       "iframe.fileview {\n",
       "  border: 0 none;\n",
       "  height: 100%;\n",
       "  width: 100%;\n",
       "  white-space: pre-wrap;\n",
       "}\n",
       ".pane-header-title {\n",
       "  width: 80%;\n",
       "  font-weight: 500;\n",
       "}\n",
       ".pane-header {\n",
       "  line-height: 1;\n",
       "  background-color: #4EC64B;\n",
       "  padding: 3px;\n",
       "}\n",
       ".pane-header .close {\n",
       "  font-size: 20px;\n",
       "  font-weight: 700;\n",
       "  float: right;\n",
       "  margin-top: -5px;\n",
       "}\n",
       ".master-wrapper .right-pane {\n",
       "  border: 1px inset silver;\n",
       "  width: 40%;\n",
       "  min-height: 300px;\n",
       "  flex: 3\n",
       "  min-width: 500px;\n",
       "}\n",
       ".master-wrapper * {\n",
       "  box-sizing: border-box;\n",
       "}\n",
       "</style><script>\n",
       "function copyToClipboard(fld) {\n",
       "    if (document.queryCommandSupported && document.queryCommandSupported('copy')) {\n",
       "        var textarea = document.createElement('textarea');\n",
       "        textarea.textContent = fld.innerHTML;\n",
       "        textarea.style.position = 'fixed';\n",
       "        document.body.appendChild(textarea);\n",
       "        textarea.select();\n",
       "\n",
       "        try {\n",
       "            return document.execCommand('copy'); // Security exception may be thrown by some browsers.\n",
       "        } catch (ex) {\n",
       "\n",
       "        } finally {\n",
       "            document.body.removeChild(textarea);\n",
       "        }\n",
       "    }\n",
       "}\n",
       "function expandPanel(el) {\n",
       "  const panelName = \"#\" + el.getAttribute('paneName');\n",
       "  console.log(el.title);\n",
       "\n",
       "  document.querySelector(panelName + \"-title\").innerHTML = el.title\n",
       "  iframe = document.querySelector(panelName + \"-body\");\n",
       "\n",
       "  const tblcss = `<style> body { font-family: Arial, Helvetica, sans-serif;}\n",
       "    #csv { margin-bottom: 15px; }\n",
       "    #csv table { border-collapse: collapse;}\n",
       "    #csv table td { padding: 4px 8px; border: 1px solid silver;} </style>`;\n",
       "\n",
       "  function csvToHtmlTable(str) {\n",
       "    return '<div id=\"csv\"><table><tr><td>' +  str.replace(/[\\n\\r]+$/g, '').replace(/[\\n\\r]+/g, '</td></tr><tr><td>')\n",
       "      .replace(/,/g, '</td><td>') + '</td></tr></table></div>';\n",
       "  }\n",
       "\n",
       "  function reqListener () {\n",
       "    if (el.title.endsWith(\".csv\")) {\n",
       "      iframe.setAttribute(\"srcdoc\", tblcss + csvToHtmlTable(this.responseText));\n",
       "    } else {\n",
       "      iframe.setAttribute(\"srcdoc\", this.responseText);\n",
       "    }\n",
       "    console.log(this.responseText);\n",
       "  }\n",
       "\n",
       "  const oReq = new XMLHttpRequest();\n",
       "  oReq.addEventListener(\"load\", reqListener);\n",
       "  oReq.open(\"GET\", el.title);\n",
       "  oReq.send();\n",
       "\n",
       "\n",
       "  //iframe.src = el.title;\n",
       "  const resultPane = document.querySelector(panelName + \"-pane\");\n",
       "  if (resultPane.classList.contains(\"hidden\")) {\n",
       "    resultPane.classList.remove(\"hidden\");\n",
       "  }\n",
       "}\n",
       "function closePanel(el) {\n",
       "  const panelName = \"#\" + el.getAttribute('paneName')\n",
       "  const resultPane = document.querySelector(panelName + \"-pane\");\n",
       "  if (!resultPane.classList.contains(\"hidden\")) {\n",
       "    resultPane.classList.add(\"hidden\");\n",
       "  }\n",
       "}\n",
       "\n",
       "</script>\n",
       "<div class=\"master-wrapper\">\n",
       "  <div class=\"block master-tbl\"><div>\n",
       "<style scoped>\n",
       "    .dataframe tbody tr th:only-of-type {\n",
       "        vertical-align: middle;\n",
       "    }\n",
       "\n",
       "    .dataframe tbody tr th {\n",
       "        vertical-align: top;\n",
       "    }\n",
       "\n",
       "    .dataframe thead th {\n",
       "        text-align: right;\n",
       "    }\n",
       "</style>\n",
       "<table border=\"1\" class=\"dataframe\">\n",
       "  <thead>\n",
       "    <tr style=\"text-align: right;\">\n",
       "      <th>project</th>\n",
       "      <th>uid</th>\n",
       "      <th>iter</th>\n",
       "      <th>start</th>\n",
       "      <th>state</th>\n",
       "      <th>name</th>\n",
       "      <th>labels</th>\n",
       "      <th>inputs</th>\n",
       "      <th>parameters</th>\n",
       "      <th>results</th>\n",
       "      <th>artifacts</th>\n",
       "    </tr>\n",
       "  </thead>\n",
       "  <tbody>\n",
       "    <tr>\n",
       "      <td>getting-started-tutorial-orz</td>\n",
       "      <td><div title=\"dc9e6e5e17d24b559571fe8c4b116ccb\"><a href=\"https://mlrun-ui.default-tenant.app.ds.iguazio-cd2.com/projects/getting-started-tutorial-orz/jobs/monitor/dc9e6e5e17d24b559571fe8c4b116ccb/info\" target=\"_blank\" >...4b116ccb</a></div></td>\n",
       "      <td>0</td>\n",
       "      <td>Jan 10 14:30:19</td>\n",
       "      <td>completed</td>\n",
       "      <td>get_data</td>\n",
       "      <td><div class=\"dictlist\">v3io_user=orz</div><div class=\"dictlist\">kind=job</div><div class=\"dictlist\">owner=orz</div><div class=\"dictlist\">host=get-data-5dr4f</div></td>\n",
       "      <td><div title=\"https://s3.wasabisys.com/iguazio/data/iris/iris_dataset.csv\">source_url</div></td>\n",
       "      <td></td>\n",
       "      <td></td>\n",
       "      <td><div title=\"/v3io/projects/getting-started-tutorial-orz/artifacts/source_data.csv\">source_data</div></td>\n",
       "    </tr>\n",
       "  </tbody>\n",
       "</table>\n",
       "</div></div>\n",
       "  <div id=\"result1272a693-pane\" class=\"right-pane block hidden\">\n",
       "    <div class=\"pane-header\">\n",
       "      <span id=\"result1272a693-title\" class=\"pane-header-title\">Title</span>\n",
       "      <span onclick=\"closePanel(this)\" paneName=\"result1272a693\" class=\"close clickable\">&times;</span>\n",
       "    </div>\n",
       "    <iframe class=\"fileview\" id=\"result1272a693-body\"></iframe>\n",
       "  </div>\n",
       "</div>\n"
      ],
      "text/plain": [
       "<IPython.core.display.HTML object>"
      ]
     },
     "metadata": {},
     "output_type": "display_data"
    },
    {
     "name": "stdout",
     "output_type": "stream",
     "text": [
      "to track results use .show() or .logs() or in CLI: \n",
      "!mlrun get run dc9e6e5e17d24b559571fe8c4b116ccb --project getting-started-tutorial-orz , !mlrun logs dc9e6e5e17d24b559571fe8c4b116ccb --project getting-started-tutorial-orz\n",
      "> 2021-01-10 14:30:22,107 [info] run executed, status=completed\n"
     ]
    }
   ],
   "source": [
    "get_data_func = project.func('get-data').apply(mount_v3io())\n",
    "get_data_run = get_data_func.run(name='get_data',\n",
    "                                 handler='get_data',\n",
    "                                 inputs={'source_url': source_url},\n",
    "                                 local=False)"
   ]
  },
  {
   "cell_type": "code",
   "execution_count": 21,
   "metadata": {},
   "outputs": [
    {
     "name": "stdout",
     "output_type": "stream",
     "text": [
      "kind: job\n",
      "metadata:\n",
      "  name: get-data\n",
      "  tag: ''\n",
      "  project: getting-started-tutorial-orz\n",
      "spec:\n",
      "  command: ''\n",
      "  args: []\n",
      "  image: mlrun/ml-models\n",
      "  volumes:\n",
      "  - flexVolume:\n",
      "      driver: v3io/fuse\n",
      "      options:\n",
      "        accessKey: 51316d7e-86f1-4fe3-84be-2ce0135f46a1\n",
      "    name: v3io\n",
      "  volume_mounts:\n",
      "  - mountPath: /v3io\n",
      "    name: v3io\n",
      "    subPath: ''\n",
      "  - mountPath: /User\n",
      "    name: v3io\n",
      "    subPath: users/orz\n",
      "  env:\n",
      "  - name: V3IO_API\n",
      "    value: v3io-webapi.default-tenant.svc:8081\n",
      "  - name: V3IO_USERNAME\n",
      "    value: orz\n",
      "  - name: V3IO_ACCESS_KEY\n",
      "    value: 51316d7e-86f1-4fe3-84be-2ce0135f46a1\n",
      "  default_handler: ''\n",
      "  entry_points:\n",
      "    get_data:\n",
      "      name: get_data\n",
      "      doc: ''\n",
      "      parameters:\n",
      "      - name: context\n",
      "        default: ''\n",
      "      - name: source_url\n",
      "        default: ''\n",
      "      - name: format\n",
      "        default: csv\n",
      "      outputs:\n",
      "      - default: ''\n",
      "      lineno: 3\n",
      "  description: ''\n",
      "  build:\n",
      "    functionSourceCode: IyBHZW5lcmF0ZWQgYnkgbnVjbGlvLmV4cG9ydC5OdWNsaW9FeHBvcnRlcgoKZGVmIGdldF9kYXRhKGNvbnRleHQsIHNvdXJjZV91cmwsIGZvcm1hdD0nY3N2Jyk6CgogICAgZGYgPSBzb3VyY2VfdXJsLmFzX2RmKCkKCiAgICBjb250ZXh0LmxvZ19kYXRhc2V0KCdzb3VyY2VfZGF0YScsIGRmPWRmLCBmb3JtYXQ9Zm9ybWF0LAogICAgICAgICAgICAgICAgICAgICAgICBpbmRleD1GYWxzZSkKCg==\n",
      "    commands: []\n",
      "verbose: false\n",
      "\n"
     ]
    }
   ],
   "source": [
    "print(gen_data_func.to_yaml())"
   ]
  },
  {
   "cell_type": "markdown",
   "metadata": {},
   "source": [
    "## Step 4: View jobs in the UI"
   ]
  },
  {
   "cell_type": "markdown",
   "metadata": {},
   "source": [
    "Go to Iguazio dashboard, select your project from the projects screen and then go to the jobs and workflow screen by clicking on the link on the left hand menu. <br>\n",
    "In our case, after running the get_data twice you should see 3 records with type local (\"<>\") and type job. <br>\n",
    "In this view you can track all jobs running in your project along with detailed information. <br>\n",
    "click on the name of the jobs opens up several tabs with additional information such as: input dataset , artifacts that were generated by the job, results, logs etc.. <br>"
   ]
  },
  {
   "cell_type": "markdown",
   "metadata": {},
   "source": [
    "<img src=\"./images/Jobs.jpg\" alt=\"Jobs\" width=\"800\"/>"
   ]
  },
  {
   "cell_type": "markdown",
   "metadata": {},
   "source": [
    "## Step 5: Schedule jobs"
   ]
  },
  {
   "cell_type": "markdown",
   "metadata": {},
   "source": [
    "In order to schedule a job, user can set the schedule parameter to the run command. The scheduling is done using a crontab format. <br>\n",
    "Another way to schedule a job is to do it from the UI. Under the jobs and monitoring screen you can create a job using the \"New Job\" wizard. <br>\n",
    "At the end of the wizard you can set the scheduling.In the example below we set our job to run every 30min"
   ]
  },
  {
   "cell_type": "code",
   "execution_count": 22,
   "metadata": {},
   "outputs": [
    {
     "name": "stdout",
     "output_type": "stream",
     "text": [
      "> 2021-01-10 14:30:22,124 [info] starting run get_data uid=29b1601fb0b6470d8ba9d238b688a267 DB=http://mlrun-api:8080\n",
      "> 2021-01-10 14:30:22,215 [info] task scheduled, {'schedule': '*/30 * * * *', 'project': 'getting-started-tutorial-orz', 'name': 'get_data'}\n"
     ]
    }
   ],
   "source": [
    "get_data_func = project.func('get-data').apply(mount_v3io())\n",
    "get_data_run = get_data_func.run(name='get_data',\n",
    "                                 handler='get_data',\n",
    "                                 local=False,\n",
    "                                 inputs={'source_url': source_url},schedule='*/30 * * * *')"
   ]
  },
  {
   "cell_type": "code",
   "execution_count": 23,
   "metadata": {},
   "outputs": [
    {
     "name": "stdout",
     "output_type": "stream",
     "text": [
      "schedules=[ScheduleOutput(name='get_data', kind=<ScheduleKinds.job: 'job'>, scheduled_object={'task': {'spec': {'inputs': {'source_url': 'https://s3.wasabisys.com/iguazio/data/iris/iris_dataset.csv'}, 'output_path': '/v3io/projects/getting-started-tutorial-orz/artifacts', 'function': 'getting-started-tutorial-orz/get-data@103f17c4662aa76b87deeb35554315a40fabd7be', 'secret_sources': [], 'scrape_metrics': False, 'handler': 'get_data'}, 'metadata': {'uid': '29b1601fb0b6470d8ba9d238b688a267', 'name': 'get_data', 'project': 'getting-started-tutorial-orz', 'labels': {'v3io_user': 'orz', 'kind': 'job', 'owner': 'orz'}, 'iteration': 0}, 'status': {'state': 'created'}}, 'schedule': '*/30 * * * *'}, cron_trigger=ScheduleCronTrigger(year=None, month='*', day='*', week=None, day_of_week='*', hour='*', minute='*/30', second=None, start_date=None, end_date=None, timezone=None, jitter=None), desired_state=None, labels={'v3io_user': 'orz', 'kind': 'job', 'owner': 'orz'}, creation_time=datetime.datetime(2021, 1, 10, 14, 30, 22, 199432, tzinfo=datetime.timezone.utc), project='getting-started-tutorial-orz', last_run_uri=None, state=None, next_run_time=datetime.datetime(2021, 1, 10, 15, 0, tzinfo=datetime.timezone.utc), last_run=None)]\n"
     ]
    }
   ],
   "source": [
    "from mlrun import get_run_db\n",
    "print(get_run_db().list_schedules(project_name))"
   ]
  },
  {
   "cell_type": "code",
   "execution_count": 24,
   "metadata": {},
   "outputs": [
    {
     "data": {
      "text/plain": [
       "ScheduleOutput(name='get_data', kind=<ScheduleKinds.job: 'job'>, scheduled_object={'task': {'spec': {'inputs': {'source_url': 'https://s3.wasabisys.com/iguazio/data/iris/iris_dataset.csv'}, 'output_path': '/v3io/projects/getting-started-tutorial-orz/artifacts', 'function': 'getting-started-tutorial-orz/get-data@103f17c4662aa76b87deeb35554315a40fabd7be', 'secret_sources': [], 'scrape_metrics': False, 'handler': 'get_data'}, 'metadata': {'uid': '29b1601fb0b6470d8ba9d238b688a267', 'name': 'get_data', 'project': 'getting-started-tutorial-orz', 'labels': {'v3io_user': 'orz', 'kind': 'job', 'owner': 'orz'}, 'iteration': 0}, 'status': {'state': 'created'}}, 'schedule': '*/30 * * * *'}, cron_trigger=ScheduleCronTrigger(year=None, month='*', day='*', week=None, day_of_week='*', hour='*', minute='*/30', second=None, start_date=None, end_date=None, timezone=None, jitter=None), desired_state=None, labels={'v3io_user': 'orz', 'kind': 'job', 'owner': 'orz'}, creation_time=datetime.datetime(2021, 1, 10, 14, 30, 22, 199432, tzinfo=datetime.timezone.utc), project='getting-started-tutorial-orz', last_run_uri=None, state=None, next_run_time=datetime.datetime(2021, 1, 10, 15, 0, tzinfo=datetime.timezone.utc), last_run=None)"
      ]
     },
     "execution_count": 24,
     "metadata": {},
     "output_type": "execute_result"
    }
   ],
   "source": [
    "get_run_db().get_schedule(project_name, 'get_data')"
   ]
  },
  {
   "cell_type": "markdown",
   "metadata": {},
   "source": [
    "<img src=\"./images/func-schedule.JPG\" alt=\"scheduled-jobs\" width=\"1400\"/>"
   ]
  },
  {
   "cell_type": "markdown",
   "metadata": {},
   "source": [
    "## Don't forget the remove the scheduled job..."
   ]
  },
  {
   "cell_type": "markdown",
   "metadata": {},
   "source": [
    "Delete the job"
   ]
  },
  {
   "cell_type": "code",
   "execution_count": 25,
   "metadata": {},
   "outputs": [],
   "source": [
    "get_run_db().delete_schedule(project_name, 'get_data')"
   ]
  },
  {
   "cell_type": "markdown",
   "metadata": {},
   "source": [
    "Verify that the scheduled job has been deleted"
   ]
  },
  {
   "cell_type": "code",
   "execution_count": 26,
   "metadata": {},
   "outputs": [],
   "source": [
    "#get_run_db().get_schedule(project_name,'get_data')"
   ]
  },
  {
   "cell_type": "markdown",
   "metadata": {},
   "source": [
    "## Save Your Project Configuration"
   ]
  },
  {
   "cell_type": "markdown",
   "metadata": {},
   "source": [
    "Use the `save` MLRun project method to save your project definitions to a project-configuration file in your project directory (i.e. conf).\n",
    "The default name of the project file is **project.yaml**, but you can optionally change it by setting the `filepath` parameter of the `save` method."
   ]
  },
  {
   "cell_type": "code",
   "execution_count": 27,
   "metadata": {},
   "outputs": [],
   "source": [
    "project.save() "
   ]
  },
  {
   "cell_type": "markdown",
   "metadata": {},
   "source": [
    "## Done!"
   ]
  },
  {
   "cell_type": "markdown",
   "metadata": {},
   "source": [
    "Congratulation! You've completed tutorial 1 of the Iguazio Data Science Platform.\n",
    "Go to [Tutorial 2](tutorial-2-Model-training.ipynb) to learn about model deployment."
   ]
  },
  {
   "cell_type": "code",
   "execution_count": null,
   "metadata": {},
   "outputs": [],
   "source": []
  }
 ],
 "metadata": {
  "kernelspec": {
   "display_name": "Python 3",
   "language": "python",
   "name": "python3"
  },
  "language_info": {
   "codemirror_mode": {
    "name": "ipython",
    "version": 3
   },
   "file_extension": ".py",
   "mimetype": "text/x-python",
   "name": "python",
   "nbconvert_exporter": "python",
   "pygments_lexer": "ipython3",
   "version": "3.7.6"
  }
 },
 "nbformat": 4,
 "nbformat_minor": 4
}
