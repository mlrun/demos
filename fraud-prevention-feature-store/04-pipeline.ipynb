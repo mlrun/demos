{
 "cells": [
  {
   "cell_type": "markdown",
   "metadata": {},
   "source": [
    "# Part 4: Automated ML Pipeline\n",
    "\n",
    "MLRun Project is a container for all your work on a particular activity. All the associated code, functions, \n",
    "jobs/workflows and artifacts. Projects can be mapped to `git` repositories which enable versioning, collaboration, and CI/CD.\n",
    "Users can create project definitions using the SDK or a yaml file and store those in MLRun DB, file, or archive.\n",
    "Once the project is loaded you can run jobs/workflows which refer to any project element by name, allowing separation between configuration and code. \n",
    "\n",
    "Projects contain `workflows` which execute the registered functions in a sequence/graph (DAG), can reference project parameters, secrets and artifacts by name. The following notebook demonstrate how we build an automated workflow with **feature selection**, **training**, **testing**, and **deployment**. "
   ]
  },
  {
   "cell_type": "markdown",
   "metadata": {},
   "source": [
    "<a id=\"gs-tutorial-4-prerequisites\"></a>"
   ]
  },
  {
   "cell_type": "markdown",
   "metadata": {},
   "source": [
    "## Step 1: Setting Up Your Project\n",
    "\n",
    "To run a pipeline, you first need to get or create a project object and define/import the required functions for its execution.\n",
    "See the [**Projects, Automation & CI/CD**](../projects/overview.md) section for details.\n",
    "\n",
    "The following code gets or creates a user project named \"fraud-demo-&lt;username&gt;\"."
   ]
  },
  {
   "cell_type": "code",
   "execution_count": 1,
   "metadata": {},
   "outputs": [],
   "source": [
    "# Set the base project name\n",
    "project_name = 'fraud-demo'"
   ]
  },
  {
   "cell_type": "code",
   "execution_count": 2,
   "metadata": {},
   "outputs": [
    {
     "name": "stdout",
     "output_type": "stream",
     "text": [
      "> 2022-06-22 13:49:09,087 [info] loaded project fraud-demo from MLRun DB\n"
     ]
    }
   ],
   "source": [
    "import mlrun\n",
    "\n",
    "# Initialize the MLRun project object\n",
    "project = mlrun.get_or_create_project(project_name, context=\"./\", user_project=True)"
   ]
  },
  {
   "cell_type": "markdown",
   "metadata": {},
   "source": [
    "<a id=\"gs-tutorial-4-step-import-functions\"></a>"
   ]
  },
  {
   "cell_type": "markdown",
   "metadata": {},
   "source": [
    "## Step 2: Updating Project and Function Definitions\n",
    "\n",
    "We need to save the definitions for the function we use in the projects so it is possible to automatically convert code to functions or import external functions whenever we load new versions of our code or when we run automated CI/CD workflows. In addition we may want to set other project attributes such as global parameters, secrets, and data.\n",
    "\n",
    "Our code maybe stored in Python files, notebooks, external repositories, packaged containers, etc. We use the `project.set_function()` method to register our code in the project, the definitions will be saved to the project object as well as in a YAML file in the root of our project.\n",
    "Functions can also be imported from MLRun marketplace (using the `hub://` schema).\n",
    "\n",
    "We  used the following functions in this tutorial:\n",
    "- `feature_selection` &mdash; the first function, which determines the top features to be used for training.\n",
    "- `train` &mdash; the model-training function\n",
    "- `test-classifier` &mdash; the model-testing function\n",
    "- `mlrun-model` &mdash; the model-serving function\n",
    "\n",
    "> Note: `set_function` uses the `code_to_function` and `import_function` methods under the hood (used in the previous notebooks), but in addition it saves the function configurations in the project spec for use in automated workflows and CI/CD. \n",
    "\n",
    "We add the function definitions to the project along with parameters and data artifacts and save the project."
   ]
  },
  {
   "cell_type": "markdown",
   "metadata": {},
   "source": [
    "<a id=\"gs-tutorial-4-view-project-functions\"></a>"
   ]
  },
  {
   "cell_type": "code",
   "execution_count": 3,
   "metadata": {},
   "outputs": [
    {
     "data": {
      "text/plain": [
       "<mlrun.runtimes.serving.ServingRuntime at 0x7f61a343b190>"
      ]
     },
     "execution_count": 3,
     "metadata": {},
     "output_type": "execute_result"
    }
   ],
   "source": [
    "project.set_function('hub://feature_selection', 'feature_selection')\n",
    "project.set_function('hub://sklearn-classifier','train')\n",
    "project.set_function('hub://test_classifier', 'test')\n",
    "project.set_function('hub://v2_model_server', 'serving')"
   ]
  },
  {
   "cell_type": "code",
   "execution_count": 4,
   "metadata": {},
   "outputs": [
    {
     "data": {
      "text/plain": [
       "<mlrun.projects.project.MlrunProject at 0x7f61995c8cd0>"
      ]
     },
     "execution_count": 4,
     "metadata": {},
     "output_type": "execute_result"
    }
   ],
   "source": [
    "# set project level parameters and save\n",
    "project.spec.params = {'label_column': 'label'}\n",
    "project.save()"
   ]
  },
  {
   "cell_type": "markdown",
   "metadata": {},
   "source": [
    "<br>When we save the project it stores the project definitions in the `project.yaml`, this will allow us to load the project from the source control (GIT) and run it with a single command or API call.\n",
    "\n",
    "The project YAML for this project can be printed using:"
   ]
  },
  {
   "cell_type": "code",
   "execution_count": 5,
   "metadata": {},
   "outputs": [
    {
     "name": "stdout",
     "output_type": "stream",
     "text": [
      "kind: project\n",
      "metadata:\n",
      "  name: fraud-demo-dani\n",
      "  created: '2022-06-22T13:30:49.914000+00:00'\n",
      "spec:\n",
      "  params:\n",
      "    label_column: label\n",
      "  functions:\n",
      "  - url: hub://feature_selection\n",
      "    name: feature_selection\n",
      "  - url: hub://sklearn-classifier\n",
      "    name: train\n",
      "  - url: hub://test_classifier\n",
      "    name: test\n",
      "  - url: hub://v2_model_server\n",
      "    name: serving\n",
      "  workflows:\n",
      "  - name: main\n",
      "    path: workflow.py\n",
      "    engine: null\n",
      "  artifacts: []\n",
      "  source: ''\n",
      "  desired_state: online\n",
      "  owner: dani\n",
      "status:\n",
      "  state: online\n",
      "\n"
     ]
    }
   ],
   "source": [
    "print(project.to_yaml())"
   ]
  },
  {
   "cell_type": "markdown",
   "metadata": {},
   "source": [
    "### Saving and Loading Projects from GIT\n",
    "\n",
    "After we saved our project and its elements (functions, workflows, artifacts, etc.) we can commit all our changes to a GIT repository, this can be done using standard GIT tools or using MLRun `project` methods such as `pull`, `push`, `remote` which will call the Git API for you.\n",
    "\n",
    "Projects can then be loaded from Git using MLRun `load_project` method, example: \n",
    "\n",
    "    project = mlrun.load_project(\"./myproj\", \"git://github.com/mlrun/project-demo.git\", name=project_name)\n",
    "    \n",
    "or using MLRun CLI:\n",
    "\n",
    "    mlrun project -n myproj -u \"git://github.com/mlrun/project-demo.git\" ./myproj\n",
    "    \n",
    "Read the [Projects, Automation & CI/CD](../projects/overview.md) section for more details"
   ]
  },
  {
   "cell_type": "markdown",
   "metadata": {},
   "source": [
    "<a id=\"gs-tutorial-4-kubeflow-pipelines\"></a>"
   ]
  },
  {
   "cell_type": "markdown",
   "metadata": {},
   "source": [
    "### Using Kubeflow Pipelines\n",
    "\n",
    "You're now ready to create a full ML pipeline.\n",
    "This is done by using [Kubeflow Pipelines](https://www.kubeflow.org/docs/pipelines/overview/pipelines-overview/) &mdash;\n",
    "an open-source framework for building and deploying portable, scalable machine-learning workflows based on Docker containers.\n",
    "MLRun leverages this framework to take your existing code and deploy it as steps in the pipeline."
   ]
  },
  {
   "cell_type": "markdown",
   "metadata": {},
   "source": [
    "## Step 3: Defining and Saving a Pipeline Workflow\n",
    "\n",
    "A pipeline is created by running an MLRun **\"workflow\"**.\n",
    "The following code defines a workflow and writes it to a file in your local directory;\n",
    "(the file name is **workflow.py**).\n",
    "The workflow describes a directed acyclic graph (DAG) for execution using Kubeflow Pipelines, and depicts the connections between the functions and the data as part of an end-to-end pipeline.\n",
    "The workflow file has a definition of a pipeline DSL for connecting the function inputs and outputs.\n",
    "\n",
    "The defined pipeline includes the following steps:\n",
    "\n",
    "- Perform feature selection (`feature_selection`).\n",
    "- Train and the model (`train`).\n",
    "- Test the model with its test data set.\n",
    "- Deploy the model as a real-time serverless function (`deploy`).\n",
    "\n",
    "> **Note**: A pipeline can also include continuous build integration and deployment (CI/CD) steps, such as building container images and deploying models."
   ]
  },
  {
   "cell_type": "code",
   "execution_count": 6,
   "metadata": {},
   "outputs": [
    {
     "name": "stdout",
     "output_type": "stream",
     "text": [
      "Overwriting workflow.py\n"
     ]
    }
   ],
   "source": [
    "%%writefile workflow.py\n",
    "import mlrun\n",
    "from kfp import dsl\n",
    "from mlrun.model import HyperParamOptions\n",
    "\n",
    "from mlrun import (\n",
    "    build_function,\n",
    "    deploy_function,\n",
    "    import_function,\n",
    "    run_function,\n",
    ")\n",
    "\n",
    "    \n",
    "@dsl.pipeline(\n",
    "    name=\"Fraud Detection Pipeline\",\n",
    "    description=\"Detecting fraud from a transactions dataset\"\n",
    ")\n",
    "\n",
    "def kfpipeline(vector_name='transactions-fraud'):\n",
    "    \n",
    "    project = mlrun.get_current_project()\n",
    "    \n",
    "    # Feature selection   \n",
    "    feature_selection = run_function(\n",
    "        \"feature_selection\",\n",
    "        name=\"feature_selection\",\n",
    "        params={'sample_ratio':0.25,'output_vector_name': \"short\",\n",
    "                'ignore_type_errors': True},\n",
    "        inputs={'df_artifact': project.get_artifact_uri(vector_name, 'feature-vector')},\n",
    "        outputs=['top_features_vector'])\n",
    "    \n",
    "    \n",
    "    # train with hyper-paremeters\n",
    "    train = run_function(\n",
    "        \"train\",\n",
    "        name=\"train\",\n",
    "        params={\"sample\": -1, \n",
    "                \"label_column\": project.get_param('label_column', 'label'),\n",
    "                \"test_size\": 0.10},\n",
    "        hyperparams={\"model_name\": ['transaction_fraud_rf', \n",
    "                                  'transaction_fraud_xgboost', \n",
    "                                  'transaction_fraud_adaboost'],\n",
    "                     \n",
    "                     'model_pkg_class': [\"sklearn.ensemble.RandomForestClassifier\", \n",
    "                                         \"sklearn.linear_model.LogisticRegression\",\n",
    "                                         \"sklearn.ensemble.AdaBoostClassifier\"]},\n",
    "        hyper_param_options=HyperParamOptions(selector=\"max.accuracy\"),\n",
    "        inputs={\"dataset\": feature_selection.outputs['top_features_vector']},\n",
    "        outputs=['model', 'test_set'])\n",
    "    \n",
    "            \n",
    "    # test and visualize our model\n",
    "    test = run_function(\n",
    "        \"test\",\n",
    "        name=\"test\",\n",
    "        params={\"label_column\": project.get_param('label_column', 'label')},\n",
    "        inputs={\n",
    "            \"models_path\": train.outputs[\"model\"],\n",
    "            \"test_set\": train.outputs[\"test_set\"]})\n",
    "    \n",
    "    # route our serving model to use enrichment\n",
    "    funcs['serving'].set_topology('router', \n",
    "                                  'mlrun.serving.routers.EnrichmentModelRouter', \n",
    "                                  name='EnrichmentModelRouter', \n",
    "                                  feature_vector_uri=\"transactions-fraud-short\", \n",
    "                                  impute_policy={\"*\": \"$mean\"},\n",
    "                                  exist_ok=True)\n",
    "\n",
    "    \n",
    "    # deploy our model as a serverless function, we can pass a list of models to serve \n",
    "    deploy = deploy_function(\"serving\", models=[{\"key\": 'fraud', \"model_path\": train.outputs[\"model\"]}])"
   ]
  },
  {
   "cell_type": "markdown",
   "metadata": {},
   "source": [
    "<a id=\"gs-tutorial-4-step-register-workflow\"></a>"
   ]
  },
  {
   "cell_type": "markdown",
   "metadata": {},
   "source": [
    "## Step 4: Registering the Workflow\n",
    "\n",
    "Use the `set_workflow` MLRun project method to register your workflow with MLRun.\n",
    "The following code sets the `name` parameter to the selected workflow name (\"main\") and the `code` parameter to the name of the workflow file that is found in your project directory (**workflow.py**)."
   ]
  },
  {
   "cell_type": "code",
   "execution_count": 7,
   "metadata": {},
   "outputs": [],
   "source": [
    "# Register the workflow file as \"main\"\n",
    "project.set_workflow('main', 'workflow.py')"
   ]
  },
  {
   "cell_type": "markdown",
   "metadata": {},
   "source": [
    "<a id=\"gs-tutorial-4-step-run-pipeline\"></a>"
   ]
  },
  {
   "cell_type": "markdown",
   "metadata": {},
   "source": [
    "## Step 5: Running A Pipeline\n",
    "\n",
    "First run the following code to save your project:"
   ]
  },
  {
   "cell_type": "code",
   "execution_count": 8,
   "metadata": {},
   "outputs": [
    {
     "data": {
      "text/plain": [
       "<mlrun.projects.project.MlrunProject at 0x7f61995c8cd0>"
      ]
     },
     "execution_count": 8,
     "metadata": {},
     "output_type": "execute_result"
    }
   ],
   "source": [
    "project.save()"
   ]
  },
  {
   "cell_type": "markdown",
   "metadata": {},
   "source": [
    "Use the `run` MLRun project method to execute your workflow pipeline with Kubeflow Pipelines.\n",
    "\n",
    "users can pass **`arguments`** or set the **`artifact_path`** to specify a unique path for storing the workflow artifacts"
   ]
  },
  {
   "cell_type": "code",
   "execution_count": 9,
   "metadata": {},
   "outputs": [
    {
     "data": {
      "text/html": [
       "<div>Pipeline running (id=4bec79aa-d044-4f66-9590-ff9af4634c5c), <a href=\"https://dashboard.default-tenant.app.vmdev94.lab.iguazeng.com/mlprojects/fraud-demo-dani/jobs/monitor-workflows/workflow/4bec79aa-d044-4f66-9590-ff9af4634c5c\" target=\"_blank\"><b>click here</b></a> to view the details in MLRun UI</div>"
      ],
      "text/plain": [
       "<IPython.core.display.HTML object>"
      ]
     },
     "metadata": {},
     "output_type": "display_data"
    },
    {
     "data": {
      "image/svg+xml": [
       "<?xml version=\"1.0\" encoding=\"UTF-8\" standalone=\"no\"?>\n",
       "<!DOCTYPE svg PUBLIC \"-//W3C//DTD SVG 1.1//EN\"\n",
       " \"http://www.w3.org/Graphics/SVG/1.1/DTD/svg11.dtd\">\n",
       "<!-- Generated by graphviz version 2.40.1 (20161225.0304)\n",
       " -->\n",
       "<!-- Title: kfp Pages: 1 -->\n",
       "<svg width=\"268pt\" height=\"188pt\"\n",
       " viewBox=\"0.00 0.00 267.60 188.00\" xmlns=\"http://www.w3.org/2000/svg\" xmlns:xlink=\"http://www.w3.org/1999/xlink\">\n",
       "<g id=\"graph0\" class=\"graph\" transform=\"scale(1 1) rotate(0) translate(4 184)\">\n",
       "<title>kfp</title>\n",
       "<polygon fill=\"#ffffff\" stroke=\"transparent\" points=\"-4,4 -4,-184 263.5975,-184 263.5975,4 -4,4\"/>\n",
       "<!-- fraud&#45;detection&#45;pipeline&#45;4pnnv&#45;257671368 -->\n",
       "<g id=\"node1\" class=\"node\">\n",
       "<title>fraud&#45;detection&#45;pipeline&#45;4pnnv&#45;257671368</title>\n",
       "<ellipse fill=\"#00ff00\" stroke=\"#000000\" cx=\"161\" cy=\"-162\" rx=\"89.0842\" ry=\"18\"/>\n",
       "<text text-anchor=\"middle\" x=\"161\" y=\"-158.3\" font-family=\"Times,serif\" font-size=\"14.00\" fill=\"#000000\">feature&#45;selection</text>\n",
       "</g>\n",
       "<!-- fraud&#45;detection&#45;pipeline&#45;4pnnv&#45;3786206499 -->\n",
       "<g id=\"node2\" class=\"node\">\n",
       "<title>fraud&#45;detection&#45;pipeline&#45;4pnnv&#45;3786206499</title>\n",
       "<ellipse fill=\"#00ff00\" stroke=\"#000000\" cx=\"161\" cy=\"-90\" rx=\"33.2948\" ry=\"18\"/>\n",
       "<text text-anchor=\"middle\" x=\"161\" y=\"-86.3\" font-family=\"Times,serif\" font-size=\"14.00\" fill=\"#000000\">train</text>\n",
       "</g>\n",
       "<!-- fraud&#45;detection&#45;pipeline&#45;4pnnv&#45;257671368&#45;&gt;fraud&#45;detection&#45;pipeline&#45;4pnnv&#45;3786206499 -->\n",
       "<g id=\"edge1\" class=\"edge\">\n",
       "<title>fraud&#45;detection&#45;pipeline&#45;4pnnv&#45;257671368&#45;&gt;fraud&#45;detection&#45;pipeline&#45;4pnnv&#45;3786206499</title>\n",
       "<path fill=\"none\" stroke=\"#000000\" d=\"M161,-143.8314C161,-136.131 161,-126.9743 161,-118.4166\"/>\n",
       "<polygon fill=\"#000000\" stroke=\"#000000\" points=\"164.5001,-118.4132 161,-108.4133 157.5001,-118.4133 164.5001,-118.4132\"/>\n",
       "</g>\n",
       "<!-- fraud&#45;detection&#45;pipeline&#45;4pnnv&#45;4256853009 -->\n",
       "<g id=\"node3\" class=\"node\">\n",
       "<title>fraud&#45;detection&#45;pipeline&#45;4pnnv&#45;4256853009</title>\n",
       "<polygon fill=\"#00ff00\" stroke=\"#000000\" points=\"184,-36 4,-36 0,-32 0,0 180,0 184,-4 184,-36\"/>\n",
       "<polyline fill=\"none\" stroke=\"#000000\" points=\"180,-32 0,-32 \"/>\n",
       "<polyline fill=\"none\" stroke=\"#000000\" points=\"180,-32 180,0 \"/>\n",
       "<polyline fill=\"none\" stroke=\"#000000\" points=\"180,-32 184,-36 \"/>\n",
       "<text text-anchor=\"middle\" x=\"92\" y=\"-14.3\" font-family=\"Times,serif\" font-size=\"14.00\" fill=\"#000000\">deploy&#45;v2&#45;model&#45;server</text>\n",
       "</g>\n",
       "<!-- fraud&#45;detection&#45;pipeline&#45;4pnnv&#45;3786206499&#45;&gt;fraud&#45;detection&#45;pipeline&#45;4pnnv&#45;4256853009 -->\n",
       "<g id=\"edge2\" class=\"edge\">\n",
       "<title>fraud&#45;detection&#45;pipeline&#45;4pnnv&#45;3786206499&#45;&gt;fraud&#45;detection&#45;pipeline&#45;4pnnv&#45;4256853009</title>\n",
       "<path fill=\"none\" stroke=\"#000000\" d=\"M145.6867,-74.0209C137.1443,-65.1071 126.3008,-53.7922 116.5987,-43.6682\"/>\n",
       "<polygon fill=\"#000000\" stroke=\"#000000\" points=\"118.905,-41.0163 109.459,-36.2181 113.8511,-45.8597 118.905,-41.0163\"/>\n",
       "</g>\n",
       "<!-- fraud&#45;detection&#45;pipeline&#45;4pnnv&#45;996462327 -->\n",
       "<g id=\"node4\" class=\"node\">\n",
       "<title>fraud&#45;detection&#45;pipeline&#45;4pnnv&#45;996462327</title>\n",
       "<ellipse fill=\"#00ff00\" stroke=\"#000000\" cx=\"231\" cy=\"-18\" rx=\"28.6953\" ry=\"18\"/>\n",
       "<text text-anchor=\"middle\" x=\"231\" y=\"-14.3\" font-family=\"Times,serif\" font-size=\"14.00\" fill=\"#000000\">test</text>\n",
       "</g>\n",
       "<!-- fraud&#45;detection&#45;pipeline&#45;4pnnv&#45;3786206499&#45;&gt;fraud&#45;detection&#45;pipeline&#45;4pnnv&#45;996462327 -->\n",
       "<g id=\"edge3\" class=\"edge\">\n",
       "<title>fraud&#45;detection&#45;pipeline&#45;4pnnv&#45;3786206499&#45;&gt;fraud&#45;detection&#45;pipeline&#45;4pnnv&#45;996462327</title>\n",
       "<path fill=\"none\" stroke=\"#000000\" d=\"M176.5353,-74.0209C185.9994,-64.2863 198.2478,-51.688 208.7317,-40.9046\"/>\n",
       "<polygon fill=\"#000000\" stroke=\"#000000\" points=\"211.5273,-43.05 215.9886,-33.4403 206.5083,-38.1705 211.5273,-43.05\"/>\n",
       "</g>\n",
       "</g>\n",
       "</svg>\n"
      ],
      "text/plain": [
       "<graphviz.dot.Digraph at 0x7f61995c82d0>"
      ]
     },
     "metadata": {},
     "output_type": "display_data"
    },
    {
     "data": {
      "text/html": [
       "<h2>Run Results</h2>Workflow 4bec79aa-d044-4f66-9590-ff9af4634c5c finished, state=Succeeded<br>click the hyper links below to see detailed results<br><table border=\"1\" class=\"dataframe\">\n",
       "  <thead>\n",
       "    <tr style=\"text-align: right;\">\n",
       "      <th>uid</th>\n",
       "      <th>start</th>\n",
       "      <th>state</th>\n",
       "      <th>name</th>\n",
       "      <th>parameters</th>\n",
       "      <th>results</th>\n",
       "    </tr>\n",
       "  </thead>\n",
       "  <tbody>\n",
       "    <tr>\n",
       "      <td><div title=\"142199d720894a5b836b219272ebfe6c\"><a href=\"https://dashboard.default-tenant.app.vmdev94.lab.iguazeng.com/mlprojects/fraud-demo-dani/jobs/monitor/142199d720894a5b836b219272ebfe6c/overview\" target=\"_blank\" >...72ebfe6c</a></div></td>\n",
       "      <td>Jun 22 13:50:22</td>\n",
       "      <td>completed</td>\n",
       "      <td>test</td>\n",
       "      <td><div class=\"dictlist\">label_column=label</div></td>\n",
       "      <td><div class=\"dictlist\">accuracy=0.9911373707533235</div><div class=\"dictlist\">test-error=0.008862629246676515</div><div class=\"dictlist\">rocauc=0.9680600606885006</div><div class=\"dictlist\">brier_score=0.18004666685936582</div><div class=\"dictlist\">f1-score=0.39999999999999997</div><div class=\"dictlist\">precision_score=0.5454545454545454</div><div class=\"dictlist\">recall_score=0.3157894736842105</div></td>\n",
       "    </tr>\n",
       "    <tr>\n",
       "      <td><div title=\"ef0f6d36be674aa4841b1ded2b4da041\"><a href=\"https://dashboard.default-tenant.app.vmdev94.lab.iguazeng.com/mlprojects/fraud-demo-dani/jobs/monitor/ef0f6d36be674aa4841b1ded2b4da041/overview\" target=\"_blank\" >...2b4da041</a></div></td>\n",
       "      <td>Jun 22 13:49:44</td>\n",
       "      <td>completed</td>\n",
       "      <td>train</td>\n",
       "      <td><div class=\"dictlist\">sample=-1</div><div class=\"dictlist\">label_column=label</div><div class=\"dictlist\">test_size=0.1</div></td>\n",
       "      <td><div class=\"dictlist\">best_iteration=7</div><div class=\"dictlist\">accuracy=0.991792814152836</div><div class=\"dictlist\">test-error=0.008207185847163961</div><div class=\"dictlist\">rocauc=0.9491482599713967</div><div class=\"dictlist\">brier_score=0.17975035969383432</div><div class=\"dictlist\">f1-score=0.5454545454545454</div><div class=\"dictlist\">precision_score=0.6585365853658537</div><div class=\"dictlist\">recall_score=0.46551724137931033</div></td>\n",
       "    </tr>\n",
       "    <tr>\n",
       "      <td><div title=\"f2a00b10129f4171bd5a377175854db5\"><a href=\"https://dashboard.default-tenant.app.vmdev94.lab.iguazeng.com/mlprojects/fraud-demo-dani/jobs/monitor/f2a00b10129f4171bd5a377175854db5/overview\" target=\"_blank\" >...75854db5</a></div></td>\n",
       "      <td>Jun 22 13:49:21</td>\n",
       "      <td>completed</td>\n",
       "      <td>feature_selection</td>\n",
       "      <td><div class=\"dictlist\">sample_ratio=0.25</div><div class=\"dictlist\">output_vector_name=short</div><div class=\"dictlist\">ignore_type_errors=True</div></td>\n",
       "      <td><div class=\"dictlist\">top_features_vector=store://feature-vectors/fraud-demo-dani/short</div></td>\n",
       "    </tr>\n",
       "  </tbody>\n",
       "</table>"
      ],
      "text/plain": [
       "<IPython.core.display.HTML object>"
      ]
     },
     "metadata": {},
     "output_type": "display_data"
    }
   ],
   "source": [
    "run_id = project.run(\n",
    "    'main',\n",
    "    arguments={}, \n",
    "    dirty=True, watch=True)"
   ]
  },
  {
   "cell_type": "markdown",
   "metadata": {},
   "source": [
    "<a id=\"gs-tutorial-4-step-ui-pipeline-view\"></a>"
   ]
  },
  {
   "cell_type": "markdown",
   "metadata": {},
   "source": [
    "## Step 6: Test the model end point\n"
   ]
  },
  {
   "cell_type": "markdown",
   "metadata": {},
   "source": [
    "Now that your model is deployed using the pipeline, you can invoke it as usual:"
   ]
  },
  {
   "cell_type": "code",
   "execution_count": 11,
   "metadata": {},
   "outputs": [
    {
     "name": "stdout",
     "output_type": "stream",
     "text": [
      "> 2022-06-22 13:52:28,755 [info] invoking function: {'method': 'POST', 'path': 'http://nuclio-fraud-demo-dani-v2-model-server.default-tenant.svc.cluster.local:8080/v2/models/fraud/infer'}\n"
     ]
    },
    {
     "data": {
      "text/plain": [
       "{'id': '06102310-6ff9-4401-b659-4b7e6b6ed234',\n",
       " 'model_name': 'fraud',\n",
       " 'outputs': [0]}"
      ]
     },
     "execution_count": 11,
     "metadata": {},
     "output_type": "execute_result"
    }
   ],
   "source": [
    "# Define our serving function\n",
    "serving_fn = project.func('serving')\n",
    "\n",
    "# Choose an id for our test\n",
    "sample_id = 'C1000148617'\n",
    "model_inference_path = '/v2/models/fraud/infer'\n",
    "\n",
    "# Send our sample ID for predcition\n",
    "serving_fn.invoke(path=model_inference_path,\n",
    "                  body={'inputs': [[sample_id]]})"
   ]
  },
  {
   "cell_type": "markdown",
   "metadata": {},
   "source": [
    "<a id=\"gs-tutorial-4-done\"></a>"
   ]
  },
  {
   "cell_type": "markdown",
   "metadata": {},
   "source": [
    "## Done!"
   ]
  }
 ],
 "metadata": {
  "kernelspec": {
   "display_name": "Python [conda env:root] *",
   "language": "python",
   "name": "conda-root-py"
  },
  "language_info": {
   "codemirror_mode": {
    "name": "ipython",
    "version": 3
   },
   "file_extension": ".py",
   "mimetype": "text/x-python",
   "name": "python",
   "nbconvert_exporter": "python",
   "pygments_lexer": "ipython3",
   "version": "3.7.6"
  }
 },
 "nbformat": 4,
 "nbformat_minor": 4
}
