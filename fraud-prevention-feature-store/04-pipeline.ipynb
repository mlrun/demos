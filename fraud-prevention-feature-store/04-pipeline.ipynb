{
 "cells": [
  {
   "cell_type": "markdown",
   "metadata": {},
   "source": [
    "# Part 4: Automated ML Pipeline\n",
    "\n",
    "MLRun Project is a container for all your work on a particular activity. All the associated code, functions, \n",
    "jobs/workflows and artifacts. Projects can be mapped to `git` repositories which enable versioning, collaboration, and CI/CD.\n",
    "Users can create project definitions using the SDK or a yaml file and store those in MLRun DB, file, or archive.\n",
    "Once the project is loaded you can run jobs/workflows which refer to any project element by name, allowing separation between configuration and code. \n",
    "\n",
    "Projects contain `workflows` which execute the registered functions in a sequence/graph (DAG), can reference project parameters, secrets and artifacts by name. The following notebook demonstrate how we build an automated workflow with **feature selection**, **training**, **testing**, and **deployment**. "
   ]
  },
  {
   "cell_type": "markdown",
   "metadata": {},
   "source": [
    "<a id=\"gs-tutorial-4-prerequisites\"></a>"
   ]
  },
  {
   "cell_type": "markdown",
   "metadata": {},
   "source": [
    "## Step 1: Setting Up Your Project\n",
    "\n",
    "To run a pipeline, you first need to get or create a project object and define/import the required functions for its execution.\n",
    "See the [**Projects, Automation & CI/CD**](../projects/overview.md) section for details.\n",
    "\n",
    "The following code gets or creates a user project named \"fraud-demo-&lt;username&gt;\"."
   ]
  },
  {
   "cell_type": "code",
   "execution_count": null,
   "metadata": {},
   "outputs": [],
   "source": [
    "# Set the base project name\n",
    "project_name = 'fraud-demo'"
   ]
  },
  {
   "cell_type": "code",
   "execution_count": null,
   "metadata": {},
   "outputs": [],
   "source": [
    "import mlrun\n",
    "\n",
    "# Initialize the MLRun project object\n",
    "project = mlrun.get_or_create_project(project_name, context=\"./\", user_project=True)"
   ]
  },
  {
   "cell_type": "markdown",
   "metadata": {},
   "source": [
    "<a id=\"gs-tutorial-4-step-import-functions\"></a>"
   ]
  },
  {
   "cell_type": "markdown",
   "metadata": {},
   "source": [
    "## Step 2: Updating Project and Function Definitions\n",
    "\n",
    "We need to save the definitions for the function we use in the projects so it is possible to automatically convert code to functions or import external functions whenever we load new versions of our code or when we run automated CI/CD workflows. In addition we may want to set other project attributes such as global parameters, secrets, and data.\n",
    "\n",
    "Our code maybe stored in Python files, notebooks, external repositories, packaged containers, etc. We use the `project.set_function()` method to register our code in the project, the definitions will be saved to the project object as well as in a YAML file in the root of our project.\n",
    "Functions can also be imported from MLRun marketplace (using the `hub://` schema).\n",
    "\n",
    "We  used the following functions in this tutorial:\n",
    "- `feature_selection` &mdash; the first function, which determines the top features to be used for training.\n",
    "- `train` &mdash; the model-training function\n",
    "- `test-classifier` &mdash; the model-testing function\n",
    "- `mlrun-model` &mdash; the model-serving function\n",
    "\n",
    "> Note: `set_function` uses the `code_to_function` and `import_function` methods under the hood (used in the previous notebooks), but in addition it saves the function configurations in the project spec for use in automated workflows and CI/CD. \n",
    "\n",
    "We add the function definitions to the project along with parameters and data artifacts and save the project."
   ]
  },
  {
   "cell_type": "markdown",
   "metadata": {},
   "source": [
    "<a id=\"gs-tutorial-4-view-project-functions\"></a>"
   ]
  },
  {
   "cell_type": "code",
   "execution_count": null,
   "metadata": {},
   "outputs": [],
   "source": [
    "project.set_function('hub://feature_selection', 'feature_selection')\n",
    "project.set_function('hub://auto_trainer','train')\n",
    "project.set_function('hub://v2_model_server', 'serving')"
   ]
  },
  {
   "cell_type": "code",
   "execution_count": null,
   "metadata": {},
   "outputs": [],
   "source": [
    "# set project level parameters and save\n",
    "project.spec.params = {'label_column': 'label'}\n",
    "project.save()"
   ]
  },
  {
   "cell_type": "markdown",
   "metadata": {},
   "source": [
    "<br>When we save the project it stores the project definitions in the `project.yaml`, this will allow us to load the project from the source control (GIT) and run it with a single command or API call.\n",
    "\n",
    "The project YAML for this project can be printed using:"
   ]
  },
  {
   "cell_type": "code",
   "execution_count": null,
   "metadata": {},
   "outputs": [],
   "source": [
    "# print(project.to_yaml())"
   ]
  },
  {
   "cell_type": "markdown",
   "metadata": {},
   "source": [
    "### Saving and Loading Projects from GIT\n",
    "\n",
    "After we saved our project and its elements (functions, workflows, artifacts, etc.) we can commit all our changes to a GIT repository, this can be done using standard GIT tools or using MLRun `project` methods such as `pull`, `push`, `remote` which will call the Git API for you.\n",
    "\n",
    "Projects can then be loaded from Git using MLRun `load_project` method, example: \n",
    "\n",
    "    project = mlrun.load_project(\"./myproj\", \"git://github.com/mlrun/project-demo.git\", name=project_name)\n",
    "    \n",
    "or using MLRun CLI:\n",
    "\n",
    "    mlrun project -n myproj -u \"git://github.com/mlrun/project-demo.git\" ./myproj\n",
    "    \n",
    "Read the [Projects, Automation & CI/CD](../projects/overview.md) section for more details"
   ]
  },
  {
   "cell_type": "markdown",
   "metadata": {},
   "source": [
    "<a id=\"gs-tutorial-4-kubeflow-pipelines\"></a>"
   ]
  },
  {
   "cell_type": "markdown",
   "metadata": {},
   "source": [
    "### Using Kubeflow Pipelines\n",
    "\n",
    "You're now ready to create a full ML pipeline.\n",
    "This is done by using [Kubeflow Pipelines](https://www.kubeflow.org/docs/pipelines/overview/pipelines-overview/) &mdash;\n",
    "an open-source framework for building and deploying portable, scalable machine-learning workflows based on Docker containers.\n",
    "MLRun leverages this framework to take your existing code and deploy it as steps in the pipeline."
   ]
  },
  {
   "cell_type": "markdown",
   "metadata": {},
   "source": [
    "## Step 3: Defining and Saving a Pipeline Workflow\n",
    "\n",
    "A pipeline is created by running an MLRun **\"workflow\"**.\n",
    "The following code defines a workflow and writes it to a file in your local directory;\n",
    "(the file name is **workflow.py**).\n",
    "The workflow describes a directed acyclic graph (DAG) for execution using Kubeflow Pipelines, and depicts the connections between the functions and the data as part of an end-to-end pipeline.\n",
    "The workflow file has a definition of a pipeline DSL for connecting the function inputs and outputs.\n",
    "\n",
    "The defined pipeline includes the following steps:\n",
    "\n",
    "- Perform feature selection (`feature_selection`).\n",
    "- Train and the model (`train`).\n",
    "- Test the model with its test data set.\n",
    "- Deploy the model as a real-time serverless function (`deploy`).\n",
    "\n",
    "> **Note**: A pipeline can also include continuous build integration and deployment (CI/CD) steps, such as building container images and deploying models."
   ]
  },
  {
   "cell_type": "code",
   "execution_count": null,
   "metadata": {},
   "outputs": [
    {
     "name": "stdout",
     "output_type": "stream",
     "text": [
      "Overwriting workflow.py\n"
     ]
    }
   ],
   "source": [
    "%%writefile workflow.py\n",
    "import mlrun\n",
    "from kfp import dsl\n",
    "from mlrun.model import HyperParamOptions\n",
    "\n",
    "from mlrun import (\n",
    "    build_function,\n",
    "    deploy_function,\n",
    "    import_function,\n",
    "    run_function,\n",
    ")\n",
    "    \n",
    "@dsl.pipeline(\n",
    "    name=\"Fraud Detection Pipeline\",\n",
    "    description=\"Detecting fraud from a transactions dataset\"\n",
    ")\n",
    "\n",
    "def kfpipeline(vector_name='transactions-fraud'):\n",
    "    \n",
    "    project = mlrun.get_current_project()\n",
    "    \n",
    "    # Feature selection   \n",
    "    feature_selection = run_function(\n",
    "        \"feature_selection\",\n",
    "        name=\"feature_selection\",\n",
    "        params={'output_vector_name': \"short\",\n",
    "                \"label_column\": project.get_param('label_column', 'label'),\n",
    "                \"k\": 12,\n",
    "                \"min_votes\": 1,\n",
    "                'ignore_type_errors': True\n",
    "               },\n",
    "        inputs={'df_artifact': project.get_artifact_uri(vector_name, 'feature-vector')\n",
    "               },\n",
    "        outputs=['feature_scores', 'selected_features_count', 'top_features_vector', 'selected_features'])\n",
    "    \n",
    "    # train with hyper-paremeters\n",
    "    train = run_function(\n",
    "        \"train\",\n",
    "        name=\"train\",\n",
    "        handler='train',\n",
    "        params={\"sample\": -1, \n",
    "                \"label_column\": project.get_param('label_column', 'label'),\n",
    "                \"test_size\": 0.10},\n",
    "        hyperparams={\"model_name\": ['transaction_fraud_rf', \n",
    "                                  'transaction_fraud_xgboost', \n",
    "                                  'transaction_fraud_adaboost'],\n",
    "                     \n",
    "                     'model_class': [\"sklearn.ensemble.RandomForestClassifier\", \n",
    "                                     \"sklearn.linear_model.LogisticRegression\",\n",
    "                                     \"sklearn.ensemble.AdaBoostClassifier\"]},\n",
    "        hyper_param_options=HyperParamOptions(selector=\"max.accuracy\"),\n",
    "        inputs={\"dataset\": feature_selection.outputs['top_features_vector']},\n",
    "        outputs=['model', 'test_set'])\n",
    "            \n",
    "    # test and visualize our model\n",
    "    test = run_function(\n",
    "        \"train\",\n",
    "        name=\"evaluate\",\n",
    "        handler='evaluate',\n",
    "        params={\"label_columns\": project.get_param('label_column', 'label'),\n",
    "                \"model\": train.outputs[\"model\"], \n",
    "                \"drop_columns\": project.get_param('label_column', 'label')},\n",
    "        inputs={\"dataset\": train.outputs[\"test_set\"]})\n",
    "    \n",
    "    # route our serving model to use enrichment\n",
    "    funcs['serving'].set_topology('router', \n",
    "                                  'mlrun.serving.routers.EnrichmentModelRouter', \n",
    "                                  name='EnrichmentModelRouter', \n",
    "                                  feature_vector_uri=\"transactions-fraud-short\", \n",
    "                                  impute_policy={\"*\": \"$mean\"},\n",
    "                                  exist_ok=True)\n",
    "\n",
    "    \n",
    "    # deploy our model as a serverless function, we can pass a list of models to serve \n",
    "    deploy = deploy_function(\"serving\", models=[{\"key\": 'fraud', \"model_path\": train.outputs[\"model\"]}])"
   ]
  },
  {
   "cell_type": "markdown",
   "metadata": {},
   "source": [
    "<a id=\"gs-tutorial-4-step-register-workflow\"></a>"
   ]
  },
  {
   "cell_type": "markdown",
   "metadata": {},
   "source": [
    "## Step 4: Registering the Workflow\n",
    "\n",
    "Use the `set_workflow` MLRun project method to register your workflow with MLRun.\n",
    "The following code sets the `name` parameter to the selected workflow name (\"main\") and the `code` parameter to the name of the workflow file that is found in your project directory (**workflow.py**)."
   ]
  },
  {
   "cell_type": "code",
   "execution_count": null,
   "metadata": {},
   "outputs": [],
   "source": [
    "# Register the workflow file as \"main\"\n",
    "project.set_workflow('main', 'workflow.py')"
   ]
  },
  {
   "cell_type": "markdown",
   "metadata": {},
   "source": [
    "<a id=\"gs-tutorial-4-step-run-pipeline\"></a>"
   ]
  },
  {
   "cell_type": "markdown",
   "metadata": {},
   "source": [
    "## Step 5: Running A Pipeline\n",
    "\n",
    "First run the following code to save your project:"
   ]
  },
  {
   "cell_type": "code",
   "execution_count": null,
   "metadata": {},
   "outputs": [
    {
     "data": {
      "text/plain": [
       "<mlrun.projects.project.MlrunProject at 0x7f90306e7e80>"
      ]
     },
     "execution_count": 15,
     "metadata": {},
     "output_type": "execute_result"
    }
   ],
   "source": [
    "project.save()"
   ]
  },
  {
   "cell_type": "markdown",
   "metadata": {},
   "source": [
    "Use the `run` MLRun project method to execute your workflow pipeline with Kubeflow Pipelines.\n",
    "\n",
    "users can pass **`arguments`** or set the **`artifact_path`** to specify a unique path for storing the workflow artifacts"
   ]
  },
  {
   "cell_type": "code",
   "execution_count": null,
   "metadata": {},
   "outputs": [
    {
     "data": {
      "text/html": [
       "<div>Pipeline running (id=85d1d8c9-c669-4047-a09f-68f93bf6ef55), <a href=\"https://dashboard.default-tenant.app.vmdev94.lab.iguazeng.com/mlprojects/fraud-demo-dani/jobs/monitor-workflows/workflow/85d1d8c9-c669-4047-a09f-68f93bf6ef55\" target=\"_blank\"><b>click here</b></a> to view the details in MLRun UI</div>"
      ],
      "text/plain": [
       "<IPython.core.display.HTML object>"
      ]
     },
     "metadata": {},
     "output_type": "display_data"
    },
    {
     "data": {
      "image/svg+xml": [
       "<?xml version=\"1.0\" encoding=\"UTF-8\" standalone=\"no\"?>\n",
       "<!DOCTYPE svg PUBLIC \"-//W3C//DTD SVG 1.1//EN\"\n",
       " \"http://www.w3.org/Graphics/SVG/1.1/DTD/svg11.dtd\">\n",
       "<!-- Generated by graphviz version 2.43.0 (0)\n",
       " -->\n",
       "<!-- Title: kfp Pages: 1 -->\n",
       "<svg width=\"248pt\" height=\"116pt\"\n",
       " viewBox=\"0.00 0.00 248.05 116.00\" xmlns=\"http://www.w3.org/2000/svg\" xmlns:xlink=\"http://www.w3.org/1999/xlink\">\n",
       "<g id=\"graph0\" class=\"graph\" transform=\"scale(1 1) rotate(0) translate(4 112)\">\n",
       "<title>kfp</title>\n",
       "<polygon fill=\"white\" stroke=\"transparent\" points=\"-4,4 -4,-112 244.05,-112 244.05,4 -4,4\"/>\n",
       "<!-- fraud&#45;detection&#45;pipeline&#45;2hkln&#45;2145533357 -->\n",
       "<g id=\"node1\" class=\"node\">\n",
       "<title>fraud&#45;detection&#45;pipeline&#45;2hkln&#45;2145533357</title>\n",
       "<ellipse fill=\"green\" stroke=\"black\" cx=\"50.05\" cy=\"-18\" rx=\"50.09\" ry=\"18\"/>\n",
       "<text text-anchor=\"middle\" x=\"50.05\" y=\"-14.3\" font-family=\"Times,serif\" font-size=\"14.00\">evaluate</text>\n",
       "</g>\n",
       "<!-- fraud&#45;detection&#45;pipeline&#45;2hkln&#45;2787247924 -->\n",
       "<g id=\"node2\" class=\"node\">\n",
       "<title>fraud&#45;detection&#45;pipeline&#45;2hkln&#45;2787247924</title>\n",
       "<ellipse fill=\"green\" stroke=\"black\" cx=\"114.05\" cy=\"-90\" rx=\"33.29\" ry=\"18\"/>\n",
       "<text text-anchor=\"middle\" x=\"114.05\" y=\"-86.3\" font-family=\"Times,serif\" font-size=\"14.00\">train</text>\n",
       "</g>\n",
       "<!-- fraud&#45;detection&#45;pipeline&#45;2hkln&#45;2787247924&#45;&gt;fraud&#45;detection&#45;pipeline&#45;2hkln&#45;2145533357 -->\n",
       "<g id=\"edge2\" class=\"edge\">\n",
       "<title>fraud&#45;detection&#45;pipeline&#45;2hkln&#45;2787247924&#45;&gt;fraud&#45;detection&#45;pipeline&#45;2hkln&#45;2145533357</title>\n",
       "<path fill=\"none\" stroke=\"black\" d=\"M99.84,-73.46C91.63,-64.48 81.11,-52.98 71.87,-42.87\"/>\n",
       "<polygon fill=\"black\" stroke=\"black\" points=\"74.43,-40.49 65.1,-35.47 69.27,-45.21 74.43,-40.49\"/>\n",
       "</g>\n",
       "<!-- fraud&#45;detection&#45;pipeline&#45;2hkln&#45;2897723532 -->\n",
       "<g id=\"node3\" class=\"node\">\n",
       "<title>fraud&#45;detection&#45;pipeline&#45;2hkln&#45;2897723532</title>\n",
       "<polygon fill=\"green\" stroke=\"black\" points=\"240.05,-36 122.05,-36 118.05,-32 118.05,0 236.05,0 240.05,-4 240.05,-36\"/>\n",
       "<polyline fill=\"none\" stroke=\"black\" points=\"236.05,-32 118.05,-32 \"/>\n",
       "<polyline fill=\"none\" stroke=\"black\" points=\"236.05,-32 236.05,0 \"/>\n",
       "<polyline fill=\"none\" stroke=\"black\" points=\"236.05,-32 240.05,-36 \"/>\n",
       "<text text-anchor=\"middle\" x=\"179.05\" y=\"-14.3\" font-family=\"Times,serif\" font-size=\"14.00\">deploy&#45;serving</text>\n",
       "</g>\n",
       "<!-- fraud&#45;detection&#45;pipeline&#45;2hkln&#45;2787247924&#45;&gt;fraud&#45;detection&#45;pipeline&#45;2hkln&#45;2897723532 -->\n",
       "<g id=\"edge1\" class=\"edge\">\n",
       "<title>fraud&#45;detection&#45;pipeline&#45;2hkln&#45;2787247924&#45;&gt;fraud&#45;detection&#45;pipeline&#45;2hkln&#45;2897723532</title>\n",
       "<path fill=\"none\" stroke=\"black\" d=\"M128.47,-73.46C136.5,-64.82 146.68,-53.85 155.81,-44.03\"/>\n",
       "<polygon fill=\"black\" stroke=\"black\" points=\"158.59,-46.17 162.83,-36.46 153.46,-41.41 158.59,-46.17\"/>\n",
       "</g>\n",
       "</g>\n",
       "</svg>\n"
      ],
      "text/plain": [
       "<graphviz.graphs.Digraph at 0x7f8fff7889a0>"
      ]
     },
     "metadata": {},
     "output_type": "display_data"
    },
    {
     "data": {
      "text/html": [
       "<h2>Run Results</h2><h3>[info] Workflow 85d1d8c9-c669-4047-a09f-68f93bf6ef55 finished, state=Succeeded</h3><br>click the hyper links below to see detailed results<br><table border=\"1\" class=\"dataframe\">\n",
       "  <thead>\n",
       "    <tr style=\"text-align: right;\">\n",
       "      <th>uid</th>\n",
       "      <th>start</th>\n",
       "      <th>state</th>\n",
       "      <th>name</th>\n",
       "      <th>parameters</th>\n",
       "      <th>results</th>\n",
       "    </tr>\n",
       "  </thead>\n",
       "  <tbody>\n",
       "    <tr>\n",
       "      <td><div title=\"e38d5804987b439586464f28072e3a67\"><a href=\"https://dashboard.default-tenant.app.vmdev94.lab.iguazeng.com/mlprojects/fraud-demo-dani/jobs/monitor/e38d5804987b439586464f28072e3a67/overview\" target=\"_blank\" >...072e3a67</a></div></td>\n",
       "      <td>Feb 09 09:26:17</td>\n",
       "      <td>completed</td>\n",
       "      <td>evaluate</td>\n",
       "      <td><div class=\"dictlist\">label_columns=label</div><div class=\"dictlist\">model=store://artifacts/fraud-demo-dani/transaction_fraud_xgboost:85d1d8c9-c669-4047-a09f-68f93bf6ef55</div><div class=\"dictlist\">drop_columns=label</div></td>\n",
       "      <td><div class=\"dictlist\">evaluation_accuracy=0.9959159859976663</div><div class=\"dictlist\">evaluation_f1_score=0.7586206896551724</div><div class=\"dictlist\">evaluation_precision_score=0.9166666666666666</div><div class=\"dictlist\">evaluation_recall_score=0.6470588235294118</div></td>\n",
       "    </tr>\n",
       "    <tr>\n",
       "      <td><div title=\"5f5e620151e94924b79928bd54d2610d\"><a href=\"https://dashboard.default-tenant.app.vmdev94.lab.iguazeng.com/mlprojects/fraud-demo-dani/jobs/monitor/5f5e620151e94924b79928bd54d2610d/overview\" target=\"_blank\" >...54d2610d</a></div></td>\n",
       "      <td>Feb 09 09:24:46</td>\n",
       "      <td>completed</td>\n",
       "      <td>train</td>\n",
       "      <td><div class=\"dictlist\">sample=-1</div><div class=\"dictlist\">label_column=label</div><div class=\"dictlist\">test_size=0.1</div></td>\n",
       "      <td><div class=\"dictlist\">best_iteration=2</div><div class=\"dictlist\">accuracy=0.9959159859976663</div><div class=\"dictlist\">f1_score=0.7586206896551724</div><div class=\"dictlist\">precision_score=0.9166666666666666</div><div class=\"dictlist\">recall_score=0.6470588235294118</div></td>\n",
       "    </tr>\n",
       "  </tbody>\n",
       "</table>"
      ],
      "text/plain": [
       "<IPython.core.display.HTML object>"
      ]
     },
     "metadata": {},
     "output_type": "display_data"
    }
   ],
   "source": [
    "run_id = project.run(\n",
    "    'main',\n",
    "    arguments={}, \n",
    "    dirty=True, watch=True, local=False)"
   ]
  },
  {
   "cell_type": "markdown",
   "metadata": {},
   "source": [
    "<a id=\"gs-tutorial-4-step-ui-pipeline-view\"></a>"
   ]
  },
  {
   "cell_type": "markdown",
   "metadata": {},
   "source": [
    "## Step 6: Test the model end point\n"
   ]
  },
  {
   "cell_type": "markdown",
   "metadata": {},
   "source": [
    "Now that your model is deployed using the pipeline, you can invoke it as usual:"
   ]
  },
  {
   "cell_type": "code",
   "execution_count": null,
   "metadata": {},
   "outputs": [],
   "source": [
    "project.list_artifacts()"
   ]
  },
  {
   "cell_type": "code",
   "execution_count": null,
   "metadata": {},
   "outputs": [],
   "source": [
    "project.get_artifact('selected_features')#.to_dataitem().as_df()"
   ]
  },
  {
   "cell_type": "code",
   "execution_count": 12,
   "metadata": {},
   "outputs": [
    {
     "name": "stdout",
     "output_type": "stream",
     "text": [
      "> 2023-02-09 09:27:33,756 [info] invoking function: {'method': 'POST', 'path': 'http://nuclio-fraud-demo-dani-serving.default-tenant.svc.cluster.local:8080/v2/models/fraud/infer'}\n"
     ]
    },
    {
     "name": "stderr",
     "output_type": "stream",
     "text": [
      "This will be deprecated in future releases, use  get_function() instead. This is deprecated in 1.3.0, and will be removed in 1.5.0\n"
     ]
    },
    {
     "ename": "RuntimeError",
     "evalue": "bad function response 400: ValueError: X has 2 features, but RandomForestClassifier is expecting 27 features as input.",
     "output_type": "error",
     "traceback": [
      "\u001b[0;31m---------------------------------------------------------------------------\u001b[0m",
      "\u001b[0;31mRuntimeError\u001b[0m                              Traceback (most recent call last)",
      "\u001b[0;32m/tmp/ipykernel_38971/2477167323.py\u001b[0m in \u001b[0;36m<cell line: 9>\u001b[0;34m()\u001b[0m\n\u001b[1;32m      7\u001b[0m \u001b[0;34m\u001b[0m\u001b[0m\n\u001b[1;32m      8\u001b[0m \u001b[0;31m# Send our sample ID for predcition\u001b[0m\u001b[0;34m\u001b[0m\u001b[0;34m\u001b[0m\u001b[0m\n\u001b[0;32m----> 9\u001b[0;31m serving_fn.invoke(path=model_inference_path,\n\u001b[0m\u001b[1;32m     10\u001b[0m                   body={'inputs': [[sample_id]]})\n",
      "\u001b[0;32m/conda/lib/python3.9/site-packages/mlrun/runtimes/function.py\u001b[0m in \u001b[0;36minvoke\u001b[0;34m(self, path, body, method, headers, dashboard, force_external_address, auth_info, mock)\u001b[0m\n\u001b[1;32m    884\u001b[0m             )\n\u001b[1;32m    885\u001b[0m         \u001b[0;32mif\u001b[0m \u001b[0;32mnot\u001b[0m \u001b[0mresp\u001b[0m\u001b[0;34m.\u001b[0m\u001b[0mok\u001b[0m\u001b[0;34m:\u001b[0m\u001b[0;34m\u001b[0m\u001b[0;34m\u001b[0m\u001b[0m\n\u001b[0;32m--> 886\u001b[0;31m             \u001b[0;32mraise\u001b[0m \u001b[0mRuntimeError\u001b[0m\u001b[0;34m(\u001b[0m\u001b[0;34mf\"bad function response {resp.status_code}: {resp.text}\"\u001b[0m\u001b[0;34m)\u001b[0m\u001b[0;34m\u001b[0m\u001b[0;34m\u001b[0m\u001b[0m\n\u001b[0m\u001b[1;32m    887\u001b[0m \u001b[0;34m\u001b[0m\u001b[0m\n\u001b[1;32m    888\u001b[0m         \u001b[0mdata\u001b[0m \u001b[0;34m=\u001b[0m \u001b[0mresp\u001b[0m\u001b[0;34m.\u001b[0m\u001b[0mcontent\u001b[0m\u001b[0;34m\u001b[0m\u001b[0;34m\u001b[0m\u001b[0m\n",
      "\u001b[0;31mRuntimeError\u001b[0m: bad function response 400: ValueError: X has 2 features, but RandomForestClassifier is expecting 27 features as input."
     ]
    }
   ],
   "source": [
    "# Define our serving function\n",
    "serving_fn = project.func('serving')\n",
    "\n",
    "# Choose an id for our test\n",
    "sample_id = 'C1000148617'\n",
    "model_inference_path = '/v2/models/fraud/infer'\n",
    "\n",
    "# Send our sample ID for predcition\n",
    "serving_fn.invoke(path=model_inference_path,\n",
    "                  body={'inputs': [[sample_id]]})"
   ]
  },
  {
   "cell_type": "markdown",
   "metadata": {},
   "source": [
    "<a id=\"gs-tutorial-4-done\"></a>"
   ]
  },
  {
   "cell_type": "markdown",
   "metadata": {},
   "source": [
    "## Done!"
   ]
  }
 ],
 "metadata": {
  "kernelspec": {
   "display_name": "conda",
   "language": "python",
   "name": "conda-root-py"
  },
  "language_info": {
   "codemirror_mode": {
    "name": "ipython",
    "version": 3
   },
   "file_extension": ".py",
   "mimetype": "text/x-python",
   "name": "python",
   "nbconvert_exporter": "python",
   "pygments_lexer": "ipython3",
   "version": "3.9.13"
  }
 },
 "nbformat": 4,
 "nbformat_minor": 4
}
