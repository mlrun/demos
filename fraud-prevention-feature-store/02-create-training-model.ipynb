{
 "cells": [
  {
   "cell_type": "markdown",
   "metadata": {},
   "source": [
    "# Part 2: Training\n",
    "\n",
    "In this part we will show how using MLRun's **Feature Store** we can easily define a **Feature Vector** and create the dataset we need to run our training process.  \n",
    "By the end of this tutorial you’ll learn how to:\n",
    "- Combine multiple data sources to a single Feature Vector\n",
    "- Create training dataset\n",
    "- Create a model using an MLRun Hub function"
   ]
  },
  {
   "cell_type": "code",
   "execution_count": 1,
   "metadata": {},
   "outputs": [],
   "source": [
    "project_name = 'fraud-demo'"
   ]
  },
  {
   "cell_type": "code",
   "execution_count": 2,
   "metadata": {},
   "outputs": [
    {
     "name": "stdout",
     "output_type": "stream",
     "text": [
      "> 2023-01-25 10:43:32,631 [info] loaded project fraud-demo from MLRun DB\n"
     ]
    }
   ],
   "source": [
    "import mlrun\n",
    "\n",
    "# Initialize the MLRun project object\n",
    "project = mlrun.get_or_create_project(project_name, context=\"./\", user_project=True)"
   ]
  },
  {
   "cell_type": "markdown",
   "metadata": {},
   "source": [
    "## Step 1 - Create a Feature Vector  \n",
    "In this section we will create our Feature Vector.  \n",
    "The Feature vector will have a `name` so we can reference to it later via the URI or our serving function, and a list of `features` from the available FeatureSets.  We can add a feature from a feature set by adding `<FeatureSet>.<Feature>` to the list, or add `<FeatureSet>.*` to add all the FeatureSet's available features.  \n",
    "\n",
    "By default, the first FeatureSet in the feature list will act as the spine. meaning that all the other features will be joined to it.  \n",
    "For example, in this instance we use the early sense sensor data as our spine, so for each early sense event we will create produce a row in the resulted Feature Vector."
   ]
  },
  {
   "cell_type": "code",
   "execution_count": 3,
   "metadata": {},
   "outputs": [],
   "source": [
    "# Define the list of features we will be using\n",
    "features = ['transactions.*',\n",
    "            'events.*']"
   ]
  },
  {
   "cell_type": "code",
   "execution_count": 4,
   "metadata": {},
   "outputs": [],
   "source": [
    "# Import MLRun's Feature Store\n",
    "import mlrun.feature_store as fstore\n",
    "\n",
    "# Define the feature vector name for future reference\n",
    "fv_name = 'transactions-fraud'\n",
    "\n",
    "# Define the feature vector using our Feature Store (fstore)\n",
    "transactions_fv = fstore.FeatureVector(fv_name,\n",
    "                          features, \n",
    "                          label_feature=\"labels.label\",\n",
    "                          description='Predicting a fraudulent transaction')\n",
    "\n",
    "# Save the feature vector in the Feature Store\n",
    "transactions_fv.save()"
   ]
  },
  {
   "cell_type": "markdown",
   "metadata": {},
   "source": [
    "## Step 2 - Preview the Feature Vector Data\n",
    "\n",
    "Obtain the values of the features in the feature vector, to ensure the data appears as expected"
   ]
  },
  {
   "cell_type": "code",
   "execution_count": 5,
   "metadata": {},
   "outputs": [
    {
     "name": "stdout",
     "output_type": "stream",
     "text": [
      "> 2023-01-25 10:43:44,359 [info] wrote target: {'name': 'parquet', 'kind': 'parquet', 'path': 'v3io:///projects/fraud-demo-dani/FeatureStore/transactions-fraud/parquet/vectors/transactions-fraud-latest.parquet', 'status': 'ready', 'updated': '2023-01-25T10:43:44.359239+00:00', 'size': 2664931, 'partitioned': True}\n"
     ]
    }
   ],
   "source": [
    "# Import the Parquet Target so we can directly save our dataset as a file\n",
    "from mlrun.datastore.targets import ParquetTarget\n",
    "\n",
    "# Get offline feature vector as dataframe and save the dataset to parquet\n",
    "train_dataset = fstore.get_offline_features(fv_name, target=ParquetTarget())"
   ]
  },
  {
   "cell_type": "code",
   "execution_count": 6,
   "metadata": {},
   "outputs": [
    {
     "data": {
      "text/html": [
       "<div>\n",
       "<style scoped>\n",
       "    .dataframe tbody tr th:only-of-type {\n",
       "        vertical-align: middle;\n",
       "    }\n",
       "\n",
       "    .dataframe tbody tr th {\n",
       "        vertical-align: top;\n",
       "    }\n",
       "\n",
       "    .dataframe thead th {\n",
       "        text-align: right;\n",
       "    }\n",
       "</style>\n",
       "<table border=\"1\" class=\"dataframe\">\n",
       "  <thead>\n",
       "    <tr style=\"text-align: right;\">\n",
       "      <th></th>\n",
       "      <th>amount_avg_12h</th>\n",
       "      <th>amount_sum_12h</th>\n",
       "      <th>amount_count_12h</th>\n",
       "      <th>amount_max_12h</th>\n",
       "      <th>es_transportation_count_14d</th>\n",
       "      <th>es_health_count_14d</th>\n",
       "      <th>es_otherservices_count_14d</th>\n",
       "      <th>es_food_count_14d</th>\n",
       "      <th>es_hotelservices_count_14d</th>\n",
       "      <th>es_barsandrestaurants_count_14d</th>\n",
       "      <th>...</th>\n",
       "      <th>category_es_travel</th>\n",
       "      <th>category_es_leisure</th>\n",
       "      <th>gender_M</th>\n",
       "      <th>gender_F</th>\n",
       "      <th>gender_E</th>\n",
       "      <th>timestamp_window</th>\n",
       "      <th>event_details_change</th>\n",
       "      <th>event_login</th>\n",
       "      <th>event_password_change</th>\n",
       "      <th>label</th>\n",
       "    </tr>\n",
       "  </thead>\n",
       "  <tbody>\n",
       "    <tr>\n",
       "      <th>125973</th>\n",
       "      <td>32.515517</td>\n",
       "      <td>942.95</td>\n",
       "      <td>29</td>\n",
       "      <td>104.03</td>\n",
       "      <td>29.0</td>\n",
       "      <td>29.0</td>\n",
       "      <td>29.0</td>\n",
       "      <td>29.0</td>\n",
       "      <td>29.0</td>\n",
       "      <td>29.0</td>\n",
       "      <td>...</td>\n",
       "      <td>0</td>\n",
       "      <td>0</td>\n",
       "      <td>1</td>\n",
       "      <td>0</td>\n",
       "      <td>0</td>\n",
       "      <td>14d</td>\n",
       "      <td>1.0</td>\n",
       "      <td>0.0</td>\n",
       "      <td>0.0</td>\n",
       "      <td>0</td>\n",
       "    </tr>\n",
       "    <tr>\n",
       "      <th>125974</th>\n",
       "      <td>30.424348</td>\n",
       "      <td>699.76</td>\n",
       "      <td>23</td>\n",
       "      <td>64.79</td>\n",
       "      <td>23.0</td>\n",
       "      <td>23.0</td>\n",
       "      <td>23.0</td>\n",
       "      <td>23.0</td>\n",
       "      <td>23.0</td>\n",
       "      <td>23.0</td>\n",
       "      <td>...</td>\n",
       "      <td>0</td>\n",
       "      <td>0</td>\n",
       "      <td>1</td>\n",
       "      <td>0</td>\n",
       "      <td>0</td>\n",
       "      <td>14d</td>\n",
       "      <td>0.0</td>\n",
       "      <td>0.0</td>\n",
       "      <td>1.0</td>\n",
       "      <td>0</td>\n",
       "    </tr>\n",
       "    <tr>\n",
       "      <th>125975</th>\n",
       "      <td>27.320526</td>\n",
       "      <td>519.09</td>\n",
       "      <td>19</td>\n",
       "      <td>56.05</td>\n",
       "      <td>19.0</td>\n",
       "      <td>19.0</td>\n",
       "      <td>19.0</td>\n",
       "      <td>19.0</td>\n",
       "      <td>19.0</td>\n",
       "      <td>19.0</td>\n",
       "      <td>...</td>\n",
       "      <td>0</td>\n",
       "      <td>0</td>\n",
       "      <td>0</td>\n",
       "      <td>1</td>\n",
       "      <td>0</td>\n",
       "      <td>14d</td>\n",
       "      <td>0.0</td>\n",
       "      <td>0.0</td>\n",
       "      <td>1.0</td>\n",
       "      <td>0</td>\n",
       "    </tr>\n",
       "    <tr>\n",
       "      <th>125976</th>\n",
       "      <td>84.328929</td>\n",
       "      <td>2361.21</td>\n",
       "      <td>28</td>\n",
       "      <td>1506.61</td>\n",
       "      <td>28.0</td>\n",
       "      <td>28.0</td>\n",
       "      <td>28.0</td>\n",
       "      <td>28.0</td>\n",
       "      <td>28.0</td>\n",
       "      <td>28.0</td>\n",
       "      <td>...</td>\n",
       "      <td>0</td>\n",
       "      <td>0</td>\n",
       "      <td>1</td>\n",
       "      <td>0</td>\n",
       "      <td>0</td>\n",
       "      <td>14d</td>\n",
       "      <td>1.0</td>\n",
       "      <td>0.0</td>\n",
       "      <td>0.0</td>\n",
       "      <td>0</td>\n",
       "    </tr>\n",
       "    <tr>\n",
       "      <th>125977</th>\n",
       "      <td>11.350000</td>\n",
       "      <td>68.10</td>\n",
       "      <td>6</td>\n",
       "      <td>20.70</td>\n",
       "      <td>6.0</td>\n",
       "      <td>6.0</td>\n",
       "      <td>6.0</td>\n",
       "      <td>6.0</td>\n",
       "      <td>6.0</td>\n",
       "      <td>6.0</td>\n",
       "      <td>...</td>\n",
       "      <td>0</td>\n",
       "      <td>0</td>\n",
       "      <td>0</td>\n",
       "      <td>1</td>\n",
       "      <td>0</td>\n",
       "      <td>14d</td>\n",
       "      <td>0.0</td>\n",
       "      <td>1.0</td>\n",
       "      <td>0.0</td>\n",
       "      <td>0</td>\n",
       "    </tr>\n",
       "  </tbody>\n",
       "</table>\n",
       "<p>5 rows × 54 columns</p>\n",
       "</div>"
      ],
      "text/plain": [
       "        amount_avg_12h  amount_sum_12h  amount_count_12h  amount_max_12h  \\\n",
       "125973       32.515517          942.95                29          104.03   \n",
       "125974       30.424348          699.76                23           64.79   \n",
       "125975       27.320526          519.09                19           56.05   \n",
       "125976       84.328929         2361.21                28         1506.61   \n",
       "125977       11.350000           68.10                 6           20.70   \n",
       "\n",
       "        es_transportation_count_14d  es_health_count_14d  \\\n",
       "125973                         29.0                 29.0   \n",
       "125974                         23.0                 23.0   \n",
       "125975                         19.0                 19.0   \n",
       "125976                         28.0                 28.0   \n",
       "125977                          6.0                  6.0   \n",
       "\n",
       "        es_otherservices_count_14d  es_food_count_14d  \\\n",
       "125973                        29.0               29.0   \n",
       "125974                        23.0               23.0   \n",
       "125975                        19.0               19.0   \n",
       "125976                        28.0               28.0   \n",
       "125977                         6.0                6.0   \n",
       "\n",
       "        es_hotelservices_count_14d  es_barsandrestaurants_count_14d  ...  \\\n",
       "125973                        29.0                             29.0  ...   \n",
       "125974                        23.0                             23.0  ...   \n",
       "125975                        19.0                             19.0  ...   \n",
       "125976                        28.0                             28.0  ...   \n",
       "125977                         6.0                              6.0  ...   \n",
       "\n",
       "        category_es_travel  category_es_leisure  gender_M  gender_F  gender_E  \\\n",
       "125973                   0                    0         1         0         0   \n",
       "125974                   0                    0         1         0         0   \n",
       "125975                   0                    0         0         1         0   \n",
       "125976                   0                    0         1         0         0   \n",
       "125977                   0                    0         0         1         0   \n",
       "\n",
       "        timestamp_window  event_details_change  event_login  \\\n",
       "125973               14d                   1.0          0.0   \n",
       "125974               14d                   0.0          0.0   \n",
       "125975               14d                   0.0          0.0   \n",
       "125976               14d                   1.0          0.0   \n",
       "125977               14d                   0.0          1.0   \n",
       "\n",
       "        event_password_change  label  \n",
       "125973                    0.0      0  \n",
       "125974                    1.0      0  \n",
       "125975                    1.0      0  \n",
       "125976                    0.0      0  \n",
       "125977                    0.0      0  \n",
       "\n",
       "[5 rows x 54 columns]"
      ]
     },
     "execution_count": 6,
     "metadata": {},
     "output_type": "execute_result"
    }
   ],
   "source": [
    "# Preview our dataset\n",
    "train_dataset.to_dataframe().tail(5)"
   ]
  },
  {
   "cell_type": "markdown",
   "metadata": {},
   "source": [
    "## Step 3 - Train Models and Choose Highest Accuracy\n",
    "\n",
    "With MLRun, one can easily train different models and compare the results. In the code below, we train 3 different models,\n",
    "each uses a different algorithm (random forest, XGBoost, adabost), and choose the model with the highest accuracy"
   ]
  },
  {
   "cell_type": "code",
   "execution_count": null,
   "metadata": {},
   "outputs": [],
   "source": [
    "# Import the Sklearn classifier function from the functions hub\n",
    "classifier_fn = mlrun.import_function('hub://sklearn-classifier')"
   ]
  },
  {
   "cell_type": "code",
   "execution_count": null,
   "metadata": {},
   "outputs": [],
   "source": [
    "# Prepare the parameters list for the training function\n",
    "# We will be using 3 different models\n",
    "training_params = {\"model_name\": ['transaction_fraud_rf', \n",
    "                                  'transaction_fraud_xgboost', \n",
    "                                  'transaction_fraud_adaboost'],\n",
    "              \n",
    "              \"model_pkg_class\": ['sklearn.ensemble.RandomForestClassifier',\n",
    "                                  'sklearn.ensemble.GradientBoostingClassifier',\n",
    "                                  'sklearn.ensemble.AdaBoostClassifier']}\n",
    "\n",
    "# Define the training task, including our feature vector, label and hyperparams definitions\n",
    "train_task = mlrun.new_task('training', \n",
    "                      inputs={'dataset': transactions_fv.uri},\n",
    "                      params={'label_column': 'label'}\n",
    "                     )\n",
    "\n",
    "train_task.with_hyper_params(training_params, strategy='list', selector='max.accuracy')\n",
    "\n",
    "# Specify our cluster image\n",
    "classifier_fn.spec.image = 'mlrun/mlrun'\n",
    "\n",
    "# Run training\n",
    "classifier_fn.run(train_task, local=False)"
   ]
  },
  {
   "cell_type": "markdown",
   "metadata": {},
   "source": [
    "## Step 4 - Perform Feature Selection\n",
    "\n",
    "As part of our data science process we will try and reduce the training dataset's size to get rid of bad or unuseful features and save computation time.\n",
    "\n",
    "We will use our ready-made feature selection function from our hub [`hub://feature_selection`](https://github.com/mlrun/functions/blob/development/feature_selection/feature_selection.ipynb) to select the best features to keep on a sample from our dataset and run the function on that.\n"
   ]
  },
  {
   "cell_type": "code",
   "execution_count": null,
   "metadata": {},
   "outputs": [],
   "source": [
    "feature_selection_fn = mlrun.import_function('hub://feature_selection')\n",
    "\n",
    "feature_selection_run = feature_selection_fn.run(\n",
    "            params={'sample_ratio':0.25,\n",
    "                    'output_vector_name':fv_name + \"-short\",\n",
    "                   'ignore_type_errors': True},\n",
    "    \n",
    "            inputs={'df_artifact': transactions_fv.uri},\n",
    "            name='feature_extraction',\n",
    "            handler='feature_selection',\n",
    "    local=False)"
   ]
  },
  {
   "cell_type": "code",
   "execution_count": null,
   "metadata": {},
   "outputs": [],
   "source": [
    "mlrun.get_dataitem(feature_selection_run.outputs['top_features_vector']).as_df().tail(5)"
   ]
  },
  {
   "cell_type": "markdown",
   "metadata": {},
   "source": [
    "## Step 5 - Train our models with top features\n",
    "\n",
    "Following the feature selection, we train new models using the resultant features. We can observe the accuracy and other results remain high\n",
    "meaning we get a model that requires less features to be accurate and thus less error-prone."
   ]
  },
  {
   "cell_type": "code",
   "execution_count": null,
   "metadata": {},
   "outputs": [],
   "source": [
    "# Defining our training task, including our feature vector, label and hyperparams definitions\n",
    "ensemble_train_task = mlrun.new_task('training', \n",
    "                      inputs={'dataset': feature_selection_run.outputs['top_features_vector']},\n",
    "                      params={'label_column': 'label'}\n",
    "                     )\n",
    "ensemble_train_task.with_hyper_params(training_params, strategy='list', selector='max.accuracy')\n",
    "\n",
    "classifier_fn.run(ensemble_train_task)"
   ]
  },
  {
   "cell_type": "markdown",
   "metadata": {},
   "source": [
    "## Done!\n",
    "\n",
    "You've completed Part 2 of the model training with the feature store.\n",
    "Proceed to [Part 3](03-deploy-serving-model.ipynb) to learn how to deploy and monitor the model."
   ]
  }
 ],
 "metadata": {
  "kernelspec": {
   "display_name": "mlrun-base",
   "language": "python",
   "name": "conda-env-mlrun-base-py"
  },
  "language_info": {
   "codemirror_mode": {
    "name": "ipython",
    "version": 3
   },
   "file_extension": ".py",
   "mimetype": "text/x-python",
   "name": "python",
   "nbconvert_exporter": "python",
   "pygments_lexer": "ipython3",
   "version": "3.9.13"
  }
 },
 "nbformat": 4,
 "nbformat_minor": 4
}
