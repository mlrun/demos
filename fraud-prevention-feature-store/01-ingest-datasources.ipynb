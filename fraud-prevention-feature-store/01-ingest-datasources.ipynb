{
 "cells": [
  {
   "cell_type": "markdown",
   "metadata": {},
   "source": [
    "# Part 1: Data ingestion\n"
   ]
  },
  {
   "cell_type": "markdown",
   "metadata": {},
   "source": [
    "```\n",
    "This demo works with the online feature store, which is currently not part of the Open Source default deployment.\n",
    "```\n",
    "This demo showcases financial fraud prevention using the MLRun feature store to define complex features that help identify \n",
    "fraud. Fraud prevention specifically is a challenge because it requires processing raw transaction and events in real-time, and \n",
    "being able to quickly respond and block transactions before they occur.\n",
    "\n",
    "To address this, you create a development pipeline and a production pipeline. Both pipelines share the same feature \n",
    "engineering and model code, but serve data very differently. Furthermore, you automate the data and model monitoring \n",
    "process, identify drift and trigger retraining in a CI/CD pipeline. This process is described in the diagram below:\n",
    "\n",
    "![Feature store demo diagram - fraud prevention](images/feature_store_demo_diagram.png)\n",
    "\n",
    "By the end of this tutorial you’ll learn how to:\n",
    "\n",
    "- Create an ingestion pipeline for each data source.\n",
    "- Define preprocessing, aggregation and validation of the pipeline.\n",
    "- Run the pipeline locally within the notebook.\n",
    "- Launch a real-time function to ingest live data.\n",
    "- Schedule a cron to run the task when needed."
   ]
  },
  {
   "cell_type": "markdown",
   "metadata": {},
   "source": [
    "The raw data is described as follows:\n",
    "\n",
    "| TRANSACTIONS                                                                    || &#x2551; |USER EVENTS                                                                           || \n",
    "|-----------------|----------------------------------------------------------------|----------|-----------------|----------------------------------------------------------------|\n",
    "| **age**         | age group value 0-6. Some values are marked as U for unknown   | &#x2551; | **source**      | The party/entity related to the event                          |\n",
    "| **gender**      | A character to define the gender                               | &#x2551; | **event**       | event, such as login or password change                        |\n",
    "| **zipcodeOri**  | ZIP code of the person originating the transaction             | &#x2551; | **timestamp**   | The date and time of the event                                 |\n",
    "| **zipMerchant** | ZIP code of the merchant receiving the transaction             | &#x2551; |                 |                                                                |\n",
    "| **category**    | category of the transaction (e.g., transportation, food, etc.) | &#x2551; |                 |                                                                |\n",
    "| **amount**      | the total amount of the transaction                            | &#x2551; |                 |                                                                |\n",
    "| **fraud**       | whether the transaction is fraudulent                          | &#x2551; |                 |                                                                |\n",
    "| **timestamp**   | the date and time in which the transaction took place          | &#x2551; |                 |                                                                |\n",
    "| **source**      | the ID of the party/entity performing the transaction          | &#x2551; |                 |                                                                |\n",
    "| **target**      | the ID of the party/entity receiving the transaction           | &#x2551; |                 |                                                                |\n",
    "| **device**      | the device ID used to perform the transaction                  | &#x2551; |                 |                                                                |"
   ]
  },
  {
   "cell_type": "markdown",
   "metadata": {},
   "source": [
    "This notebook introduces how to **Ingest** different data sources to the **Feature Store**.\n",
    "\n",
    "The following FeatureSets are created:\n",
    "- **Transactions**: Monetary transactions between a source and a target.\n",
    "- **Events**: Account events such as account login or a password change.\n",
    "- **Label**: Fraud label for the data."
   ]
  },
  {
   "cell_type": "code",
   "execution_count": 1,
   "metadata": {},
   "outputs": [
    {
     "name": "stdout",
     "output_type": "stream",
     "text": [
      "Requirement already satisfied: mlrun in /User/.pythonlibs/jupyter-2/lib/python3.7/site-packages (1.3.1rc6)\n",
      "Requirement already satisfied: nest-asyncio~=1.0 in /conda/lib/python3.7/site-packages (from mlrun) (1.5.5)\n",
      "Requirement already satisfied: mergedeep~=1.3 in /User/.pythonlibs/jupyter-2/lib/python3.7/site-packages (from mlrun) (1.3.4)\n",
      "Requirement already satisfied: kubernetes~=12.0 in /User/.pythonlibs/jupyter-2/lib/python3.7/site-packages (from mlrun) (12.0.1)\n",
      "Requirement already satisfied: aiohttp~=3.8 in /conda/lib/python3.7/site-packages (from mlrun) (3.8.1)\n",
      "Requirement already satisfied: click~=8.0.0 in /conda/lib/python3.7/site-packages (from mlrun) (8.0.4)\n",
      "Requirement already satisfied: pyyaml~=5.1 in /conda/lib/python3.7/site-packages (from mlrun) (5.3.1)\n",
      "Requirement already satisfied: pydantic~=1.5 in /User/.pythonlibs/jupyter-2/lib/python3.7/site-packages (from mlrun) (1.10.6)\n",
      "Requirement already satisfied: fsspec~=2021.8.1 in /User/.pythonlibs/jupyter-2/lib/python3.7/site-packages (from mlrun) (2021.8.1)\n",
      "Requirement already satisfied: fastapi~=0.92.0 in /User/.pythonlibs/jupyter-2/lib/python3.7/site-packages (from mlrun) (0.92.0)\n",
      "Requirement already satisfied: pyarrow<11,>=10 in /User/.pythonlibs/jupyter-2/lib/python3.7/site-packages (from mlrun) (10.0.1)\n",
      "Requirement already satisfied: python-dotenv~=0.17.0 in /User/.pythonlibs/jupyter-2/lib/python3.7/site-packages (from mlrun) (0.17.1)\n",
      "Requirement already satisfied: v3io-frames~=0.10.4 in /User/.pythonlibs/jupyter-2/lib/python3.7/site-packages (from mlrun) (0.10.5)\n",
      "Requirement already satisfied: setuptools~=65.5 in /User/.pythonlibs/jupyter-2/lib/python3.7/site-packages (from mlrun) (65.7.0)\n",
      "Requirement already satisfied: numpy<1.23.0,>=1.16.5 in /conda/lib/python3.7/site-packages (from mlrun) (1.19.2)\n",
      "Requirement already satisfied: ipython<9.0,>=7.0 in /conda/lib/python3.7/site-packages (from mlrun) (7.16.1)\n",
      "Requirement already satisfied: chardet<4.0,>=3.0.2 in /conda/lib/python3.7/site-packages (from mlrun) (3.0.4)\n",
      "Requirement already satisfied: storey~=1.3.19 in /User/.pythonlibs/jupyter-2/lib/python3.7/site-packages (from mlrun) (1.3.19)\n",
      "Requirement already satisfied: aiohttp-retry~=2.8 in /User/.pythonlibs/jupyter-2/lib/python3.7/site-packages (from mlrun) (2.8.3)\n",
      "Requirement already satisfied: semver~=2.13 in /User/.pythonlibs/jupyter-2/lib/python3.7/site-packages (from mlrun) (2.13.0)\n",
      "Requirement already satisfied: v3iofs~=0.1.15 in /User/.pythonlibs/jupyter-2/lib/python3.7/site-packages (from mlrun) (0.1.15)\n",
      "Requirement already satisfied: inflection~=0.5.0 in /User/.pythonlibs/jupyter-2/lib/python3.7/site-packages (from mlrun) (0.5.1)\n",
      "Requirement already satisfied: pandas<1.5.0,~=1.2 in /User/.pythonlibs/jupyter-2/lib/python3.7/site-packages (from mlrun) (1.3.5)\n",
      "Requirement already satisfied: sqlalchemy~=1.4 in /User/.pythonlibs/jupyter-2/lib/python3.7/site-packages (from mlrun) (1.4.48)\n",
      "Requirement already satisfied: protobuf<3.20,>=3.13 in /User/.pythonlibs/jupyter-2/lib/python3.7/site-packages (from mlrun) (3.19.6)\n",
      "Requirement already satisfied: dask~=2021.11.2 in /User/.pythonlibs/jupyter-2/lib/python3.7/site-packages (from mlrun) (2021.11.2)\n",
      "Requirement already satisfied: alembic~=1.9 in /User/.pythonlibs/jupyter-2/lib/python3.7/site-packages (from mlrun) (1.10.4)\n",
      "Requirement already satisfied: distributed~=2021.11.2 in /User/.pythonlibs/jupyter-2/lib/python3.7/site-packages (from mlrun) (2021.11.2)\n",
      "Requirement already satisfied: humanfriendly~=8.2 in /User/.pythonlibs/jupyter-2/lib/python3.7/site-packages (from mlrun) (8.2)\n",
      "Requirement already satisfied: v3io~=0.5.20 in /User/.pythonlibs/jupyter-2/lib/python3.7/site-packages (from mlrun) (0.5.20)\n",
      "Requirement already satisfied: nuclio-jupyter~=0.9.9 in /User/.pythonlibs/jupyter-2/lib/python3.7/site-packages (from mlrun) (0.9.9)\n",
      "Requirement already satisfied: urllib3<1.27,>=1.25.4 in /conda/lib/python3.7/site-packages (from mlrun) (1.25.11)\n",
      "Requirement already satisfied: kfp<1.8.14,~=1.8.0 in /User/.pythonlibs/jupyter-2/lib/python3.7/site-packages (from mlrun) (1.8.13)\n",
      "Requirement already satisfied: GitPython>=3.1.30,~=3.1 in /User/.pythonlibs/jupyter-2/lib/python3.7/site-packages (from mlrun) (3.1.31)\n",
      "Requirement already satisfied: deprecated~=1.2 in /conda/lib/python3.7/site-packages (from mlrun) (1.2.13)\n",
      "Requirement already satisfied: orjson~=3.3 in /User/.pythonlibs/jupyter-2/lib/python3.7/site-packages (from mlrun) (3.8.7)\n",
      "Requirement already satisfied: tabulate~=0.8.6 in /User/.pythonlibs/jupyter-2/lib/python3.7/site-packages (from mlrun) (0.8.10)\n",
      "Requirement already satisfied: requests~=2.22 in /User/.pythonlibs/jupyter-2/lib/python3.7/site-packages (from mlrun) (2.28.2)\n",
      "Requirement already satisfied: pymysql~=1.0 in /User/.pythonlibs/jupyter-2/lib/python3.7/site-packages (from mlrun) (1.0.2)\n",
      "Requirement already satisfied: deepdiff~=5.0 in /User/.pythonlibs/jupyter-2/lib/python3.7/site-packages (from mlrun) (5.8.1)\n",
      "Requirement already satisfied: six>=1.9.0 in /conda/lib/python3.7/site-packages (from kubernetes~=12.0->mlrun) (1.12.0)\n",
      "Requirement already satisfied: certifi>=14.05.14 in /conda/lib/python3.7/site-packages (from kubernetes~=12.0->mlrun) (2022.6.15)\n",
      "Requirement already satisfied: google-auth>=1.0.1 in /conda/lib/python3.7/site-packages (from kubernetes~=12.0->mlrun) (1.28.0)\n",
      "Requirement already satisfied: websocket-client!=0.40.0,!=0.41.*,!=0.42.*,>=0.32.0 in /conda/lib/python3.7/site-packages (from kubernetes~=12.0->mlrun) (0.58.0)\n",
      "Requirement already satisfied: python-dateutil>=2.5.3 in /conda/lib/python3.7/site-packages (from kubernetes~=12.0->mlrun) (2.8.2)\n",
      "Requirement already satisfied: requests-oauthlib in /conda/lib/python3.7/site-packages (from kubernetes~=12.0->mlrun) (1.3.0)\n",
      "Requirement already satisfied: attrs>=17.3.0 in /conda/lib/python3.7/site-packages (from aiohttp~=3.8->mlrun) (21.4.0)\n",
      "Requirement already satisfied: aiosignal>=1.1.2 in /conda/lib/python3.7/site-packages (from aiohttp~=3.8->mlrun) (1.2.0)\n",
      "Requirement already satisfied: async-timeout<5.0,>=4.0.0a3 in /conda/lib/python3.7/site-packages (from aiohttp~=3.8->mlrun) (4.0.1)\n",
      "Requirement already satisfied: yarl<2.0,>=1.0 in /conda/lib/python3.7/site-packages (from aiohttp~=3.8->mlrun) (1.6.3)\n",
      "Requirement already satisfied: charset-normalizer<3.0,>=2.0 in /conda/lib/python3.7/site-packages (from aiohttp~=3.8->mlrun) (2.0.4)\n",
      "Requirement already satisfied: multidict<7.0,>=4.5 in /conda/lib/python3.7/site-packages (from aiohttp~=3.8->mlrun) (5.2.0)\n",
      "Requirement already satisfied: typing-extensions>=3.7.4; python_version < \"3.8\" in /conda/lib/python3.7/site-packages (from aiohttp~=3.8->mlrun) (4.3.0)\n",
      "Requirement already satisfied: frozenlist>=1.1.1 in /conda/lib/python3.7/site-packages (from aiohttp~=3.8->mlrun) (1.2.0)\n",
      "Requirement already satisfied: asynctest==0.13.0; python_version < \"3.8\" in /conda/lib/python3.7/site-packages (from aiohttp~=3.8->mlrun) (0.13.0)\n",
      "Requirement already satisfied: importlib-metadata; python_version < \"3.8\" in /conda/lib/python3.7/site-packages (from click~=8.0.0->mlrun) (4.11.3)\n",
      "Requirement already satisfied: starlette<0.26.0,>=0.25.0 in /User/.pythonlibs/jupyter-2/lib/python3.7/site-packages (from fastapi~=0.92.0->mlrun) (0.25.0)\n",
      "Requirement already satisfied: grpcio-tools!=1.34.0,<1.49,>=1.30 in /conda/lib/python3.7/site-packages (from v3io-frames~=0.10.4->mlrun) (1.41.1)\n",
      "Requirement already satisfied: googleapis-common-protos>=1.5.3 in /conda/lib/python3.7/site-packages (from v3io-frames~=0.10.4->mlrun) (1.56.4)\n",
      "Requirement already satisfied: grpcio!=1.34.0,<1.49,>=1.30 in /conda/lib/python3.7/site-packages (from v3io-frames~=0.10.4->mlrun) (1.41.1)\n",
      "Requirement already satisfied: pygments in /conda/lib/python3.7/site-packages (from ipython<9.0,>=7.0->mlrun) (2.11.2)\n",
      "Requirement already satisfied: jedi>=0.10 in /conda/lib/python3.7/site-packages (from ipython<9.0,>=7.0->mlrun) (0.18.1)\n",
      "Requirement already satisfied: backcall in /conda/lib/python3.7/site-packages (from ipython<9.0,>=7.0->mlrun) (0.2.0)\n",
      "Requirement already satisfied: pickleshare in /conda/lib/python3.7/site-packages (from ipython<9.0,>=7.0->mlrun) (0.7.5)\n",
      "Requirement already satisfied: traitlets>=4.2 in /conda/lib/python3.7/site-packages (from ipython<9.0,>=7.0->mlrun) (4.3.3)\n",
      "Requirement already satisfied: decorator in /conda/lib/python3.7/site-packages (from ipython<9.0,>=7.0->mlrun) (5.1.1)\n",
      "Requirement already satisfied: prompt-toolkit!=3.0.0,!=3.0.1,<3.1.0,>=2.0.0 in /conda/lib/python3.7/site-packages (from ipython<9.0,>=7.0->mlrun) (3.0.20)\n",
      "Requirement already satisfied: pexpect; sys_platform != \"win32\" in /conda/lib/python3.7/site-packages (from ipython<9.0,>=7.0->mlrun) (4.8.0)\n",
      "Requirement already satisfied: xxhash>=1 in /User/.pythonlibs/jupyter-2/lib/python3.7/site-packages (from storey~=1.3.19->mlrun) (3.2.0)\n",
      "Requirement already satisfied: pytz>=2017.3 in /User/.pythonlibs/jupyter-2/lib/python3.7/site-packages (from pandas<1.5.0,~=1.2->mlrun) (2022.7.1)\n",
      "Requirement already satisfied: greenlet!=0.4.17; python_version >= \"3\" and (platform_machine == \"aarch64\" or (platform_machine == \"ppc64le\" or (platform_machine == \"x86_64\" or (platform_machine == \"amd64\" or (platform_machine == \"AMD64\" or (platform_machine == \"win32\" or platform_machine == \"WIN32\")))))) in /User/.pythonlibs/jupyter-2/lib/python3.7/site-packages (from sqlalchemy~=1.4->mlrun) (2.0.2)\n",
      "Requirement already satisfied: packaging>=20.0 in /conda/lib/python3.7/site-packages (from dask~=2021.11.2->mlrun) (21.3)\n",
      "Requirement already satisfied: toolz>=0.8.2 in /conda/lib/python3.7/site-packages (from dask~=2021.11.2->mlrun) (0.11.2)\n",
      "Requirement already satisfied: partd>=0.3.10 in /conda/lib/python3.7/site-packages (from dask~=2021.11.2->mlrun) (1.2.0)\n",
      "Requirement already satisfied: cloudpickle>=1.1.1 in /conda/lib/python3.7/site-packages (from dask~=2021.11.2->mlrun) (2.0.0)\n",
      "Requirement already satisfied: importlib-resources; python_version < \"3.9\" in /conda/lib/python3.7/site-packages (from alembic~=1.9->mlrun) (5.2.0)\n",
      "Requirement already satisfied: Mako in /User/.pythonlibs/jupyter-2/lib/python3.7/site-packages (from alembic~=1.9->mlrun) (1.2.4)\n",
      "Requirement already satisfied: tblib>=1.6.0 in /conda/lib/python3.7/site-packages (from distributed~=2021.11.2->mlrun) (1.7.0)\n",
      "Requirement already satisfied: msgpack>=0.6.0 in /conda/lib/python3.7/site-packages (from distributed~=2021.11.2->mlrun) (1.0.3)\n",
      "Requirement already satisfied: zict>=0.1.3 in /conda/lib/python3.7/site-packages (from distributed~=2021.11.2->mlrun) (2.1.0)\n",
      "Requirement already satisfied: jinja2 in /conda/lib/python3.7/site-packages (from distributed~=2021.11.2->mlrun) (3.0.3)\n",
      "Requirement already satisfied: sortedcontainers!=2.0.0,!=2.0.1 in /conda/lib/python3.7/site-packages (from distributed~=2021.11.2->mlrun) (2.4.0)\n",
      "Requirement already satisfied: tornado>=5; python_version < \"3.8\" in /conda/lib/python3.7/site-packages (from distributed~=2021.11.2->mlrun) (6.1)\n",
      "Requirement already satisfied: psutil>=5.0 in /conda/lib/python3.7/site-packages (from distributed~=2021.11.2->mlrun) (5.9.0)\n",
      "Requirement already satisfied: future>=0.18.2 in /conda/lib/python3.7/site-packages (from v3io~=0.5.20->mlrun) (0.18.2)\n",
      "Requirement already satisfied: ujson>=3 in /conda/lib/python3.7/site-packages (from v3io~=0.5.20->mlrun) (5.5.0)\n",
      "Requirement already satisfied: boto3>=1.9 in /User/.pythonlibs/jupyter-2/lib/python3.7/site-packages (from nuclio-jupyter~=0.9.9->mlrun) (1.17.106)\n",
      "Requirement already satisfied: notebook>=6.4 in /User/.pythonlibs/jupyter-2/lib/python3.7/site-packages (from nuclio-jupyter~=0.9.9->mlrun) (6.5.3)\n",
      "Requirement already satisfied: nbconvert>=6.4.5 in /User/.pythonlibs/jupyter-2/lib/python3.7/site-packages (from nuclio-jupyter~=0.9.9->mlrun) (7.2.10)\n",
      "Requirement already satisfied: google-api-python-client<2,>=1.7.8 in /User/.pythonlibs/jupyter-2/lib/python3.7/site-packages (from kfp<1.8.14,~=1.8.0->mlrun) (1.12.11)\n",
      "Requirement already satisfied: fire<1,>=0.3.1 in /User/.pythonlibs/jupyter-2/lib/python3.7/site-packages (from kfp<1.8.14,~=1.8.0->mlrun) (0.5.0)\n",
      "Requirement already satisfied: docstring-parser<1,>=0.7.3 in /User/.pythonlibs/jupyter-2/lib/python3.7/site-packages (from kfp<1.8.14,~=1.8.0->mlrun) (0.15)\n",
      "Requirement already satisfied: uritemplate<4,>=3.0.1 in /User/.pythonlibs/jupyter-2/lib/python3.7/site-packages (from kfp<1.8.14,~=1.8.0->mlrun) (3.0.1)\n",
      "Requirement already satisfied: kfp-server-api<2.0.0,>=1.1.2 in /conda/lib/python3.7/site-packages (from kfp<1.8.14,~=1.8.0->mlrun) (1.8.4)\n",
      "Requirement already satisfied: requests-toolbelt<1,>=0.8.0 in /conda/lib/python3.7/site-packages (from kfp<1.8.14,~=1.8.0->mlrun) (0.9.1)\n",
      "Requirement already satisfied: absl-py<2,>=0.9 in /conda/lib/python3.7/site-packages (from kfp<1.8.14,~=1.8.0->mlrun) (0.15.0)\n",
      "Requirement already satisfied: google-cloud-storage<2,>=1.20.0 in /conda/lib/python3.7/site-packages (from kfp<1.8.14,~=1.8.0->mlrun) (1.43.0)\n",
      "Requirement already satisfied: kfp-pipeline-spec<0.2.0,>=0.1.14 in /User/.pythonlibs/jupyter-2/lib/python3.7/site-packages (from kfp<1.8.14,~=1.8.0->mlrun) (0.1.16)\n",
      "Requirement already satisfied: google-api-core!=2.0.*,!=2.1.*,!=2.2.*,!=2.3.0,<3.0.0dev,>=1.31.5 in /User/.pythonlibs/jupyter-2/lib/python3.7/site-packages (from kfp<1.8.14,~=1.8.0->mlrun) (2.11.0)\n",
      "Requirement already satisfied: strip-hints<1,>=0.1.8 in /conda/lib/python3.7/site-packages (from kfp<1.8.14,~=1.8.0->mlrun) (0.1.8)\n",
      "Requirement already satisfied: typer<1.0,>=0.3.2 in /User/.pythonlibs/jupyter-2/lib/python3.7/site-packages (from kfp<1.8.14,~=1.8.0->mlrun) (0.7.0)\n",
      "Requirement already satisfied: jsonschema<4,>=3.0.1 in /User/.pythonlibs/jupyter-2/lib/python3.7/site-packages (from kfp<1.8.14,~=1.8.0->mlrun) (3.2.0)\n",
      "Requirement already satisfied: gitdb<5,>=4.0.1 in /conda/lib/python3.7/site-packages (from GitPython>=3.1.30,~=3.1->mlrun) (4.0.9)\n",
      "Requirement already satisfied: wrapt<2,>=1.10 in /conda/lib/python3.7/site-packages (from deprecated~=1.2->mlrun) (1.14.1)\n",
      "Requirement already satisfied: idna<4,>=2.5 in /conda/lib/python3.7/site-packages (from requests~=2.22->mlrun) (2.8)\n",
      "Requirement already satisfied: ordered-set<4.2.0,>=4.1.0 in /User/.pythonlibs/jupyter-2/lib/python3.7/site-packages (from deepdiff~=5.0->mlrun) (4.1.0)\n",
      "Requirement already satisfied: rsa<5,>=3.1.4; python_version >= \"3.6\" in /conda/lib/python3.7/site-packages (from google-auth>=1.0.1->kubernetes~=12.0->mlrun) (4.7.2)\n",
      "Requirement already satisfied: pyasn1-modules>=0.2.1 in /conda/lib/python3.7/site-packages (from google-auth>=1.0.1->kubernetes~=12.0->mlrun) (0.2.8)\n",
      "Requirement already satisfied: cachetools<5.0,>=2.0.0 in /conda/lib/python3.7/site-packages (from google-auth>=1.0.1->kubernetes~=12.0->mlrun) (4.2.2)\n",
      "Requirement already satisfied: oauthlib>=3.0.0 in /conda/lib/python3.7/site-packages (from requests-oauthlib->kubernetes~=12.0->mlrun) (3.1.0)\n",
      "Requirement already satisfied: zipp>=0.5 in /conda/lib/python3.7/site-packages (from importlib-metadata; python_version < \"3.8\"->click~=8.0.0->mlrun) (3.8.0)\n",
      "Requirement already satisfied: anyio<5,>=3.4.0 in /User/.pythonlibs/jupyter-2/lib/python3.7/site-packages (from starlette<0.26.0,>=0.25.0->fastapi~=0.92.0->mlrun) (3.6.2)\n",
      "Requirement already satisfied: parso<0.9.0,>=0.8.0 in /conda/lib/python3.7/site-packages (from jedi>=0.10->ipython<9.0,>=7.0->mlrun) (0.8.3)\n",
      "Requirement already satisfied: ipython-genutils in /conda/lib/python3.7/site-packages (from traitlets>=4.2->ipython<9.0,>=7.0->mlrun) (0.2.0)\n",
      "Requirement already satisfied: wcwidth in /conda/lib/python3.7/site-packages (from prompt-toolkit!=3.0.0,!=3.0.1,<3.1.0,>=2.0.0->ipython<9.0,>=7.0->mlrun) (0.2.5)\n",
      "Requirement already satisfied: ptyprocess>=0.5 in /conda/lib/python3.7/site-packages (from pexpect; sys_platform != \"win32\"->ipython<9.0,>=7.0->mlrun) (0.7.0)\n",
      "Requirement already satisfied: pyparsing!=3.0.5,>=2.0.2 in /conda/lib/python3.7/site-packages (from packaging>=20.0->dask~=2021.11.2->mlrun) (3.0.4)\n",
      "Requirement already satisfied: locket in /conda/lib/python3.7/site-packages (from partd>=0.3.10->dask~=2021.11.2->mlrun) (1.0.0)\n",
      "Requirement already satisfied: MarkupSafe>=0.9.2 in /conda/lib/python3.7/site-packages (from Mako->alembic~=1.9->mlrun) (2.1.1)\n",
      "Requirement already satisfied: heapdict in /conda/lib/python3.7/site-packages (from zict>=0.1.3->distributed~=2021.11.2->mlrun) (1.0.1)\n",
      "Requirement already satisfied: s3transfer<0.5.0,>=0.4.0 in /User/.pythonlibs/jupyter-2/lib/python3.7/site-packages (from boto3>=1.9->nuclio-jupyter~=0.9.9->mlrun) (0.4.2)\n",
      "Requirement already satisfied: botocore<1.21.0,>=1.20.106 in /User/.pythonlibs/jupyter-2/lib/python3.7/site-packages (from boto3>=1.9->nuclio-jupyter~=0.9.9->mlrun) (1.20.106)\n",
      "Requirement already satisfied: jmespath<1.0.0,>=0.7.1 in /User/.pythonlibs/jupyter-2/lib/python3.7/site-packages (from boto3>=1.9->nuclio-jupyter~=0.9.9->mlrun) (0.10.0)\n",
      "Requirement already satisfied: argon2-cffi in /conda/lib/python3.7/site-packages (from notebook>=6.4->nuclio-jupyter~=0.9.9->mlrun) (21.3.0)\n",
      "Requirement already satisfied: prometheus-client in /conda/lib/python3.7/site-packages (from notebook>=6.4->nuclio-jupyter~=0.9.9->mlrun) (0.14.1)\n",
      "Requirement already satisfied: pyzmq>=17 in /conda/lib/python3.7/site-packages (from notebook>=6.4->nuclio-jupyter~=0.9.9->mlrun) (22.3.0)\n",
      "Requirement already satisfied: terminado>=0.8.3 in /conda/lib/python3.7/site-packages (from notebook>=6.4->nuclio-jupyter~=0.9.9->mlrun) (0.13.1)\n",
      "Requirement already satisfied: nbformat in /conda/lib/python3.7/site-packages (from notebook>=6.4->nuclio-jupyter~=0.9.9->mlrun) (5.3.0)\n",
      "Requirement already satisfied: Send2Trash>=1.8.0 in /conda/lib/python3.7/site-packages (from notebook>=6.4->nuclio-jupyter~=0.9.9->mlrun) (1.8.0)\n",
      "Requirement already satisfied: nbclassic>=0.4.7 in /User/.pythonlibs/jupyter-2/lib/python3.7/site-packages (from notebook>=6.4->nuclio-jupyter~=0.9.9->mlrun) (0.5.3)\n",
      "Requirement already satisfied: jupyter-core>=4.6.1 in /conda/lib/python3.7/site-packages (from notebook>=6.4->nuclio-jupyter~=0.9.9->mlrun) (4.10.0)\n",
      "Requirement already satisfied: jupyter-client>=5.3.4 in /conda/lib/python3.7/site-packages (from notebook>=6.4->nuclio-jupyter~=0.9.9->mlrun) (7.2.2)\n",
      "Requirement already satisfied: ipykernel in /conda/lib/python3.7/site-packages (from notebook>=6.4->nuclio-jupyter~=0.9.9->mlrun) (5.3.4)\n",
      "Requirement already satisfied: defusedxml in /conda/lib/python3.7/site-packages (from nbconvert>=6.4.5->nuclio-jupyter~=0.9.9->mlrun) (0.7.1)\n",
      "Requirement already satisfied: nbclient>=0.5.0 in /conda/lib/python3.7/site-packages (from nbconvert>=6.4.5->nuclio-jupyter~=0.9.9->mlrun) (0.5.1)\n",
      "Requirement already satisfied: bleach in /conda/lib/python3.7/site-packages (from nbconvert>=6.4.5->nuclio-jupyter~=0.9.9->mlrun) (4.1.0)\n",
      "Requirement already satisfied: jupyterlab-pygments in /conda/lib/python3.7/site-packages (from nbconvert>=6.4.5->nuclio-jupyter~=0.9.9->mlrun) (0.1.2)\n",
      "Requirement already satisfied: pandocfilters>=1.4.1 in /conda/lib/python3.7/site-packages (from nbconvert>=6.4.5->nuclio-jupyter~=0.9.9->mlrun) (1.5.0)\n",
      "Requirement already satisfied: mistune<3,>=2.0.3 in /User/.pythonlibs/jupyter-2/lib/python3.7/site-packages (from nbconvert>=6.4.5->nuclio-jupyter~=0.9.9->mlrun) (2.0.5)\n",
      "Requirement already satisfied: beautifulsoup4 in /User/.pythonlibs/jupyter-2/lib/python3.7/site-packages (from nbconvert>=6.4.5->nuclio-jupyter~=0.9.9->mlrun) (4.11.2)\n",
      "Requirement already satisfied: tinycss2 in /User/.pythonlibs/jupyter-2/lib/python3.7/site-packages (from nbconvert>=6.4.5->nuclio-jupyter~=0.9.9->mlrun) (1.2.1)\n",
      "Requirement already satisfied: google-auth-httplib2>=0.0.3 in /User/.pythonlibs/jupyter-2/lib/python3.7/site-packages (from google-api-python-client<2,>=1.7.8->kfp<1.8.14,~=1.8.0->mlrun) (0.1.0)\n",
      "Requirement already satisfied: httplib2<1dev,>=0.15.0 in /User/.pythonlibs/jupyter-2/lib/python3.7/site-packages (from google-api-python-client<2,>=1.7.8->kfp<1.8.14,~=1.8.0->mlrun) (0.21.0)\n",
      "Requirement already satisfied: termcolor in /conda/lib/python3.7/site-packages (from fire<1,>=0.3.1->kfp<1.8.14,~=1.8.0->mlrun) (1.1.0)\n",
      "Requirement already satisfied: google-resumable-media<3.0dev,>=1.3.0; python_version >= \"3.6\" in /conda/lib/python3.7/site-packages (from google-cloud-storage<2,>=1.20.0->kfp<1.8.14,~=1.8.0->mlrun) (1.3.1)\n",
      "Requirement already satisfied: google-cloud-core<3.0dev,>=1.6.0; python_version >= \"3.6\" in /conda/lib/python3.7/site-packages (from google-cloud-storage<2,>=1.20.0->kfp<1.8.14,~=1.8.0->mlrun) (2.2.2)\n",
      "Requirement already satisfied: wheel in /conda/lib/python3.7/site-packages (from strip-hints<1,>=0.1.8->kfp<1.8.14,~=1.8.0->mlrun) (0.33.1)\n",
      "Requirement already satisfied: pyrsistent>=0.14.0 in /conda/lib/python3.7/site-packages (from jsonschema<4,>=3.0.1->kfp<1.8.14,~=1.8.0->mlrun) (0.18.0)\n",
      "Requirement already satisfied: smmap<6,>=3.0.1 in /conda/lib/python3.7/site-packages (from gitdb<5,>=4.0.1->GitPython>=3.1.30,~=3.1->mlrun) (5.0.0)\n",
      "Requirement already satisfied: pyasn1>=0.1.3 in /conda/lib/python3.7/site-packages (from rsa<5,>=3.1.4; python_version >= \"3.6\"->google-auth>=1.0.1->kubernetes~=12.0->mlrun) (0.4.8)\n",
      "Requirement already satisfied: sniffio>=1.1 in /User/.pythonlibs/jupyter-2/lib/python3.7/site-packages (from anyio<5,>=3.4.0->starlette<0.26.0,>=0.25.0->fastapi~=0.92.0->mlrun) (1.3.0)\n",
      "Requirement already satisfied: argon2-cffi-bindings in /conda/lib/python3.7/site-packages (from argon2-cffi->notebook>=6.4->nuclio-jupyter~=0.9.9->mlrun) (21.2.0)\n",
      "Requirement already satisfied: fastjsonschema in /conda/lib/python3.7/site-packages (from nbformat->notebook>=6.4->nuclio-jupyter~=0.9.9->mlrun) (2.15.1)\n",
      "Requirement already satisfied: notebook-shim>=0.1.0 in /User/.pythonlibs/jupyter-2/lib/python3.7/site-packages (from nbclassic>=0.4.7->notebook>=6.4->nuclio-jupyter~=0.9.9->mlrun) (0.2.2)\n",
      "Requirement already satisfied: jupyter-server>=1.8 in /User/.pythonlibs/jupyter-2/lib/python3.7/site-packages (from nbclassic>=0.4.7->notebook>=6.4->nuclio-jupyter~=0.9.9->mlrun) (1.23.6)\n",
      "Requirement already satisfied: entrypoints in /conda/lib/python3.7/site-packages (from jupyter-client>=5.3.4->notebook>=6.4->nuclio-jupyter~=0.9.9->mlrun) (0.4)\n",
      "Requirement already satisfied: async-generator in /conda/lib/python3.7/site-packages (from nbclient>=0.5.0->nbconvert>=6.4.5->nuclio-jupyter~=0.9.9->mlrun) (1.10)\n",
      "Requirement already satisfied: webencodings in /conda/lib/python3.7/site-packages (from bleach->nbconvert>=6.4.5->nuclio-jupyter~=0.9.9->mlrun) (0.5.1)\n",
      "Requirement already satisfied: soupsieve>1.2 in /conda/lib/python3.7/site-packages (from beautifulsoup4->nbconvert>=6.4.5->nuclio-jupyter~=0.9.9->mlrun) (2.3.1)\n",
      "Requirement already satisfied: google-crc32c<2.0dev,>=1.0; python_version >= \"3.5\" in /conda/lib/python3.7/site-packages (from google-resumable-media<3.0dev,>=1.3.0; python_version >= \"3.6\"->google-cloud-storage<2,>=1.20.0->kfp<1.8.14,~=1.8.0->mlrun) (1.1.2)\n",
      "Requirement already satisfied: cffi>=1.0.1 in /conda/lib/python3.7/site-packages (from argon2-cffi-bindings->argon2-cffi->notebook>=6.4->nuclio-jupyter~=0.9.9->mlrun) (1.12.2)\n",
      "Requirement already satisfied: pycparser in /conda/lib/python3.7/site-packages (from cffi>=1.0.1->argon2-cffi-bindings->argon2-cffi->notebook>=6.4->nuclio-jupyter~=0.9.9->mlrun) (2.19)\n",
      "Note: you may need to restart the kernel to use updated packages.\n"
     ]
    }
   ],
   "source": [
    "%pip install mlrun"
   ]
  },
  {
   "cell_type": "code",
   "execution_count": 2,
   "metadata": {},
   "outputs": [],
   "source": [
    "project_name = 'fraud-demo'"
   ]
  },
  {
   "cell_type": "code",
   "execution_count": 3,
   "metadata": {},
   "outputs": [
    {
     "name": "stdout",
     "output_type": "stream",
     "text": [
      "> 2023-05-08 13:53:56,863 [info] loaded project fraud-demo from ./ and saved in MLRun DB\n"
     ]
    }
   ],
   "source": [
    "import mlrun\n",
    "\n",
    "# Initialize the MLRun project object\n",
    "project = mlrun.get_or_create_project(project_name, context=\"./\", user_project=True) "
   ]
  },
  {
   "cell_type": "markdown",
   "metadata": {},
   "source": [
    "## Step 1 - Fetch, process and ingest the datasets"
   ]
  },
  {
   "cell_type": "markdown",
   "metadata": {},
   "source": [
    "## 1.1 - Transactions"
   ]
  },
  {
   "cell_type": "markdown",
   "metadata": {},
   "source": [
    "### Transactions"
   ]
  },
  {
   "cell_type": "code",
   "execution_count": 4,
   "metadata": {
    "tags": [
     "hide-cell"
    ]
   },
   "outputs": [],
   "source": [
    "# Helper functions to adjust the timestamps of our data\n",
    "# while keeping the order of the selected events and\n",
    "# the relative distance from one event to the other\n",
    "\n",
    "def date_adjustment(sample, data_max, new_max, old_data_period, new_data_period):\n",
    "    '''\n",
    "        Adjust a specific sample's date according to the original and new time periods\n",
    "    '''\n",
    "    sample_dates_scale = ((data_max - sample) / old_data_period)\n",
    "    sample_delta = new_data_period * sample_dates_scale\n",
    "    new_sample_ts = new_max - sample_delta\n",
    "    return new_sample_ts\n",
    "\n",
    "def adjust_data_timespan(dataframe, timestamp_col='timestamp', new_period='2d', new_max_date_str='now'):\n",
    "    '''\n",
    "        Adjust the dataframe timestamps to the new time period\n",
    "    '''\n",
    "    # Calculate old time period\n",
    "    data_min = dataframe.timestamp.min()\n",
    "    data_max = dataframe.timestamp.max()\n",
    "    old_data_period = data_max-data_min\n",
    "    \n",
    "    # Set new time period\n",
    "    new_time_period = pd.Timedelta(new_period)\n",
    "    new_max = pd.Timestamp(new_max_date_str)\n",
    "    new_min = new_max-new_time_period\n",
    "    new_data_period = new_max-new_min\n",
    "    \n",
    "    # Apply the timestamp change\n",
    "    df = dataframe.copy()\n",
    "    df[timestamp_col] = df[timestamp_col].apply(lambda x: date_adjustment(x, data_max, new_max, old_data_period, new_data_period))\n",
    "    return df"
   ]
  },
  {
   "cell_type": "code",
   "execution_count": 5,
   "metadata": {},
   "outputs": [
    {
     "data": {
      "text/html": [
       "<div>\n",
       "<style scoped>\n",
       "    .dataframe tbody tr th:only-of-type {\n",
       "        vertical-align: middle;\n",
       "    }\n",
       "\n",
       "    .dataframe tbody tr th {\n",
       "        vertical-align: top;\n",
       "    }\n",
       "\n",
       "    .dataframe thead th {\n",
       "        text-align: right;\n",
       "    }\n",
       "</style>\n",
       "<table border=\"1\" class=\"dataframe\">\n",
       "  <thead>\n",
       "    <tr style=\"text-align: right;\">\n",
       "      <th></th>\n",
       "      <th>step</th>\n",
       "      <th>age</th>\n",
       "      <th>gender</th>\n",
       "      <th>zipcodeOri</th>\n",
       "      <th>zipMerchant</th>\n",
       "      <th>category</th>\n",
       "      <th>amount</th>\n",
       "      <th>fraud</th>\n",
       "      <th>timestamp</th>\n",
       "      <th>source</th>\n",
       "      <th>target</th>\n",
       "      <th>device</th>\n",
       "    </tr>\n",
       "  </thead>\n",
       "  <tbody>\n",
       "    <tr>\n",
       "      <th>333175</th>\n",
       "      <td>108</td>\n",
       "      <td>5</td>\n",
       "      <td>M</td>\n",
       "      <td>28007</td>\n",
       "      <td>28007</td>\n",
       "      <td>es_transportation</td>\n",
       "      <td>23.58</td>\n",
       "      <td>0</td>\n",
       "      <td>2023-05-06 13:54:05.078692000</td>\n",
       "      <td>C1000148617</td>\n",
       "      <td>M1823072687</td>\n",
       "      <td>2f13bbd87b9f42f98f5f3fce05890c82</td>\n",
       "    </tr>\n",
       "    <tr>\n",
       "      <th>164897</th>\n",
       "      <td>57</td>\n",
       "      <td>5</td>\n",
       "      <td>M</td>\n",
       "      <td>28007</td>\n",
       "      <td>28007</td>\n",
       "      <td>es_transportation</td>\n",
       "      <td>38.93</td>\n",
       "      <td>0</td>\n",
       "      <td>2023-05-06 14:27:28.316637817</td>\n",
       "      <td>C1000148617</td>\n",
       "      <td>M1823072687</td>\n",
       "      <td>2f13bbd87b9f42f98f5f3fce05890c82</td>\n",
       "    </tr>\n",
       "    <tr>\n",
       "      <th>211976</th>\n",
       "      <td>72</td>\n",
       "      <td>5</td>\n",
       "      <td>M</td>\n",
       "      <td>28007</td>\n",
       "      <td>28007</td>\n",
       "      <td>es_transportation</td>\n",
       "      <td>41.09</td>\n",
       "      <td>0</td>\n",
       "      <td>2023-05-06 19:47:22.366798396</td>\n",
       "      <td>C1000148617</td>\n",
       "      <td>M1823072687</td>\n",
       "      <td>ec3261cb469045fb8cb103c4f4604e6f</td>\n",
       "    </tr>\n",
       "  </tbody>\n",
       "</table>\n",
       "</div>"
      ],
      "text/plain": [
       "        step age gender  zipcodeOri  zipMerchant           category  amount  \\\n",
       "333175   108   5      M       28007        28007  es_transportation   23.58   \n",
       "164897    57   5      M       28007        28007  es_transportation   38.93   \n",
       "211976    72   5      M       28007        28007  es_transportation   41.09   \n",
       "\n",
       "        fraud                     timestamp       source       target  \\\n",
       "333175      0 2023-05-06 13:54:05.078692000  C1000148617  M1823072687   \n",
       "164897      0 2023-05-06 14:27:28.316637817  C1000148617  M1823072687   \n",
       "211976      0 2023-05-06 19:47:22.366798396  C1000148617  M1823072687   \n",
       "\n",
       "                                  device  \n",
       "333175  2f13bbd87b9f42f98f5f3fce05890c82  \n",
       "164897  2f13bbd87b9f42f98f5f3fce05890c82  \n",
       "211976  ec3261cb469045fb8cb103c4f4604e6f  "
      ]
     },
     "execution_count": 5,
     "metadata": {},
     "output_type": "execute_result"
    }
   ],
   "source": [
    "import pandas as pd\n",
    "\n",
    "# Fetch the transactions dataset from the server\n",
    "transactions_data = pd.read_csv('https://s3.wasabisys.com/iguazio/data/fraud-demo-mlrun-fs-docs/data.csv', parse_dates=['timestamp'])\n",
    "\n",
    "# use only first 10k\n",
    "transactions_data = transactions_data.sort_values(by='source', axis=0)[:10]\n",
    "\n",
    "# Adjust the samples timestamp for the past 2 days\n",
    "transactions_data = adjust_data_timespan(transactions_data, new_period='2d')\n",
    "\n",
    "# Sorting after adjusting timestamps\n",
    "transactions_data = transactions_data.sort_values(by='timestamp', axis=0)\n",
    "\n",
    "# Preview\n",
    "transactions_data.head(3)"
   ]
  },
  {
   "cell_type": "markdown",
   "metadata": {},
   "source": [
    "### Transactions - create a feature set and preprocessing pipeline\n",
    "Create the feature set (data pipeline) definition for the **credit transaction processing** that describes the \n",
    "offline/online data transformations and aggregations.<br>\n",
    "The feature store automatically adds an offline `parquet` target and an online `NoSQL` target by using `set_targets()`.\n",
    "\n",
    "The data pipeline consists of:\n",
    "\n",
    "* **Extracting** the data components (hour, day of week)\n",
    "* **Mapping** the age values\n",
    "* **One hot encoding** for the transaction category and the gender\n",
    "* **Aggregating** the amount (avg, sum, count, max over 2/12/24 hour time windows)\n",
    "* **Aggregating** the transactions per category (over 14 days time windows)\n",
    "* **Writing** the results to **offline** (Parquet) and **online** (NoSQL) targets "
   ]
  },
  {
   "cell_type": "code",
   "execution_count": 6,
   "metadata": {},
   "outputs": [],
   "source": [
    "# Import MLRun's Feature Store\n",
    "import mlrun.feature_store as fstore\n",
    "from mlrun.feature_store.steps import OneHotEncoder, MapValues, DateExtractor"
   ]
  },
  {
   "cell_type": "code",
   "execution_count": 7,
   "metadata": {},
   "outputs": [],
   "source": [
    "# Define the transactions FeatureSet\n",
    "transaction_set = fstore.FeatureSet(\"transactions\", \n",
    "                                 entities=[fstore.Entity(\"source\")], \n",
    "                                 timestamp_key='timestamp', \n",
    "                                 description=\"transactions feature set\")"
   ]
  },
  {
   "cell_type": "code",
   "execution_count": 8,
   "metadata": {},
   "outputs": [
    {
     "data": {
      "image/svg+xml": [
       "<?xml version=\"1.0\" encoding=\"UTF-8\" standalone=\"no\"?>\n",
       "<!DOCTYPE svg PUBLIC \"-//W3C//DTD SVG 1.1//EN\"\n",
       " \"http://www.w3.org/Graphics/SVG/1.1/DTD/svg11.dtd\">\n",
       "<!-- Generated by graphviz version 2.40.1 (20161225.0304)\n",
       " -->\n",
       "<!-- Title: mlrun&#45;flow Pages: 1 -->\n",
       "<svg width=\"802pt\" height=\"44pt\"\n",
       " viewBox=\"0.00 0.00 802.35 44.00\" xmlns=\"http://www.w3.org/2000/svg\" xmlns:xlink=\"http://www.w3.org/1999/xlink\">\n",
       "<g id=\"graph0\" class=\"graph\" transform=\"scale(1 1) rotate(0) translate(4 40)\">\n",
       "<title>mlrun&#45;flow</title>\n",
       "<polygon fill=\"#ffffff\" stroke=\"transparent\" points=\"-4,4 -4,-40 798.3476,-40 798.3476,4 -4,4\"/>\n",
       "<!-- _start -->\n",
       "<g id=\"node1\" class=\"node\">\n",
       "<title>_start</title>\n",
       "<polygon fill=\"#d3d3d3\" stroke=\"#000000\" points=\"38.5476,-.0493 40.698,-.1479 42.8263,-.2953 44.9236,-.4913 46.9815,-.7353 48.9917,-1.0266 50.9463,-1.3645 52.8377,-1.7479 54.6587,-2.1759 56.4025,-2.6472 58.0628,-3.1606 59.634,-3.7147 61.1107,-4.308 62.4882,-4.9388 63.7625,-5.6054 64.9302,-6.3059 65.9882,-7.0385 66.9343,-7.8012 67.7669,-8.5918 68.4849,-9.4082 69.0878,-10.2481 69.5758,-11.1093 69.9496,-11.9894 70.2102,-12.886 70.3595,-13.7965 70.3997,-14.7186 70.3334,-15.6497 70.1636,-16.5873 69.8937,-17.5287 69.5276,-18.4713 69.0691,-19.4127 68.5225,-20.3503 67.8923,-21.2814 67.1831,-22.2035 66.3996,-23.114 65.5464,-24.0106 64.6285,-24.8907 63.6504,-25.7519 62.617,-26.5918 61.5329,-27.4082 60.4024,-28.1988 59.2299,-28.9615 58.0197,-29.6941 56.7755,-30.3946 55.5012,-31.0612 54.2002,-31.692 52.8757,-32.2853 51.5309,-32.8394 50.1684,-33.3528 48.7908,-33.8241 47.4003,-34.2521 45.9989,-34.6355 44.5886,-34.9734 43.1708,-35.2647 41.7472,-35.5087 40.3189,-35.7047 38.8872,-35.8521 37.4531,-35.9507 36.0175,-36 34.5815,-36 33.146,-35.9507 31.7119,-35.8521 30.2801,-35.7047 28.8519,-35.5087 27.4282,-35.2647 26.0105,-34.9734 24.6001,-34.6355 23.1988,-34.2521 21.8083,-33.8241 20.4306,-33.3528 19.0681,-32.8394 17.7233,-32.2853 16.3989,-31.692 15.0979,-31.0612 13.8236,-30.3946 12.5794,-29.6941 11.3691,-28.9615 10.1967,-28.1988 9.0662,-27.4082 7.982,-26.5918 6.9486,-25.7519 5.9706,-24.8907 5.0526,-24.0106 4.1995,-23.114 3.4159,-22.2035 2.7067,-21.2814 2.0765,-20.3503 1.53,-19.4127 1.0715,-18.4713 .7053,-17.5287 .4355,-16.5873 .2657,-15.6497 .1993,-14.7186 .2395,-13.7965 .3888,-12.886 .6495,-11.9894 1.0232,-11.1093 1.5112,-10.2481 2.1141,-9.4082 2.8321,-8.5918 3.6647,-7.8012 4.6109,-7.0385 5.6689,-6.3059 6.8365,-5.6054 8.1108,-4.9388 9.4884,-4.308 10.9651,-3.7147 12.5362,-3.1606 14.1966,-2.6472 15.9404,-2.1759 17.7614,-1.7479 19.6528,-1.3645 21.6074,-1.0266 23.6176,-.7353 25.6755,-.4913 27.7728,-.2953 29.901,-.1479 32.0515,-.0493 34.2154,0 36.3837,0 38.5476,-.0493\"/>\n",
       "<text text-anchor=\"middle\" x=\"35.2995\" y=\"-14.3\" font-family=\"Times,serif\" font-size=\"14.00\" fill=\"#000000\">start</text>\n",
       "</g>\n",
       "<!-- DateExtractor -->\n",
       "<g id=\"node2\" class=\"node\">\n",
       "<title>DateExtractor</title>\n",
       "<ellipse fill=\"none\" stroke=\"#000000\" cx=\"183.9422\" cy=\"-18\" rx=\"77.1866\" ry=\"18\"/>\n",
       "<text text-anchor=\"middle\" x=\"183.9422\" y=\"-14.3\" font-family=\"Times,serif\" font-size=\"14.00\" fill=\"#000000\">DateExtractor</text>\n",
       "</g>\n",
       "<!-- _start&#45;&gt;DateExtractor -->\n",
       "<g id=\"edge1\" class=\"edge\">\n",
       "<title>_start&#45;&gt;DateExtractor</title>\n",
       "<path fill=\"none\" stroke=\"#000000\" d=\"M69.7748,-18C77.8994,-18 86.9261,-18 96.2428,-18\"/>\n",
       "<polygon fill=\"#000000\" stroke=\"#000000\" points=\"96.4373,-21.5001 106.4373,-18 96.4373,-14.5001 96.4373,-21.5001\"/>\n",
       "</g>\n",
       "<!-- MapValues -->\n",
       "<g id=\"node3\" class=\"node\">\n",
       "<title>MapValues</title>\n",
       "<ellipse fill=\"none\" stroke=\"#000000\" cx=\"359.0298\" cy=\"-18\" rx=\"61.99\" ry=\"18\"/>\n",
       "<text text-anchor=\"middle\" x=\"359.0298\" y=\"-14.3\" font-family=\"Times,serif\" font-size=\"14.00\" fill=\"#000000\">MapValues</text>\n",
       "</g>\n",
       "<!-- DateExtractor&#45;&gt;MapValues -->\n",
       "<g id=\"edge2\" class=\"edge\">\n",
       "<title>DateExtractor&#45;&gt;MapValues</title>\n",
       "<path fill=\"none\" stroke=\"#000000\" d=\"M261.5028,-18C269.9567,-18 278.5363,-18 286.9209,-18\"/>\n",
       "<polygon fill=\"#000000\" stroke=\"#000000\" points=\"287.0301,-21.5001 297.03,-18 287.03,-14.5001 287.0301,-21.5001\"/>\n",
       "</g>\n",
       "<!-- OneHotEncoder -->\n",
       "<g id=\"node4\" class=\"node\">\n",
       "<title>OneHotEncoder</title>\n",
       "<ellipse fill=\"none\" stroke=\"#000000\" cx=\"543.2167\" cy=\"-18\" rx=\"86.3847\" ry=\"18\"/>\n",
       "<text text-anchor=\"middle\" x=\"543.2167\" y=\"-14.3\" font-family=\"Times,serif\" font-size=\"14.00\" fill=\"#000000\">OneHotEncoder</text>\n",
       "</g>\n",
       "<!-- MapValues&#45;&gt;OneHotEncoder -->\n",
       "<g id=\"edge3\" class=\"edge\">\n",
       "<title>MapValues&#45;&gt;OneHotEncoder</title>\n",
       "<path fill=\"none\" stroke=\"#000000\" d=\"M420.8738,-18C429.1365,-18 437.7646,-18 446.4483,-18\"/>\n",
       "<polygon fill=\"#000000\" stroke=\"#000000\" points=\"446.6492,-21.5001 456.6492,-18 446.6492,-14.5001 446.6492,-21.5001\"/>\n",
       "</g>\n",
       "<!-- Aggregates -->\n",
       "<g id=\"node5\" class=\"node\">\n",
       "<title>Aggregates</title>\n",
       "<ellipse fill=\"none\" stroke=\"#000000\" cx=\"730.0033\" cy=\"-18\" rx=\"64.189\" ry=\"18\"/>\n",
       "<text text-anchor=\"middle\" x=\"730.0033\" y=\"-14.3\" font-family=\"Times,serif\" font-size=\"14.00\" fill=\"#000000\">Aggregates</text>\n",
       "</g>\n",
       "<!-- OneHotEncoder&#45;&gt;Aggregates -->\n",
       "<g id=\"edge4\" class=\"edge\">\n",
       "<title>OneHotEncoder&#45;&gt;Aggregates</title>\n",
       "<path fill=\"none\" stroke=\"#000000\" d=\"M629.7751,-18C638.3235,-18 646.9487,-18 655.3621,-18\"/>\n",
       "<polygon fill=\"#000000\" stroke=\"#000000\" points=\"655.5003,-21.5001 665.5003,-18 655.5002,-14.5001 655.5003,-21.5001\"/>\n",
       "</g>\n",
       "</g>\n",
       "</svg>\n"
      ],
      "text/plain": [
       "<graphviz.graphs.Digraph at 0x7fc78da86250>"
      ]
     },
     "execution_count": 8,
     "metadata": {},
     "output_type": "execute_result"
    }
   ],
   "source": [
    "# Define and add value mapping\n",
    "main_categories = [\"es_transportation\", \"es_health\", \"es_otherservices\",\n",
    "       \"es_food\", \"es_hotelservices\", \"es_barsandrestaurants\",\n",
    "       \"es_tech\", \"es_sportsandtoys\", \"es_wellnessandbeauty\",\n",
    "       \"es_hyper\", \"es_fashion\", \"es_home\", \"es_contents\",\n",
    "       \"es_travel\", \"es_leisure\"]\n",
    "\n",
    "# One Hot Encode the newly defined mappings\n",
    "one_hot_encoder_mapping = {'category': main_categories,\n",
    "                           'gender': list(transactions_data.gender.unique())}\n",
    "\n",
    "# Define the graph steps\n",
    "transaction_set.graph\\\n",
    "    .to(DateExtractor(parts = ['hour', 'day_of_week'], timestamp_col = 'timestamp'))\\\n",
    "    .to(MapValues(mapping={'age': {'U': '0'}}, with_original_features=True))\\\n",
    "    .to(OneHotEncoder(mapping=one_hot_encoder_mapping))\n",
    "\n",
    "\n",
    "# Add aggregations for 2, 12, and 24 hour time windows\n",
    "transaction_set.add_aggregation(name='amount',\n",
    "                                column='amount',\n",
    "                                operations=['avg','sum', 'count','max'],\n",
    "                                windows=['2h', '12h', '24h'],\n",
    "                                period='1h')\n",
    "\n",
    "\n",
    "# Add the category aggregations over a 14 day window\n",
    "for category in main_categories:\n",
    "    transaction_set.add_aggregation(name=category,column=f'category_{category}',\n",
    "                                    operations=['sum'], windows=['14d'], period='1d')\n",
    "\n",
    "#help function for setting targets by environment (v3io key value for iguazio platform / redis for community edition)\n",
    "from environment import set_feature_set_targets_by_environment\n",
    "\n",
    "# Add default (offline-parquet & online-nosql) targets\n",
    "set_feature_set_targets_by_environment(transaction_set)\n",
    "\n",
    "# Plot the pipeline so you can see the different steps\n",
    "transaction_set.plot(rankdir=\"LR\", with_targets=False)"
   ]
  },
  {
   "cell_type": "markdown",
   "metadata": {},
   "source": [
    "### Transactions - ingestion"
   ]
  },
  {
   "cell_type": "code",
   "execution_count": 9,
   "metadata": {},
   "outputs": [
    {
     "data": {
      "text/html": [
       "<div>\n",
       "<style scoped>\n",
       "    .dataframe tbody tr th:only-of-type {\n",
       "        vertical-align: middle;\n",
       "    }\n",
       "\n",
       "    .dataframe tbody tr th {\n",
       "        vertical-align: top;\n",
       "    }\n",
       "\n",
       "    .dataframe thead th {\n",
       "        text-align: right;\n",
       "    }\n",
       "</style>\n",
       "<table border=\"1\" class=\"dataframe\">\n",
       "  <thead>\n",
       "    <tr style=\"text-align: right;\">\n",
       "      <th></th>\n",
       "      <th>amount_sum_2h</th>\n",
       "      <th>amount_sum_12h</th>\n",
       "      <th>amount_sum_24h</th>\n",
       "      <th>amount_count_2h</th>\n",
       "      <th>amount_count_12h</th>\n",
       "      <th>amount_count_24h</th>\n",
       "      <th>amount_max_2h</th>\n",
       "      <th>amount_max_12h</th>\n",
       "      <th>amount_max_24h</th>\n",
       "      <th>amount_avg_2h</th>\n",
       "      <th>...</th>\n",
       "      <th>category_es_contents</th>\n",
       "      <th>category_es_travel</th>\n",
       "      <th>category_es_leisure</th>\n",
       "      <th>amount</th>\n",
       "      <th>fraud</th>\n",
       "      <th>timestamp</th>\n",
       "      <th>target</th>\n",
       "      <th>device</th>\n",
       "      <th>timestamp_hour</th>\n",
       "      <th>timestamp_day_of_week</th>\n",
       "    </tr>\n",
       "    <tr>\n",
       "      <th>source</th>\n",
       "      <th></th>\n",
       "      <th></th>\n",
       "      <th></th>\n",
       "      <th></th>\n",
       "      <th></th>\n",
       "      <th></th>\n",
       "      <th></th>\n",
       "      <th></th>\n",
       "      <th></th>\n",
       "      <th></th>\n",
       "      <th></th>\n",
       "      <th></th>\n",
       "      <th></th>\n",
       "      <th></th>\n",
       "      <th></th>\n",
       "      <th></th>\n",
       "      <th></th>\n",
       "      <th></th>\n",
       "      <th></th>\n",
       "      <th></th>\n",
       "      <th></th>\n",
       "    </tr>\n",
       "  </thead>\n",
       "  <tbody>\n",
       "    <tr>\n",
       "      <th>C1000148617</th>\n",
       "      <td>23.58</td>\n",
       "      <td>23.58</td>\n",
       "      <td>23.58</td>\n",
       "      <td>1.0</td>\n",
       "      <td>1.0</td>\n",
       "      <td>1.0</td>\n",
       "      <td>23.58</td>\n",
       "      <td>23.58</td>\n",
       "      <td>23.58</td>\n",
       "      <td>23.580</td>\n",
       "      <td>...</td>\n",
       "      <td>0</td>\n",
       "      <td>0</td>\n",
       "      <td>0</td>\n",
       "      <td>23.58</td>\n",
       "      <td>0</td>\n",
       "      <td>2023-05-06 13:54:05.078692000</td>\n",
       "      <td>M1823072687</td>\n",
       "      <td>2f13bbd87b9f42f98f5f3fce05890c82</td>\n",
       "      <td>13</td>\n",
       "      <td>5</td>\n",
       "    </tr>\n",
       "    <tr>\n",
       "      <th>C1000148617</th>\n",
       "      <td>62.51</td>\n",
       "      <td>62.51</td>\n",
       "      <td>62.51</td>\n",
       "      <td>2.0</td>\n",
       "      <td>2.0</td>\n",
       "      <td>2.0</td>\n",
       "      <td>38.93</td>\n",
       "      <td>38.93</td>\n",
       "      <td>38.93</td>\n",
       "      <td>31.255</td>\n",
       "      <td>...</td>\n",
       "      <td>0</td>\n",
       "      <td>0</td>\n",
       "      <td>0</td>\n",
       "      <td>38.93</td>\n",
       "      <td>0</td>\n",
       "      <td>2023-05-06 14:27:28.316637817</td>\n",
       "      <td>M1823072687</td>\n",
       "      <td>2f13bbd87b9f42f98f5f3fce05890c82</td>\n",
       "      <td>14</td>\n",
       "      <td>5</td>\n",
       "    </tr>\n",
       "    <tr>\n",
       "      <th>C1000148617</th>\n",
       "      <td>41.09</td>\n",
       "      <td>103.60</td>\n",
       "      <td>103.60</td>\n",
       "      <td>1.0</td>\n",
       "      <td>3.0</td>\n",
       "      <td>3.0</td>\n",
       "      <td>41.09</td>\n",
       "      <td>41.09</td>\n",
       "      <td>41.09</td>\n",
       "      <td>41.090</td>\n",
       "      <td>...</td>\n",
       "      <td>0</td>\n",
       "      <td>0</td>\n",
       "      <td>0</td>\n",
       "      <td>41.09</td>\n",
       "      <td>0</td>\n",
       "      <td>2023-05-06 19:47:22.366798396</td>\n",
       "      <td>M1823072687</td>\n",
       "      <td>ec3261cb469045fb8cb103c4f4604e6f</td>\n",
       "      <td>19</td>\n",
       "      <td>5</td>\n",
       "    </tr>\n",
       "  </tbody>\n",
       "</table>\n",
       "<p>3 rows × 55 columns</p>\n",
       "</div>"
      ],
      "text/plain": [
       "             amount_sum_2h  amount_sum_12h  amount_sum_24h  amount_count_2h  \\\n",
       "source                                                                        \n",
       "C1000148617          23.58           23.58           23.58              1.0   \n",
       "C1000148617          62.51           62.51           62.51              2.0   \n",
       "C1000148617          41.09          103.60          103.60              1.0   \n",
       "\n",
       "             amount_count_12h  amount_count_24h  amount_max_2h  \\\n",
       "source                                                           \n",
       "C1000148617               1.0               1.0          23.58   \n",
       "C1000148617               2.0               2.0          38.93   \n",
       "C1000148617               3.0               3.0          41.09   \n",
       "\n",
       "             amount_max_12h  amount_max_24h  amount_avg_2h  ...  \\\n",
       "source                                                      ...   \n",
       "C1000148617           23.58           23.58         23.580  ...   \n",
       "C1000148617           38.93           38.93         31.255  ...   \n",
       "C1000148617           41.09           41.09         41.090  ...   \n",
       "\n",
       "             category_es_contents  category_es_travel  category_es_leisure  \\\n",
       "source                                                                       \n",
       "C1000148617                     0                   0                    0   \n",
       "C1000148617                     0                   0                    0   \n",
       "C1000148617                     0                   0                    0   \n",
       "\n",
       "             amount  fraud                     timestamp       target  \\\n",
       "source                                                                  \n",
       "C1000148617   23.58      0 2023-05-06 13:54:05.078692000  M1823072687   \n",
       "C1000148617   38.93      0 2023-05-06 14:27:28.316637817  M1823072687   \n",
       "C1000148617   41.09      0 2023-05-06 19:47:22.366798396  M1823072687   \n",
       "\n",
       "                                       device  timestamp_hour  \\\n",
       "source                                                          \n",
       "C1000148617  2f13bbd87b9f42f98f5f3fce05890c82              13   \n",
       "C1000148617  2f13bbd87b9f42f98f5f3fce05890c82              14   \n",
       "C1000148617  ec3261cb469045fb8cb103c4f4604e6f              19   \n",
       "\n",
       "             timestamp_day_of_week  \n",
       "source                              \n",
       "C1000148617                      5  \n",
       "C1000148617                      5  \n",
       "C1000148617                      5  \n",
       "\n",
       "[3 rows x 55 columns]"
      ]
     },
     "execution_count": 9,
     "metadata": {},
     "output_type": "execute_result"
    }
   ],
   "source": [
    "# Ingest your transactions dataset through your defined pipeline\n",
    "transactions_df = fstore.ingest(transaction_set, transactions_data, \n",
    "                 infer_options=fstore.InferOptions.default())\n",
    "\n",
    "transactions_df.head(3)"
   ]
  },
  {
   "cell_type": "markdown",
   "metadata": {},
   "source": [
    "After performing the ingestion process, you can see all of the different features that were created with the help of the UI, asshown in the image below."
   ]
  },
  {
   "cell_type": "markdown",
   "metadata": {
    "pycharm": {
     "name": "#%% md\n"
    },
    "tags": []
   },
   "source": [
    "![Features Catalog - fraud prevention](images/features-catalog-transaction.png)"
   ]
  },
  {
   "cell_type": "markdown",
   "metadata": {},
   "source": [
    "## 1.2 - User events"
   ]
  },
  {
   "cell_type": "markdown",
   "metadata": {},
   "source": [
    "### User events - fetching"
   ]
  },
  {
   "cell_type": "code",
   "execution_count": 10,
   "metadata": {},
   "outputs": [
    {
     "data": {
      "text/html": [
       "<div>\n",
       "<style scoped>\n",
       "    .dataframe tbody tr th:only-of-type {\n",
       "        vertical-align: middle;\n",
       "    }\n",
       "\n",
       "    .dataframe tbody tr th {\n",
       "        vertical-align: top;\n",
       "    }\n",
       "\n",
       "    .dataframe thead th {\n",
       "        text-align: right;\n",
       "    }\n",
       "</style>\n",
       "<table border=\"1\" class=\"dataframe\">\n",
       "  <thead>\n",
       "    <tr style=\"text-align: right;\">\n",
       "      <th></th>\n",
       "      <th>source</th>\n",
       "      <th>event</th>\n",
       "      <th>timestamp</th>\n",
       "    </tr>\n",
       "  </thead>\n",
       "  <tbody>\n",
       "    <tr>\n",
       "      <th>0</th>\n",
       "      <td>C1974668487</td>\n",
       "      <td>details_change</td>\n",
       "      <td>2023-05-07 23:01:18.384769086</td>\n",
       "    </tr>\n",
       "    <tr>\n",
       "      <th>1</th>\n",
       "      <td>C1973547259</td>\n",
       "      <td>login</td>\n",
       "      <td>2023-05-08 02:02:52.641909508</td>\n",
       "    </tr>\n",
       "    <tr>\n",
       "      <th>2</th>\n",
       "      <td>C515668508</td>\n",
       "      <td>login</td>\n",
       "      <td>2023-05-07 22:35:58.923086302</td>\n",
       "    </tr>\n",
       "  </tbody>\n",
       "</table>\n",
       "</div>"
      ],
      "text/plain": [
       "        source           event                     timestamp\n",
       "0  C1974668487  details_change 2023-05-07 23:01:18.384769086\n",
       "1  C1973547259           login 2023-05-08 02:02:52.641909508\n",
       "2   C515668508           login 2023-05-07 22:35:58.923086302"
      ]
     },
     "execution_count": 10,
     "metadata": {},
     "output_type": "execute_result"
    }
   ],
   "source": [
    "# Fetch the user_events dataset from the server\n",
    "user_events_data = pd.read_csv('https://s3.wasabisys.com/iguazio/data/fraud-demo-mlrun-fs-docs/events.csv', \n",
    "                               index_col=0, quotechar=\"\\'\", parse_dates=['timestamp'])\n",
    "\n",
    "# Adjust to the last 2 days to see the latest aggregations in the online feature vectors\n",
    "user_events_data = adjust_data_timespan(user_events_data, new_period='2d')\n",
    "\n",
    "# Preview\n",
    "user_events_data.head(3)"
   ]
  },
  {
   "cell_type": "markdown",
   "metadata": {},
   "source": [
    "### User events - create a feature set and preprocessing pipeline\n",
    "\n",
    "Now define the events feature set.\n",
    "This is a pretty straightforward pipeline in which you only \"one hot encode\" the event categories and save the data to the default targets."
   ]
  },
  {
   "cell_type": "code",
   "execution_count": 11,
   "metadata": {},
   "outputs": [],
   "source": [
    "user_events_set = fstore.FeatureSet(\"events\",\n",
    "                           entities=[fstore.Entity(\"source\")],\n",
    "                           timestamp_key='timestamp', \n",
    "                           description=\"user events feature set\")"
   ]
  },
  {
   "cell_type": "code",
   "execution_count": 12,
   "metadata": {},
   "outputs": [
    {
     "data": {
      "image/svg+xml": [
       "<?xml version=\"1.0\" encoding=\"UTF-8\" standalone=\"no\"?>\n",
       "<!DOCTYPE svg PUBLIC \"-//W3C//DTD SVG 1.1//EN\"\n",
       " \"http://www.w3.org/Graphics/SVG/1.1/DTD/svg11.dtd\">\n",
       "<!-- Generated by graphviz version 2.40.1 (20161225.0304)\n",
       " -->\n",
       "<!-- Title: mlrun&#45;flow Pages: 1 -->\n",
       "<svg width=\"396pt\" height=\"98pt\"\n",
       " viewBox=\"0.00 0.00 396.48 98.00\" xmlns=\"http://www.w3.org/2000/svg\" xmlns:xlink=\"http://www.w3.org/1999/xlink\">\n",
       "<g id=\"graph0\" class=\"graph\" transform=\"scale(1 1) rotate(0) translate(4 94)\">\n",
       "<title>mlrun&#45;flow</title>\n",
       "<polygon fill=\"#ffffff\" stroke=\"transparent\" points=\"-4,4 -4,-94 392.4837,-94 392.4837,4 -4,4\"/>\n",
       "<!-- _start -->\n",
       "<g id=\"node1\" class=\"node\">\n",
       "<title>_start</title>\n",
       "<polygon fill=\"#d3d3d3\" stroke=\"#000000\" points=\"38.5476,-27.0493 40.698,-27.1479 42.8263,-27.2953 44.9236,-27.4913 46.9815,-27.7353 48.9917,-28.0266 50.9463,-28.3645 52.8377,-28.7479 54.6587,-29.1759 56.4025,-29.6472 58.0628,-30.1606 59.634,-30.7147 61.1107,-31.308 62.4882,-31.9388 63.7625,-32.6054 64.9302,-33.3059 65.9882,-34.0385 66.9343,-34.8012 67.7669,-35.5918 68.4849,-36.4082 69.0878,-37.2481 69.5758,-38.1093 69.9496,-38.9894 70.2102,-39.886 70.3595,-40.7965 70.3997,-41.7186 70.3334,-42.6497 70.1636,-43.5873 69.8937,-44.5287 69.5276,-45.4713 69.0691,-46.4127 68.5225,-47.3503 67.8923,-48.2814 67.1831,-49.2035 66.3996,-50.114 65.5464,-51.0106 64.6285,-51.8907 63.6504,-52.7519 62.617,-53.5918 61.5329,-54.4082 60.4024,-55.1988 59.2299,-55.9615 58.0197,-56.6941 56.7755,-57.3946 55.5012,-58.0612 54.2002,-58.692 52.8757,-59.2853 51.5309,-59.8394 50.1684,-60.3528 48.7908,-60.8241 47.4003,-61.2521 45.9989,-61.6355 44.5886,-61.9734 43.1708,-62.2647 41.7472,-62.5087 40.3189,-62.7047 38.8872,-62.8521 37.4531,-62.9507 36.0175,-63 34.5815,-63 33.146,-62.9507 31.7119,-62.8521 30.2801,-62.7047 28.8519,-62.5087 27.4282,-62.2647 26.0105,-61.9734 24.6001,-61.6355 23.1988,-61.2521 21.8083,-60.8241 20.4306,-60.3528 19.0681,-59.8394 17.7233,-59.2853 16.3989,-58.692 15.0979,-58.0612 13.8236,-57.3946 12.5794,-56.6941 11.3691,-55.9615 10.1967,-55.1988 9.0662,-54.4082 7.982,-53.5918 6.9486,-52.7519 5.9706,-51.8907 5.0526,-51.0106 4.1995,-50.114 3.4159,-49.2035 2.7067,-48.2814 2.0765,-47.3503 1.53,-46.4127 1.0715,-45.4713 .7053,-44.5287 .4355,-43.5873 .2657,-42.6497 .1993,-41.7186 .2395,-40.7965 .3888,-39.886 .6495,-38.9894 1.0232,-38.1093 1.5112,-37.2481 2.1141,-36.4082 2.8321,-35.5918 3.6647,-34.8012 4.6109,-34.0385 5.6689,-33.3059 6.8365,-32.6054 8.1108,-31.9388 9.4884,-31.308 10.9651,-30.7147 12.5362,-30.1606 14.1966,-29.6472 15.9404,-29.1759 17.7614,-28.7479 19.6528,-28.3645 21.6074,-28.0266 23.6176,-27.7353 25.6755,-27.4913 27.7728,-27.2953 29.901,-27.1479 32.0515,-27.0493 34.2154,-27 36.3837,-27 38.5476,-27.0493\"/>\n",
       "<text text-anchor=\"middle\" x=\"35.2995\" y=\"-41.3\" font-family=\"Times,serif\" font-size=\"14.00\" fill=\"#000000\">start</text>\n",
       "</g>\n",
       "<!-- OneHotEncoder -->\n",
       "<g id=\"node2\" class=\"node\">\n",
       "<title>OneHotEncoder</title>\n",
       "<ellipse fill=\"none\" stroke=\"#000000\" cx=\"193.0414\" cy=\"-45\" rx=\"86.3847\" ry=\"18\"/>\n",
       "<text text-anchor=\"middle\" x=\"193.0414\" y=\"-41.3\" font-family=\"Times,serif\" font-size=\"14.00\" fill=\"#000000\">OneHotEncoder</text>\n",
       "</g>\n",
       "<!-- _start&#45;&gt;OneHotEncoder -->\n",
       "<g id=\"edge1\" class=\"edge\">\n",
       "<title>_start&#45;&gt;OneHotEncoder</title>\n",
       "<path fill=\"none\" stroke=\"#000000\" d=\"M69.9166,-45C77.9754,-45 86.9455,-45 96.268,-45\"/>\n",
       "<polygon fill=\"#000000\" stroke=\"#000000\" points=\"96.4956,-48.5001 106.4956,-45 96.4955,-41.5001 96.4956,-48.5001\"/>\n",
       "</g>\n",
       "<!-- parquet/parquet -->\n",
       "<g id=\"node3\" class=\"node\">\n",
       "<title>parquet/parquet</title>\n",
       "<path fill=\"none\" stroke=\"#000000\" d=\"M388.4837,-86.7273C388.4837,-88.5331 372.1238,-90 351.9837,-90 331.8436,-90 315.4837,-88.5331 315.4837,-86.7273 315.4837,-86.7273 315.4837,-57.2727 315.4837,-57.2727 315.4837,-55.4669 331.8436,-54 351.9837,-54 372.1238,-54 388.4837,-55.4669 388.4837,-57.2727 388.4837,-57.2727 388.4837,-86.7273 388.4837,-86.7273\"/>\n",
       "<path fill=\"none\" stroke=\"#000000\" d=\"M388.4837,-86.7273C388.4837,-84.9214 372.1238,-83.4545 351.9837,-83.4545 331.8436,-83.4545 315.4837,-84.9214 315.4837,-86.7273\"/>\n",
       "<text text-anchor=\"middle\" x=\"351.9837\" y=\"-68.3\" font-family=\"Times,serif\" font-size=\"14.00\" fill=\"#000000\">parquet</text>\n",
       "</g>\n",
       "<!-- OneHotEncoder&#45;&gt;parquet/parquet -->\n",
       "<g id=\"edge2\" class=\"edge\">\n",
       "<title>OneHotEncoder&#45;&gt;parquet/parquet</title>\n",
       "<path fill=\"none\" stroke=\"#000000\" d=\"M260.4472,-56.4504C275.5618,-59.018 291.2725,-61.6868 305.3234,-64.0737\"/>\n",
       "<polygon fill=\"#000000\" stroke=\"#000000\" points=\"304.7841,-67.5321 315.229,-65.7564 305.9564,-60.631 304.7841,-67.5321\"/>\n",
       "</g>\n",
       "<!-- nosql/nosql -->\n",
       "<g id=\"node4\" class=\"node\">\n",
       "<title>nosql/nosql</title>\n",
       "<path fill=\"none\" stroke=\"#000000\" d=\"M379.4837,-32.7273C379.4837,-34.5331 367.1578,-36 351.9837,-36 336.8097,-36 324.4837,-34.5331 324.4837,-32.7273 324.4837,-32.7273 324.4837,-3.2727 324.4837,-3.2727 324.4837,-1.4669 336.8097,0 351.9837,0 367.1578,0 379.4837,-1.4669 379.4837,-3.2727 379.4837,-3.2727 379.4837,-32.7273 379.4837,-32.7273\"/>\n",
       "<path fill=\"none\" stroke=\"#000000\" d=\"M379.4837,-32.7273C379.4837,-30.9214 367.1578,-29.4545 351.9837,-29.4545 336.8097,-29.4545 324.4837,-30.9214 324.4837,-32.7273\"/>\n",
       "<text text-anchor=\"middle\" x=\"351.9837\" y=\"-14.3\" font-family=\"Times,serif\" font-size=\"14.00\" fill=\"#000000\">nosql</text>\n",
       "</g>\n",
       "<!-- OneHotEncoder&#45;&gt;nosql/nosql -->\n",
       "<g id=\"edge3\" class=\"edge\">\n",
       "<title>OneHotEncoder&#45;&gt;nosql/nosql</title>\n",
       "<path fill=\"none\" stroke=\"#000000\" d=\"M260.4472,-33.5496C278.9092,-30.4134 298.2605,-27.1261 314.39,-24.3862\"/>\n",
       "<polygon fill=\"#000000\" stroke=\"#000000\" points=\"315.2098,-27.7971 324.4824,-22.6717 314.0374,-20.896 315.2098,-27.7971\"/>\n",
       "</g>\n",
       "</g>\n",
       "</svg>\n"
      ],
      "text/plain": [
       "<graphviz.graphs.Digraph at 0x7fc7a1e326d0>"
      ]
     },
     "execution_count": 12,
     "metadata": {},
     "output_type": "execute_result"
    }
   ],
   "source": [
    "# Define and add value mapping\n",
    "events_mapping = {'event': list(user_events_data.event.unique())}\n",
    "\n",
    "# One Hot Encode\n",
    "user_events_set.graph.to(OneHotEncoder(mapping=events_mapping))\n",
    "\n",
    "# Add default (offline-parquet & online-nosql) targets\n",
    "user_events_set.set_targets()\n",
    "\n",
    "# Plot the pipeline so you can see the different steps\n",
    "user_events_set.plot(rankdir=\"LR\", with_targets=True)"
   ]
  },
  {
   "cell_type": "markdown",
   "metadata": {},
   "source": [
    "### User Events - Ingestion"
   ]
  },
  {
   "cell_type": "code",
   "execution_count": 13,
   "metadata": {},
   "outputs": [
    {
     "data": {
      "text/html": [
       "<div>\n",
       "<style scoped>\n",
       "    .dataframe tbody tr th:only-of-type {\n",
       "        vertical-align: middle;\n",
       "    }\n",
       "\n",
       "    .dataframe tbody tr th {\n",
       "        vertical-align: top;\n",
       "    }\n",
       "\n",
       "    .dataframe thead th {\n",
       "        text-align: right;\n",
       "    }\n",
       "</style>\n",
       "<table border=\"1\" class=\"dataframe\">\n",
       "  <thead>\n",
       "    <tr style=\"text-align: right;\">\n",
       "      <th></th>\n",
       "      <th>event_details_change</th>\n",
       "      <th>event_login</th>\n",
       "      <th>event_password_change</th>\n",
       "      <th>timestamp</th>\n",
       "    </tr>\n",
       "    <tr>\n",
       "      <th>source</th>\n",
       "      <th></th>\n",
       "      <th></th>\n",
       "      <th></th>\n",
       "      <th></th>\n",
       "    </tr>\n",
       "  </thead>\n",
       "  <tbody>\n",
       "    <tr>\n",
       "      <th>C1974668487</th>\n",
       "      <td>1</td>\n",
       "      <td>0</td>\n",
       "      <td>0</td>\n",
       "      <td>2023-05-07 23:01:18.384769086</td>\n",
       "    </tr>\n",
       "    <tr>\n",
       "      <th>C1973547259</th>\n",
       "      <td>0</td>\n",
       "      <td>1</td>\n",
       "      <td>0</td>\n",
       "      <td>2023-05-08 02:02:52.641909508</td>\n",
       "    </tr>\n",
       "    <tr>\n",
       "      <th>C515668508</th>\n",
       "      <td>0</td>\n",
       "      <td>1</td>\n",
       "      <td>0</td>\n",
       "      <td>2023-05-07 22:35:58.923086302</td>\n",
       "    </tr>\n",
       "  </tbody>\n",
       "</table>\n",
       "</div>"
      ],
      "text/plain": [
       "             event_details_change  event_login  event_password_change  \\\n",
       "source                                                                  \n",
       "C1974668487                     1            0                      0   \n",
       "C1973547259                     0            1                      0   \n",
       "C515668508                      0            1                      0   \n",
       "\n",
       "                                timestamp  \n",
       "source                                     \n",
       "C1974668487 2023-05-07 23:01:18.384769086  \n",
       "C1973547259 2023-05-08 02:02:52.641909508  \n",
       "C515668508  2023-05-07 22:35:58.923086302  "
      ]
     },
     "execution_count": 13,
     "metadata": {},
     "output_type": "execute_result"
    }
   ],
   "source": [
    "# Ingestion of your newly created events feature set\n",
    "events_df = fstore.ingest(user_events_set, user_events_data)\n",
    "events_df.head(3)"
   ]
  },
  {
   "cell_type": "markdown",
   "metadata": {},
   "source": [
    "## Step 2 - Create a labels data set for model training"
   ]
  },
  {
   "cell_type": "markdown",
   "metadata": {},
   "source": [
    "### Label set - create a feature set\n",
    "This feature set contains the label for the fraud demo. It is ingested directly to the default targets without any changes."
   ]
  },
  {
   "cell_type": "code",
   "execution_count": 14,
   "metadata": {},
   "outputs": [],
   "source": [
    "def create_labels(df):\n",
    "    labels = df[['fraud','timestamp']].copy()\n",
    "    labels = labels.rename(columns={\"fraud\": \"label\"})\n",
    "    labels['timestamp'] = labels['timestamp'].astype(\"datetime64[ms]\")\n",
    "    labels['label'] = labels['label'].astype(int)\n",
    "    return labels"
   ]
  },
  {
   "cell_type": "code",
   "execution_count": 15,
   "metadata": {},
   "outputs": [
    {
     "data": {
      "image/svg+xml": [
       "<?xml version=\"1.0\" encoding=\"UTF-8\" standalone=\"no\"?>\n",
       "<!DOCTYPE svg PUBLIC \"-//W3C//DTD SVG 1.1//EN\"\n",
       " \"http://www.w3.org/Graphics/SVG/1.1/DTD/svg11.dtd\">\n",
       "<!-- Generated by graphviz version 2.40.1 (20161225.0304)\n",
       " -->\n",
       "<!-- Title: mlrun&#45;flow Pages: 1 -->\n",
       "<svg width=\"154pt\" height=\"193pt\"\n",
       " viewBox=\"0.00 0.00 153.59 193.25\" xmlns=\"http://www.w3.org/2000/svg\" xmlns:xlink=\"http://www.w3.org/1999/xlink\">\n",
       "<g id=\"graph0\" class=\"graph\" transform=\"scale(1 1) rotate(0) translate(4 189.25)\">\n",
       "<title>mlrun&#45;flow</title>\n",
       "<polygon fill=\"#ffffff\" stroke=\"transparent\" points=\"-4,4 -4,-189.25 149.5871,-189.25 149.5871,4 -4,4\"/>\n",
       "<!-- _start -->\n",
       "<g id=\"node1\" class=\"node\">\n",
       "<title>_start</title>\n",
       "<polygon fill=\"#d3d3d3\" stroke=\"#000000\" points=\"76.0416,-149.2993 78.1921,-149.3979 80.3203,-149.5453 82.4176,-149.7413 84.4755,-149.9853 86.4857,-150.2766 88.4403,-150.6145 90.3317,-150.9979 92.1527,-151.4259 93.8965,-151.8972 95.5569,-152.4106 97.128,-152.9647 98.6047,-153.558 99.9822,-154.1888 101.2566,-154.8554 102.4242,-155.5559 103.4822,-156.2885 104.4283,-157.0512 105.2609,-157.8418 105.9789,-158.6582 106.5819,-159.4981 107.0699,-160.3593 107.4436,-161.2394 107.7042,-162.136 107.8535,-163.0465 107.8937,-163.9686 107.8274,-164.8997 107.6576,-165.8373 107.3877,-166.7787 107.0216,-167.7213 106.5631,-168.6627 106.0165,-169.6003 105.3864,-170.5314 104.6771,-171.4535 103.8936,-172.364 103.0404,-173.2606 102.1225,-174.1407 101.1445,-175.0019 100.111,-175.8418 99.0269,-176.6582 97.8964,-177.4488 96.724,-178.2115 95.5137,-178.9441 94.2695,-179.6446 92.9952,-180.3112 91.6942,-180.942 90.3698,-181.5353 89.0249,-182.0894 87.6624,-182.6028 86.2848,-183.0741 84.8943,-183.5021 83.4929,-183.8855 82.0826,-184.2234 80.6649,-184.5147 79.2412,-184.7587 77.8129,-184.9547 76.3812,-185.1021 74.9471,-185.2007 73.5115,-185.25 72.0755,-185.25 70.64,-185.2007 69.2059,-185.1021 67.7741,-184.9547 66.3459,-184.7587 64.9222,-184.5147 63.5045,-184.2234 62.0941,-183.8855 60.6928,-183.5021 59.3023,-183.0741 57.9246,-182.6028 56.5622,-182.0894 55.2173,-181.5353 53.8929,-180.942 52.5919,-180.3112 51.3176,-179.6446 50.0734,-178.9441 48.8631,-178.2115 47.6907,-177.4488 46.5602,-176.6582 45.476,-175.8418 44.4426,-175.0019 43.4646,-174.1407 42.5466,-173.2606 41.6935,-172.364 40.9099,-171.4535 40.2007,-170.5314 39.5706,-169.6003 39.024,-168.6627 38.5655,-167.7213 38.1993,-166.7787 37.9295,-165.8373 37.7597,-164.8997 37.6934,-163.9686 37.7335,-163.0465 37.8829,-162.136 38.1435,-161.2394 38.5172,-160.3593 39.0052,-159.4981 39.6082,-158.6582 40.3262,-157.8418 41.1588,-157.0512 42.1049,-156.2885 43.1629,-155.5559 44.3305,-154.8554 45.6048,-154.1888 46.9824,-153.558 48.4591,-152.9647 50.0302,-152.4106 51.6906,-151.8972 53.4344,-151.4259 55.2554,-150.9979 57.1468,-150.6145 59.1014,-150.2766 61.1116,-149.9853 63.1695,-149.7413 65.2668,-149.5453 67.395,-149.3979 69.5455,-149.2993 71.7094,-149.25 73.8777,-149.25 76.0416,-149.2993\"/>\n",
       "<text text-anchor=\"middle\" x=\"72.7935\" y=\"-163.55\" font-family=\"Times,serif\" font-size=\"14.00\" fill=\"#000000\">start</text>\n",
       "</g>\n",
       "<!-- create_labels -->\n",
       "<g id=\"node2\" class=\"node\">\n",
       "<title>create_labels</title>\n",
       "<ellipse fill=\"none\" stroke=\"#000000\" cx=\"72.7935\" cy=\"-95.25\" rx=\"72.5877\" ry=\"18\"/>\n",
       "<text text-anchor=\"middle\" x=\"72.7935\" y=\"-91.55\" font-family=\"Times,serif\" font-size=\"14.00\" fill=\"#000000\">create_labels</text>\n",
       "</g>\n",
       "<!-- _start&#45;&gt;create_labels -->\n",
       "<g id=\"edge1\" class=\"edge\">\n",
       "<title>_start&#45;&gt;create_labels</title>\n",
       "<path fill=\"none\" stroke=\"#000000\" d=\"M72.7935,-149.0814C72.7935,-141.381 72.7935,-132.2243 72.7935,-123.6666\"/>\n",
       "<polygon fill=\"#000000\" stroke=\"#000000\" points=\"76.2936,-123.6632 72.7935,-113.6633 69.2936,-123.6633 76.2936,-123.6632\"/>\n",
       "</g>\n",
       "<!-- parquet/labels -->\n",
       "<g id=\"node3\" class=\"node\">\n",
       "<title>parquet/labels</title>\n",
       "<path fill=\"none\" stroke=\"#000000\" d=\"M102.2935,-37.6029C102.2935,-39.6847 89.0712,-41.3758 72.7935,-41.3758 56.5159,-41.3758 43.2935,-39.6847 43.2935,-37.6029 43.2935,-37.6029 43.2935,-3.6471 43.2935,-3.6471 43.2935,-1.5653 56.5159,.1258 72.7935,.1258 89.0712,.1258 102.2935,-1.5653 102.2935,-3.6471 102.2935,-3.6471 102.2935,-37.6029 102.2935,-37.6029\"/>\n",
       "<path fill=\"none\" stroke=\"#000000\" d=\"M102.2935,-37.6029C102.2935,-35.5211 89.0712,-33.83 72.7935,-33.83 56.5159,-33.83 43.2935,-35.5211 43.2935,-37.6029\"/>\n",
       "<text text-anchor=\"start\" x=\"51.2935\" y=\"-21.425\" font-family=\"Times,serif\" font-size=\"14.00\" fill=\"#000000\">labels</text>\n",
       "<text text-anchor=\"start\" x=\"52.7935\" y=\"-12.225\" font-family=\"Times,serif\" font-size=\"8.00\" fill=\"#000000\">(parquet)</text>\n",
       "</g>\n",
       "<!-- create_labels&#45;&gt;parquet/labels -->\n",
       "<g id=\"edge2\" class=\"edge\">\n",
       "<title>create_labels&#45;&gt;parquet/labels</title>\n",
       "<path fill=\"none\" stroke=\"#000000\" d=\"M72.7935,-77.1854C72.7935,-69.5187 72.7935,-60.359 72.7935,-51.6668\"/>\n",
       "<polygon fill=\"#000000\" stroke=\"#000000\" points=\"76.2936,-51.4277 72.7935,-41.4277 69.2936,-51.4278 76.2936,-51.4277\"/>\n",
       "</g>\n",
       "</g>\n",
       "</svg>\n"
      ],
      "text/plain": [
       "<graphviz.graphs.Digraph at 0x7fc794402590>"
      ]
     },
     "execution_count": 15,
     "metadata": {},
     "output_type": "execute_result"
    }
   ],
   "source": [
    "from mlrun.datastore import ParquetTarget\n",
    "import os\n",
    "\n",
    "# Define the \"labels\" feature set\n",
    "labels_set = fstore.FeatureSet(\"labels\", \n",
    "                           entities=[fstore.Entity(\"source\")], \n",
    "                           timestamp_key='timestamp',\n",
    "                           description=\"training labels\",\n",
    "                           engine=\"pandas\")\n",
    "\n",
    "labels_set.graph.to(name=\"create_labels\", handler=create_labels)\n",
    "\n",
    "\n",
    "targets = [ParquetTarget(name='labels')]\n",
    "\n",
    "labels_set.set_targets(targets = targets, with_defaults=False)\n",
    "\n",
    "\n",
    "\n",
    "# specify only Parquet (offline) target since its not used for real-time\n",
    "#target = ParquetTarget(name='labels',path=f'v3io:///projects/{project.name}/target.parquet')\n",
    "#labels_set.set_targets([target], with_defaults=False)\n",
    "labels_set.plot(with_targets=True)"
   ]
  },
  {
   "cell_type": "markdown",
   "metadata": {},
   "source": [
    "### Label set - ingestion"
   ]
  },
  {
   "cell_type": "code",
   "execution_count": 16,
   "metadata": {},
   "outputs": [
    {
     "data": {
      "text/html": [
       "<div>\n",
       "<style scoped>\n",
       "    .dataframe tbody tr th:only-of-type {\n",
       "        vertical-align: middle;\n",
       "    }\n",
       "\n",
       "    .dataframe tbody tr th {\n",
       "        vertical-align: top;\n",
       "    }\n",
       "\n",
       "    .dataframe thead th {\n",
       "        text-align: right;\n",
       "    }\n",
       "</style>\n",
       "<table border=\"1\" class=\"dataframe\">\n",
       "  <thead>\n",
       "    <tr style=\"text-align: right;\">\n",
       "      <th></th>\n",
       "      <th>label</th>\n",
       "      <th>timestamp</th>\n",
       "    </tr>\n",
       "    <tr>\n",
       "      <th>source</th>\n",
       "      <th></th>\n",
       "      <th></th>\n",
       "    </tr>\n",
       "  </thead>\n",
       "  <tbody>\n",
       "    <tr>\n",
       "      <th>C1000148617</th>\n",
       "      <td>0</td>\n",
       "      <td>2023-05-06 13:54:05.078</td>\n",
       "    </tr>\n",
       "    <tr>\n",
       "      <th>C1000148617</th>\n",
       "      <td>0</td>\n",
       "      <td>2023-05-06 14:27:28.316</td>\n",
       "    </tr>\n",
       "    <tr>\n",
       "      <th>C1000148617</th>\n",
       "      <td>0</td>\n",
       "      <td>2023-05-06 19:47:22.366</td>\n",
       "    </tr>\n",
       "  </tbody>\n",
       "</table>\n",
       "</div>"
      ],
      "text/plain": [
       "             label               timestamp\n",
       "source                                    \n",
       "C1000148617      0 2023-05-06 13:54:05.078\n",
       "C1000148617      0 2023-05-06 14:27:28.316\n",
       "C1000148617      0 2023-05-06 19:47:22.366"
      ]
     },
     "execution_count": 16,
     "metadata": {},
     "output_type": "execute_result"
    }
   ],
   "source": [
    "# Ingest the labels feature set\n",
    "labels_df = fstore.ingest(labels_set, transactions_data)\n",
    "labels_df.head(3)"
   ]
  },
  {
   "cell_type": "markdown",
   "metadata": {},
   "source": [
    "## Step 3 - Deploy a real-time pipeline\n",
    "\n",
    "When dealing with real-time aggregation, it's important to be able to update these aggregations in real-time.\n",
    "For this purpose, you create live serving functions that update the online feature store of the `transactions` \n",
    "FeatureSet and `Events` FeatureSet.\n",
    "\n",
    "Using MLRun's `serving` runtime, create a nuclio function loaded with your feature set's computational graph definition\n",
    "and an `HttpSource` to define the HTTP trigger.\n",
    "\n",
    "Notice that the implementation below does not require any rewrite of the pipeline logic."
   ]
  },
  {
   "cell_type": "markdown",
   "metadata": {},
   "source": [
    "## 3.1 - Transactions"
   ]
  },
  {
   "cell_type": "markdown",
   "metadata": {},
   "source": [
    "### Transactions - deploy the feature set live endpoint"
   ]
  },
  {
   "cell_type": "code",
   "execution_count": 17,
   "metadata": {},
   "outputs": [],
   "source": [
    "from environment import get_stream_uri\n",
    "\n",
    "# Create iguazio v3io stream and transactions push API endpoint\n",
    "transaction_stream = get_stream_uri(project.name,\"transaction\")\n",
    "transaction_pusher = mlrun.datastore.get_stream_pusher(transaction_stream)"
   ]
  },
  {
   "cell_type": "code",
   "execution_count": 18,
   "metadata": {},
   "outputs": [],
   "source": [
    "from environment import get_source_by_environment\n",
    "# Define the source stream trigger (use v3io streams)\n",
    "# define the `key` and `time` fields (extracted from the Json message).\n",
    "source =  get_source_by_environment(transaction_stream)\n",
    "\n"
   ]
  },
  {
   "cell_type": "code",
   "execution_count": 19,
   "metadata": {},
   "outputs": [
    {
     "name": "stdout",
     "output_type": "stream",
     "text": [
      "> 2023-05-08 13:55:02,913 [info] Starting remote function deploy\n",
      "2023-05-08 13:55:03  (info) Deploying function\n",
      "2023-05-08 13:55:03  (info) Building\n",
      "2023-05-08 13:55:03  (info) Staging files and preparing base images\n",
      "2023-05-08 13:55:03  (info) Building processor image\n",
      "2023-05-08 13:55:59  (info) Build complete\n",
      "2023-05-08 13:56:13  (info) Function deploy complete\n",
      "> 2023-05-08 13:56:14,629 [info] successfully deployed function: {'internal_invocation_urls': ['nuclio-fraud-demo-avia-transactions-ingest.default-tenant.svc.cluster.local:8080'], 'external_invocation_urls': ['fraud-demo-avia-transactions-ingest-fraud-demo-avia.default-tenant.app.vmdev93.lab.iguazeng.com/']}\n"
     ]
    }
   ],
   "source": [
    "# Deploy the transactions feature set's ingestion service over a real-time (Nuclio) serverless function\n",
    "# you can use the run_config parameter to pass function/service specific configuration\n",
    "transaction_set_endpoint = fstore.deploy_ingestion_service(featureset=transaction_set, source=source)"
   ]
  },
  {
   "cell_type": "markdown",
   "metadata": {},
   "source": [
    "### Transactions - test the feature set HTTP endpoint"
   ]
  },
  {
   "cell_type": "markdown",
   "metadata": {},
   "source": [
    "By defining your `transactions` feature set you can now use MLRun and Storey to deploy it as a live endpoint, ready to ingest new data!\n",
    "\n",
    "Using MLRun's `serving` runtime, create a nuclio function loaded with your feature set's computational graph definition \n",
    "and an `HttpSource` to define the HTTP trigger."
   ]
  },
  {
   "cell_type": "code",
   "execution_count": 20,
   "metadata": {},
   "outputs": [
    {
     "data": {
      "text/plain": [
       "{'step': 54,\n",
       " 'age': '5',\n",
       " 'gender': 'M',\n",
       " 'zipcodeOri': 28007,\n",
       " 'zipMerchant': 28007,\n",
       " 'category': 'es_transportation',\n",
       " 'amount': 19.03,\n",
       " 'fraud': 0,\n",
       " 'timestamp': '2023-05-08 13:56:14.700698',\n",
       " 'source': 'C1000148617',\n",
       " 'target': 'M1823072687',\n",
       " 'device': 'ec3261cb469045fb8cb103c4f4604e6f'}"
      ]
     },
     "execution_count": 20,
     "metadata": {},
     "output_type": "execute_result"
    }
   ],
   "source": [
    "import requests\n",
    "import json\n",
    "\n",
    "# Select a sample from the dataset and serialize it to JSON\n",
    "transaction_sample = json.loads(transactions_data.sample(1).to_json(orient='records'))[0]\n",
    "transaction_sample['timestamp'] = str(pd.Timestamp.now())\n",
    "transaction_sample"
   ]
  },
  {
   "cell_type": "code",
   "execution_count": 21,
   "metadata": {},
   "outputs": [
    {
     "data": {
      "text/plain": [
       "'{\"id\": \"ed1ad381-a5c0-496d-b8b3-ec3532dbebda\"}'"
      ]
     },
     "execution_count": 21,
     "metadata": {},
     "output_type": "execute_result"
    }
   ],
   "source": [
    "# Post the sample to the ingestion endpoint\n",
    "requests.post(transaction_set_endpoint, json=transaction_sample).text"
   ]
  },
  {
   "cell_type": "markdown",
   "metadata": {},
   "source": [
    "## 3.2 - User events"
   ]
  },
  {
   "cell_type": "markdown",
   "metadata": {},
   "source": [
    "### User events - deploy the feature set live endpoint\n",
    "Deploy the events feature set's ingestion service using the feature set and all the previously defined resources."
   ]
  },
  {
   "cell_type": "code",
   "execution_count": 22,
   "metadata": {},
   "outputs": [],
   "source": [
    "# Create iguazio v3io stream and transactions push API endpoint\n",
    "events_stream = get_stream_uri(project.name,\"events\")\n",
    "events_pusher = mlrun.datastore.get_stream_pusher(events_stream)"
   ]
  },
  {
   "cell_type": "code",
   "execution_count": 23,
   "metadata": {},
   "outputs": [
    {
     "name": "stdout",
     "output_type": "stream",
     "text": [
      "> 2023-05-08 13:56:14,894 [info] Starting remote function deploy\n",
      "2023-05-08 13:56:15  (info) Deploying function\n",
      "2023-05-08 13:56:15  (info) Building\n",
      "2023-05-08 13:56:15  (info) Staging files and preparing base images\n",
      "2023-05-08 13:56:15  (info) Building processor image\n",
      "2023-05-08 13:57:20  (info) Build complete\n",
      "2023-05-08 13:58:14  (info) Function deploy complete\n",
      "> 2023-05-08 13:58:16,680 [info] successfully deployed function: {'internal_invocation_urls': ['nuclio-fraud-demo-avia-events-ingest.default-tenant.svc.cluster.local:8080'], 'external_invocation_urls': ['fraud-demo-avia-events-ingest-fraud-demo-avia.default-tenant.app.vmdev93.lab.iguazeng.com/']}\n"
     ]
    }
   ],
   "source": [
    "# Define the source stream trigger (use v3io streams)\n",
    "# define the `key` and `time` fields (extracted from the Json message).\n",
    "source =  get_source_by_environment(events_stream)\n",
    "\n",
    "# Deploy the transactions feature set's ingestion service over a real-time (Nuclio) serverless function\n",
    "# you can use the run_config parameter to pass function/service specific configuration\n",
    "events_set_endpoint = fstore.deploy_ingestion_service(featureset=user_events_set, source=source)"
   ]
  },
  {
   "cell_type": "markdown",
   "metadata": {},
   "source": [
    "### User Events - Test the feature set HTTP endpoint"
   ]
  },
  {
   "cell_type": "code",
   "execution_count": 24,
   "metadata": {},
   "outputs": [
    {
     "data": {
      "text/plain": [
       "{'source': 'C1948527523',\n",
       " 'event': 'login',\n",
       " 'timestamp': '2023-05-08 13:58:16.744414'}"
      ]
     },
     "execution_count": 24,
     "metadata": {},
     "output_type": "execute_result"
    }
   ],
   "source": [
    "# Select a sample from the events dataset and serialize it to JSON\n",
    "user_events_sample = json.loads(user_events_data.sample(1).to_json(orient='records'))[0]\n",
    "user_events_sample['timestamp'] = str(pd.Timestamp.now())\n",
    "user_events_sample"
   ]
  },
  {
   "cell_type": "code",
   "execution_count": 25,
   "metadata": {},
   "outputs": [
    {
     "data": {
      "text/plain": [
       "'{\"id\": \"215afe03-63a4-4aa8-b5ef-ab4bc2ebf92e\"}'"
      ]
     },
     "execution_count": 25,
     "metadata": {},
     "output_type": "execute_result"
    }
   ],
   "source": [
    "# Post the sample to the ingestion endpoint\n",
    "requests.post(events_set_endpoint, json=user_events_sample).text"
   ]
  },
  {
   "cell_type": "markdown",
   "metadata": {},
   "source": [
    "## Done!\n",
    "\n",
    "You've completed Part 1 of the data-ingestion with the feature store.\n",
    "Proceed to [Part 2](02-create-training-model.html) to learn how to train an ML model using the feature store data."
   ]
  }
 ],
 "metadata": {
  "kernelspec": {
   "display_name": "Python [conda env:root] *",
   "language": "python",
   "name": "conda-root-py"
  },
  "language_info": {
   "codemirror_mode": {
    "name": "ipython",
    "version": 3
   },
   "file_extension": ".py",
   "mimetype": "text/x-python",
   "name": "python",
   "nbconvert_exporter": "python",
   "pygments_lexer": "ipython3",
   "version": "3.7.6"
  },
  "toc-showtags": false
 },
 "nbformat": 4,
 "nbformat_minor": 4
}
