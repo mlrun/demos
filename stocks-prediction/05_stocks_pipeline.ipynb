{
 "cells": [
  {
   "cell_type": "markdown",
   "id": "415e893c",
   "metadata": {},
   "source": [
    "# Stocks demo pipeline"
   ]
  },
  {
   "cell_type": "markdown",
   "id": "c72ce660",
   "metadata": {},
   "source": [
    "## steps\n",
    "* [Run notebook ingest_stocks](01_ingest_news.ipynb)\n",
    "* [Run notebook ingest_news](02_ingest_stocks.ipynb)\n",
    "* [Create feature vector](#Create-feature-vector)\n",
    "* [Set up the project](#Set-up-the-project)\n",
    "* [Write and save workflow](#Write-and-save-workflow)\n",
    "* [Run the workflow](#Run-the-workflow)"
   ]
  },
  {
   "cell_type": "code",
   "execution_count": 2,
   "id": "d4b96fe7",
   "metadata": {},
   "outputs": [
    {
     "name": "stdout",
     "output_type": "stream",
     "text": [
      "> 2022-11-08 11:51:18,173 [info] loaded project stocks from MLRun DB\n"
     ]
    }
   ],
   "source": [
    "import mlrun\n",
    "project = mlrun.get_or_create_project(name='stocks',user_project=True, context=\"./\")"
   ]
  },
  {
   "cell_type": "markdown",
   "id": "16cba63a",
   "metadata": {},
   "source": [
    "# Create feature vector"
   ]
  },
  {
   "cell_type": "code",
   "execution_count": 3,
   "id": "dbdef838",
   "metadata": {},
   "outputs": [],
   "source": [
    "# Define the list of features we will be using\n",
    "features = ['stocks.*',\n",
    "            'news.sentiment',\n",
    "            ]\n",
    "\n",
    "# Import MLRun's Feature Store\n",
    "import mlrun.feature_store as fstore\n",
    "\n",
    "# Define the feature vector name for future reference\n",
    "fv_name = 'stocks'\n",
    "\n",
    "# Define the feature vector using our Feature Store (fstore)\n",
    "transactions_fv = fstore.FeatureVector(fv_name, \n",
    "                          features, \n",
    "                          description='stocks information')\n",
    "\n",
    "# Save the feature vector in the Feature Store\n",
    "transactions_fv.save()"
   ]
  },
  {
   "cell_type": "code",
   "execution_count": 4,
   "id": "840ffc55",
   "metadata": {},
   "outputs": [
    {
     "data": {
      "text/html": [
       "<div>\n",
       "<style scoped>\n",
       "    .dataframe tbody tr th:only-of-type {\n",
       "        vertical-align: middle;\n",
       "    }\n",
       "\n",
       "    .dataframe tbody tr th {\n",
       "        vertical-align: top;\n",
       "    }\n",
       "\n",
       "    .dataframe thead th {\n",
       "        text-align: right;\n",
       "    }\n",
       "</style>\n",
       "<table border=\"1\" class=\"dataframe\">\n",
       "  <thead>\n",
       "    <tr style=\"text-align: right;\">\n",
       "      <th></th>\n",
       "      <th>Open</th>\n",
       "      <th>High</th>\n",
       "      <th>Low</th>\n",
       "      <th>Close</th>\n",
       "      <th>Volume</th>\n",
       "      <th>ticker2onehot_A</th>\n",
       "      <th>ticker2onehot_ABBV</th>\n",
       "      <th>ticker2onehot_ABT</th>\n",
       "      <th>ticker2onehot_ABMD</th>\n",
       "      <th>ticker2onehot_AAPL</th>\n",
       "      <th>ticker2onehot_AAP</th>\n",
       "      <th>ticker2onehot_ACN</th>\n",
       "      <th>ticker2onehot_ABC</th>\n",
       "      <th>ticker2onehot_ACGL</th>\n",
       "      <th>ticker2onehot_AAL</th>\n",
       "      <th>sentiment</th>\n",
       "    </tr>\n",
       "  </thead>\n",
       "  <tbody>\n",
       "    <tr>\n",
       "      <th>0</th>\n",
       "      <td>14.370000</td>\n",
       "      <td>14.575000</td>\n",
       "      <td>14.370000</td>\n",
       "      <td>14.525000</td>\n",
       "      <td>1391313</td>\n",
       "      <td>0</td>\n",
       "      <td>0</td>\n",
       "      <td>0</td>\n",
       "      <td>0</td>\n",
       "      <td>0</td>\n",
       "      <td>0</td>\n",
       "      <td>0</td>\n",
       "      <td>0</td>\n",
       "      <td>0</td>\n",
       "      <td>1</td>\n",
       "      <td>NaN</td>\n",
       "    </tr>\n",
       "    <tr>\n",
       "      <th>1</th>\n",
       "      <td>159.634201</td>\n",
       "      <td>160.369995</td>\n",
       "      <td>159.509995</td>\n",
       "      <td>160.330002</td>\n",
       "      <td>4839065</td>\n",
       "      <td>0</td>\n",
       "      <td>0</td>\n",
       "      <td>0</td>\n",
       "      <td>0</td>\n",
       "      <td>1</td>\n",
       "      <td>0</td>\n",
       "      <td>0</td>\n",
       "      <td>0</td>\n",
       "      <td>0</td>\n",
       "      <td>0</td>\n",
       "      <td>NaN</td>\n",
       "    </tr>\n",
       "    <tr>\n",
       "      <th>2</th>\n",
       "      <td>137.529999</td>\n",
       "      <td>137.889999</td>\n",
       "      <td>137.229996</td>\n",
       "      <td>137.869995</td>\n",
       "      <td>30482</td>\n",
       "      <td>1</td>\n",
       "      <td>0</td>\n",
       "      <td>0</td>\n",
       "      <td>0</td>\n",
       "      <td>0</td>\n",
       "      <td>0</td>\n",
       "      <td>0</td>\n",
       "      <td>0</td>\n",
       "      <td>0</td>\n",
       "      <td>0</td>\n",
       "      <td>NaN</td>\n",
       "    </tr>\n",
       "    <tr>\n",
       "      <th>3</th>\n",
       "      <td>108.779999</td>\n",
       "      <td>109.168999</td>\n",
       "      <td>108.599998</td>\n",
       "      <td>108.889999</td>\n",
       "      <td>98389</td>\n",
       "      <td>0</td>\n",
       "      <td>0</td>\n",
       "      <td>1</td>\n",
       "      <td>0</td>\n",
       "      <td>0</td>\n",
       "      <td>0</td>\n",
       "      <td>0</td>\n",
       "      <td>0</td>\n",
       "      <td>0</td>\n",
       "      <td>0</td>\n",
       "      <td>NaN</td>\n",
       "    </tr>\n",
       "    <tr>\n",
       "      <th>4</th>\n",
       "      <td>182.000000</td>\n",
       "      <td>182.587097</td>\n",
       "      <td>181.619995</td>\n",
       "      <td>182.509995</td>\n",
       "      <td>0</td>\n",
       "      <td>0</td>\n",
       "      <td>0</td>\n",
       "      <td>0</td>\n",
       "      <td>0</td>\n",
       "      <td>0</td>\n",
       "      <td>1</td>\n",
       "      <td>0</td>\n",
       "      <td>0</td>\n",
       "      <td>0</td>\n",
       "      <td>0</td>\n",
       "      <td>NaN</td>\n",
       "    </tr>\n",
       "  </tbody>\n",
       "</table>\n",
       "</div>"
      ],
      "text/plain": [
       "         Open        High         Low       Close   Volume  ticker2onehot_A  \\\n",
       "0   14.370000   14.575000   14.370000   14.525000  1391313                0   \n",
       "1  159.634201  160.369995  159.509995  160.330002  4839065                0   \n",
       "2  137.529999  137.889999  137.229996  137.869995    30482                1   \n",
       "3  108.779999  109.168999  108.599998  108.889999    98389                0   \n",
       "4  182.000000  182.587097  181.619995  182.509995        0                0   \n",
       "\n",
       "   ticker2onehot_ABBV  ticker2onehot_ABT  ticker2onehot_ABMD  \\\n",
       "0                   0                  0                   0   \n",
       "1                   0                  0                   0   \n",
       "2                   0                  0                   0   \n",
       "3                   0                  1                   0   \n",
       "4                   0                  0                   0   \n",
       "\n",
       "   ticker2onehot_AAPL  ticker2onehot_AAP  ticker2onehot_ACN  \\\n",
       "0                   0                  0                  0   \n",
       "1                   1                  0                  0   \n",
       "2                   0                  0                  0   \n",
       "3                   0                  0                  0   \n",
       "4                   0                  1                  0   \n",
       "\n",
       "   ticker2onehot_ABC  ticker2onehot_ACGL  ticker2onehot_AAL  sentiment  \n",
       "0                  0                   0                  1        NaN  \n",
       "1                  0                   0                  0        NaN  \n",
       "2                  0                   0                  0        NaN  \n",
       "3                  0                   0                  0        NaN  \n",
       "4                  0                   0                  0        NaN  "
      ]
     },
     "execution_count": 4,
     "metadata": {},
     "output_type": "execute_result"
    }
   ],
   "source": [
    "# Get offline feature vector as dataframe and save the dataset to parquet\n",
    "import datetime\n",
    "start_time = datetime.datetime.now()-datetime.timedelta(59)\n",
    "end_time = end_time = datetime.datetime.now()-datetime.timedelta(0)\n",
    "fv_data = fstore.FeatureVector.get_offline_features(fv_name,start_time=start_time,end_time=end_time, timestamp_for_filtering = 'Datetime')\n",
    "fv_data.to_dataframe().head()"
   ]
  },
  {
   "cell_type": "markdown",
   "id": "5d490e55",
   "metadata": {},
   "source": [
    "## Set up the project"
   ]
  },
  {
   "cell_type": "code",
   "execution_count": 5,
   "id": "6ceabd75",
   "metadata": {},
   "outputs": [
    {
     "data": {
      "text/plain": [
       "<mlrun.runtimes.serving.ServingRuntime at 0x7fa6e0a37ed0>"
      ]
     },
     "execution_count": 5,
     "metadata": {},
     "output_type": "execute_result"
    }
   ],
   "source": [
    "import os\n",
    "\n",
    "# getting our model training function\n",
    "project.set_function('./src/train_stocks.py', requirements=['torch', 'tensorboard', 'tqdm'],\n",
    "                     name='train-stocks', kind='job', image='mlrun/mlrun')\n",
    "\n",
    "\n",
    "project.set_function('./src/serving_stocks.py', requirements=['torch', 'tensorboard', 'tqdm'],\n",
    "                     name='serving-stocks', kind='serving', image='mlrun/mlrun')"
   ]
  },
  {
   "cell_type": "markdown",
   "id": "07aa43fc",
   "metadata": {},
   "source": [
    "## Write and save workflow"
   ]
  },
  {
   "cell_type": "code",
   "execution_count": 6,
   "outputs": [
    {
     "name": "stdout",
     "output_type": "stream",
     "text": [
      "Writing src/workflow.py\n"
     ]
    }
   ],
   "source": [
    "%%writefile src/workflow.py\n",
    "import mlrun\n",
    "from kfp import dsl\n",
    "from mlrun import get_or_create_ctx\n",
    "\n",
    "@dsl.pipeline(\n",
    "    name=\"Stocks Prediction Pipeline\",\n",
    "    description=\"predicting stock prices using yahoo api with sentiment analysis\"\n",
    ")\n",
    "\n",
    "def kfpipeline(vector_name:str,\n",
    "               seq_size:int = 5,\n",
    "               batch_size:int = 1,\n",
    "               hidden_dim:int = 2,\n",
    "               n_layers:int = 1,\n",
    "               epochs:int = 3,\n",
    "               start_time:int = 59,\n",
    "               end_time:int = 0,\n",
    "               model_filepath = './'\n",
    "               ):\n",
    "\n",
    "    ctx = get_or_create_ctx(name='kfp-context')\n",
    "\n",
    "    project = mlrun.get_current_project()\n",
    "\n",
    "    project.get_function('train-stocks',sync=True)\n",
    "\n",
    "    train_stocks_run = mlrun.run_function(name='train-stocks',\n",
    "                                          function='train_stocks',\n",
    "                                          handler='handler',\n",
    "                                          params={'context':ctx,\n",
    "                                                  'hidden_dim':hidden_dim,\n",
    "                                                  'n_layers':n_layers,\n",
    "                                                  'epochs':epochs,\n",
    "                                                  'vector_name':vector_name,\n",
    "                                                  'seq_size':seq_size,\n",
    "                                                  'start_time':start_time,\n",
    "                                                  'end_time':end_time,\n",
    "                                                  'batch_size':batch_size,\n",
    "                                                  'model_filepath':model_filepath},\n",
    "                                          outputs=[\"model\"])\n",
    "\n",
    "\n",
    "    # deploying serving function\n",
    "    serving_function = project.get_function(\"serving-stocks\")\n",
    "\n",
    "    if serving_function.spec.graph is None:\n",
    "\n",
    "        # Set the topology and get the graph object:\n",
    "        graph = serving_function.set_topology(\"flow\", engine=\"async\")\n",
    "        # Build the serving graph:\n",
    "        graph.to(handler='preprocess', name='reading_data')\\\n",
    "             .to(class_name=\"StocksModel\", model_name='stocks_model', model_path=str(train_stocks_run.outputs['model']))\\\n",
    "             .to(handler='postprocess',name='postprocess').respond()\n",
    "\n",
    "\n",
    "    # Set the desired requirements:\n",
    "    serving_function.with_requirements(requirements=['yfinance','yahoo_fin'])\n",
    "    # Deploy the serving function:\n",
    "    mlrun.deploy_function(\"serving-stocks\")"
   ],
   "metadata": {
    "collapsed": false
   }
  },
  {
   "cell_type": "code",
   "execution_count": null,
   "outputs": [],
   "source": [
    "import os\n",
    "\n",
    "# get source help function\n",
    "def get_source_path():\n",
    "    cwd = os.getcwd()\n",
    "    user_name = os.environ['V3IO_USERNAME']\n",
    "    replacement_string = 'v3io:///users/'+user_name\n",
    "    source_path = cwd.replace('/User',replacement_string)+'/project.tar.gz'\n",
    "    print('source_path: ' + source_path)\n",
    "    return source_path"
   ],
   "metadata": {
    "collapsed": false
   }
  },
  {
   "cell_type": "code",
   "execution_count": 7,
   "id": "84ed80e7",
   "metadata": {},
   "outputs": [
    {
     "data": {
      "text/plain": [
       "<mlrun.projects.project.MlrunProject at 0x7fa6e0a9be10>"
      ]
     },
     "execution_count": 7,
     "metadata": {},
     "output_type": "execute_result"
    }
   ],
   "source": [
    "import shutil\n",
    "\n",
    "shutil.make_archive('project','gztar','./')\n",
    "source_path = get_source_path()\n",
    "\n",
    "project.set_source(source_path,pull_at_runtime=True)\n",
    "\n",
    "# Register the workflow file:\n",
    "workflow_name = \"stocks_workflow\"\n",
    "project.set_workflow(name=workflow_name, workflow_path=\"src/workflow.py\",schedule='0 0 * * */1')\n",
    "\n",
    "project.save()\n"
   ]
  },
  {
   "cell_type": "markdown",
   "id": "963b3e74",
   "metadata": {},
   "source": [
    "## Run the workflow"
   ]
  },
  {
   "cell_type": "code",
   "execution_count": 8,
   "id": "60606f4e",
   "metadata": {},
   "outputs": [
    {
     "data": {
      "text/html": [
       "<div>Pipeline running (id=88e1d763-207e-46f6-a786-8ffd4401889d), <a href=\"https://dashboard.default-tenant.app.vmdev93.lab.iguazeng.com/mlprojects/stocks-dani/jobs/monitor-workflows/workflow/88e1d763-207e-46f6-a786-8ffd4401889d\" target=\"_blank\"><b>click here</b></a> to view the details in MLRun UI</div>"
      ],
      "text/plain": [
       "<IPython.core.display.HTML object>"
      ]
     },
     "metadata": {},
     "output_type": "display_data"
    },
    {
     "data": {
      "image/svg+xml": [
       "<?xml version=\"1.0\" encoding=\"UTF-8\" standalone=\"no\"?>\n",
       "<!DOCTYPE svg PUBLIC \"-//W3C//DTD SVG 1.1//EN\"\n",
       " \"http://www.w3.org/Graphics/SVG/1.1/DTD/svg11.dtd\">\n",
       "<!-- Generated by graphviz version 2.40.1 (20161225.0304)\n",
       " -->\n",
       "<!-- Title: kfp Pages: 1 -->\n",
       "<svg width=\"181pt\" height=\"116pt\"\n",
       " viewBox=\"0.00 0.00 181.00 116.00\" xmlns=\"http://www.w3.org/2000/svg\" xmlns:xlink=\"http://www.w3.org/1999/xlink\">\n",
       "<g id=\"graph0\" class=\"graph\" transform=\"scale(1 1) rotate(0) translate(4 112)\">\n",
       "<title>kfp</title>\n",
       "<polygon fill=\"#ffffff\" stroke=\"transparent\" points=\"-4,4 -4,-112 177,-112 177,4 -4,4\"/>\n",
       "<!-- stocks&#45;prediction&#45;pipeline&#45;kb8z2&#45;200028881 -->\n",
       "<g id=\"node1\" class=\"node\">\n",
       "<title>stocks&#45;prediction&#45;pipeline&#45;kb8z2&#45;200028881</title>\n",
       "<ellipse fill=\"#00ff00\" stroke=\"#000000\" cx=\"86.5\" cy=\"-90\" rx=\"66.0889\" ry=\"18\"/>\n",
       "<text text-anchor=\"middle\" x=\"86.5\" y=\"-86.3\" font-family=\"Times,serif\" font-size=\"14.00\" fill=\"#000000\">train&#45;stocks</text>\n",
       "</g>\n",
       "<!-- stocks&#45;prediction&#45;pipeline&#45;kb8z2&#45;2863580663 -->\n",
       "<g id=\"node2\" class=\"node\">\n",
       "<title>stocks&#45;prediction&#45;pipeline&#45;kb8z2&#45;2863580663</title>\n",
       "<polygon fill=\"#00ff00\" stroke=\"#000000\" points=\"173,-36 4,-36 0,-32 0,0 169,0 173,-4 173,-36\"/>\n",
       "<polyline fill=\"none\" stroke=\"#000000\" points=\"169,-32 0,-32 \"/>\n",
       "<polyline fill=\"none\" stroke=\"#000000\" points=\"169,-32 169,0 \"/>\n",
       "<polyline fill=\"none\" stroke=\"#000000\" points=\"169,-32 173,-36 \"/>\n",
       "<text text-anchor=\"middle\" x=\"86.5\" y=\"-14.3\" font-family=\"Times,serif\" font-size=\"14.00\" fill=\"#000000\">deploy&#45;serving&#45;stocks</text>\n",
       "</g>\n",
       "<!-- stocks&#45;prediction&#45;pipeline&#45;kb8z2&#45;200028881&#45;&gt;stocks&#45;prediction&#45;pipeline&#45;kb8z2&#45;2863580663 -->\n",
       "<g id=\"edge1\" class=\"edge\">\n",
       "<title>stocks&#45;prediction&#45;pipeline&#45;kb8z2&#45;200028881&#45;&gt;stocks&#45;prediction&#45;pipeline&#45;kb8z2&#45;2863580663</title>\n",
       "<path fill=\"none\" stroke=\"#000000\" d=\"M86.5,-71.8314C86.5,-64.131 86.5,-54.9743 86.5,-46.4166\"/>\n",
       "<polygon fill=\"#000000\" stroke=\"#000000\" points=\"90.0001,-46.4132 86.5,-36.4133 83.0001,-46.4133 90.0001,-46.4132\"/>\n",
       "</g>\n",
       "</g>\n",
       "</svg>\n"
      ],
      "text/plain": [
       "<graphviz.dot.Digraph at 0x7fa6e09e7fd0>"
      ]
     },
     "metadata": {},
     "output_type": "display_data"
    },
    {
     "name": "stdout",
     "output_type": "stream",
     "text": [
      "> 2022-11-08 12:05:36,662 [warning] No slack webhook is set, skipping notification\n",
      "[info] Workflow 88e1d763-207e-46f6-a786-8ffd4401889d finished, state=Succeeded\n",
      "status     name          uid       results\n",
      "---------  ------------  --------  -------------------------------------------------------------------------------------------------------------------------------------------------------------------------------------------------------------------------------------------------------------------------------------------------------------------------------------------------------------------------------------------\n",
      "completed  train_stocks  ..4fea3e  context=<nuclio.request.Context object at 0x7fa6a6b0ad90>,hidden_dim=2,n_layers=1,epochs=5,vector_name=stocks,seq_size=5,start_time=59,end_time=0,batch_size=1,model_filepath=/User/test/demos/stocks-prediction/src,lr=0.0001,training_MSELoss=2.0057511846971465e-06,training_accuracy=0.9985837545245886,validation_MSELoss=0.0003246353880967945,validation_accuracy=0.9881337806582451\n"
     ]
    },
    {
     "data": {
      "text/html": [
       "<h2>Run Results</h2><h3>[info] Workflow 88e1d763-207e-46f6-a786-8ffd4401889d finished, state=Succeeded</h3><br>click the hyper links below to see detailed results<br><table border=\"1\" class=\"dataframe\">\n",
       "  <thead>\n",
       "    <tr style=\"text-align: right;\">\n",
       "      <th>uid</th>\n",
       "      <th>start</th>\n",
       "      <th>state</th>\n",
       "      <th>name</th>\n",
       "      <th>parameters</th>\n",
       "      <th>results</th>\n",
       "    </tr>\n",
       "  </thead>\n",
       "  <tbody>\n",
       "    <tr>\n",
       "      <td><div title=\"6e477eb5eac744fb88d33763e54fea3e\"><a href=\"https://dashboard.default-tenant.app.vmdev93.lab.iguazeng.com/mlprojects/stocks-dani/jobs/monitor/6e477eb5eac744fb88d33763e54fea3e/overview\" target=\"_blank\" >...e54fea3e</a></div></td>\n",
       "      <td>Nov 08 11:51:36</td>\n",
       "      <td>completed</td>\n",
       "      <td>train_stocks</td>\n",
       "      <td><div class=\"dictlist\">context=<nuclio.request.Context object at 0x7fa6a6b0ad90></div><div class=\"dictlist\">hidden_dim=2</div><div class=\"dictlist\">n_layers=1</div><div class=\"dictlist\">epochs=5</div><div class=\"dictlist\">vector_name=stocks</div><div class=\"dictlist\">seq_size=5</div><div class=\"dictlist\">start_time=59</div><div class=\"dictlist\">end_time=0</div><div class=\"dictlist\">batch_size=1</div><div class=\"dictlist\">model_filepath=/User/test/demos/stocks-prediction/src</div></td>\n",
       "      <td><div class=\"dictlist\">context=<nuclio.request.Context object at 0x7fa6a6b0ad90></div><div class=\"dictlist\">hidden_dim=2</div><div class=\"dictlist\">n_layers=1</div><div class=\"dictlist\">epochs=5</div><div class=\"dictlist\">vector_name=stocks</div><div class=\"dictlist\">seq_size=5</div><div class=\"dictlist\">start_time=59</div><div class=\"dictlist\">end_time=0</div><div class=\"dictlist\">batch_size=1</div><div class=\"dictlist\">model_filepath=/User/test/demos/stocks-prediction/src</div><div class=\"dictlist\">lr=0.0001</div><div class=\"dictlist\">training_MSELoss=2.0057511846971465e-06</div><div class=\"dictlist\">training_accuracy=0.9985837545245886</div><div class=\"dictlist\">validation_MSELoss=0.0003246353880967945</div><div class=\"dictlist\">validation_accuracy=0.9881337806582451</div></td>\n",
       "    </tr>\n",
       "  </tbody>\n",
       "</table>"
      ],
      "text/plain": [
       "<IPython.core.display.HTML object>"
      ]
     },
     "metadata": {},
     "output_type": "display_data"
    },
    {
     "data": {
      "text/plain": [
       "88e1d763-207e-46f6-a786-8ffd4401889d"
      ]
     },
     "execution_count": 8,
     "metadata": {},
     "output_type": "execute_result"
    }
   ],
   "source": [
    "project.run(workflow_name,\n",
    "            arguments={\n",
    "                \"vector_name\":\"stocks\",\n",
    "                \"seq_size\": 5,\n",
    "                \"batch_size\": 1,\n",
    "                \"hidden_dim\": 2,\n",
    "                \"n_layers\": 1,\n",
    "                \"epochs\": 3,\n",
    "                \"start_time\":59,\n",
    "                \"end_time\":0,\n",
    "                \"model_filepath\":'./'},\n",
    "            watch=True)"
   ]
  },
  {
   "cell_type": "markdown",
   "source": [
    "## Schedule the workflow"
   ],
   "metadata": {
    "collapsed": false
   }
  },
  {
   "cell_type": "code",
   "execution_count": null,
   "outputs": [],
   "source": [
    "project.run(workflow_name,\n",
    "            arguments={\n",
    "                \"vector_name\":\"stocks\",\n",
    "                \"seq_size\": 5,\n",
    "                \"batch_size\": 1,\n",
    "                \"hidden_dim\": 2,\n",
    "                \"n_layers\": 1,\n",
    "                \"epochs\": 3,\n",
    "                \"start_time\":59,\n",
    "                \"end_time\":0,\n",
    "                \"model_filepath\":'./'},\n",
    "            watch=True,schedule=True)"
   ],
   "metadata": {
    "collapsed": false
   }
  }
 ],
 "metadata": {
  "kernelspec": {
   "display_name": "Python 3",
   "language": "python",
   "name": "python3"
  },
  "language_info": {
   "codemirror_mode": {
    "name": "ipython",
    "version": 3
   },
   "file_extension": ".py",
   "mimetype": "text/x-python",
   "name": "python",
   "nbconvert_exporter": "python",
   "pygments_lexer": "ipython3",
   "version": "3.7.6"
  }
 },
 "nbformat": 4,
 "nbformat_minor": 5
}
