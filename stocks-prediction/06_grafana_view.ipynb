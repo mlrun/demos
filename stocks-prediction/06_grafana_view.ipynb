{
 "cells": [
  {
   "cell_type": "markdown",
   "id": "8383f897",
   "metadata": {},
   "source": [
    "# Deploy a Grafana Dashboard\n",
    "To track the different stocks on a live dashboard we will use **Grafana**.<br>\n",
    "We will use [Grafwiz](https://github.com/v3io/grafwiz) to define and deploy the dashboard directly from this notebook"
   ]
  },
  {
   "cell_type": "code",
   "execution_count": 1,
   "id": "4446b067",
   "metadata": {},
   "outputs": [],
   "source": [
    "# install prerequisites\n",
    "%pip install git+https://github.com/v3io/grafwiz --upgrade\n",
    "%pip install v3io_frames"
   ]
  },
  {
   "cell_type": "code",
   "execution_count": 1,
   "id": "de5cab66",
   "metadata": {},
   "outputs": [
    {
     "name": "stdout",
     "output_type": "stream",
     "text": [
      "> 2022-11-07 08:12:37,942 [info] loaded project stocks from MLRun DB\n"
     ]
    }
   ],
   "source": [
    "import mlrun\n",
    "project = mlrun.get_or_create_project(name='stocks',user_project=True, context=\"./\")"
   ]
  },
  {
   "cell_type": "code",
   "execution_count": 3,
   "id": "a9d294ce",
   "metadata": {},
   "outputs": [
    {
     "name": "stdout",
     "output_type": "stream",
     "text": [
      "Datasource iguazio already exists\n",
      "Datasource iguazio created successfully\n",
      "Dashboard stocks created successfully\n"
     ]
    }
   ],
   "source": [
    "import grafwiz\n",
    "import os\n",
    "import v3io_frames as v3f\n",
    "\n",
    "framesd = os.getenv(\"V3IO_FRAMESD\",'framesd:8081')\n",
    "client = v3f.Client(framesd, container=os.getenv('V3IO_CONTAINER', 'projects'))\n",
    "\n",
    "grafwiz.DataSource(name='iguazio').deploy('http://grafana',use_auth=True)\n",
    "\n",
    "dash = grafwiz.Dashboard(\"stocks\", start='now-7d', dataSource='iguazio')\n",
    "\n",
    "df_columns = ['tickers', 'datetime', 'prediction',  'true']\n",
    "news_kv = '/stocks-'+ os.environ['V3IO_USERNAME'] + '/artifacts/stocks_prediction'\n",
    "client.execute(\"kv\",table = news_kv, command = \"infer\")\n",
    "\n",
    "tbl = grafwiz.Table(title='Current news Value', span=12,columns=df_columns).source(table=news_kv,fields=df_columns,container='projects')\n",
    "dash.row([tbl])\n",
    "\n",
    "dash.deploy('http://grafana')"
   ]
  }
 ],
 "metadata": {
  "kernelspec": {
   "display_name": "Python 3",
   "language": "python",
   "name": "python3"
  },
  "language_info": {
   "codemirror_mode": {
    "name": "ipython",
    "version": 3
   },
   "file_extension": ".py",
   "mimetype": "text/x-python",
   "name": "python",
   "nbconvert_exporter": "python",
   "pygments_lexer": "ipython3",
   "version": "3.7.6"
  }
 },
 "nbformat": 4,
 "nbformat_minor": 5
}
