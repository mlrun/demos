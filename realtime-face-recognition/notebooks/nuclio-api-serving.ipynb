{
 "cells": [
  {
   "cell_type": "markdown",
   "metadata": {},
   "source": [
    "# Nuclio API Serving Function"
   ]
  },
  {
   "cell_type": "code",
   "execution_count": null,
   "metadata": {},
   "outputs": [],
   "source": [
    "#nuclio: ignore\n",
    "import nuclio"
   ]
  },
  {
   "cell_type": "markdown",
   "metadata": {},
   "source": [
    "### Install dependencies and set config"
   ]
  },
  {
   "cell_type": "code",
   "execution_count": 24,
   "metadata": {},
   "outputs": [],
   "source": [
    "%%nuclio cmd -c\n",
    "pip install opencv-python-headless\n",
    "pip install pandas\n",
    "pip install v3io-frames"
   ]
  },
  {
   "cell_type": "code",
   "execution_count": 25,
   "metadata": {},
   "outputs": [
    {
     "name": "stdout",
     "output_type": "stream",
     "text": [
      "%nuclio: setting spec.build.baseImage to 'python:3.6-jessie'\n"
     ]
    }
   ],
   "source": [
    "%nuclio config spec.build.baseImage = \"python:3.6-jessie\""
   ]
  },
  {
   "cell_type": "markdown",
   "metadata": {},
   "source": [
    "### Perform necessary imports"
   ]
  },
  {
   "cell_type": "code",
   "execution_count": 26,
   "metadata": {},
   "outputs": [],
   "source": [
    "import json\n",
    "import os\n",
    "import v3io_frames as v3f\n",
    "from requests import post\n",
    "import base64\n",
    "import numpy as np\n",
    "import pandas as pd\n",
    "import cv2\n",
    "import random\n",
    "import string\n",
    "from datetime import datetime\n",
    "from os import getenv, path"
   ]
  },
  {
   "cell_type": "markdown",
   "metadata": {},
   "source": [
    "### Set function environment variables"
   ]
  },
  {
   "cell_type": "code",
   "execution_count": 27,
   "metadata": {},
   "outputs": [
    {
     "name": "stdout",
     "output_type": "stream",
     "text": [
      "%nuclio: setting 'DATA_PATH' environment variable\n",
      "%nuclio: setting 'V3IO_ACCESS_KEY' environment variable\n"
     ]
    }
   ],
   "source": [
    "# %%nuclio env\n",
    "# DATA_PATH = /User/faces/dataset/\n",
    "# V3IO_ACCESS_KEY=${V3IO_ACCESS_KEY}"
   ]
  },
  {
   "cell_type": "code",
   "execution_count": 28,
   "metadata": {},
   "outputs": [],
   "source": [
    "is_partitioned = True #os.environ['IS_PARTITIONED']\n",
    "\n",
    "def generate_file_name(current_time, is_partitioned):\n",
    "    filename_str = current_time + '.jpg'\n",
    "    if is_partitioned == \"true\":\n",
    "        filename_str = current_time[:-4] + \"/\" + filename_str\n",
    "    return filename_str\n",
    "\n",
    "def generate_image_path(filename, is_unknown):\n",
    "    file_name = filename\n",
    "    if is_unknown:\n",
    "        pathTuple = (os.environ['DATA_PATH'] , 'label_pending', file_name) \n",
    "    else:\n",
    "        pathTuple = (os.environ['DATA_PATH'] , 'images', file_name)   \n",
    "    path = \"/\".join(pathTuple)\n",
    "    return path\n",
    "\n",
    "def jpg_str_to_frame(encoded):\n",
    "    jpg_original = base64.b64decode(encoded)\n",
    "    jpg_as_np = np.frombuffer(jpg_original, dtype=np.uint8)\n",
    "    img = cv2.imdecode(jpg_as_np, flags=1)\n",
    "    return img\n",
    "\n",
    "def save_image(encoded_img, path):\n",
    "    frame = jpg_str_to_frame(encoded_img)\n",
    "    directory = '/'.join(path.split('/')[:-1])\n",
    "    V3IO_USERNAME = getenv('V3IO_USERNAME')\n",
    "    directory = directory.replace(V3IO_USERNAME,'/User')\n",
    "    if not os.path.exists(directory):\n",
    "        os.makedirs(directory, exist_ok=True)\n",
    "        #os.mkdir(directory)\n",
    "    cv2.imwrite(path, frame)\n",
    "    \n",
    "def write_to_kv(client, face, path, camera, time):\n",
    "    USER_NAME = getenv('V3IO_USERNAME')\n",
    "    ENCODINGS_PATH = '/'.join([USER_NAME,'faces','encodings']) \n",
    "    rnd_tag = ''.join(random.choices(string.ascii_uppercase + string.digits, k=5))\n",
    "    name = face['name']\n",
    "    label = face['label']\n",
    "    encoding = face['encoding']\n",
    "    \n",
    "    new_row = {}  \n",
    "    new_row = {'c' + str(i).zfill(3): encoding[i] for i in range(128)}\n",
    "    if name != 'unknown': \n",
    "        new_row['label'] = label\n",
    "        new_row['fileName'] = name.replace(' ', '_') + '_' + rnd_tag\n",
    "    else:\n",
    "        new_row['label'] = -1\n",
    "        new_row['fileName'] = 'unknown_' + rnd_tag\n",
    "            \n",
    "    new_row['imgUrl'] = path\n",
    "    new_row['camera'] = camera\n",
    "    new_row['time'] = datetime.strptime(time, '%Y%m%d%H%M%S')\n",
    "    new_row_df = pd.DataFrame(new_row, index=[0])\n",
    "    new_row_df = new_row_df.set_index('fileName')\n",
    "    print(new_row['fileName'])\n",
    "    client.write(backend='kv', table=ENCODINGS_PATH, dfs=new_row_df) #, save_mode='createNewItemsOnly')   \n",
    "    \n",
    "def init_context(context):\n",
    "    setattr(context.user_data, 'client', v3f.Client(\"framesd:8081\", container=\"users\"))\n",
    "    \n",
    "def handler(context, event):\n",
    "        context.logger.info('extracting metadata')\n",
    "        body = json.loads(event.body)\n",
    "        time = body['time']\n",
    "        camera = body['camera']\n",
    "        encoded_img = body['content']\n",
    "        \n",
    "        content = {'img': encoded_img}\n",
    "\n",
    "        context.logger.info('calling model server')\n",
    "        user_name = getenv('V3IO_USERNAME')\n",
    "        function_name = \"faces-{}-{}\".format(user_name,'nuclio-face-prediction')\n",
    "        context.logger.info('calling model server')\n",
    "        resp = context.platform.call_function(function_name, event)\n",
    "        faces = json.loads(resp.body)\n",
    "        \n",
    "        context.logger.info('going through discovered faces')\n",
    "        for face in faces:\n",
    "            is_unknown = face['name'] == 'unknown'\n",
    "            file_name = generate_file_name(time, is_partitioned) \n",
    "            path = generate_image_path(file_name, is_unknown)\n",
    "            \n",
    "            context.logger.info('saving image to file system')\n",
    "            save_image(encoded_img, path)\n",
    "            \n",
    "            context.logger.info('writing data to kv')\n",
    "            write_to_kv(context.user_data.client, face, path, camera, time)\n",
    "            \n",
    "        return faces"
   ]
  },
  {
   "cell_type": "code",
   "execution_count": 29,
   "metadata": {},
   "outputs": [],
   "source": [
    "#nuclio: end-code"
   ]
  },
  {
   "cell_type": "code",
   "execution_count": 11,
   "metadata": {},
   "outputs": [],
   "source": [
    "#nuclio: ignore\n",
    "from os import getenv, path\n",
    "PROJECT_BASE_NAME = \"faces\"\n",
    "V3IO_USERNAME = getenv('V3IO_USERNAME')\n",
    "DATA_PATH = path.join(V3IO_USERNAME, 'examples',PROJECT_BASE_NAME, 'data')"
   ]
  },
  {
   "cell_type": "code",
   "execution_count": 12,
   "metadata": {},
   "outputs": [
    {
     "data": {
      "text/plain": [
       "<mlrun.runtimes.function.RemoteRuntime at 0x7f7a62b59ad0>"
      ]
     },
     "execution_count": 12,
     "metadata": {},
     "output_type": "execute_result"
    }
   ],
   "source": [
    "# converts the notebook code to deployable function with configurations\n",
    "from mlrun import code_to_function, mount_v3io\n",
    "fn = code_to_function('nuclio-api-serving', kind='nuclio')\n",
    "\n",
    "# set the API/trigger, attach the home dir to the function\n",
    "fn.with_http(workers=2).apply(mount_v3io())\n",
    "\n",
    "# set environment variables\n",
    "fn.set_env('DATA_PATH' ,DATA_PATH)\n",
    "fn.set_env('V3IO_ACCESS_KEY', os.environ['V3IO_ACCESS_KEY'])"
   ]
  },
  {
   "cell_type": "markdown",
   "metadata": {},
   "source": [
    "### deploy the function to nuclio"
   ]
  },
  {
   "cell_type": "code",
   "execution_count": 31,
   "metadata": {},
   "outputs": [
    {
     "name": "stdout",
     "output_type": "stream",
     "text": [
      "> 2020-11-30 12:56:33,032 [info] Starting remote function deploy\n",
      "2020-11-30 12:56:33  (info) Deploying function\n",
      "2020-11-30 12:56:33  (info) Building\n",
      "2020-11-30 12:56:33  (info) Staging files and preparing base images\n",
      "2020-11-30 12:56:33  (info) Building processor image\n",
      "2020-11-30 12:56:39  (info) Build complete\n",
      "2020-11-30 12:56:47  (info) Function deploy complete\n",
      "> 2020-11-30 12:56:48,020 [info] function deployed, address=default-tenant.app.app-lab-eks-b84.iguazio-cd1.com:31689\n"
     ]
    }
   ],
   "source": [
    "addr = fn.deploy(project='faces')"
   ]
  },
  {
   "cell_type": "code",
   "execution_count": null,
   "metadata": {},
   "outputs": [],
   "source": []
  },
  {
   "cell_type": "code",
   "execution_count": null,
   "metadata": {},
   "outputs": [],
   "source": []
  }
 ],
 "metadata": {
  "kernelspec": {
   "display_name": "Python 3",
   "language": "python",
   "name": "python3"
  },
  "language_info": {
   "codemirror_mode": {
    "name": "ipython",
    "version": 3
   },
   "file_extension": ".py",
   "mimetype": "text/x-python",
   "name": "python",
   "nbconvert_exporter": "python",
   "pygments_lexer": "ipython3",
   "version": "3.7.6"
  }
 },
 "nbformat": 4,
 "nbformat_minor": 4
}
