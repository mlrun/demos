{
 "cells": [
  {
   "cell_type": "code",
   "execution_count": 1,
   "metadata": {},
   "outputs": [],
   "source": [
    "import nuclio \n",
    "import mlrun"
   ]
  },
  {
   "cell_type": "code",
   "execution_count": 2,
   "metadata": {},
   "outputs": [
    {
     "data": {
      "text/plain": [
       "'0.6.2-rc1'"
      ]
     },
     "execution_count": 2,
     "metadata": {},
     "output_type": "execute_result"
    }
   ],
   "source": [
    "mlrun.get_version()"
   ]
  },
  {
   "cell_type": "code",
   "execution_count": 17,
   "metadata": {},
   "outputs": [],
   "source": [
    "import storey"
   ]
  },
  {
   "cell_type": "code",
   "execution_count": 3,
   "metadata": {},
   "outputs": [],
   "source": [
    "%nuclio env -c V3IO_ACCESS_KEY=${V3IO_ACCESS_KEY}\n",
    "%nuclio env -c V3IO_USERNAME=${V3IO_USERNAME}\n",
    "%nuclio env -c V3IO_API=${V3IO_API}"
   ]
  },
  {
   "cell_type": "code",
   "execution_count": 4,
   "metadata": {},
   "outputs": [],
   "source": [
    "%%nuclio cmd -c\n",
    "pip install beautifulsoup4\n",
    "pip install pandas\n",
    "pip install v3io_frames"
   ]
  },
  {
   "cell_type": "code",
   "execution_count": 5,
   "metadata": {},
   "outputs": [
    {
     "name": "stdout",
     "output_type": "stream",
     "text": [
      "%nuclio: setting kind to 'nuclio'\n",
      "%nuclio: setting spec.build.baseImage to 'mlrun/ml-models'\n"
     ]
    }
   ],
   "source": [
    "%%nuclio config \n",
    "kind = \"nuclio\"\n",
    "spec.build.baseImage = \"mlrun/ml-models\""
   ]
  },
  {
   "cell_type": "code",
   "execution_count": 6,
   "metadata": {},
   "outputs": [],
   "source": [
    "%nuclio cmd -c pip install v3io"
   ]
  },
  {
   "cell_type": "code",
   "execution_count": 7,
   "metadata": {},
   "outputs": [],
   "source": [
    "# nuclio: start-code"
   ]
  },
  {
   "cell_type": "code",
   "execution_count": 8,
   "metadata": {},
   "outputs": [],
   "source": [
    "import mlrun.feature_store as fs\n",
    "from mlrun.feature_store.steps import *\n",
    "import mlrun\n",
    "import pandas as pd\n",
    "import numpy\n",
    "import os\n",
    "import math"
   ]
  },
  {
   "cell_type": "code",
   "execution_count": 9,
   "metadata": {},
   "outputs": [],
   "source": [
    "def rm_inf(data):\n",
    "    print(data)\n",
    "    data = [0 if item == math.inf or item == -math.inf else item for item in data ]\n",
    "    #data = [0 for item in data if item == -math.inf]\n",
    "    return data"
   ]
  },
  {
   "cell_type": "code",
   "execution_count": 10,
   "metadata": {},
   "outputs": [],
   "source": [
    "def handler(context, event):\n",
    "    context.logger.info(\"Reading features from feature vector\")\n",
    "    stock_list = []\n",
    "    # Reading the data from feature service\n",
    "    service = fs.get_online_feature_service(\"stocks-vec\")\n",
    "    for key,value in context.sym_to_url.items():\n",
    "        context.logger.info(key)\n",
    "        data = service.get([{\"symbol\": key}])[0]\n",
    "        data[\"symbol\"] = key\n",
    "        stock_list.append(data)\n",
    "    \n",
    "    data = [rm_inf(list(item.values())) for item in stock_list]\n",
    "    \n",
    "    columns = [{'text': key, 'type': 'object'} for key in stock_list[0].keys()]\n",
    "    \n",
    "    response = [{'columns': columns,\n",
    "                'rows': data,\n",
    "                'type': 'table'}]\n",
    "    return response"
   ]
  },
  {
   "cell_type": "code",
   "execution_count": 11,
   "metadata": {},
   "outputs": [],
   "source": [
    "def init_context(context):\n",
    "    # Setting our enviornment\n",
    "    context.logger.info(\"Initalizing context & constructing featrure vector\")\n",
    "    setattr(context, 'PROJECT_NAME', os.getenv('PROJECT_NAME', 'stocks-' + os.getenv('V3IO_USERNAME')))\n",
    "    mlrun.set_environment(project=context.PROJECT_NAME)\n",
    "    \n",
    "    sym_to_url = {'GOOGL': 'google-inc', 'MSFT': 'microsoft-corp', 'AMZN': 'amazon-com-inc',\n",
    "                  'AAPL': 'apple-computer-inc', 'INTC' : 'intel-corp'}\n",
    "    setattr(context, 'sym_to_url', sym_to_url)\n",
    "    setattr(context, 'stocks_vec', \"stocks-vec\")\n",
    "    \n",
    "    # Declaring the features we would like to add to our vector\n",
    "    features = [\"stocks.prices_min_1h\",\n",
    "                \"stocks.prices_max_1h\",\n",
    "                \"stocks.volumes_min_1h\",\n",
    "                \"stocks.volumes_max_1h\",\n",
    "                \"stocks.price\",\n",
    "                \"stocks.volume\",\n",
    "                \"stocks.last_updated\",\n",
    "                \"news.sentiments_min_1h\",\n",
    "                \"news.sentiments_max_1h\",\n",
    "                \"news.sentiment\",\n",
    "                \"news.last_reaction\"]\n",
    "    \n",
    "    # Making our vector\n",
    "    vector = fs.FeatureVector(context.stocks_vec, features, description=\"stocks demo feature vector\")\n",
    "    vector.save()"
   ]
  },
  {
   "cell_type": "code",
   "execution_count": 12,
   "metadata": {},
   "outputs": [],
   "source": [
    "# nuclio: end-code"
   ]
  },
  {
   "cell_type": "code",
   "execution_count": 13,
   "metadata": {},
   "outputs": [
    {
     "name": "stdout",
     "output_type": "stream",
     "text": [
      "Python> 2021-04-06 11:57:37,216 [info] Initalizing context & constructing featrure vector\n",
      "Python> 2021-04-06 11:57:37,252 [info] Reading features from feature vector\n",
      "Python> 2021-04-06 11:57:37,310 [info] GOOGL\n",
      "Python> 2021-04-06 11:57:37,324 [info] MSFT\n",
      "Python> 2021-04-06 11:57:37,328 [info] AMZN\n",
      "Python> 2021-04-06 11:57:37,332 [info] AAPL\n",
      "Python> 2021-04-06 11:57:37,336 [info] INTC\n",
      "[-0.3333333333333333, -0.3333333333333333, inf, -inf, inf, -inf, 2219.06005859375, 36701.0, '2021-04-05 15:59:00-04:00', -0.3333333333333333, '2021-04-05 19:53:57', 'GOOGL']\n",
      "[0.3333333333333333, 0.6666666666666666, inf, -inf, inf, -inf, 249.0, 502948.0, '2021-04-05 15:59:00-04:00', 0.6666666666666666, '2021-04-04 11:00:54', 'MSFT']\n",
      "[1.0, 1.0, inf, -inf, inf, -inf, 3225.260009765625, 36889.0, '2021-04-05 15:59:00-04:00', 1.0, '2021-04-05 19:38:39', 'AMZN']\n",
      "[0.6666666666666666, 0.6666666666666666, inf, -inf, inf, -inf, 125.9000015258789, 1287009.0, '2021-04-05 15:59:00-04:00', 0.6666666666666666, '2021-04-05 16:00:15', 'AAPL']\n",
      "[-0.6666666666666666, -0.6666666666666666, inf, -inf, inf, -inf, 66.52999877929688, 595346.0, '2021-04-05 15:59:00-04:00', -0.6666666666666666, '2021-03-26 10:25:37', 'INTC']\n"
     ]
    }
   ],
   "source": [
    "# test local\n",
    "init_context(context)\n",
    "event = \"\"\n",
    "df = handler(context,event)"
   ]
  },
  {
   "cell_type": "code",
   "execution_count": 14,
   "metadata": {},
   "outputs": [],
   "source": [
    "# test remote deployment\n",
    "from mlrun import code_to_function\n",
    "project_name = \"stocks-\" + os.getenv('V3IO_USERNAME')\n",
    "fn = code_to_function('vector_reader',\n",
    "                      handler='handler')\n",
    "\n",
    "# Set parameters for current deployment\n",
    "fn.set_envs({'PROJECT_NAME' : project_name,\n",
    "             'STOCKS_STREAM':  os.getenv('V3IO_USERNAME') +' /stocks/stocks_stream'})\n",
    "fn.spec.max_replicas = 2"
   ]
  },
  {
   "cell_type": "code",
   "execution_count": 15,
   "metadata": {},
   "outputs": [
    {
     "name": "stdout",
     "output_type": "stream",
     "text": [
      "> 2021-04-06 11:57:44,604 [info] Starting remote function deploy\n",
      "2021-04-06 11:57:44  (info) Deploying function\n",
      "2021-04-06 11:57:44  (info) Building\n",
      "2021-04-06 11:57:44  (info) Staging files and preparing base images\n",
      "2021-04-06 11:57:44  (info) Building processor image\n",
      "2021-04-06 11:57:46  (info) Build complete\n",
      "> 2021-04-06 11:57:50,334 [info] function deployed, address=default-tenant.app.dev8.lab.iguazeng.com:31504\n"
     ]
    }
   ],
   "source": [
    "addr = fn.deploy(project=project_name)"
   ]
  },
  {
   "cell_type": "code",
   "execution_count": 16,
   "metadata": {},
   "outputs": [
    {
     "name": "stdout",
     "output_type": "stream",
     "text": [
      "[{\"columns\": [{\"text\": \"sentiments_min_1h\", \"type\": \"object\"}, {\"text\": \"sentiments_max_1h\", \"type\": \"object\"}, {\"text\": \"prices_min_1h\", \"type\": \"object\"}, {\"text\": \"prices_max_1h\", \"type\": \"object\"}, {\"text\": \"volumes_min_1h\", \"type\": \"object\"}, {\"text\": \"volumes_max_1h\", \"type\": \"object\"}, {\"text\": \"price\", \"type\": \"object\"}, {\"text\": \"volume\", \"type\": \"object\"}, {\"text\": \"last_updated\", \"type\": \"object\"}, {\"text\": \"sentiment\", \"type\": \"object\"}, {\"text\": \"last_reaction\", \"type\": \"object\"}, {\"text\": \"symbol\", \"type\": \"object\"}], \"rows\": [[-0.3333333333333333, -0.3333333333333333, 0, 0, 0, 0, 2219.06005859375, 36701.0, \"2021-04-05 15:59:00-04:00\", -0.3333333333333333, \"2021-04-05 19:53:57\", \"GOOGL\"], [0.3333333333333333, 0.6666666666666666, 0, 0, 0, 0, 249.0, 502948.0, \"2021-04-05 15:59:00-04:00\", 0.6666666666666666, \"2021-04-04 11:00:54\", \"MSFT\"], [1.0, 1.0, 0, 0, 0, 0, 3225.260009765625, 36889.0, \"2021-04-05 15:59:00-04:00\", 1.0, \"2021-04-05 19:38:39\", \"AMZN\"], [0.6666666666666666, 0.6666666666666666, 0, 0, 0, 0, 125.9000015258789, 1287009.0, \"2021-04-05 15:59:00-04:00\", 0.6666666666666666, \"2021-04-05 16:00:15\", \"AAPL\"], [-0.6666666666666666, -0.6666666666666666, 0, 0, 0, 0, 66.52999877929688, 595346.0, \"2021-04-05 15:59:00-04:00\", -0.6666666666666666, \"2021-03-26 10:25:37\", \"INTC\"]], \"type\": \"table\"}]"
     ]
    }
   ],
   "source": [
    "!curl {addr}"
   ]
  }
 ],
 "metadata": {
  "kernelspec": {
   "display_name": "Python 3",
   "language": "python",
   "name": "python3"
  },
  "language_info": {
   "codemirror_mode": {
    "name": "ipython",
    "version": 3
   },
   "file_extension": ".py",
   "mimetype": "text/x-python",
   "name": "python",
   "nbconvert_exporter": "python",
   "pygments_lexer": "ipython3",
   "version": "3.7.6"
  }
 },
 "nbformat": 4,
 "nbformat_minor": 4
}
