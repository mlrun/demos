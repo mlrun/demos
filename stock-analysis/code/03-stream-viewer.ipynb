{
 "cells": [
  {
   "cell_type": "markdown",
   "metadata": {},
   "source": [
    "# Real-Time Stream Viewer (HTTP)\n",
    "the following function responds to HTTP requests with the list of last 10 processed twitter messages + sentiments in reverse order (newest on top), it reads records from the enriched stream, take the recent 10 messages, and reverse sort them. the function is using nuclio context to store the last results and stream pointers for max efficiency.<br> \n",
    "\n",
    "The code is automatically converted into a nuclio (serverless) function and and respond to HTTP requests<br>\n",
    "\n",
    "the example demonstrate the use of `%nuclio` magic commands to specify environment variables, package dependencies,<br>configurations, and to deploy functions automatically onto a cluster.\n",
    "\n",
    "\n",
    "## Initialize nuclio emulation, environment variables and configuration\n",
    "use `# nuclio: ignore` for sections that don't need to be copied to the function"
   ]
  },
  {
   "cell_type": "code",
   "execution_count": 1,
   "metadata": {},
   "outputs": [],
   "source": [
    "# nuclio: ignore\n",
    "# if the nuclio-jupyter package is not installed run !pip install nuclio-jupyter\n",
    "import nuclio "
   ]
  },
  {
   "cell_type": "code",
   "execution_count": 2,
   "metadata": {},
   "outputs": [],
   "source": [
    "%nuclio env -c V3IO_ACCESS_KEY=${V3IO_ACCESS_KEY}\n",
    "%nuclio env -c V3IO_USERNAME=${V3IO_USERNAME}\n",
    "%nuclio env -c V3IO_API=${V3IO_API}"
   ]
  },
  {
   "cell_type": "markdown",
   "metadata": {},
   "source": [
    "### Set function configuration \n",
    "use a cron trigger with 5min interval and define the base image<br>\n",
    "for more details check [nuclio function configuration reference](https://github.com/nuclio/nuclio/blob/master/docs/reference/function-configuration/function-configuration-reference.md)"
   ]
  },
  {
   "cell_type": "code",
   "execution_count": 3,
   "metadata": {},
   "outputs": [
    {
     "name": "stdout",
     "output_type": "stream",
     "text": [
      "%nuclio: setting kind to 'nuclio'\n",
      "%nuclio: setting spec.build.baseImage to 'mlrun/mlrun'\n"
     ]
    }
   ],
   "source": [
    "%%nuclio config \n",
    "kind = \"nuclio\"\n",
    "spec.build.baseImage = \"mlrun/mlrun\""
   ]
  },
  {
   "cell_type": "markdown",
   "metadata": {},
   "source": [
    "### Install required packages\n",
    "`%nuclio cmd` allows you to run image build instructions and install packages<br>\n",
    "Note: `-c` option will only install in nuclio, not locally"
   ]
  },
  {
   "cell_type": "code",
   "execution_count": 4,
   "metadata": {},
   "outputs": [],
   "source": [
    "%nuclio cmd -c pip install v3io"
   ]
  },
  {
   "cell_type": "markdown",
   "metadata": {},
   "source": [
    "## Nuclio function implementation\n",
    "this function can run in Jupyter or in nuclio (real-time serverless)"
   ]
  },
  {
   "cell_type": "code",
   "execution_count": 5,
   "metadata": {},
   "outputs": [],
   "source": [
    "import v3io.dataplane\n",
    "import json\n",
    "import os\n",
    "\n",
    "def init_context(context):\n",
    "    access_key = os.getenv('V3IO_ACCESS_KEY', None)\n",
    "    setattr(context, 'container', os.getenv('V3IO_CONTAINER', 'bigdata'))\n",
    "    setattr(context, 'stream_path', os.getenv('STOCKS_STREAM', 'stocks/stocks_stream'))\n",
    "    \n",
    "    v3io_client = v3io.dataplane.Client(endpoint=os.getenv('V3IO_API', None), access_key=access_key)\n",
    "    setattr(context, 'data', [])\n",
    "    setattr(context, 'v3io_client', v3io_client) \n",
    "    setattr(context, 'limit', os.getenv('LIMIT', 10))\n",
    "    try:\n",
    "        resp = v3io_client.seek_shard(container=context.container, path=f'{context.stream_path}/0', seek_type='EARLIEST')\n",
    "        setattr(context, 'next_location', resp.output.location)\n",
    "    except:\n",
    "        context.logger.info('Stream not updated yet')\n",
    "    \n",
    "\n",
    "    \n",
    "def handler(context, event):\n",
    "    \n",
    "    if hasattr(context, 'next_location'):\n",
    "        resp = context.v3io_client.get_records(container=context.container, path=f'{context.stream_path}/0', location=context.next_location, limit=context.limit)\n",
    "    else:\n",
    "        resp = context.v3io_client.seek_shard(container=context.container, path=f'{context.stream_path}/0', seek_type='EARLIEST')\n",
    "        setattr(context, 'next_location', resp.output.location)\n",
    "    context.next_location = resp.output.next_location\n",
    "    context.logger.info('location: %s', context.next_location)\n",
    "\n",
    "    for rec in resp.output.records:\n",
    "        rec_data = rec.data.decode('utf-8')\n",
    "        rec_json = json.loads(rec_data)\n",
    "        context.data.append({'Time': rec_json['time'],\n",
    "                             'Symbol': rec_json['symbol'],\n",
    "                             'Sentiment': rec_json['sentiment'],\n",
    "                             'Link': rec_json['link'],\n",
    "                             'Content': rec_json['content']})\n",
    "\n",
    "    context.data = context.data[-context.limit:]\n",
    "    \n",
    "    columns = [{'text': key, 'type': 'object'} for key in ['Time', 'Symbol', 'Sentiment', 'Link', 'Content']]\n",
    "    data = [list(item.values()) for item in context.data]\n",
    "    response = [{'columns': columns,\n",
    "                'rows': data,\n",
    "                'type': 'table'}]\n",
    "\n",
    "    return response\n",
    "                            "
   ]
  },
  {
   "cell_type": "code",
   "execution_count": 6,
   "metadata": {},
   "outputs": [],
   "source": [
    "# nuclio: end-code"
   ]
  },
  {
   "cell_type": "markdown",
   "metadata": {},
   "source": [
    "## Function invocation\n",
    "the following section simulates nuclio function invocation and will emit the function results"
   ]
  },
  {
   "cell_type": "code",
   "execution_count": null,
   "metadata": {},
   "outputs": [],
   "source": [
    "# create a test event and invoke the function locally\n",
    "init_context(context)\n",
    "event = nuclio.Event(body='')\n",
    "handler(context, event)"
   ]
  },
  {
   "cell_type": "markdown",
   "metadata": {},
   "source": [
    "## Deploy a function onto a cluster\n",
    "the `%nuclio deploy` command deploy functions into a cluster, make sure the notebook is saved prior to running it !<br>check the help (`%nuclio help deploy`) for more information"
   ]
  },
  {
   "cell_type": "code",
   "execution_count": 8,
   "metadata": {},
   "outputs": [
    {
     "name": "stdout",
     "output_type": "stream",
     "text": [
      "> 2020-10-14 07:14:08,052 [info] function spec saved to path: 03-stream-viewer.yaml\n"
     ]
    }
   ],
   "source": [
    "from mlrun import code_to_function\n",
    "\n",
    "# Export the bare function\n",
    "fn = code_to_function('stream-viewer',\n",
    "                      handler='handler')\n",
    "fn.export('03-stream-viewer.yaml')\n",
    "\n",
    "# Set parameters for current deployment\n",
    "fn.set_envs({'V3IO_CONTAINER': 'bigdata',\n",
    "             'STOCKS_STREAM': 'stocks/stocks_stream'})\n",
    "fn.spec.max_replicas = 2"
   ]
  },
  {
   "cell_type": "code",
   "execution_count": 9,
   "metadata": {},
   "outputs": [
    {
     "name": "stdout",
     "output_type": "stream",
     "text": [
      "> 2020-10-14 07:14:13,248 [info] deploy started\n",
      "[nuclio] 2020-10-14 07:14:36,645 (info) Build complete\n",
      "[nuclio] 2020-10-14 07:14:44,750 (info) Function deploy complete\n",
      "[nuclio] 2020-10-14 07:14:44,758 done updating stocks-stream-viewer, function address: 192.168.224.209:30617\n",
      "> 2020-10-14 07:14:44,771 [warning] warning!, server (0.5.1) and client (0.5.2) ver dont match\n"
     ]
    }
   ],
   "source": [
    "addr = fn.deploy(project='stocks')"
   ]
  },
  {
   "cell_type": "code",
   "execution_count": 10,
   "metadata": {},
   "outputs": [
    {
     "name": "stdout",
     "output_type": "stream",
     "text": [
      "[{\"columns\": [{\"text\": \"Time\", \"type\": \"object\"}, {\"text\": \"Symbol\", \"type\": \"object\"}, {\"text\": \"Sentiment\", \"type\": \"object\"}, {\"text\": \"Link\", \"type\": \"object\"}, {\"text\": \"Content\", \"type\": \"object\"}], \"rows\": [[\"2020-10-04 12:11:05\", \"GOOGL\", -0.12, \"https://www.investing.com/news/world-news/shorthanded-us-supreme-court-returns-with-major-challenges-ahead-2315028\", \"By Lawrence Hurley\\nWASHINGTON (Reuters) - The U.S. Supreme Court begins its new nine-month term on Monday buffeted by the death of liberal Justice Ruth Bader Ginsburg, a Senate confirmation battle over her successor, the coronavirus pandemic and the approaching presidential election whose outcome the justices may be called upon to help decide.\\nAmid the maelstrom, the shorthanded court - with eight justices rather than a full complement of nine - also has a series of major cases to tackle, including a Republican bid to invalidate the Obamacare healthcare law set to be argued on Nov. 10, a week after Election Day.\\nIf President Donald Trump s nominee to replace Ginsburg, federal appeals court judge Amy Coney Barrett, is confirmed as expected by a Senate controlled by his fellow Republicans, the court s ideological balance would tilt further rightward with a potent 6-3 conservative majority.\\nThe court kicks off its term according to custom on the first Monday of October. It will begin unlike any other, with two cases being argued by teleconference due to the coronavirus pandemic. The court for the first time began hearing cases that way in May, and will continue doing so at least at the term s outset.\\nThe court building, where large crowds of mourners gathered outside after Ginsburg s death of Sept. 18, remains closed to the public because of the pandemic.\\nThe confluence of events is a test of leadership for conservative Chief Justice John Roberts, who in February also presided over a Senate impeachment trial that ended in Trump s acquittal on charges of abuse of power and obstruction of Congress for pressing Ukraine to investigate his Democratic election rival Joe Biden. \\nRoberts is known as a institutionalist who prizes the court s independence.\\n\\\"He would like to be a steady hand and wants the court to be on a steady path,\\\" said Nicole Saharsky, a lawyer who argues cases before the justices.\\nThe most anticipated case in the term s first week comes on Wednesday, when the justices weigh a multibillion-dollar software copyright dispute between Alphabet  Inc s Google and  Oracle Corp  . The case involves Oracle s accusation that Google infringed its software copyrights to build the Android operating system used in smartphones.\\nIn the Obamacare case, Barrett could cast a pivotal vote.\\nA group of Democratic-led states including California and New York are striving to preserve the 2010 law, formally known as the Affordable Care Act, in a case in which Republican-led states and Trump s administration are trying to strike it down.\\nObamacare has helped roughly 20 million Americans obtain medical insurance either through government programs or through policies from private insurers made available in Obamacare marketplaces. It also bars insurers from refusing to cover people with pre-existing medical conditions. Republican opponents have called the law an unwarranted intervention by government in health insurance markets.\\nThe Supreme Court previously upheld it 5-4 in a 2012 ruling in which Roberts cast the crucial vote. It rejected another challenge 6-3 in 2015. Ginsburg was in the majority both times.\\nBarrett in the past criticized those two rulings. Democrats opposing her nomination have emphasized that she might vote to strike down Obamacare, although legal experts think the court is unlikely to do so.\\nRELIGIOUS RIGHTS\\nThe court hears another major case on Nov. 4 concerning the scope of religious-rights exemptions to certain federal laws. The dispute arose from Philadelphia s decision to bar a local Roman Catholic entity from participating in the city s foster-care program because the organization prohibits same-sex couples from serving as foster parents.\\nThe justices already have tackled multiple election-related emergency requests this year, some related to rules changes prompted by the pandemic. More are likely.\\nThe conservative majority has sided with state officials opposed to courts imposing changes to election procedures to make it easier to vote during the pandemic.\\nTrump has said he wants Barrett to be confirmed before Election Day so she could cast a decisive vote in any election-related dispute, potentially in his favor. He has said he expects the Supreme Court to decide the outcome of the election, though it has done so only once - the disputed 2000 contest ultimately awarded to Republican George W. Bush.\\nDemocrats have said they will query Barrett during confirmation hearings set to begin on Oct. 12 on whether she should recuse herself in certain election-related cases. Justices have the final say on whether they step aside in a case.\\nJeffrey Rosen, president of the nonprofit National Constitution Center, said at an event on Friday hosted by the libertarian Pacific Legal Foundation that he expects the court either to stay out of major election cases or, if unable to do so, to try to reach a unanimous outcome.\\n\\\"The court s legitimacy is crucially important to all the justices in this extraordinarily fragile time,\\\" Rosen added. \\n\\nIf the court is divided 4-4 in any cases argued before a new justice is seated, it could hold a second round of oral arguments so the new justice could participate. \"], [\"2020-10-04 09:00:16\", \"GOOGL\", -0.5, \"https://www.investing.com/news/cryptocurrency-news/xrp-ledger-blockchain-energizes-decarbonization-but-tokenization-a-challenge-2315010\", \"As tech giants like Google  and Facebook  announce plans to become carbon-neutral businesses by 2030, smaller companies are doing the same. The only difference is that innovative startups are taking clever approaches that seek to be more effective than those implemented by large, centralized companies.\\nFor example, Ripple \\u2014 a fintech company that allows banks, payment providers and digital asset exchanges to send money using blockchain \\u2014 has committed to becoming carbon net-zero by 2030. In order to meet this goal, Ripple has unveiled a set of initiatives driven largely by blockchain technology.\"], [\"2020-10-04 07:05:43\", \"GOOGL\", -0.20833333333333334, \"https://www.investing.com/news/stock-market-news/trumps-diagnosis-fuels-uncertainty-for-skittish-us-stock-market-2314978\", \"By April Joyner and Lewis Krauskopf\\n(Reuters) - Investors are gauging how a potential deterioration in President Donald Trump s health could impact asset prices in coming weeks, as the U.S. leader remains hospitalized after being diagnosed with COVID-19.\\nSo far, markets have been comparatively sanguine: hopes of a breakthrough in talks among U.S. lawmakers on another stimulus package took the edge off a stock market selloff on Friday, with the S&P 500 losing less than 1% and so-called safe-haven assets seeing limited demand. News of Trump s hospitalization at a military medical center outside Washington, where he remained on Saturday, came after trading ended on Friday. \\nMany investors are concerned, however, that a serious decline in Trump\\u2019s health less than a month before Americans go to the polls on Nov. 3 could roil a U.S. stock market that recently notched its worst monthly performance since its selloff in March while causing turbulence in other assets. \\nIf the president\\u2019s health is in jeopardy, there s \\\"too much uncertainty in the situation for the markets just to shrug it off,\\\" said Willie Delwiche, investment strategist at Baird. \\nThe various outcomes investors currently envision run the gamut from a quick recovery that bolsters Trump s image as a fighter to a drawn-out illness or death stoking uncertainty and drying up risk appetite across markets. \\nShould uncertainty persist, technology and momentum stocks that have led this year s rally may be particularly vulnerable to a selloff, some investors said. The tech-heavy Nasdaq fell more than 2% on Friday, double the S&P 500 s decline. \\n\\\"If people ... get nervous right now, probably it manifests itself in crowded trades like tech and mega-cap being unwound a bit,\\\" Delwiche said\\nA record 80% of fund managers surveyed last month by BofA Global Research said that buying technology stocks was the market s \\\"most crowded\\\" trade. \\nThe concentration of investors in big tech stocks has also raised concerns over their outsized sway on moves in the broader market.\\nThe largest five U.S. companies \\u2013 Google parent Alphabet , Amazon , Apple , Facebook , and Microsoft  \\u2013 now account for almost 25% of the S&P 500 s market capitalization, according to research firm Oxford Economics.\\nFISCAL STIMULUS TALKS\\nTrump\\u2019s diagnosis has intensified the spotlight on the fiscal stimulus talks in Washington, with investors saying agreement on another aid package could act as a stabilizing force on markets in the face of election-related uncertainty. \\nU.S. House of Representatives Speaker Nancy Pelosi, a Democrat, said on Friday that negotiations were continuing, but she is waiting for a response from the White House on key areas. \\nFresh stimulus could speed economic healing from the impact of the pandemic, which has put millions of Americans out of work, and benefit economically-sensitive companies whose stock performance has lagged this year, investors said. \\nFor those who are underweight stocks, \\\"we would be using this volatility as an opportunity to increase equities because we think we re in an early-stage economic recovery,\\\" said Keith Lerner, chief market strategist at Truist/SunTrust Advisory.\\nMarket action on Friday suggested some investors may have been positioning for a stimulus announcement in the midst of the selloff.\\nThe S&P 500 sectors representing industrials and financials, two groups that are more sensitive to a broad economic recovery, rallied 1.1% and 0.7%, respectively, while the broader index declined.\\nEven with worries over Trump s condition, \\\"the fiscal program has been the loudest noise in the market,\\\" said Arnim Holzer, macro and correlation defense strategist at EAB Investment Group.\\nInvestor hedges against election-related market swings put in place over the last few months may have softened Friday s decline and could, to a degree, mitigate future volatility, said Christopher Stanton of hedge fund Sunrise Capital Partners LLC.\\nDespite Trump s illness, futures on the Cboe Volatility Index continued to show expectations of elevated volatility after the Nov. 3 vote, a pattern consistent with concerns of a contested election.\\nNagging doubts over whether the Republican president would agree to hand over the keys to the White House if he loses have grown in recent weeks. During his first debate with Democratic challenger Joe Biden on Tuesday, Trump declined to commit to accepting the results, repeating his unfounded complaint that mail-in ballots would lead to election fraud.\\n\\n\\\"If Trump s health does not recover ... then he might give up on contesting the election,\\\" said Michael Purves, chief executive of Tallbacken Capital Advisors. But \\\"markets are not shifting off the contested election thing right now.\\\"\"], [\"2020-10-03 12:37:59\", \"GOOGL\", -0.0625, \"https://www.investing.com/news/stock-market-news/pointcounterpoint-the-case-for-palantir-2314278\", \"By Peter Nurse and Yasin Ebrahim\\nInvesting.com -- It\\u2019s taken some time in coming but Palantir Technologies Inc  has finally gone public, providing investors with an excellent opportunity to benefit from growth at a major player in the key area of data analysis.\\nAs American management consultant Geoffrey Moore said, \\u201cwithout big data, you are blind and deaf and in the middle of a freeway.\\u201d\\nFollowing years of secrecy, given its ties with customers including spy, law enforcement and military agencies, Palantir\\u2019s foray into the public market has forced it to pull back the curtain on its operations and revealed fundamentals that have some scratching their hands.\\nInvesting.com s Peter Nurse argues the bull case for the newly minted stock, while Yasin Ebrahim explains why it s a wait-and-see. This is Point/Counterpoint.\\nThe Bull Case\\nPalantir provides governments and corporations with the tools required to organize and glean insights from mounds of data, helping in areas as varied as detailing the spread of the novel coronavirus to tracking the activities of terrorists.\\nThe U.S. data analytics firm made its debut on New York Stock Exchange debut on Wednesday, after years of speculation, via a direct listing and without the usual razzmatazz surrounding a traditional IPO. \\nIt\\u2019s true the stock is trading below its $10 opening price, but this is still well above its reference price of $7.25 and things are likely to look very different when the Street starts its coverage.\\nThe company has yet to make a profit, but surely that won t be long in coming given its losses in the first six months of 2020 totaled $164 million, down from $280 million the same period a year prior.\\nPalantir anticipates 42% revenue growth in 2020 to about $1.06 billion, according to a filing earlier this week, with gross margins for the first half of this year at an impressive 73%. It also forecasts revenue growth of more than 30% next year. \\nPalantir was formed in 2003 in the wake of the 9-11 attacks, with its first major backer \\u2013 the CIA\\u2019s venture arm, In-Q-Tel. It was one of the first companies in this space and thus has had a head start in developing the required technology.\\nWhile Palantir still analyzes large amounts of data for U.S. government defense and intelligence agencies -- contracts which tend to be frequently rolled over -- the private sector has become increasingly more important. \\nIn fact, Palantir now says that a little more than half of its customers come from the private sector instead of governments. And there will undoubtedly be increasing demand from companies given the massive amounts of data they generate.\\n\\\"Broadly speaking Covid has been a tailwind for our business,\\\" Chief Operating Officer Shyam Sankar said in a recent interview. \\\"We started 83 new engagements with customers in the first three weeks of Covid without getting on a plane.\\\"\\nThe coronavirus pandemic has forced companies to revisit how they do business, and the Covid era doesn\\u2019t look like ending anytime soon.\"], [\"2020-10-03 11:30:27\", \"GOOGL\", -0.76, \"https://www.investing.com/news/stock-market-news/paytm-other-indian-startups-vow-to-fight-big-daddy-googles-clout-sources-2314771\", \"By Aditya Kalra\\nNEW DELHI (Reuters) - Dozens of India s technology startups, chafing at Google s local dominance of key apps, are banding together to consider ways to challenge the U.S. tech giant, including by lodging complaints with the government and courts, executives told Reuters.\\nAlthough Google, owned by Alphabet Inc , has worked closely with India s booming startup sector and is ramping up its investments, it has recently angered many tech companies with what they say are unfair practices.\\nSetting the stage for a potential showdown, entrepreneurs held two video conferences this week to strategise, three executives told Reuters.\\n\\\"It s definitely going to be a bitter fight,\\\" said Dinesh Agarwal, CEO of e-commerce firm IndiaMART . \\\"Google will lose this battle. It s just a matter of time.\\\"\\nHe said executives have discussed forming a new startup association aimed chiefly at lodging protests with the Indian government and courts against the Silicon Valley company.\\nNearly 99% of the smartphones of India s half a billion users run on Google s Android mobile operating system. Some Indian startups say that allows Google to exert excessive control over the types of apps and other services they can offer, an allegation the company denies.\\nThe uproar began last month when Google removed popular payments app Paytm from its Play Store, citing policy violations. This led to a sharp rebuke from the Indian firm s founder, Vijay Shekhar Sharma, whose app returned to the Google platform a few hours later, after Paytm made certain changes.\\nIn a video call on Tuesday, Sharma called Google the \\\"big daddy\\\" that controls the \\\"oxygen supply of (app) distribution\\\" on Android phones, according to an attendee. He urged the roughly 50 executives on the call to join hands to \\\"stop this tsunami.\\\"\\n\\\"If we together don t do anything, then history will not be kind to us. We have to control our digital destiny,\\\" Sharma said.\\nOne idea raised was to launch a local rival to Google s app store, but Sharma said this would not be immediately effective given Google s dominance, one source said.\\nSharma and Paytm, which is backed by Japan s SoftBank Group Corp (T:9984), did not respond to requests for comment.\\nGoogle declined to comment. It has previously said its policies aim to protect Android users and that it applies and enforces them consistently on developers.\\nSTRAINING TIES\\nThis week the U.S. company angered some Indian startups by deciding to enforce a 30% commission it charges on payments made within apps on the Android store.\\nTwo dozen executives were on a call on Friday where many slammed that decision. They discussed filing antitrust complaints and approaching Google s India head for discussions, said two sources with direct knowledge of the call.\\nParticipants included sports technology firm Dream Sports, backed by U.S. hedge fund Tiger Global, social media company ShareChat and digital payments firm PhonePe, the sources said. None of those companies responded to requests for comment.\\nGoogle defends the policy, saying 97% of apps worldwide comply with it.\\nGoogle already faces an antitrust case related to its payments app in India and a competition investigation into claims it abused Android s dominant position. The company says it complies with all laws. \\nThese spats strain Google s strong ties to Indian startups. It has invested in some and helped hundreds with product development. In July, its Indian-born CEO Sundar Pichai committed $10 billion in new investments over five to seven years.\\nThe conflict \\\"is counterproductive to what Google has been doing - it s an odd place for them to be,\\\" said a senior tech executive familiar with Google s thinking. \\\"It s a reputation issue. It s in the interest of Google to resolve this issue.\\\"\\nGoogle looms over every aspect of the industry.\\nPaytm on Saturday told several startup founders, in a communication seen by Reuters, that it was collating input on challenges to Google Play Store and its policies to submit to the authorities.\\n\\nTo craft their attack, they are using a shared Google document.\"], [\"2020-10-03 08:40:14\", \"GOOGL\", -0.5, \"https://www.investing.com/news/cryptocurrency-news/xrp-ledger-blockchain-energizes-decarbonization-but-tokenization-a-challenge-2314731\", \"As tech giants like Google  and Facebook  announce plans to become carbon-neutral businesses by 2030, smaller companies are doing the same. The only difference is that innovative startups are taking clever approaches that seek to be more effective than those implemented by large, centralized companies.\\nFor example, Ripple \\u2014 a fintech company that allows banks, payment providers and digital asset exchanges to send money using blockchain \\u2014 has committed to becoming carbon net-zero by 2030. In order to meet this goal, Ripple has unveiled a set of initiatives driven largely by blockchain technology.\"], [\"2020-10-03 00:35:40\", \"GOOGL\", -0.4, \"https://www.investing.com/news/technology-news/twitter-ceo-dorsey-will-testify-before-us-senate-committee-on-october-28-2314628\", \"By David Shepardson and Nandita Bose\\nWASHINGTON (Reuters) - The chief executives of Facebook  TWTR) and Alphabet-owned Google  have agreed to voluntarily testify at a hearing before the Senate Commerce Committee on Oct. 28 about a key law protecting internet companies. \\nFacebook and Twitter confirmed on Friday that their CEOs, Mark Zuckerberg and Jack Dorsey, respectively, will appear, while a source said that Google s Sundar Pichai will appear. That came a day after the committee unanimously voted to approve a plan to subpoena the three CEOs to appear before the panel.\\nTwitter s Dorsey tweeted on Friday that the hearing \\\"must be constructive & focused on what matters most to the American people: how we work together to protect elections.\\\"\\nThe CEOs are to appear virtually. \\nIn addition to discussions on reforming the law called Section 230 of the Communications Decency Act, which protects internet companies from liability over content posted by users, the hearing will bring up issues about consumer privacy and media consolidation.\\nRepublican President Donald Trump has made holding tech companies accountable for allegedly stifling conservative voices a theme of his administration. As a result, calls for a reform of Section 230 have been intensifying ahead of the Nov. 3 elections, but there is little chance of approval by Congress this year.\\nLast week Trump met with nine Republican state attorneys general to discuss the fate of Section 230 after the Justice Department unveiled a legislative proposal aimed at reforming the law.\\n\\nThe chief executives of Google, Facebook, Apple Inc   and Amazon.com Inc  recently testified before the House of Representatives Judiciary Committee\\u2019s antitrust panel. The panel, which is investigating how the companies\\u2019 practices hurt rivals, is expected to release its report as early as next Monday.\"], [\"2020-10-04 07:05:43\", \"MSFT\", -0.20833333333333334, \"https://www.investing.com/news/stock-market-news/trumps-diagnosis-fuels-uncertainty-for-skittish-us-stock-market-2314978\", \"By April Joyner and Lewis Krauskopf\\n(Reuters) - Investors are gauging how a potential deterioration in President Donald Trump s health could impact asset prices in coming weeks, as the U.S. leader remains hospitalized after being diagnosed with COVID-19.\\nSo far, markets have been comparatively sanguine: hopes of a breakthrough in talks among U.S. lawmakers on another stimulus package took the edge off a stock market selloff on Friday, with the S&P 500 losing less than 1% and so-called safe-haven assets seeing limited demand. News of Trump s hospitalization at a military medical center outside Washington, where he remained on Saturday, came after trading ended on Friday. \\nMany investors are concerned, however, that a serious decline in Trump\\u2019s health less than a month before Americans go to the polls on Nov. 3 could roil a U.S. stock market that recently notched its worst monthly performance since its selloff in March while causing turbulence in other assets. \\nIf the president\\u2019s health is in jeopardy, there s \\\"too much uncertainty in the situation for the markets just to shrug it off,\\\" said Willie Delwiche, investment strategist at Baird. \\nThe various outcomes investors currently envision run the gamut from a quick recovery that bolsters Trump s image as a fighter to a drawn-out illness or death stoking uncertainty and drying up risk appetite across markets. \\nShould uncertainty persist, technology and momentum stocks that have led this year s rally may be particularly vulnerable to a selloff, some investors said. The tech-heavy Nasdaq fell more than 2% on Friday, double the S&P 500 s decline. \\n\\\"If people ... get nervous right now, probably it manifests itself in crowded trades like tech and mega-cap being unwound a bit,\\\" Delwiche said\\nA record 80% of fund managers surveyed last month by BofA Global Research said that buying technology stocks was the market s \\\"most crowded\\\" trade. \\nThe concentration of investors in big tech stocks has also raised concerns over their outsized sway on moves in the broader market.\\nThe largest five U.S. companies \\u2013 Google parent Alphabet , Amazon , Apple , Facebook , and Microsoft  \\u2013 now account for almost 25% of the S&P 500 s market capitalization, according to research firm Oxford Economics.\\nFISCAL STIMULUS TALKS\\nTrump\\u2019s diagnosis has intensified the spotlight on the fiscal stimulus talks in Washington, with investors saying agreement on another aid package could act as a stabilizing force on markets in the face of election-related uncertainty. \\nU.S. House of Representatives Speaker Nancy Pelosi, a Democrat, said on Friday that negotiations were continuing, but she is waiting for a response from the White House on key areas. \\nFresh stimulus could speed economic healing from the impact of the pandemic, which has put millions of Americans out of work, and benefit economically-sensitive companies whose stock performance has lagged this year, investors said. \\nFor those who are underweight stocks, \\\"we would be using this volatility as an opportunity to increase equities because we think we re in an early-stage economic recovery,\\\" said Keith Lerner, chief market strategist at Truist/SunTrust Advisory.\\nMarket action on Friday suggested some investors may have been positioning for a stimulus announcement in the midst of the selloff.\\nThe S&P 500 sectors representing industrials and financials, two groups that are more sensitive to a broad economic recovery, rallied 1.1% and 0.7%, respectively, while the broader index declined.\\nEven with worries over Trump s condition, \\\"the fiscal program has been the loudest noise in the market,\\\" said Arnim Holzer, macro and correlation defense strategist at EAB Investment Group.\\nInvestor hedges against election-related market swings put in place over the last few months may have softened Friday s decline and could, to a degree, mitigate future volatility, said Christopher Stanton of hedge fund Sunrise Capital Partners LLC.\\nDespite Trump s illness, futures on the Cboe Volatility Index continued to show expectations of elevated volatility after the Nov. 3 vote, a pattern consistent with concerns of a contested election.\\nNagging doubts over whether the Republican president would agree to hand over the keys to the White House if he loses have grown in recent weeks. During his first debate with Democratic challenger Joe Biden on Tuesday, Trump declined to commit to accepting the results, repeating his unfounded complaint that mail-in ballots would lead to election fraud.\\n\\n\\\"If Trump s health does not recover ... then he might give up on contesting the election,\\\" said Michael Purves, chief executive of Tallbacken Capital Advisors. But \\\"markets are not shifting off the contested election thing right now.\\\"\"], [\"2020-10-02 21:25:59\", \"MSFT\", -0.5, \"https://www.investing.com/news/coronavirus/futures-sink-as-trump-tests-positive-for-covid19-2313994\", \"By Stephen Culp\\nNEW YORK (Reuters) - U.S. stocks closed lower on Friday as news that U.S. President Donald Trump tested positive for COVID-19 put investors in a risk-off mood and added to mounting uncertainties surrounding the looming election.\\nTech shares weighed heaviest on the indexes, but the blue-chip Dow s losses were mitigated by gains in economically sensitive cyclical stocks.\\nDespite Friday s sell-off, the S&P and the Nasdaq both gained 1.5% on the week, while the Dow ended the session 1.9% higher than last Friday s close.\\nTrump tweeted late Thursday that he had contracted the coronavirus and would be placed under quarantine, compounding the unknowns for an already volatile market. \\nBut stocks pared losses after the White House provided assurances that Trump, while experiencing mild symptoms, is not incapacitated. \\n\\\"This injects further uncertainty into the outcome of the election,\\\" said Roberto Perli, head of global policy research at Cornerstone Macro in Washington. \\\"My read is that markets have demonstrated an aversion of late especially to uncertainty, not so much to one or the other candidate winning.\\\" \\nEquities also got a brief boost after U.S. House of Representatives Speaker Nancy Pelosi s announcement that an agreement to provide another $25 billion in government assistance to the airline industry was \\\"imminent.\\\" \\n\\\"Markets are also paying attention to the likelihood that another stimulus package will pass soon,\\\" Perli added. \\\"If that happens it could offset at least in part the uncertainty generated by the COVID news.\\\" \\nHouse Democrats passed a $2.2 trillion fiscal aid package on Thursday, but the bill is unlikely to be approved in the Republican-controlled Senate.\\nPartisan wrangling over the size and details of a new round of stimulus have stalled, over two months after emergency unemployment benefits expired for millions of Americans. \\nData released on Friday showed the recovery of the labor market could be losing steam. The U.S. economy added 661,000 jobs in September, fewer than expected and the slowest increase since the recovery began in May.\\nPayrolls remain a long way from regaining the 22 million jobs lost since the initial shutdown, and the ranks of the permanently unemployed are swelling. \\nThe Dow Jones Industrial Average (DJI) fell 134.09 points, or 0.48%, to 27,682.81, the S&P 500 (SPX) lost 32.36 points, or 0.96%, to 3,348.44 and the Nasdaq Composite (IXIC) dropped 251.49 points, or 2.22%, to 11,075.02.\\nOf the 11 major sectors in the S&P 500, tech (SPLRCT) suffered the biggest loss, while real estate <.SPLRCR> and utilities (SPLRCU) enjoyed the largest percentage gains.\\nIn a reversal from recent sessions, market leaders Apple Inc  Amazon.com  and  Microsoft Corp   were the heaviest drags on the S&P and the Nasdaq.\\nCommercial air carriers rose on news off a possible new round of government aid, with the S&P 1500 Airline index <.SPCOMAIR> rising 2.3%.\\nTesla Inc  shares plunged 7.4% after the electric car maker s third quarter vehicle deliveries, while reaching a new record, underwhelmed investors.\\nAdvancing issues outnumbered declining ones on the NYSE by a 1.45-to-1 ratio; on Nasdaq, a 1.13-to-1 ratio favored decliners.\\nThe S&P 500 posted six new 52-week highs and one new low; the Nasdaq Composite recorded 56 new highs and 34 new lows. \\nVolume on U.S. exchanges was 9.30 billion shares, compared with the 9.93 billion average over the last 20 trading days. \\n\"], [\"2020-10-02 21:25:35\", \"MSFT\", -0.23076923076923078, \"https://www.investing.com/news/stock-market-news/us-stocks-lower-at-close-of-trade-dow-jones-industrial-average-down-048-2314575\", \"Investing.com \\u2013 U.S. stocks were lower after the close on Friday, as losses in the Technology, Consumer Services and Consumer Goods sectors led shares lower.\\nAt the close in NYSE, the Dow Jones Industrial Average lost 0.48%, while the S&P 500 index declined 0.96%, and the NASDAQ Composite index declined 2.22%.\\nThe best performers of the session on the Dow Jones Industrial Average were Dow Inc , which rose 2.60% or 1.20 points to trade at 47.31 at the close. Meanwhile,  Caterpillar  Inc  added 2.20% or 3.23 points to end at 149.94 and McDonald\\u2019s Corporation  was up 1.40% or 3.08 points to 222.67 in late trade.\\nThe worst performers of the session were  Amgen Inc  , which fell 3.91% or 9.98 points to trade at 245.41 at the close. Apple Inc  declined 3.23% or 3.77 points to end at 113.02 and Microsoft Corporation  was down 2.95% or 6.27 points to 206.19.\\nThe top performers on the S&P 500 were  LyondellBasell Industries  NV  which rose 6.02% to 72.24, Macerich Company  which was up 5.71% to settle at 7.41 and  United Rentals  Inc  which gained 5.51% to close at 185.02.\\nThe worst performers were Activision Blizzard Inc  which was down 5.30% to 78.30 in late trade, Vertex Pharmaceuticals Inc  which lost 4.65% to settle at 260.80 and Netflix Inc  which was down 4.63% to 503.06 at the close.\\nThe top performers on the NASDAQ Composite were Nano X Imaging Ltd  which rose 56.20% to 37.44, Westwater Resources Inc  which was up 49.32% to settle at 4.420 and  ProPhase Labs  Inc  which gained 32.05% to close at 5.150.\\nThe worst performers were  Benitec Biopharma  Ltd ADR  which was down 36.74% to 3.03 in late trade,  Mesoblast Ltd   which lost 35.27% to settle at 12.03 and  Oasis Petroleum  Inc  which was down 19.10% to 0.171 at the close.\\nRising stocks outnumbered declining ones on the New York Stock Exchange by 1907 to 1162 and 96 ended unchanged; on the Nasdaq Stock Exchange, 1486 fell and 1380 advanced, while 78 ended unchanged.\\nShares in United Rentals Inc  rose to 52-week highs; rising 5.51% or 9.67 to 185.02. Shares in Benitec Biopharma Ltd ADR  fell to 52-week lows; down 36.74% or 1.76 to 3.03. Shares in ProPhase Labs Inc  rose to 52-week highs; up 32.05% or 1.250 to 5.150. Shares in Oasis Petroleum Inc  fell to all time lows; losing 19.10% or 0.040 to 0.171. \\nThe CBOE Volatility Index, which measures the implied volatility of S&P 500 options, was up 3.48% to 27.63.\\nGold Futures for December delivery was down 0.64% or 12.30 to $1904.00 a troy ounce. Elsewhere in commodities trading, Crude oil for delivery in November fell 4.52% or 1.75 to hit $36.97 a barrel, while the December Brent oil contract fell 4.25% or 1.74 to trade at $39.19 a barrel.\\nEUR/USD was down 0.26% to 1.1716, while USD/JPY fell 0.19% to 105.30.\"]], \"type\": \"table\"}]"
     ]
    }
   ],
   "source": [
    "# nuclio: ignore\n",
    "# test the new API end point, take the address from the deploy log above\n",
    "!curl {addr}"
   ]
  },
  {
   "cell_type": "code",
   "execution_count": null,
   "metadata": {},
   "outputs": [],
   "source": []
  }
 ],
 "metadata": {
  "kernelspec": {
   "display_name": "Python 3",
   "language": "python",
   "name": "python3"
  },
  "language_info": {
   "codemirror_mode": {
    "name": "ipython",
    "version": 3
   },
   "file_extension": ".py",
   "mimetype": "text/x-python",
   "name": "python",
   "nbconvert_exporter": "python",
   "pygments_lexer": "ipython3",
   "version": "3.7.6"
  }
 },
 "nbformat": 4,
 "nbformat_minor": 4
}
