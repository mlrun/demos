{
 "cells": [
  {
   "cell_type": "markdown",
   "metadata": {},
   "source": [
    "# Ingest Real-Time Stock Data to Iguazio NoSQL and Time-series DB\n",
    "the following example function ingest real-time stock information from an internet service (Yahoo finance api) into iguazio platform.<br>\n",
    "everytime the data is updated it updates a NoSQL table with the recent metadata and updates the time-series DB with the new metrics (price and volume)\n",
    "\n",
    "The same code can run inside a nuclio (serverless) function and be automatically triggered on a predefined schedule (cron) or through HTTP requests<br>\n",
    "\n",
    "the example demonstrate the use of `%nuclio` magic commands to specify environment variables, package dependencies,<br>configurations (such as the cron schedule), and to deploy functions automatically onto a cluster."
   ]
  },
  {
   "cell_type": "code",
   "execution_count": 4,
   "metadata": {},
   "outputs": [],
   "source": [
    "# if the nuclio-jupyter package is not installed run !pip install nuclio-jupyter\n",
    "import nuclio \n",
    "import os"
   ]
  },
  {
   "cell_type": "markdown",
   "metadata": {},
   "source": [
    "## Environment"
   ]
  },
  {
   "cell_type": "markdown",
   "metadata": {},
   "source": [
    "copy the local credentials to the nuclio function config (-c option doesn't initialize locally)"
   ]
  },
  {
   "cell_type": "code",
   "execution_count": 18,
   "metadata": {},
   "outputs": [],
   "source": [
    "%nuclio env -c V3IO_ACCESS_KEY=${V3IO_ACCESS_KEY}\n",
    "%nuclio env -c V3IO_USERNAME=${V3IO_USERNAME}\n",
    "%nuclio env -c V3IO_API=${V3IO_API}"
   ]
  },
  {
   "cell_type": "markdown",
   "metadata": {},
   "source": [
    "### Set function configuration \n",
    "use a cron trigger with 5min interval and define the base image<br>\n",
    "for more details check [nuclio function configuration reference](https://github.com/nuclio/nuclio/blob/master/docs/reference/function-configuration/function-configuration-reference.md)"
   ]
  },
  {
   "cell_type": "code",
   "execution_count": 19,
   "metadata": {},
   "outputs": [
    {
     "name": "stdout",
     "output_type": "stream",
     "text": [
      "%nuclio: setting kind to 'nuclio'\n",
      "%nuclio: setting spec.build.baseImage to 'mlrun/ml-models'\n"
     ]
    }
   ],
   "source": [
    "%%nuclio config \n",
    "kind = \"nuclio\"\n",
    "spec.build.baseImage = \"mlrun/ml-models\""
   ]
  },
  {
   "cell_type": "markdown",
   "metadata": {},
   "source": [
    "### Install required packages\n",
    "`%nuclio cmd` allows you to run image build instructions and install packages<br>\n",
    "Note: `-c` option will only install in nuclio, not locally"
   ]
  },
  {
   "cell_type": "code",
   "execution_count": 20,
   "metadata": {},
   "outputs": [],
   "source": [
    "%%nuclio cmd -c\n",
    "pip install lxml\n",
    "pip install yfinance\n",
    "pip install requests\n",
    "pip install v3io_frames"
   ]
  },
  {
   "cell_type": "code",
   "execution_count": 54,
   "metadata": {},
   "outputs": [
    {
     "name": "stdout",
     "output_type": "stream",
     "text": [
      "Collecting pandas==1.2.3\n",
      "  Downloading pandas-1.2.3-cp37-cp37m-manylinux1_x86_64.whl (9.9 MB)\n",
      "\u001b[K     |████████████████████████████████| 9.9 MB 5.2 MB/s eta 0:00:01\n",
      "\u001b[?25hRequirement already satisfied: pytz>=2017.3 in /conda/lib/python3.7/site-packages (from pandas==1.2.3) (2020.1)\n",
      "Requirement already satisfied: numpy>=1.16.5 in /conda/lib/python3.7/site-packages (from pandas==1.2.3) (1.19.2)\n",
      "Requirement already satisfied: python-dateutil>=2.7.3 in /conda/lib/python3.7/site-packages (from pandas==1.2.3) (2.8.1)\n",
      "Requirement already satisfied: six>=1.5 in /conda/lib/python3.7/site-packages (from python-dateutil>=2.7.3->pandas==1.2.3) (1.12.0)\n",
      "Installing collected packages: pandas\n",
      "  Attempting uninstall: pandas\n",
      "    Found existing installation: pandas 1.0.3\n",
      "    Uninstalling pandas-1.0.3:\n",
      "      Successfully uninstalled pandas-1.0.3\n",
      "Successfully installed pandas-1.2.3\n"
     ]
    }
   ],
   "source": [
    "!pip install pandas==1.2.3"
   ]
  },
  {
   "cell_type": "markdown",
   "metadata": {},
   "source": [
    "## Nuclio function implementation\n",
    "this function can run in Jupyter or in nuclio (real-time serverless)"
   ]
  },
  {
   "cell_type": "code",
   "execution_count": 6,
   "metadata": {},
   "outputs": [],
   "source": [
    "# nuclio: start-code"
   ]
  },
  {
   "cell_type": "code",
   "execution_count": 13,
   "metadata": {},
   "outputs": [],
   "source": [
    "import yfinance as yf\n",
    "import os\n",
    "import pandas as pd\n",
    "import v3io_frames as v3f\n",
    "import ast\n",
    "import mlrun.feature_store as fs\n",
    "import mlrun"
   ]
  },
  {
   "cell_type": "code",
   "execution_count": 14,
   "metadata": {},
   "outputs": [],
   "source": [
    "def contruct_dataframe(all_records):\n",
    "    temp_df = pd.DataFrame(all_records)\n",
    "    # When a column type is timestamp, there cant be any duplicates in that column, so changing to STR\n",
    "    temp_df.last_updated = temp_df.last_updated.astype(\"str\")\n",
    "    return temp_df"
   ]
  },
  {
   "cell_type": "code",
   "execution_count": 15,
   "metadata": {},
   "outputs": [],
   "source": [
    "def update_tickers(context, perdiod, interval):\n",
    "    all_records=[]\n",
    "    stocks_df = pd.DataFrame()\n",
    "    for sym in context.stock_syms:\n",
    "        hist = yf.Ticker(sym).history(period=perdiod, interval='1m')\n",
    "        time = hist.index[len(hist) - 1]\n",
    "        record = hist.loc[time]\n",
    "        last = context.last_trade_times.get(sym)\n",
    "        context.logger.info(f'Received {sym} data from yfinance, including {len(hist)} candles ending at {last}')\n",
    "        # update the stocks table and TSDB metrics in case of new data \n",
    "        if not last or time > last:\n",
    "            \n",
    "            # update NoSQL table with stock data\n",
    "            stock = {'symbol': sym, 'price': record['Close'], 'volume': record['Volume'], 'last_updated': time}\n",
    "            all_records.append(stock)\n",
    "            expr = context.expr_template.format(**stock)\n",
    "            context.logger.debug_with('update expression', symbol=sym, expr=expr)\n",
    "            context.v3c.execute('kv', context.stocks_kv_table, 'update', args={'key': sym, 'expression': expr})\n",
    "         \n",
    "            context.logger.info(f'Updated records from {last} to {time}')\n",
    "            # update time-series DB with price and volume metrics (use pandas dataframe with a single row, indexed by date)\n",
    "            context.last_trade_times[sym] = time\n",
    "            hist['symbol'] = sym\n",
    "            hist = hist.reset_index()\n",
    "            hist = hist.set_index(['Datetime', 'symbol'])\n",
    "            hist = hist.loc[:, ['Close', 'Volume']]\n",
    "            hist = hist.rename(columns={'Close': 'price', 'Volume': 'volume'})\n",
    "            stocks_df = stocks_df.append(hist)\n",
    "            context.logger.info(f'Added records {hist.shape[0]} records for {sym} to history')\n",
    "        else:\n",
    "            context.logger.info(f'No update was made, current TS: {last} vs. new data {time}')\n",
    "    \n",
    "    # inferring KV to create a scheme\n",
    "    context.v3c.execute(\"kv\",table = context.stocks_kv_table, command = \"infer\")\n",
    "    # Writing to Feature Store only if new records are available\n",
    "    if(len(all_records) != 0):\n",
    "        stock_info = contruct_dataframe(all_records)\n",
    "        context.logger.info(f\"Writing new dataframe with shape {stock_info.shape} to feature store\")\n",
    "        fs.ingest(context.stock_info_feature_set, stock_info, infer_options=fs.InferOptions.default())\n",
    "        \n",
    "    # write price and volume metrics to the Time-Series DB, add exchange label\n",
    "    if stocks_df.shape[0]>0:\n",
    "        stocks_df = stocks_df.sort_index(level=0)\n",
    "        context.logger.debug_with('writing data to TSDB', stocks=stocks_df)\n",
    "        stocks_df.to_csv('history.csv')\n",
    "        context.v3c.write(backend='tsdb', table=context.stocks_tsdb_table, dfs=stocks_df)"
   ]
  },
  {
   "cell_type": "code",
   "execution_count": 16,
   "metadata": {},
   "outputs": [],
   "source": [
    "def init_context(context):\n",
    "    context.logger.info(\"init stocks reader context\")\n",
    "    setattr(context, 'PROJECT_NAME', os.getenv('PROJECT_NAME', 'stocks-' + os.getenv('V3IO_USERNAME')))\n",
    "    mlrun.set_environment(project = context.PROJECT_NAME)\n",
    "    # Setup V3IO Client\n",
    "    setattr(context,\"V3IO_FRAMESD\", os.getenv(\"V3IO_FRAMESD\",'framesd:8081'))\n",
    "    client = v3f.Client(context.V3IO_FRAMESD, container=os.getenv('V3IO_CONTAINER', 'users'))\n",
    "    setattr(context, 'v3c', client)\n",
    "    \n",
    "    # Create V3IO Tables and add reference to context\n",
    "    setattr(context, 'stocks_kv_table', os.getenv('STOCKS_KV_TABLE', os.getenv('V3IO_USERNAME') + '/stocks/stocks_kv'))\n",
    "    setattr(context, 'stocks_tsdb_table', os.getenv('STOCKS_TSDB_TABLE', os.getenv('V3IO_USERNAME') + '/stocks/stocks_tsdb'))\n",
    "    context.v3c.create(backend='tsdb', table=context.stocks_tsdb_table, rate='1/m', if_exists=1)\n",
    "    \n",
    "    # Supply the feature set to ingest data to.\n",
    "    stocks_info_set = fs.FeatureSet(\"stocks\", entities=[fs.Entity(\"symbol\")])\n",
    "    setattr(context,'stock_info_feature_set',stocks_info_set)\n",
    "    \n",
    "    # Adding aggregations\n",
    "    context.stock_info_feature_set.add_aggregation(\"prices\",\"price\",[\"min\",\"max\"],[\"1h\"],\"10m\")\n",
    "    context.stock_info_feature_set.add_aggregation(\"volumes\",\"volume\",[\"min\",\"max\"],[\"1h\"],\"10m\")\n",
    "    \n",
    "    # Initiazling featureset with dummy data that will be overtwritten later on\n",
    "    stock_dummy = pd.DataFrame({\"symbol\":['GOOGL','MSFT','AMZN','AAPL','INTC'],\"price\":[0,0,0,0,0],\"volume\":[0,0,0,0,0],\"last_updated\":[0,0,0,0,0]})\n",
    "    fs.ingest(context.stock_info_feature_set, stock_dummy, infer_options=fs.InferOptions.default())\n",
    "    \n",
    "    stocks = os.getenv('STOCK_LIST','GOOGL,MSFT,AMZN,AAPL,INTC')\n",
    "    if stocks.startswith('['):\n",
    "        stock_syms = ast.literal_eval(stocks)\n",
    "    else: \n",
    "        stock_syms = stocks.split(',')\n",
    "    setattr(context, 'stock_syms', stock_syms)\n",
    "    \n",
    "\n",
    "    # v3io update expression template \n",
    "    expr_template = os.getenv('EXPRESSION_TEMPLATE', \"symbol='{symbol}';price={price};volume={volume};last_updated='{last_updated}'\")\n",
    "    setattr(context, 'expr_template', expr_template)\n",
    "\n",
    "    last_trade_times = {}\n",
    "    setattr(context, 'last_trade_times', last_trade_times)\n",
    "    \n",
    "    # Run first initial data preperation\n",
    "    update_tickers(context, '7d', '1m')\n",
    "    "
   ]
  },
  {
   "cell_type": "code",
   "execution_count": 17,
   "metadata": {},
   "outputs": [],
   "source": [
    "def handler(context):\n",
    "    update_tickers(context, '5m', '1m')\n",
    "    return 'done'"
   ]
  },
  {
   "cell_type": "code",
   "execution_count": 18,
   "metadata": {},
   "outputs": [],
   "source": [
    "# nuclio: end-code"
   ]
  },
  {
   "cell_type": "markdown",
   "metadata": {},
   "source": [
    "## Function invocation\n",
    "### Local test\n",
    "the following section simulates nuclio function invocation and will emit the function results"
   ]
  },
  {
   "cell_type": "code",
   "execution_count": null,
   "metadata": {},
   "outputs": [],
   "source": [
    "# create a test event and invoke the function locally \n",
    "init_context(context)\n",
    "event = nuclio.Event(body='')\n",
    "handler(context, event)"
   ]
  },
  {
   "cell_type": "markdown",
   "metadata": {},
   "source": [
    "## Deploy to cluster"
   ]
  },
  {
   "cell_type": "code",
   "execution_count": 7,
   "metadata": {},
   "outputs": [
    {
     "name": "stdout",
     "output_type": "stream",
     "text": [
      "> 2021-03-25 11:00:46,655 [info] function spec saved to path: 01-read-stocks.yaml\n"
     ]
    }
   ],
   "source": [
    "from mlrun import code_to_function\n",
    "project_name = \"stocks-\" + os.getenv('V3IO_USERNAME')\n",
    "# Export bare function\n",
    "fn = code_to_function('read-stocks',\n",
    "                      handler='handler')\n",
    "fn.export('01-read-stocks.yaml')\n",
    "\n",
    "# Set parameters for current deployment\n",
    "fn.add_trigger('cron', nuclio.triggers.CronTrigger('300s'))\n",
    "fn.set_envs({'STOCK_LIST': ['GOOG', 'MSFT', 'AMZN', 'AAPL', 'INTC'],\n",
    "             'V3IO_CONTAINER': 'users' ,\n",
    "             'STOCKS_TSDB_TABLE': os.getenv('V3IO_USERNAME')  + 'stocks/stocks_tsdb',\n",
    "             'STOCKS_KV_TABLE': os.getenv('V3IO_USERNAME')  + 'stocks/stocks_kv',\n",
    "             'EXPRESSION_TEMPLATE': \"symbol='{symbol}';price={price};volume={volume};last_updated='{last_updated}';sentiment='NI';last_reaction='NI'\",\n",
    "             'PROJECT_NAME' : project_name})\n",
    "fn.spec.max_replicas = 1"
   ]
  },
  {
   "cell_type": "code",
   "execution_count": 8,
   "metadata": {},
   "outputs": [
    {
     "name": "stdout",
     "output_type": "stream",
     "text": [
      "> 2021-03-25 11:00:56,616 [info] Starting remote function deploy\n",
      "2021-03-25 11:00:56  (info) Deploying function\n",
      "2021-03-25 11:00:56  (info) Building\n",
      "2021-03-25 11:00:57  (info) Staging files and preparing base images\n",
      "2021-03-25 11:00:57  (info) Building processor image\n",
      "2021-03-25 11:00:58  (info) Build complete\n",
      "2021-03-25 11:01:21  (info) Function deploy complete\n",
      "> 2021-03-25 11:01:21,724 [info] function deployed, address=default-tenant.app.dev8.lab.iguazeng.com:31840\n"
     ]
    }
   ],
   "source": [
    "addr = fn.deploy(project=project_name)"
   ]
  },
  {
   "cell_type": "code",
   "execution_count": 10,
   "metadata": {},
   "outputs": [
    {
     "name": "stdout",
     "output_type": "stream",
     "text": [
      "done"
     ]
    }
   ],
   "source": [
    "!curl {addr}"
   ]
  }
 ],
 "metadata": {
  "kernelspec": {
   "display_name": "Python 3",
   "language": "python",
   "name": "python3"
  },
  "language_info": {
   "codemirror_mode": {
    "name": "ipython",
    "version": 3
   },
   "file_extension": ".py",
   "mimetype": "text/x-python",
   "name": "python",
   "nbconvert_exporter": "python",
   "pygments_lexer": "ipython3",
   "version": "3.7.6"
  },
  "toc-autonumbering": false
 },
 "nbformat": 4,
 "nbformat_minor": 4
}
