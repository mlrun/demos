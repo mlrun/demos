{
 "cells": [
  {
   "cell_type": "markdown",
   "metadata": {},
   "source": [
    "# Network Operations Demo - Train, Test, and Deploy\n",
    "\n",
    "This project demonstrates how to build an automated machine-learning (ML) pipeline for predicting network outages based on network-device telemetry. This notebook is the second part (out of 2) of the demo. This part demonstrates how to train, test and deploy a model and use offline and real-time data from the feature store.\n",
    "\n",
    "**In this notebook:**\n",
    "* **Create a Feature Vector that consists of data joined from the three feature sets you created**\n",
    "* **Create an offline dataset from the feature vector to feed the ML training process**\n",
    "* **Run automated ML Pipeline which train, test, and deploy the model**\n",
    "* **Test the deployed real-time serving function**\n",
    "\n",
    "When you finish this notebook, you should have a running network-device failure prediction system."
   ]
  },
  {
   "cell_type": "markdown",
   "metadata": {},
   "source": [
    "## Get and init the MLRun project"
   ]
  },
  {
   "cell_type": "code",
   "execution_count": 1,
   "metadata": {},
   "outputs": [
    {
     "name": "stdout",
     "output_type": "stream",
     "text": [
      "> 2022-06-07 11:09:33,626 [info] loaded project network-operations from MLRun DB\n"
     ]
    }
   ],
   "source": [
    "import os\n",
    "import numpy as np\n",
    "import mlrun\n",
    "import mlrun.feature_store as fstore\n",
    "\n",
    "# Create the project\n",
    "project = mlrun.get_or_create_project('network-operations', \"./\", user_project=True)"
   ]
  },
  {
   "cell_type": "markdown",
   "metadata": {},
   "source": [
    "## Create a new Feature Vector\n",
    "The goal is to create a single dataset that contain datas from the static devices dataset, the device metrics, and the labels.\n",
    "You'll define a **Feature Vector** and specify the desired features. When the vector is retrieved the feature store automatically and correctly joins the data from the different feature sets based on the entity (index) keys and the timestamp values.\n",
    "\n",
    "To define and save the `device_features` feature vector"
   ]
  },
  {
   "cell_type": "code",
   "execution_count": 2,
   "metadata": {},
   "outputs": [],
   "source": [
    "# Define the `device_features` Feature Vector\n",
    "fv = fstore.FeatureVector('device_features',\n",
    "                          features=['device_metrics.*', 'static.*'], \n",
    "                          label_feature='device_labels.is_error')\n",
    "\n",
    "# Save the Feature Vector to MLRun's feature store DB\n",
    "fv.save()"
   ]
  },
  {
   "cell_type": "markdown",
   "metadata": {},
   "source": [
    "## Get an offline dataset for the feature vector\n",
    "Once you have defined the feature vector and ingested some data, you can request the feature store to create an offline dataset, e.g. a snapshot of the data between the dates you want available to be loaded as parquet or csv files or as a pandas Dataframe.\n",
    "\n",
    "you can later reference the created offline dataset via a special artifact url (`fv.url`).\n",
    "\n",
    "**Make sure you run this AFTER the feature set data was ingested (using batch or real-time)**"
   ]
  },
  {
   "cell_type": "code",
   "execution_count": 3,
   "metadata": {},
   "outputs": [
    {
     "name": "stdout",
     "output_type": "stream",
     "text": [
      "> 2022-06-07 11:09:34,542 [info] wrote target: {'name': 'parquet', 'kind': 'parquet', 'path': 'v3io:///projects/network-operations-yonatans/FeatureStore/device_features/parquet/vectors/device_features-latest.parquet', 'status': 'ready', 'updated': '2022-06-07T11:09:34.542575+00:00', 'size': 2269128}\n",
      "\n",
      "Training set shape: (33600, 46)\n"
     ]
    },
    {
     "data": {
      "text/html": [
       "<div>\n",
       "<style scoped>\n",
       "    .dataframe tbody tr th:only-of-type {\n",
       "        vertical-align: middle;\n",
       "    }\n",
       "\n",
       "    .dataframe tbody tr th {\n",
       "        vertical-align: top;\n",
       "    }\n",
       "\n",
       "    .dataframe thead th {\n",
       "        text-align: right;\n",
       "    }\n",
       "</style>\n",
       "<table border=\"1\" class=\"dataframe\">\n",
       "  <thead>\n",
       "    <tr style=\"text-align: right;\">\n",
       "      <th></th>\n",
       "      <th>cpu_utilization_avg_1h</th>\n",
       "      <th>cpu_utilization_avg_6h</th>\n",
       "      <th>cpu_utilization_min_1h</th>\n",
       "      <th>cpu_utilization_min_6h</th>\n",
       "      <th>cpu_utilization_max_1h</th>\n",
       "      <th>cpu_utilization_max_6h</th>\n",
       "      <th>throughput_avg_1h</th>\n",
       "      <th>throughput_avg_6h</th>\n",
       "      <th>throughput_min_1h</th>\n",
       "      <th>throughput_min_6h</th>\n",
       "      <th>...</th>\n",
       "      <th>models_8</th>\n",
       "      <th>models_9</th>\n",
       "      <th>country_A</th>\n",
       "      <th>country_B</th>\n",
       "      <th>country_C</th>\n",
       "      <th>country_D</th>\n",
       "      <th>country_E</th>\n",
       "      <th>country_F</th>\n",
       "      <th>country_G</th>\n",
       "      <th>is_error</th>\n",
       "    </tr>\n",
       "  </thead>\n",
       "  <tbody>\n",
       "    <tr>\n",
       "      <th>0</th>\n",
       "      <td>71.704891</td>\n",
       "      <td>71.704891</td>\n",
       "      <td>71.704891</td>\n",
       "      <td>71.704891</td>\n",
       "      <td>71.704891</td>\n",
       "      <td>71.704891</td>\n",
       "      <td>0.000000</td>\n",
       "      <td>0.000000</td>\n",
       "      <td>0.000000</td>\n",
       "      <td>0.000000</td>\n",
       "      <td>...</td>\n",
       "      <td>0</td>\n",
       "      <td>0</td>\n",
       "      <td>0</td>\n",
       "      <td>0</td>\n",
       "      <td>1</td>\n",
       "      <td>0</td>\n",
       "      <td>0</td>\n",
       "      <td>0</td>\n",
       "      <td>0</td>\n",
       "      <td>False</td>\n",
       "    </tr>\n",
       "    <tr>\n",
       "      <th>1</th>\n",
       "      <td>100.000000</td>\n",
       "      <td>100.000000</td>\n",
       "      <td>100.000000</td>\n",
       "      <td>100.000000</td>\n",
       "      <td>100.000000</td>\n",
       "      <td>100.000000</td>\n",
       "      <td>0.000000</td>\n",
       "      <td>0.000000</td>\n",
       "      <td>0.000000</td>\n",
       "      <td>0.000000</td>\n",
       "      <td>...</td>\n",
       "      <td>0</td>\n",
       "      <td>0</td>\n",
       "      <td>0</td>\n",
       "      <td>1</td>\n",
       "      <td>0</td>\n",
       "      <td>0</td>\n",
       "      <td>0</td>\n",
       "      <td>0</td>\n",
       "      <td>0</td>\n",
       "      <td>False</td>\n",
       "    </tr>\n",
       "    <tr>\n",
       "      <th>2</th>\n",
       "      <td>100.000000</td>\n",
       "      <td>100.000000</td>\n",
       "      <td>100.000000</td>\n",
       "      <td>100.000000</td>\n",
       "      <td>100.000000</td>\n",
       "      <td>100.000000</td>\n",
       "      <td>0.000000</td>\n",
       "      <td>0.000000</td>\n",
       "      <td>0.000000</td>\n",
       "      <td>0.000000</td>\n",
       "      <td>...</td>\n",
       "      <td>0</td>\n",
       "      <td>0</td>\n",
       "      <td>0</td>\n",
       "      <td>0</td>\n",
       "      <td>0</td>\n",
       "      <td>1</td>\n",
       "      <td>0</td>\n",
       "      <td>0</td>\n",
       "      <td>0</td>\n",
       "      <td>True</td>\n",
       "    </tr>\n",
       "    <tr>\n",
       "      <th>3</th>\n",
       "      <td>100.000000</td>\n",
       "      <td>100.000000</td>\n",
       "      <td>100.000000</td>\n",
       "      <td>100.000000</td>\n",
       "      <td>100.000000</td>\n",
       "      <td>100.000000</td>\n",
       "      <td>0.000000</td>\n",
       "      <td>0.000000</td>\n",
       "      <td>0.000000</td>\n",
       "      <td>0.000000</td>\n",
       "      <td>...</td>\n",
       "      <td>0</td>\n",
       "      <td>0</td>\n",
       "      <td>0</td>\n",
       "      <td>0</td>\n",
       "      <td>0</td>\n",
       "      <td>0</td>\n",
       "      <td>1</td>\n",
       "      <td>0</td>\n",
       "      <td>0</td>\n",
       "      <td>True</td>\n",
       "    </tr>\n",
       "    <tr>\n",
       "      <th>4</th>\n",
       "      <td>67.613178</td>\n",
       "      <td>67.613178</td>\n",
       "      <td>67.613178</td>\n",
       "      <td>67.613178</td>\n",
       "      <td>67.613178</td>\n",
       "      <td>67.613178</td>\n",
       "      <td>225.246626</td>\n",
       "      <td>225.246626</td>\n",
       "      <td>225.246626</td>\n",
       "      <td>225.246626</td>\n",
       "      <td>...</td>\n",
       "      <td>0</td>\n",
       "      <td>0</td>\n",
       "      <td>0</td>\n",
       "      <td>0</td>\n",
       "      <td>0</td>\n",
       "      <td>1</td>\n",
       "      <td>0</td>\n",
       "      <td>0</td>\n",
       "      <td>0</td>\n",
       "      <td>False</td>\n",
       "    </tr>\n",
       "  </tbody>\n",
       "</table>\n",
       "<p>5 rows × 46 columns</p>\n",
       "</div>"
      ],
      "text/plain": [
       "   cpu_utilization_avg_1h  cpu_utilization_avg_6h  cpu_utilization_min_1h  \\\n",
       "0               71.704891               71.704891               71.704891   \n",
       "1              100.000000              100.000000              100.000000   \n",
       "2              100.000000              100.000000              100.000000   \n",
       "3              100.000000              100.000000              100.000000   \n",
       "4               67.613178               67.613178               67.613178   \n",
       "\n",
       "   cpu_utilization_min_6h  cpu_utilization_max_1h  cpu_utilization_max_6h  \\\n",
       "0               71.704891               71.704891               71.704891   \n",
       "1              100.000000              100.000000              100.000000   \n",
       "2              100.000000              100.000000              100.000000   \n",
       "3              100.000000              100.000000              100.000000   \n",
       "4               67.613178               67.613178               67.613178   \n",
       "\n",
       "   throughput_avg_1h  throughput_avg_6h  throughput_min_1h  throughput_min_6h  \\\n",
       "0           0.000000           0.000000           0.000000           0.000000   \n",
       "1           0.000000           0.000000           0.000000           0.000000   \n",
       "2           0.000000           0.000000           0.000000           0.000000   \n",
       "3           0.000000           0.000000           0.000000           0.000000   \n",
       "4         225.246626         225.246626         225.246626         225.246626   \n",
       "\n",
       "   ...  models_8  models_9  country_A  country_B  country_C  country_D  \\\n",
       "0  ...         0         0          0          0          1          0   \n",
       "1  ...         0         0          0          1          0          0   \n",
       "2  ...         0         0          0          0          0          1   \n",
       "3  ...         0         0          0          0          0          0   \n",
       "4  ...         0         0          0          0          0          1   \n",
       "\n",
       "   country_E  country_F  country_G  is_error  \n",
       "0          0          0          0     False  \n",
       "1          0          0          0     False  \n",
       "2          0          0          0      True  \n",
       "3          1          0          0      True  \n",
       "4          0          0          0     False  \n",
       "\n",
       "[5 rows x 46 columns]"
      ]
     },
     "execution_count": 3,
     "metadata": {},
     "output_type": "execute_result"
    }
   ],
   "source": [
    "# Request (get or create) the offline dataset from the feature store and save to a parquet target\n",
    "dataset_ref = fstore.get_offline_features(fv, target=mlrun.datastore.targets.ParquetTarget())\n",
    "\n",
    "# Get the generated offline dataset as a pandas DataFrame\n",
    "dataset = dataset_ref.to_dataframe()\n",
    "print(\"\\nTraining set shape:\", dataset.shape)\n",
    "dataset.head()"
   ]
  },
  {
   "cell_type": "code",
   "execution_count": 4,
   "metadata": {},
   "outputs": [],
   "source": [
    "# Verify that the dataset contains proper labels (must have both True & False values)\n",
    "unique = dataset.is_error.unique()\n",
    "assert len(unique) == 2, \"dataset does not contain both label values. ingest a bigger dataset\""
   ]
  },
  {
   "cell_type": "markdown",
   "metadata": {},
   "source": [
    "## Model training and deployment using the feature vector\n",
    "Now that the dataset is ready for training, you need to define the model training, testing and deployment process.\n",
    "\n",
    "Build an automated ML pipeline that uses pre-baked serverless training, testing and serving functions from [MLRun's functions marketplace](https://www.mlrun.org/marketplace/). The pipeline has three steps:\n",
    "* Train a model using data from the feature vector you created and save it to the model registry\n",
    "* Run model test/evaluation with a portion of the data\n",
    "* Deploy a real-time serving function that uses the newly trained model, and enrich/impute the features with data from the real-time feature vector \n",
    "\n",
    "You can see the [**workflow code**](./src/workflow.py). You can run this workflow locally, in a CI/CD framework, or over Kubeflow. In practice you can create different workflows for development and production.\n",
    "\n",
    "The workflow/pipeline can be executed using the MLRun SDK (`project.run()` method) or using CLI commands (`mlrun project`), and can run directly from the source repo (GIT). See details in MLRun [**Projects and Automation documentation**](https://docs.mlrun.org/en/latest/projects/overview.html).\n",
    "\n",
    "When you run the workflow you can set arguments and destination for the different artifacts. The pipeline progress is shown in the notebook. Alternatively you can check the progress, logs, artifacts, etc. in the MLRun UI.\n",
    "\n",
    "If you want to run the same using CLI, type:\n",
    "\n",
    "```python\n",
    "    mlrun project -n myproj -r ./src/workflow.py .\n",
    "```\n",
    "\n",
    "The [**workflow code**](./src/workflow.py) code uses the `get_offline_features` function from [MLRun's functions marketplace](https://www.mlrun.org/marketplace/).\n",
    "This function allows to retrieve offline feature vector result or alternatevly create a feature vector for you and retrieve the results.\n",
    "This demo already contains a feature vector instance as demonstrated above, so the example below matches this case. If you want the workflow to create a feature vector for you, use this template:\n",
    "\n",
    "```python\n",
    "model_name = \"netops\"\n",
    "\n",
    "# run the workflow\n",
    "run_id = project.run(\n",
    "    workflow_path=\"./src/workflow.py\",\n",
    "    arguments={\n",
    "        \"vector_name\": 'device_features', # feature vector name instead of uri.\n",
    "        \"features\": ['device_metrics.*', 'static.*'], # features for the feature vector definition\n",
    "        \"label_column\": 'device_labels.is_error',\n",
    "        \"model_name\": model_name\n",
    "    },\n",
    "    watch=True)\n",
    "```"
   ]
  },
  {
   "cell_type": "code",
   "execution_count": 5,
   "metadata": {},
   "outputs": [
    {
     "data": {
      "text/html": [
       "<div>Pipeline running (id=be311dc3-a9ed-4574-8899-fb039b337f71), <a href=\"https://dashboard.default-tenant.app.yh43.iguazio-cd1.com/mlprojects/network-operations-yonatans/jobs/monitor-workflows/workflow/be311dc3-a9ed-4574-8899-fb039b337f71\" target=\"_blank\"><b>click here</b></a> to view the details in MLRun UI</div>"
      ],
      "text/plain": [
       "<IPython.core.display.HTML object>"
      ]
     },
     "metadata": {},
     "output_type": "display_data"
    },
    {
     "data": {
      "image/svg+xml": [
       "<?xml version=\"1.0\" encoding=\"UTF-8\" standalone=\"no\"?>\n",
       "<!DOCTYPE svg PUBLIC \"-//W3C//DTD SVG 1.1//EN\"\n",
       " \"http://www.w3.org/Graphics/SVG/1.1/DTD/svg11.dtd\">\n",
       "<!-- Generated by graphviz version 2.40.1 (20161225.0304)\n",
       " -->\n",
       "<!-- Title: kfp Pages: 1 -->\n",
       "<svg width=\"366pt\" height=\"188pt\"\n",
       " viewBox=\"0.00 0.00 365.54 188.00\" xmlns=\"http://www.w3.org/2000/svg\" xmlns:xlink=\"http://www.w3.org/1999/xlink\">\n",
       "<g id=\"graph0\" class=\"graph\" transform=\"scale(1 1) rotate(0) translate(4 184)\">\n",
       "<title>kfp</title>\n",
       "<polygon fill=\"#ffffff\" stroke=\"transparent\" points=\"-4,4 -4,-184 361.5404,-184 361.5404,4 -4,4\"/>\n",
       "<!-- netops&#45;demo&#45;fq897&#45;1442318252 -->\n",
       "<g id=\"node1\" class=\"node\">\n",
       "<title>netops&#45;demo&#45;fq897&#45;1442318252</title>\n",
       "<ellipse fill=\"#00ff00\" stroke=\"#000000\" cx=\"202.5404\" cy=\"-162\" rx=\"58.4896\" ry=\"18\"/>\n",
       "<text text-anchor=\"middle\" x=\"202.5404\" y=\"-158.3\" font-family=\"Times,serif\" font-size=\"14.00\" fill=\"#000000\">get&#45;vector</text>\n",
       "</g>\n",
       "<!-- netops&#45;demo&#45;fq897&#45;272300164 -->\n",
       "<g id=\"node2\" class=\"node\">\n",
       "<title>netops&#45;demo&#45;fq897&#45;272300164</title>\n",
       "<ellipse fill=\"#00ff00\" stroke=\"#000000\" cx=\"202.5404\" cy=\"-90\" rx=\"91.784\" ry=\"18\"/>\n",
       "<text text-anchor=\"middle\" x=\"202.5404\" y=\"-86.3\" font-family=\"Times,serif\" font-size=\"14.00\" fill=\"#000000\">auto&#45;trainer&#45;train</text>\n",
       "</g>\n",
       "<!-- netops&#45;demo&#45;fq897&#45;1442318252&#45;&gt;netops&#45;demo&#45;fq897&#45;272300164 -->\n",
       "<g id=\"edge1\" class=\"edge\">\n",
       "<title>netops&#45;demo&#45;fq897&#45;1442318252&#45;&gt;netops&#45;demo&#45;fq897&#45;272300164</title>\n",
       "<path fill=\"none\" stroke=\"#000000\" d=\"M202.5404,-143.8314C202.5404,-136.131 202.5404,-126.9743 202.5404,-118.4166\"/>\n",
       "<polygon fill=\"#000000\" stroke=\"#000000\" points=\"206.0405,-118.4132 202.5404,-108.4133 199.0405,-118.4133 206.0405,-118.4132\"/>\n",
       "</g>\n",
       "<!-- netops&#45;demo&#45;fq897&#45;3379053245 -->\n",
       "<g id=\"node3\" class=\"node\">\n",
       "<title>netops&#45;demo&#45;fq897&#45;3379053245</title>\n",
       "<ellipse fill=\"#00ff00\" stroke=\"#000000\" cx=\"108.5404\" cy=\"-18\" rx=\"108.5808\" ry=\"18\"/>\n",
       "<text text-anchor=\"middle\" x=\"108.5404\" y=\"-14.3\" font-family=\"Times,serif\" font-size=\"14.00\" fill=\"#000000\">auto&#45;trainer&#45;evaluate</text>\n",
       "</g>\n",
       "<!-- netops&#45;demo&#45;fq897&#45;272300164&#45;&gt;netops&#45;demo&#45;fq897&#45;3379053245 -->\n",
       "<g id=\"edge2\" class=\"edge\">\n",
       "<title>netops&#45;demo&#45;fq897&#45;272300164&#45;&gt;netops&#45;demo&#45;fq897&#45;3379053245</title>\n",
       "<path fill=\"none\" stroke=\"#000000\" d=\"M179.3044,-72.2022C167.3521,-63.0473 152.6173,-51.761 139.6931,-41.8617\"/>\n",
       "<polygon fill=\"#000000\" stroke=\"#000000\" points=\"141.5761,-38.8953 131.509,-35.593 137.3196,-44.4524 141.5761,-38.8953\"/>\n",
       "</g>\n",
       "<!-- netops&#45;demo&#45;fq897&#45;2948569066 -->\n",
       "<g id=\"node4\" class=\"node\">\n",
       "<title>netops&#45;demo&#45;fq897&#45;2948569066</title>\n",
       "<polygon fill=\"#00ff00\" stroke=\"#000000\" points=\"357.5404,-36 239.5404,-36 235.5404,-32 235.5404,0 353.5404,0 357.5404,-4 357.5404,-36\"/>\n",
       "<polyline fill=\"none\" stroke=\"#000000\" points=\"353.5404,-32 235.5404,-32 \"/>\n",
       "<polyline fill=\"none\" stroke=\"#000000\" points=\"353.5404,-32 353.5404,0 \"/>\n",
       "<polyline fill=\"none\" stroke=\"#000000\" points=\"353.5404,-32 357.5404,-36 \"/>\n",
       "<text text-anchor=\"middle\" x=\"296.5404\" y=\"-14.3\" font-family=\"Times,serif\" font-size=\"14.00\" fill=\"#000000\">deploy&#45;serving</text>\n",
       "</g>\n",
       "<!-- netops&#45;demo&#45;fq897&#45;272300164&#45;&gt;netops&#45;demo&#45;fq897&#45;2948569066 -->\n",
       "<g id=\"edge3\" class=\"edge\">\n",
       "<title>netops&#45;demo&#45;fq897&#45;272300164&#45;&gt;netops&#45;demo&#45;fq897&#45;2948569066</title>\n",
       "<path fill=\"none\" stroke=\"#000000\" d=\"M225.7763,-72.2022C237.5503,-63.1839 252.0242,-52.0975 264.8077,-42.3059\"/>\n",
       "<polygon fill=\"#000000\" stroke=\"#000000\" points=\"267.1083,-44.9525 272.9188,-36.0931 262.8517,-39.3953 267.1083,-44.9525\"/>\n",
       "</g>\n",
       "</g>\n",
       "</svg>\n"
      ],
      "text/plain": [
       "<graphviz.dot.Digraph at 0x7fefd7f0cad0>"
      ]
     },
     "metadata": {},
     "output_type": "display_data"
    },
    {
     "data": {
      "text/html": [
       "<h2>Run Results</h2>Workflow be311dc3-a9ed-4574-8899-fb039b337f71 finished, state=Succeeded<br>click the hyper links below to see detailed results<br><table border=\"1\" class=\"dataframe\">\n",
       "  <thead>\n",
       "    <tr style=\"text-align: right;\">\n",
       "      <th>uid</th>\n",
       "      <th>start</th>\n",
       "      <th>state</th>\n",
       "      <th>name</th>\n",
       "      <th>parameters</th>\n",
       "      <th>results</th>\n",
       "    </tr>\n",
       "  </thead>\n",
       "  <tbody>\n",
       "    <tr>\n",
       "      <td><div title=\"3883616cc84f4f43bb139abe70efdd3c\"><a href=\"https://dashboard.default-tenant.app.yh43.iguazio-cd1.com/mlprojects/network-operations-yonatans/jobs/monitor/3883616cc84f4f43bb139abe70efdd3c/overview\" target=\"_blank\" >...70efdd3c</a></div></td>\n",
       "      <td>Jun 07 11:10:18</td>\n",
       "      <td>completed</td>\n",
       "      <td>auto-trainer-evaluate</td>\n",
       "      <td><div class=\"dictlist\">label_columns=device_labels.is_error</div><div class=\"dictlist\">model=store://artifacts/network-operations-yonatans/model:be311dc3-a9ed-4574-8899-fb039b337f71</div></td>\n",
       "      <td><div class=\"dictlist\">evaluation_accuracy=0.8857142857142857</div><div class=\"dictlist\">evaluation_f1_score=0.09859154929577466</div><div class=\"dictlist\">evaluation_precision_score=0.23204419889502761</div><div class=\"dictlist\">evaluation_recall_score=0.06259314456035768</div></td>\n",
       "    </tr>\n",
       "    <tr>\n",
       "      <td><div title=\"1eddee3087e24b5e8c3e5a1f474a269d\"><a href=\"https://dashboard.default-tenant.app.yh43.iguazio-cd1.com/mlprojects/network-operations-yonatans/jobs/monitor/1eddee3087e24b5e8c3e5a1f474a269d/overview\" target=\"_blank\" >...474a269d</a></div></td>\n",
       "      <td>Jun 07 11:09:56</td>\n",
       "      <td>completed</td>\n",
       "      <td>auto-trainer-train</td>\n",
       "      <td><div class=\"dictlist\">model_class=sklearn.ensemble.RandomForestClassifier</div></td>\n",
       "      <td><div class=\"dictlist\">accuracy=0.8857142857142857</div><div class=\"dictlist\">f1_score=0.09859154929577466</div><div class=\"dictlist\">precision_score=0.23204419889502761</div><div class=\"dictlist\">recall_score=0.06259314456035768</div></td>\n",
       "    </tr>\n",
       "    <tr>\n",
       "      <td><div title=\"43720647a938423d939b3da995b1ea5a\"><a href=\"https://dashboard.default-tenant.app.yh43.iguazio-cd1.com/mlprojects/network-operations-yonatans/jobs/monitor/43720647a938423d939b3da995b1ea5a/overview\" target=\"_blank\" >...95b1ea5a</a></div></td>\n",
       "      <td>Jun 07 11:09:43</td>\n",
       "      <td>completed</td>\n",
       "      <td>get_vector</td>\n",
       "      <td><div class=\"dictlist\">feature_vector=store://feature-vectors/network-operations-yonatans/device_features</div><div class=\"dictlist\">features=[]</div><div class=\"dictlist\">label_feature=device_labels.is_error</div><div class=\"dictlist\">start_time=now-7d</div><div class=\"dictlist\">end_time=now</div><div class=\"dictlist\">entity_timestamp_column=timestamp</div><div class=\"dictlist\">target={'name': 'parquet', 'kind': 'parquet'}</div><div class=\"dictlist\">update_stats=True</div></td>\n",
       "      <td><div class=\"dictlist\">feature_vector=store://feature-vectors/network-operations-yonatans/device_features</div></td>\n",
       "    </tr>\n",
       "  </tbody>\n",
       "</table>"
      ],
      "text/plain": [
       "<IPython.core.display.HTML object>"
      ]
     },
     "metadata": {},
     "output_type": "display_data"
    }
   ],
   "source": [
    "model_name = \"netops\"\n",
    "\n",
    "# run the workflow\n",
    "run_id = project.run(\n",
    "    workflow_path=\"./src/workflow.py\",\n",
    "    arguments={\n",
    "        \"vector_name\": fv.uri,\n",
    "        \"label_column\": 'device_labels.is_error',\n",
    "        \"model_name\": model_name\n",
    "    },\n",
    "    watch=True)"
   ]
  },
  {
   "cell_type": "markdown",
   "metadata": {},
   "source": [
    "## Test the Live Model Endpoint\n",
    "To test the live model endpoint, first grab a list of IDs from the static feature set it produced. Then use these IDs and send them through a loop to the live endpoint."
   ]
  },
  {
   "cell_type": "markdown",
   "metadata": {},
   "source": [
    "### Grab IDs from the static devices table"
   ]
  },
  {
   "cell_type": "code",
   "execution_count": 6,
   "metadata": {},
   "outputs": [
    {
     "name": "stdout",
     "output_type": "stream",
     "text": [
      "Devices sample: ['0131829476827' '6909970884180' '2796684608801' '7170281666639']\n"
     ]
    }
   ],
   "source": [
    "# Load the static feature set\n",
    "fset = fstore.get_feature_set('static')\n",
    "\n",
    "# Get a dataframe from the feature set\n",
    "devices = fset.to_dataframe().reset_index()['device'].values\n",
    "print('Devices sample:', devices[:4])"
   ]
  },
  {
   "cell_type": "markdown",
   "metadata": {},
   "source": [
    "### Send a sample ID to the model endpoint"
   ]
  },
  {
   "cell_type": "code",
   "execution_count": 7,
   "metadata": {},
   "outputs": [
    {
     "name": "stdout",
     "output_type": "stream",
     "text": [
      "> 2022-06-07 11:11:27,242 [info] invoking function: {'method': 'POST', 'path': 'http://nuclio-network-operations-yonatans-serving.default-tenant.svc.cluster.local:8080/v2/models/netops/infer'}\n"
     ]
    },
    {
     "data": {
      "text/plain": [
       "{'id': 'c0ccffb7-96b2-4e8c-84bb-a7d7d280203e',\n",
       " 'model_name': 'netops',\n",
       " 'outputs': [False]}"
      ]
     },
     "execution_count": 7,
     "metadata": {},
     "output_type": "execute_result"
    }
   ],
   "source": [
    "serving_fn = project.get_function('serving')\n",
    "serving_fn.invoke(path=f'/v2/models/{model_name}/infer', body={'inputs': [[devices[0]]]})"
   ]
  },
  {
   "cell_type": "markdown",
   "metadata": {},
   "source": [
    "### Continously send IDs to the model "
   ]
  },
  {
   "cell_type": "code",
   "execution_count": 8,
   "metadata": {},
   "outputs": [
    {
     "name": "stdout",
     "output_type": "stream",
     "text": [
      "> 2022-06-07 11:11:27,329 [info] invoking function: {'method': 'POST', 'path': 'http://nuclio-network-operations-yonatans-serving.default-tenant.svc.cluster.local:8080/v2/models/netops/infer'}\n",
      "Sent: [['1876820575247'], ['7759302294685']]\n",
      "Response: {'id': '5ff4e8e4-30a2-46e2-9cbb-a7cade0dd9eb', 'model_name': 'netops', 'outputs': [False, False]}\n",
      "Predictions: [(['1876820575247'], False), (['7759302294685'], False)]\n",
      "> 2022-06-07 11:11:37,399 [info] invoking function: {'method': 'POST', 'path': 'http://nuclio-network-operations-yonatans-serving.default-tenant.svc.cluster.local:8080/v2/models/netops/infer'}\n",
      "Sent: [['4841678372420'], ['2697569332249']]\n",
      "Response: {'id': 'b216a592-a6e2-4aab-8fdb-02cdcc2fb895', 'model_name': 'netops', 'outputs': [False, False]}\n",
      "Predictions: [(['4841678372420'], False), (['2697569332249'], False)]\n",
      "> 2022-06-07 11:11:47,481 [info] invoking function: {'method': 'POST', 'path': 'http://nuclio-network-operations-yonatans-serving.default-tenant.svc.cluster.local:8080/v2/models/netops/infer'}\n",
      "Sent: [['5475535210803'], ['4841678372420']]\n",
      "Response: {'id': 'f2cd2e09-24ab-4604-9dd3-80d64d9e31c2', 'model_name': 'netops', 'outputs': [False, False]}\n",
      "Predictions: [(['5475535210803'], False), (['4841678372420'], False)]\n",
      "> 2022-06-07 11:11:57,526 [info] invoking function: {'method': 'POST', 'path': 'http://nuclio-network-operations-yonatans-serving.default-tenant.svc.cluster.local:8080/v2/models/netops/infer'}\n",
      "Sent: [['0977750840057'], ['0668672544758']]\n",
      "Response: {'id': 'b9da549f-3a5b-45cb-861a-bc6b1840c474', 'model_name': 'netops', 'outputs': [False, False]}\n",
      "Predictions: [(['0977750840057'], False), (['0668672544758'], False)]\n",
      "> 2022-06-07 11:12:07,578 [info] invoking function: {'method': 'POST', 'path': 'http://nuclio-network-operations-yonatans-serving.default-tenant.svc.cluster.local:8080/v2/models/netops/infer'}\n",
      "Sent: [['3689192746934'], ['9845795480130']]\n",
      "Response: {'id': 'ce5ff474-7497-49e6-ab3f-632100e20422', 'model_name': 'netops', 'outputs': [False, False]}\n",
      "Predictions: [(['3689192746934'], False), (['9845795480130'], False)]\n"
     ]
    }
   ],
   "source": [
    "import random\n",
    "import time\n",
    "\n",
    "MSGS_TO_SEND = 5\n",
    "IDS_PER_MSG = 2\n",
    "TIMEOUT_BETWEEN_SENDS = 10\n",
    "for i in range(MSGS_TO_SEND):\n",
    "    ids_for_prediction = [[random.choice(devices)] for i in range(IDS_PER_MSG)]\n",
    "    resp = serving_fn.invoke(path=f'/v2/models/{model_name}/infer', body={'inputs': ids_for_prediction})\n",
    "    print('Sent:', ids_for_prediction)\n",
    "    print('Response:', resp)\n",
    "    print('Predictions:', list(zip(ids_for_prediction, resp['outputs'])))\n",
    "    time.sleep(TIMEOUT_BETWEEN_SENDS)"
   ]
  }
 ],
 "metadata": {
  "kernelspec": {
   "display_name": "Python 3",
   "language": "python",
   "name": "python3"
  },
  "language_info": {
   "codemirror_mode": {
    "name": "ipython",
    "version": 3
   },
   "file_extension": ".py",
   "mimetype": "text/x-python",
   "name": "python",
   "nbconvert_exporter": "python",
   "pygments_lexer": "ipython3",
   "version": "3.7.6"
  }
 },
 "nbformat": 4,
 "nbformat_minor": 4
}
