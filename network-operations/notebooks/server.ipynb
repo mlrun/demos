{
 "cells": [
  {
   "cell_type": "markdown",
   "metadata": {},
   "source": [
    "# Model Server"
   ]
  },
  {
   "cell_type": "markdown",
   "metadata": {},
   "source": [
    "## Environment"
   ]
  },
  {
   "cell_type": "code",
   "execution_count": 1,
   "metadata": {},
   "outputs": [],
   "source": [
    "import nuclio"
   ]
  },
  {
   "cell_type": "code",
   "execution_count": 2,
   "metadata": {},
   "outputs": [],
   "source": [
    "import os\n",
    "\n",
    "base_path = os.path.abspath('../')\n",
    "data_path = os.path.join(base_path, 'data')\n",
    "src_path = os.path.join(base_path, 'src')\n",
    "streaming_path = os.path.join(base_path, 'streaming')\n",
    "os.environ['base_path'] = base_path\n",
    "os.environ['data_path'] = data_path\n",
    "os.environ['src_path'] = src_path\n",
    "os.environ['streaming_path'] = streaming_path\n",
    "os.environ['fs_streaming_path'] = os.path.join(base_path, 'streaming')"
   ]
  },
  {
   "cell_type": "code",
   "execution_count": 3,
   "metadata": {},
   "outputs": [
    {
     "name": "stdout",
     "output_type": "stream",
     "text": [
      "%nuclio: setting kind to 'nuclio'\n",
      "%nuclio: setting spec.build.baseImage to 'mlrun/ml-models'\n"
     ]
    }
   ],
   "source": [
    "%nuclio config kind = \"nuclio\"\n",
    "%nuclio config spec.build.baseImage = \"mlrun/ml-models\""
   ]
  },
  {
   "cell_type": "code",
   "execution_count": 4,
   "metadata": {},
   "outputs": [
    {
     "name": "stdout",
     "output_type": "stream",
     "text": [
      "%nuclio: setting 'METRICS_TABLE' environment variable\n",
      "%nuclio: setting 'FEATURES_TABLE' environment variable\n",
      "%nuclio: setting 'PREDICTIONS_TABLE' environment variable\n",
      "%nuclio: setting 'model_path' environment variable\n",
      "%nuclio: setting 'model_name' environment variable\n",
      "%nuclio: setting 'model_class' environment variable\n",
      "%nuclio: setting 'model_col' environment variable\n",
      "%nuclio: setting 'model_class_col' environment variable\n",
      "%nuclio: setting 'prediction_col' environment variable\n",
      "%nuclio: setting 'worker_col' environment variable\n",
      "%nuclio: setting 'hostname_col' environment variable\n",
      "%nuclio: setting 'timestamp_col' environment variable\n",
      "%nuclio: setting 'orig_timestamp_col' environment variable\n"
     ]
    },
    {
     "name": "stderr",
     "output_type": "stream",
     "text": [
      "%nuclio: cannot find \"=\" in line\n",
      "%nuclio: cannot find \"=\" in line\n"
     ]
    }
   ],
   "source": [
    "%%nuclio env\n",
    "\n",
    "# streaming/features\n",
    "METRICS_TABLE = ${data_path}\n",
    "FEATURES_TABLE = ${streaming_path}/features\n",
    "PREDICTIONS_TABLE = ${streaming_path}/predictions\n",
    "\n",
    "# Define number of batches to keep the demo running for (-1 will run forever)\n",
    "BATCHES_TO_GENERATE = 20\n",
    "\n",
    "# Model\n",
    "model_path = ${base_path}/artifacts/model/1/model.pkl\n",
    "model_name = netops_predictor_v1\n",
    "model_class = MLRunModel\n",
    "model_col = model\n",
    "model_class_col = class\n",
    "prediction_col = predictions\n",
    "worker_col = worker\n",
    "hostname_col = hostname\n",
    "timestamp_col = when\n",
    "orig_timestamp_col = timestamp"
   ]
  },
  {
   "cell_type": "markdown",
   "metadata": {},
   "source": [
    "## Function"
   ]
  },
  {
   "cell_type": "code",
   "execution_count": 5,
   "metadata": {},
   "outputs": [],
   "source": [
    "# nuclio: start-code"
   ]
  },
  {
   "cell_type": "code",
   "execution_count": 6,
   "metadata": {},
   "outputs": [],
   "source": [
    "import os\n",
    "import pandas as pd\n",
    "import cloudpickle\n",
    "import numpy as np\n",
    "import json\n",
    "from mlrun import get_or_create_ctx\n",
    "import socket"
   ]
  },
  {
   "cell_type": "code",
   "execution_count": 7,
   "metadata": {},
   "outputs": [],
   "source": [
    "def get_data_parquet(context):\n",
    "    mpath = [os.path.join(context.features_table, file) for file in os.listdir(context.features_table) if file.endswith(('parquet', 'pq'))]\n",
    "    files_by_updated = sorted(mpath, key=os.path.getmtime, reverse=True)\n",
    "    return pd.read_parquet(files_by_updated[:1][0])"
   ]
  },
  {
   "cell_type": "code",
   "execution_count": 8,
   "metadata": {},
   "outputs": [],
   "source": [
    "def save_to_parquet(context, df: pd.DataFrame):\n",
    "    print('Saving features to Parquet')\n",
    "    \n",
    "    # Need to fix timestamps from ns to ms if we write to parquet \n",
    "    # And add this model name to indexes\n",
    "    keys = list([name if name != context.orig_timestamp_col else context.timestamp_col for name in df.index.names]) + [context.model_col, context.model_class_col, context.worker_col, context.hostname_col]\n",
    "    df = df.reset_index()\n",
    "    df[context.timestamp_col] = df.pop(context.orig_timestamp_col).astype('datetime64[ms]')\n",
    "    \n",
    "    # Fix indexes\n",
    "    df = df.set_index(keys)\n",
    "    \n",
    "    # Save parquet\n",
    "    first_timestamp = df.index[0][0].strftime('%Y%m%dT%H%M%S')\n",
    "    last_timestamp = df.index[-1][0].strftime('%Y%m%dT%H%M%S')\n",
    "    filename = first_timestamp + '-' + last_timestamp + '.parquet'\n",
    "    filepath = os.path.join(context.predictions_table, filename)\n",
    "    with open(filepath, 'wb+') as f:\n",
    "        df.to_parquet(f)"
   ]
  },
  {
   "cell_type": "code",
   "execution_count": 9,
   "metadata": {},
   "outputs": [],
   "source": [
    "def init_context(context):\n",
    "    \n",
    "    # How many batches to create? (-1 will run forever)\n",
    "    batches_to_generate = int(os.getenv('BATCHES_TO_GENERATE', 20))\n",
    "    setattr(context, 'batches_to_generate', batches_to_generate)\n",
    "    setattr(context, 'batches_generated', 0)\n",
    "    \n",
    "    # Set vars from env\n",
    "    setattr(context, 'model_name', os.getenv('model_name', 'netops_model'))\n",
    "    setattr(context, 'model_col', os.getenv('model_col', 'model'))\n",
    "    setattr(context, 'model_class_col', os.getenv('model_class_col', 'class'))\n",
    "    setattr(context, 'worker_col', os.getenv('worker_col', 'worker'))\n",
    "    setattr(context, 'hostname_col', os.getenv('hostname_col', 'hostname'))\n",
    "    setattr(context, 'timestamp_col', os.getenv('timestamp_col', 'when'))\n",
    "    setattr(context, 'orig_timestamp_col', os.getenv('orig_timestamp_col', 'timestamp'))\n",
    "    setattr(context, 'features_table', os.getenv('FEATURES_TABLE', 'netops_features'))\n",
    "    setattr(context, 'predictions_table', os.getenv('PREDICTIONS_TABLE', 'netops_predictions'))\n",
    "    setattr(context, 'prediction_col', os.getenv('prediction_col', 'prediction'))\n",
    "    \n",
    "    # Load model\n",
    "    model_path = os.environ['model_path']\n",
    "    if model_path.startswith('store://'):\n",
    "        mlctx = get_or_create_ctx('inference')\n",
    "        model = mlctx.get_dataitem(model_path)\n",
    "        model_path = os.path.join(model.url, 'model.pkl')\n",
    "    with open(model_path, 'rb') as f:\n",
    "        model = cloudpickle.load(f)\n",
    "    setattr(context, 'model', model)\n",
    "    setattr(context, 'model_class', type(model).__name__)\n",
    "    \n",
    "     # Create saving directory if needed\n",
    "    filepath = os.path.join(context.predictions_table)\n",
    "    if not os.path.exists(filepath):\n",
    "        os.makedirs(filepath)"
   ]
  },
  {
   "cell_type": "code",
   "execution_count": 10,
   "metadata": {},
   "outputs": [],
   "source": [
    "def handler(context, event):\n",
    "    \n",
    "    # Limit the number of generated batches to save cluster resources\n",
    "    # for people forgetting the demo running\n",
    "    if (context.batches_to_generate == -1) or (context.batches_generated <= context.batches_to_generate):\n",
    "    \n",
    "        if getattr(event.trigger, 'kind', 'cron') == 'cron':\n",
    "            # Get latest parquets\n",
    "            df = get_data_parquet(context)\n",
    "\n",
    "            # Predict\n",
    "            df[context.prediction_col] = context.model.predict(df.values)\n",
    "\n",
    "            # Add server metadata\n",
    "            df[context.model_col] = context.model_name\n",
    "            df[context.model_class_col] = context.model_class\n",
    "            df[context.worker_col] = context.worker_id\n",
    "            df[context.hostname_col] = socket.gethostname()\n",
    "\n",
    "            # Save\n",
    "            save_to_parquet(context, df)\n",
    "        else:\n",
    "            body = json.loads(event.body)\n",
    "            feats = np.asarray(body['instances'])\n",
    "            result: np.ndarray = context.model.predict(feats)\n",
    "            return result.tolist()\n",
    "        \n",
    "        # Update batches count\n",
    "        context.batches_generated += 1"
   ]
  },
  {
   "cell_type": "code",
   "execution_count": 64,
   "metadata": {},
   "outputs": [],
   "source": [
    "# nuclio: end-code"
   ]
  },
  {
   "cell_type": "markdown",
   "metadata": {},
   "source": [
    "## Local test"
   ]
  },
  {
   "cell_type": "code",
   "execution_count": 69,
   "metadata": {},
   "outputs": [],
   "source": [
    "init_context(context)"
   ]
  },
  {
   "cell_type": "code",
   "execution_count": 72,
   "metadata": {},
   "outputs": [
    {
     "name": "stdout",
     "output_type": "stream",
     "text": [
      "Saving features to Parquet\n"
     ]
    }
   ],
   "source": [
    "event = nuclio.Event(body='', trigger={'kind': 'cron'})\n",
    "out = handler(context, event)\n",
    "out"
   ]
  },
  {
   "cell_type": "markdown",
   "metadata": {},
   "source": [
    "## Test"
   ]
  },
  {
   "cell_type": "code",
   "execution_count": 11,
   "metadata": {},
   "outputs": [],
   "source": [
    "from mlrun import code_to_function, mount_v3io"
   ]
  },
  {
   "cell_type": "code",
   "execution_count": 12,
   "metadata": {},
   "outputs": [
    {
     "data": {
      "text/plain": [
       "<mlrun.runtimes.function.RemoteRuntime at 0x7ffa7a23c3d0>"
      ]
     },
     "execution_count": 12,
     "metadata": {},
     "output_type": "execute_result"
    }
   ],
   "source": [
    "fn = code_to_function('inference-server',\n",
    "                      kind='nuclio',\n",
    "                      project='network-operations')\n",
    "fn.spec.base_spec['spec']['build']['baseImage'] = 'mlrun/ml-models'\n",
    "fn.apply(mount_v3io())\n",
    "fn.add_trigger('cron', nuclio.triggers.CronTrigger(interval='1m'))"
   ]
  },
  {
   "cell_type": "code",
   "execution_count": 13,
   "metadata": {},
   "outputs": [
    {
     "name": "stdout",
     "output_type": "stream",
     "text": [
      "> 2020-12-22 10:18:10,117 [info] function spec saved to path: ../src/inference-server.yaml\n"
     ]
    },
    {
     "data": {
      "text/plain": [
       "<mlrun.runtimes.function.RemoteRuntime at 0x7ffa7a23c3d0>"
      ]
     },
     "execution_count": 13,
     "metadata": {},
     "output_type": "execute_result"
    }
   ],
   "source": [
    "fn.save()\n",
    "fn.export('../src/inference-server.yaml')"
   ]
  },
  {
   "cell_type": "code",
   "execution_count": 14,
   "metadata": {},
   "outputs": [
    {
     "name": "stdout",
     "output_type": "stream",
     "text": [
      "> 2020-12-22 10:18:10,122 [info] Starting remote function deploy\n",
      "2020-12-22 10:18:10  (info) Deploying function\n",
      "2020-12-22 10:18:10  (info) Building\n",
      "2020-12-22 10:18:10  (info) Staging files and preparing base images\n",
      "2020-12-22 10:18:10  (info) Building processor image\n",
      "2020-12-22 10:18:11  (info) Build complete\n",
      "2020-12-22 10:18:19  (info) Function deploy complete\n",
      "> 2020-12-22 10:18:19,657 [info] function deployed, address=default-tenant.app.lewpwntlsyrb.iguazio-cd1.com:30156\n"
     ]
    },
    {
     "data": {
      "text/plain": [
       "'http://default-tenant.app.lewpwntlsyrb.iguazio-cd1.com:30156'"
      ]
     },
     "execution_count": 14,
     "metadata": {},
     "output_type": "execute_result"
    }
   ],
   "source": [
    "fn.deploy(project='network-operations')"
   ]
  },
  {
   "cell_type": "code",
   "execution_count": 25,
   "metadata": {},
   "outputs": [
    {
     "data": {
      "text/html": [
       "<div>\n",
       "<style scoped>\n",
       "    .dataframe tbody tr th:only-of-type {\n",
       "        vertical-align: middle;\n",
       "    }\n",
       "\n",
       "    .dataframe tbody tr th {\n",
       "        vertical-align: top;\n",
       "    }\n",
       "\n",
       "    .dataframe thead th {\n",
       "        text-align: right;\n",
       "    }\n",
       "</style>\n",
       "<table border=\"1\" class=\"dataframe\">\n",
       "  <thead>\n",
       "    <tr style=\"text-align: right;\">\n",
       "      <th></th>\n",
       "      <th></th>\n",
       "      <th></th>\n",
       "      <th></th>\n",
       "      <th></th>\n",
       "      <th></th>\n",
       "      <th></th>\n",
       "      <th></th>\n",
       "      <th>cpu_utilization</th>\n",
       "      <th>latency</th>\n",
       "      <th>packet_loss</th>\n",
       "      <th>throughput</th>\n",
       "      <th>predictions</th>\n",
       "    </tr>\n",
       "    <tr>\n",
       "      <th>when</th>\n",
       "      <th>company</th>\n",
       "      <th>data_center</th>\n",
       "      <th>device</th>\n",
       "      <th>model</th>\n",
       "      <th>class</th>\n",
       "      <th>worker</th>\n",
       "      <th>hostname</th>\n",
       "      <th></th>\n",
       "      <th></th>\n",
       "      <th></th>\n",
       "      <th></th>\n",
       "      <th></th>\n",
       "    </tr>\n",
       "  </thead>\n",
       "  <tbody>\n",
       "    <tr>\n",
       "      <th rowspan=\"5\" valign=\"top\">2020-06-30 06:42:17.454</th>\n",
       "      <th rowspan=\"3\" valign=\"top\">Wilson_LLC</th>\n",
       "      <th>Zachary_Drives</th>\n",
       "      <th>6001003522699</th>\n",
       "      <th>netops_predictor_v1</th>\n",
       "      <th>RandomForestClassifier</th>\n",
       "      <th>NaN</th>\n",
       "      <th>jupyter-558bf7fbc8-sq5kd</th>\n",
       "      <td>66.939139</td>\n",
       "      <td>0.537279</td>\n",
       "      <td>0.000000</td>\n",
       "      <td>256.482190</td>\n",
       "      <td>False</td>\n",
       "    </tr>\n",
       "    <tr>\n",
       "      <th rowspan=\"2\" valign=\"top\">Obrien_Mountain</th>\n",
       "      <th>0966571261270</th>\n",
       "      <th>netops_predictor_v1</th>\n",
       "      <th>RandomForestClassifier</th>\n",
       "      <th>NaN</th>\n",
       "      <th>jupyter-558bf7fbc8-sq5kd</th>\n",
       "      <td>72.492707</td>\n",
       "      <td>0.000000</td>\n",
       "      <td>4.961308</td>\n",
       "      <td>264.122648</td>\n",
       "      <td>False</td>\n",
       "    </tr>\n",
       "    <tr>\n",
       "      <th>8069812479542</th>\n",
       "      <th>netops_predictor_v1</th>\n",
       "      <th>RandomForestClassifier</th>\n",
       "      <th>NaN</th>\n",
       "      <th>jupyter-558bf7fbc8-sq5kd</th>\n",
       "      <td>69.116878</td>\n",
       "      <td>2.606934</td>\n",
       "      <td>0.000000</td>\n",
       "      <td>263.528599</td>\n",
       "      <td>False</td>\n",
       "    </tr>\n",
       "    <tr>\n",
       "      <th rowspan=\"2\" valign=\"top\">Bennett__Delacruz_and_Walls</th>\n",
       "      <th rowspan=\"2\" valign=\"top\">Natasha_Harbors</th>\n",
       "      <th>5863502247054</th>\n",
       "      <th>netops_predictor_v1</th>\n",
       "      <th>RandomForestClassifier</th>\n",
       "      <th>NaN</th>\n",
       "      <th>jupyter-558bf7fbc8-sq5kd</th>\n",
       "      <td>64.944107</td>\n",
       "      <td>1.571046</td>\n",
       "      <td>0.172451</td>\n",
       "      <td>241.149554</td>\n",
       "      <td>False</td>\n",
       "    </tr>\n",
       "    <tr>\n",
       "      <th>4285071567351</th>\n",
       "      <th>netops_predictor_v1</th>\n",
       "      <th>RandomForestClassifier</th>\n",
       "      <th>NaN</th>\n",
       "      <th>jupyter-558bf7fbc8-sq5kd</th>\n",
       "      <td>78.641128</td>\n",
       "      <td>0.000000</td>\n",
       "      <td>0.000000</td>\n",
       "      <td>263.688823</td>\n",
       "      <td>False</td>\n",
       "    </tr>\n",
       "    <tr>\n",
       "      <th>...</th>\n",
       "      <th>...</th>\n",
       "      <th>...</th>\n",
       "      <th>...</th>\n",
       "      <th>...</th>\n",
       "      <th>...</th>\n",
       "      <th>...</th>\n",
       "      <th>...</th>\n",
       "      <td>...</td>\n",
       "      <td>...</td>\n",
       "      <td>...</td>\n",
       "      <td>...</td>\n",
       "      <td>...</td>\n",
       "    </tr>\n",
       "    <tr>\n",
       "      <th rowspan=\"5\" valign=\"top\">2020-06-30 07:42:12.454</th>\n",
       "      <th>Wilson_LLC</th>\n",
       "      <th>Obrien_Mountain</th>\n",
       "      <th>8069812479542</th>\n",
       "      <th>netops_predictor_v1</th>\n",
       "      <th>RandomForestClassifier</th>\n",
       "      <th>NaN</th>\n",
       "      <th>jupyter-558bf7fbc8-sq5kd</th>\n",
       "      <td>59.574487</td>\n",
       "      <td>0.000000</td>\n",
       "      <td>0.000000</td>\n",
       "      <td>269.816306</td>\n",
       "      <td>False</td>\n",
       "    </tr>\n",
       "    <tr>\n",
       "      <th rowspan=\"4\" valign=\"top\">Bennett__Delacruz_and_Walls</th>\n",
       "      <th rowspan=\"2\" valign=\"top\">Natasha_Harbors</th>\n",
       "      <th>5863502247054</th>\n",
       "      <th>netops_predictor_v1</th>\n",
       "      <th>RandomForestClassifier</th>\n",
       "      <th>NaN</th>\n",
       "      <th>jupyter-558bf7fbc8-sq5kd</th>\n",
       "      <td>100.000000</td>\n",
       "      <td>100.000000</td>\n",
       "      <td>50.000000</td>\n",
       "      <td>0.000000</td>\n",
       "      <td>True</td>\n",
       "    </tr>\n",
       "    <tr>\n",
       "      <th>4285071567351</th>\n",
       "      <th>netops_predictor_v1</th>\n",
       "      <th>RandomForestClassifier</th>\n",
       "      <th>NaN</th>\n",
       "      <th>jupyter-558bf7fbc8-sq5kd</th>\n",
       "      <td>100.000000</td>\n",
       "      <td>100.000000</td>\n",
       "      <td>50.000000</td>\n",
       "      <td>0.000000</td>\n",
       "      <td>True</td>\n",
       "    </tr>\n",
       "    <tr>\n",
       "      <th rowspan=\"2\" valign=\"top\">Dominique_Branch</th>\n",
       "      <th>4579248894449</th>\n",
       "      <th>netops_predictor_v1</th>\n",
       "      <th>RandomForestClassifier</th>\n",
       "      <th>NaN</th>\n",
       "      <th>jupyter-558bf7fbc8-sq5kd</th>\n",
       "      <td>69.053014</td>\n",
       "      <td>0.064657</td>\n",
       "      <td>0.000000</td>\n",
       "      <td>255.943689</td>\n",
       "      <td>False</td>\n",
       "    </tr>\n",
       "    <tr>\n",
       "      <th>7731097392608</th>\n",
       "      <th>netops_predictor_v1</th>\n",
       "      <th>RandomForestClassifier</th>\n",
       "      <th>NaN</th>\n",
       "      <th>jupyter-558bf7fbc8-sq5kd</th>\n",
       "      <td>69.629988</td>\n",
       "      <td>0.000000</td>\n",
       "      <td>1.153888</td>\n",
       "      <td>238.072156</td>\n",
       "      <td>False</td>\n",
       "    </tr>\n",
       "  </tbody>\n",
       "</table>\n",
       "<p>5759 rows × 5 columns</p>\n",
       "</div>"
      ],
      "text/plain": [
       "                                                                                                                                                               cpu_utilization  \\\n",
       "when                    company                     data_center      device        model               class                  worker hostname                                    \n",
       "2020-06-30 06:42:17.454 Wilson_LLC                  Zachary_Drives   6001003522699 netops_predictor_v1 RandomForestClassifier NaN    jupyter-558bf7fbc8-sq5kd        66.939139   \n",
       "                                                    Obrien_Mountain  0966571261270 netops_predictor_v1 RandomForestClassifier NaN    jupyter-558bf7fbc8-sq5kd        72.492707   \n",
       "                                                                     8069812479542 netops_predictor_v1 RandomForestClassifier NaN    jupyter-558bf7fbc8-sq5kd        69.116878   \n",
       "                        Bennett__Delacruz_and_Walls Natasha_Harbors  5863502247054 netops_predictor_v1 RandomForestClassifier NaN    jupyter-558bf7fbc8-sq5kd        64.944107   \n",
       "                                                                     4285071567351 netops_predictor_v1 RandomForestClassifier NaN    jupyter-558bf7fbc8-sq5kd        78.641128   \n",
       "...                                                                                                                                                                        ...   \n",
       "2020-06-30 07:42:12.454 Wilson_LLC                  Obrien_Mountain  8069812479542 netops_predictor_v1 RandomForestClassifier NaN    jupyter-558bf7fbc8-sq5kd        59.574487   \n",
       "                        Bennett__Delacruz_and_Walls Natasha_Harbors  5863502247054 netops_predictor_v1 RandomForestClassifier NaN    jupyter-558bf7fbc8-sq5kd       100.000000   \n",
       "                                                                     4285071567351 netops_predictor_v1 RandomForestClassifier NaN    jupyter-558bf7fbc8-sq5kd       100.000000   \n",
       "                                                    Dominique_Branch 4579248894449 netops_predictor_v1 RandomForestClassifier NaN    jupyter-558bf7fbc8-sq5kd        69.053014   \n",
       "                                                                     7731097392608 netops_predictor_v1 RandomForestClassifier NaN    jupyter-558bf7fbc8-sq5kd        69.629988   \n",
       "\n",
       "                                                                                                                                                                  latency  \\\n",
       "when                    company                     data_center      device        model               class                  worker hostname                               \n",
       "2020-06-30 06:42:17.454 Wilson_LLC                  Zachary_Drives   6001003522699 netops_predictor_v1 RandomForestClassifier NaN    jupyter-558bf7fbc8-sq5kd    0.537279   \n",
       "                                                    Obrien_Mountain  0966571261270 netops_predictor_v1 RandomForestClassifier NaN    jupyter-558bf7fbc8-sq5kd    0.000000   \n",
       "                                                                     8069812479542 netops_predictor_v1 RandomForestClassifier NaN    jupyter-558bf7fbc8-sq5kd    2.606934   \n",
       "                        Bennett__Delacruz_and_Walls Natasha_Harbors  5863502247054 netops_predictor_v1 RandomForestClassifier NaN    jupyter-558bf7fbc8-sq5kd    1.571046   \n",
       "                                                                     4285071567351 netops_predictor_v1 RandomForestClassifier NaN    jupyter-558bf7fbc8-sq5kd    0.000000   \n",
       "...                                                                                                                                                                   ...   \n",
       "2020-06-30 07:42:12.454 Wilson_LLC                  Obrien_Mountain  8069812479542 netops_predictor_v1 RandomForestClassifier NaN    jupyter-558bf7fbc8-sq5kd    0.000000   \n",
       "                        Bennett__Delacruz_and_Walls Natasha_Harbors  5863502247054 netops_predictor_v1 RandomForestClassifier NaN    jupyter-558bf7fbc8-sq5kd  100.000000   \n",
       "                                                                     4285071567351 netops_predictor_v1 RandomForestClassifier NaN    jupyter-558bf7fbc8-sq5kd  100.000000   \n",
       "                                                    Dominique_Branch 4579248894449 netops_predictor_v1 RandomForestClassifier NaN    jupyter-558bf7fbc8-sq5kd    0.064657   \n",
       "                                                                     7731097392608 netops_predictor_v1 RandomForestClassifier NaN    jupyter-558bf7fbc8-sq5kd    0.000000   \n",
       "\n",
       "                                                                                                                                                               packet_loss  \\\n",
       "when                    company                     data_center      device        model               class                  worker hostname                                \n",
       "2020-06-30 06:42:17.454 Wilson_LLC                  Zachary_Drives   6001003522699 netops_predictor_v1 RandomForestClassifier NaN    jupyter-558bf7fbc8-sq5kd     0.000000   \n",
       "                                                    Obrien_Mountain  0966571261270 netops_predictor_v1 RandomForestClassifier NaN    jupyter-558bf7fbc8-sq5kd     4.961308   \n",
       "                                                                     8069812479542 netops_predictor_v1 RandomForestClassifier NaN    jupyter-558bf7fbc8-sq5kd     0.000000   \n",
       "                        Bennett__Delacruz_and_Walls Natasha_Harbors  5863502247054 netops_predictor_v1 RandomForestClassifier NaN    jupyter-558bf7fbc8-sq5kd     0.172451   \n",
       "                                                                     4285071567351 netops_predictor_v1 RandomForestClassifier NaN    jupyter-558bf7fbc8-sq5kd     0.000000   \n",
       "...                                                                                                                                                                    ...   \n",
       "2020-06-30 07:42:12.454 Wilson_LLC                  Obrien_Mountain  8069812479542 netops_predictor_v1 RandomForestClassifier NaN    jupyter-558bf7fbc8-sq5kd     0.000000   \n",
       "                        Bennett__Delacruz_and_Walls Natasha_Harbors  5863502247054 netops_predictor_v1 RandomForestClassifier NaN    jupyter-558bf7fbc8-sq5kd    50.000000   \n",
       "                                                                     4285071567351 netops_predictor_v1 RandomForestClassifier NaN    jupyter-558bf7fbc8-sq5kd    50.000000   \n",
       "                                                    Dominique_Branch 4579248894449 netops_predictor_v1 RandomForestClassifier NaN    jupyter-558bf7fbc8-sq5kd     0.000000   \n",
       "                                                                     7731097392608 netops_predictor_v1 RandomForestClassifier NaN    jupyter-558bf7fbc8-sq5kd     1.153888   \n",
       "\n",
       "                                                                                                                                                               throughput  \\\n",
       "when                    company                     data_center      device        model               class                  worker hostname                               \n",
       "2020-06-30 06:42:17.454 Wilson_LLC                  Zachary_Drives   6001003522699 netops_predictor_v1 RandomForestClassifier NaN    jupyter-558bf7fbc8-sq5kd  256.482190   \n",
       "                                                    Obrien_Mountain  0966571261270 netops_predictor_v1 RandomForestClassifier NaN    jupyter-558bf7fbc8-sq5kd  264.122648   \n",
       "                                                                     8069812479542 netops_predictor_v1 RandomForestClassifier NaN    jupyter-558bf7fbc8-sq5kd  263.528599   \n",
       "                        Bennett__Delacruz_and_Walls Natasha_Harbors  5863502247054 netops_predictor_v1 RandomForestClassifier NaN    jupyter-558bf7fbc8-sq5kd  241.149554   \n",
       "                                                                     4285071567351 netops_predictor_v1 RandomForestClassifier NaN    jupyter-558bf7fbc8-sq5kd  263.688823   \n",
       "...                                                                                                                                                                   ...   \n",
       "2020-06-30 07:42:12.454 Wilson_LLC                  Obrien_Mountain  8069812479542 netops_predictor_v1 RandomForestClassifier NaN    jupyter-558bf7fbc8-sq5kd  269.816306   \n",
       "                        Bennett__Delacruz_and_Walls Natasha_Harbors  5863502247054 netops_predictor_v1 RandomForestClassifier NaN    jupyter-558bf7fbc8-sq5kd    0.000000   \n",
       "                                                                     4285071567351 netops_predictor_v1 RandomForestClassifier NaN    jupyter-558bf7fbc8-sq5kd    0.000000   \n",
       "                                                    Dominique_Branch 4579248894449 netops_predictor_v1 RandomForestClassifier NaN    jupyter-558bf7fbc8-sq5kd  255.943689   \n",
       "                                                                     7731097392608 netops_predictor_v1 RandomForestClassifier NaN    jupyter-558bf7fbc8-sq5kd  238.072156   \n",
       "\n",
       "                                                                                                                                                               predictions  \n",
       "when                    company                     data_center      device        model               class                  worker hostname                               \n",
       "2020-06-30 06:42:17.454 Wilson_LLC                  Zachary_Drives   6001003522699 netops_predictor_v1 RandomForestClassifier NaN    jupyter-558bf7fbc8-sq5kd        False  \n",
       "                                                    Obrien_Mountain  0966571261270 netops_predictor_v1 RandomForestClassifier NaN    jupyter-558bf7fbc8-sq5kd        False  \n",
       "                                                                     8069812479542 netops_predictor_v1 RandomForestClassifier NaN    jupyter-558bf7fbc8-sq5kd        False  \n",
       "                        Bennett__Delacruz_and_Walls Natasha_Harbors  5863502247054 netops_predictor_v1 RandomForestClassifier NaN    jupyter-558bf7fbc8-sq5kd        False  \n",
       "                                                                     4285071567351 netops_predictor_v1 RandomForestClassifier NaN    jupyter-558bf7fbc8-sq5kd        False  \n",
       "...                                                                                                                                                                    ...  \n",
       "2020-06-30 07:42:12.454 Wilson_LLC                  Obrien_Mountain  8069812479542 netops_predictor_v1 RandomForestClassifier NaN    jupyter-558bf7fbc8-sq5kd        False  \n",
       "                        Bennett__Delacruz_and_Walls Natasha_Harbors  5863502247054 netops_predictor_v1 RandomForestClassifier NaN    jupyter-558bf7fbc8-sq5kd         True  \n",
       "                                                                     4285071567351 netops_predictor_v1 RandomForestClassifier NaN    jupyter-558bf7fbc8-sq5kd         True  \n",
       "                                                    Dominique_Branch 4579248894449 netops_predictor_v1 RandomForestClassifier NaN    jupyter-558bf7fbc8-sq5kd        False  \n",
       "                                                                     7731097392608 netops_predictor_v1 RandomForestClassifier NaN    jupyter-558bf7fbc8-sq5kd        False  \n",
       "\n",
       "[5759 rows x 5 columns]"
      ]
     },
     "execution_count": 25,
     "metadata": {},
     "output_type": "execute_result"
    }
   ],
   "source": [
    "pd.read_parquet('../streaming/predictions/20200630T064217-20200630T074212.parquet')"
   ]
  },
  {
   "cell_type": "code",
   "execution_count": null,
   "metadata": {},
   "outputs": [],
   "source": []
  }
 ],
 "metadata": {
  "kernelspec": {
   "display_name": "Python 3",
   "language": "python",
   "name": "python3"
  },
  "language_info": {
   "codemirror_mode": {
    "name": "ipython",
    "version": 3
   },
   "file_extension": ".py",
   "mimetype": "text/x-python",
   "name": "python",
   "nbconvert_exporter": "python",
   "pygments_lexer": "ipython3",
   "version": "3.7.6"
  }
 },
 "nbformat": 4,
 "nbformat_minor": 4
}
