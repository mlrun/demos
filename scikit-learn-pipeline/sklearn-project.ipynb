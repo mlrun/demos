{
 "cells": [
  {
   "cell_type": "markdown",
   "metadata": {},
   "source": [
    "# Demonstrate Local Or Remote Functions And Full Pipelines\n",
    "  --------------------------------------------------------------------\n",
    "\n",
    "Creating a local function, running predefined functions, creating and running a full ML pipeline with local and library functions.\n",
    "\n",
    "#### **notebook how-to's**\n",
    "* Create and test a simple function\n",
    "* Examine data using serverless (containarized) `describe` function\n",
    "* Create an automated ML pipeline from various library functions\n",
    "* Running and tracking the pipeline results and artifacts"
   ]
  },
  {
   "cell_type": "markdown",
   "metadata": {},
   "source": [
    "## Create and Test a Local Function (Iris Data Generator)\n",
    "Import nuclio SDK and magics, <b>do not remove the cell and comment !!!</b>"
   ]
  },
  {
   "cell_type": "code",
   "execution_count": 1,
   "metadata": {},
   "outputs": [],
   "source": [
    "# nuclio: ignore\n",
    "import nuclio"
   ]
  },
  {
   "cell_type": "markdown",
   "metadata": {},
   "source": [
    "#### Function code\n",
    "Generate the iris dataset and log the dataframe (as csv or parquet file)"
   ]
  },
  {
   "cell_type": "code",
   "execution_count": 2,
   "metadata": {},
   "outputs": [],
   "source": [
    "import os\n",
    "from sklearn.datasets import load_iris\n",
    "from sklearn.model_selection import train_test_split\n",
    "import numpy as np\n",
    "from sklearn.metrics import accuracy_score\n",
    "from mlrun.artifacts import TableArtifact, PlotArtifact\n",
    "import pandas as pd\n",
    "\n",
    "def iris_generator(context, format='csv'):\n",
    "    iris = load_iris()\n",
    "    iris_dataset = pd.DataFrame(data=iris.data, columns=iris.feature_names)\n",
    "    iris_labels = pd.DataFrame(data=iris.target, columns=['label'])\n",
    "    iris_dataset = pd.concat([iris_dataset, iris_labels], axis=1)\n",
    "    \n",
    "    context.logger.info('saving iris dataframe to {}'.format(context.artifact_path))\n",
    "    context.log_dataset('iris_dataset', df=iris_dataset, format=format, index=False)\n"
   ]
  },
  {
   "cell_type": "markdown",
   "metadata": {},
   "source": [
    "The following end-code annotation tells ```nuclio``` to stop parsing the notebook from this cell. _**Please do not remove this cell**_:"
   ]
  },
  {
   "cell_type": "code",
   "execution_count": 3,
   "metadata": {},
   "outputs": [],
   "source": [
    "# nuclio: end-code\n",
    "# marks the end of a code section"
   ]
  },
  {
   "cell_type": "markdown",
   "metadata": {},
   "source": [
    "## Create a project to host our functions, jobs and artifacts\n",
    "\n",
    "Projects are used to package multiple functions, workflows, and artifacts. We usually store project code and definitions in a Git archive.\n",
    "\n",
    "The following code creates a new project in a local dir and initialize git tracking on that"
   ]
  },
  {
   "cell_type": "code",
   "execution_count": 4,
   "metadata": {},
   "outputs": [],
   "source": [
    "from os import path\n",
    "from mlrun import run_local, NewTask, mlconf, import_function, mount_v3io\n",
    "mlconf.dbpath = mlconf.dbpath or 'http://mlrun-api:8080'\n",
    "\n",
    "# specify artifacts target location\n",
    "artifact_path = mlconf.artifact_path or path.abspath('./')\n",
    "project_name = 'sk-project'"
   ]
  },
  {
   "cell_type": "code",
   "execution_count": 5,
   "metadata": {},
   "outputs": [],
   "source": [
    "from mlrun import new_project, code_to_function\n",
    "project_dir = './project'\n",
    "skproj = new_project(project_name, project_dir, init_git=True)"
   ]
  },
  {
   "cell_type": "markdown",
   "metadata": {},
   "source": [
    "<a id='test-locally'></a>\n",
    "### Run the data generator function locally\n",
    "\n",
    "The functions above can be tested locally. Parameters, inputs, and outputs can be specified in the API or the `Task` object.<br>\n",
    "when using `run_local()` the function inputs and outputs are automatically recorded by MLRun experiment and data tracking DB.\n",
    "\n",
    "In each run we can specify the function, inputs, parameters/hyper-parameters, etc... For more details, see the [mlrun_basics notebook](mlrun_basics.ipynb)."
   ]
  },
  {
   "cell_type": "code",
   "execution_count": 6,
   "metadata": {},
   "outputs": [
    {
     "name": "stdout",
     "output_type": "stream",
     "text": [
      "> 2021-09-29 10:45:02,816 [info] starting run iris_gen uid=7f800eb7f7dc49c590516d15026c0ef7 DB=http://mlrun-api:8080\n",
      "> 2021-09-29 10:45:02,902 [info] saving iris dataframe to v3io:///projects/sk-project/artifacts/data\n"
     ]
    },
    {
     "data": {
      "text/html": [
       "<style>\n",
       ".dictlist {\n",
       "  background-color: #4EC64B;\n",
       "  text-align: center;\n",
       "  margin: 4px;\n",
       "  border-radius: 3px; padding: 0px 3px 1px 3px; display: inline-block;}\n",
       ".artifact {\n",
       "  cursor: pointer;\n",
       "  background-color: #4EC64B;\n",
       "  text-align: left;\n",
       "  margin: 4px; border-radius: 3px; padding: 0px 3px 1px 3px; display: inline-block;\n",
       "}\n",
       "div.block.hidden {\n",
       "  display: none;\n",
       "}\n",
       ".clickable {\n",
       "  cursor: pointer;\n",
       "}\n",
       ".ellipsis {\n",
       "  display: inline-block;\n",
       "  max-width: 60px;\n",
       "  white-space: nowrap;\n",
       "  overflow: hidden;\n",
       "  text-overflow: ellipsis;\n",
       "}\n",
       ".master-wrapper {\n",
       "  display: flex;\n",
       "  flex-flow: row nowrap;\n",
       "  justify-content: flex-start;\n",
       "  align-items: stretch;\n",
       "}\n",
       ".master-tbl {\n",
       "  flex: 3\n",
       "}\n",
       ".master-wrapper > div {\n",
       "  margin: 4px;\n",
       "  padding: 10px;\n",
       "}\n",
       "iframe.fileview {\n",
       "  border: 0 none;\n",
       "  height: 100%;\n",
       "  width: 100%;\n",
       "  white-space: pre-wrap;\n",
       "}\n",
       ".pane-header-title {\n",
       "  width: 80%;\n",
       "  font-weight: 500;\n",
       "}\n",
       ".pane-header {\n",
       "  line-height: 1;\n",
       "  background-color: #4EC64B;\n",
       "  padding: 3px;\n",
       "}\n",
       ".pane-header .close {\n",
       "  font-size: 20px;\n",
       "  font-weight: 700;\n",
       "  float: right;\n",
       "  margin-top: -5px;\n",
       "}\n",
       ".master-wrapper .right-pane {\n",
       "  border: 1px inset silver;\n",
       "  width: 40%;\n",
       "  min-height: 300px;\n",
       "  flex: 3\n",
       "  min-width: 500px;\n",
       "}\n",
       ".master-wrapper * {\n",
       "  box-sizing: border-box;\n",
       "}\n",
       "</style><script>\n",
       "function copyToClipboard(fld) {\n",
       "    if (document.queryCommandSupported && document.queryCommandSupported('copy')) {\n",
       "        var textarea = document.createElement('textarea');\n",
       "        textarea.textContent = fld.innerHTML;\n",
       "        textarea.style.position = 'fixed';\n",
       "        document.body.appendChild(textarea);\n",
       "        textarea.select();\n",
       "\n",
       "        try {\n",
       "            return document.execCommand('copy'); // Security exception may be thrown by some browsers.\n",
       "        } catch (ex) {\n",
       "\n",
       "        } finally {\n",
       "            document.body.removeChild(textarea);\n",
       "        }\n",
       "    }\n",
       "}\n",
       "function expandPanel(el) {\n",
       "  const panelName = \"#\" + el.getAttribute('paneName');\n",
       "  console.log(el.title);\n",
       "\n",
       "  document.querySelector(panelName + \"-title\").innerHTML = el.title\n",
       "  iframe = document.querySelector(panelName + \"-body\");\n",
       "\n",
       "  const tblcss = `<style> body { font-family: Arial, Helvetica, sans-serif;}\n",
       "    #csv { margin-bottom: 15px; }\n",
       "    #csv table { border-collapse: collapse;}\n",
       "    #csv table td { padding: 4px 8px; border: 1px solid silver;} </style>`;\n",
       "\n",
       "  function csvToHtmlTable(str) {\n",
       "    return '<div id=\"csv\"><table><tr><td>' +  str.replace(/[\\n\\r]+$/g, '').replace(/[\\n\\r]+/g, '</td></tr><tr><td>')\n",
       "      .replace(/,/g, '</td><td>') + '</td></tr></table></div>';\n",
       "  }\n",
       "\n",
       "  function reqListener () {\n",
       "    if (el.title.endsWith(\".csv\")) {\n",
       "      iframe.setAttribute(\"srcdoc\", tblcss + csvToHtmlTable(this.responseText));\n",
       "    } else {\n",
       "      iframe.setAttribute(\"srcdoc\", this.responseText);\n",
       "    }\n",
       "    console.log(this.responseText);\n",
       "  }\n",
       "\n",
       "  const oReq = new XMLHttpRequest();\n",
       "  oReq.addEventListener(\"load\", reqListener);\n",
       "  oReq.open(\"GET\", el.title);\n",
       "  oReq.send();\n",
       "\n",
       "\n",
       "  //iframe.src = el.title;\n",
       "  const resultPane = document.querySelector(panelName + \"-pane\");\n",
       "  if (resultPane.classList.contains(\"hidden\")) {\n",
       "    resultPane.classList.remove(\"hidden\");\n",
       "  }\n",
       "}\n",
       "function closePanel(el) {\n",
       "  const panelName = \"#\" + el.getAttribute('paneName')\n",
       "  const resultPane = document.querySelector(panelName + \"-pane\");\n",
       "  if (!resultPane.classList.contains(\"hidden\")) {\n",
       "    resultPane.classList.add(\"hidden\");\n",
       "  }\n",
       "}\n",
       "\n",
       "</script>\n",
       "<div class=\"master-wrapper\">\n",
       "  <div class=\"block master-tbl\"><div>\n",
       "<style scoped>\n",
       "    .dataframe tbody tr th:only-of-type {\n",
       "        vertical-align: middle;\n",
       "    }\n",
       "\n",
       "    .dataframe tbody tr th {\n",
       "        vertical-align: top;\n",
       "    }\n",
       "\n",
       "    .dataframe thead th {\n",
       "        text-align: right;\n",
       "    }\n",
       "</style>\n",
       "<table border=\"1\" class=\"dataframe\">\n",
       "  <thead>\n",
       "    <tr style=\"text-align: right;\">\n",
       "      <th>project</th>\n",
       "      <th>uid</th>\n",
       "      <th>iter</th>\n",
       "      <th>start</th>\n",
       "      <th>state</th>\n",
       "      <th>name</th>\n",
       "      <th>labels</th>\n",
       "      <th>inputs</th>\n",
       "      <th>parameters</th>\n",
       "      <th>results</th>\n",
       "      <th>artifacts</th>\n",
       "    </tr>\n",
       "  </thead>\n",
       "  <tbody>\n",
       "    <tr>\n",
       "      <td>sk-project</td>\n",
       "      <td><div title=\"7f800eb7f7dc49c590516d15026c0ef7\"><a href=\"https://dashboard.default-tenant.app.dev8.lab.iguazeng.com/mlprojects/sk-project/jobs/monitor/7f800eb7f7dc49c590516d15026c0ef7/overview\" target=\"_blank\" >...026c0ef7</a></div></td>\n",
       "      <td>0</td>\n",
       "      <td>Sep 29 10:45:02</td>\n",
       "      <td>completed</td>\n",
       "      <td>iris_gen</td>\n",
       "      <td><div class=\"dictlist\">v3io_user=dani</div><div class=\"dictlist\">kind=handler</div><div class=\"dictlist\">owner=dani</div><div class=\"dictlist\">host=jupyter-dani-86575fbc89-k9xvr</div></td>\n",
       "      <td></td>\n",
       "      <td></td>\n",
       "      <td></td>\n",
       "      <td><div class=\"artifact\" onclick=\"expandPanel(this)\" paneName=\"resultbe9189cb\" title=\"files/v3io/projects/sk-project/artifacts/data/iris_dataset.csv\">iris_dataset</div></td>\n",
       "    </tr>\n",
       "  </tbody>\n",
       "</table>\n",
       "</div></div>\n",
       "  <div id=\"resultbe9189cb-pane\" class=\"right-pane block hidden\">\n",
       "    <div class=\"pane-header\">\n",
       "      <span id=\"resultbe9189cb-title\" class=\"pane-header-title\">Title</span>\n",
       "      <span onclick=\"closePanel(this)\" paneName=\"resultbe9189cb\" class=\"close clickable\">&times;</span>\n",
       "    </div>\n",
       "    <iframe class=\"fileview\" id=\"resultbe9189cb-body\"></iframe>\n",
       "  </div>\n",
       "</div>\n"
      ],
      "text/plain": [
       "<IPython.core.display.HTML object>"
      ]
     },
     "metadata": {},
     "output_type": "display_data"
    },
    {
     "name": "stdout",
     "output_type": "stream",
     "text": [
      "\n"
     ]
    },
    {
     "data": {
      "text/html": [
       "<b> > to track results use the .show() or .logs() methods  or <a href=\"https://dashboard.default-tenant.app.dev8.lab.iguazeng.com/mlprojects/sk-project/jobs/monitor/7f800eb7f7dc49c590516d15026c0ef7/overview\" target=\"_blank\">click here</a> to open in UI</b>"
      ],
      "text/plain": [
       "<IPython.core.display.HTML object>"
      ]
     },
     "metadata": {},
     "output_type": "display_data"
    },
    {
     "name": "stdout",
     "output_type": "stream",
     "text": [
      "> 2021-09-29 10:45:03,058 [info] run executed, status=completed\n"
     ]
    }
   ],
   "source": [
    "# run the function locally\n",
    "gen = run_local(name='iris_gen', handler=iris_generator, \n",
    "                project=project_name, artifact_path=path.join(artifact_path, 'data'))\n"
   ]
  },
  {
   "cell_type": "markdown",
   "metadata": {},
   "source": [
    "#### Convert our local code to a distributed serverless function object "
   ]
  },
  {
   "cell_type": "code",
   "execution_count": 7,
   "metadata": {},
   "outputs": [
    {
     "data": {
      "text/plain": [
       "<mlrun.runtimes.kubejob.KubejobRuntime at 0x7fa36983a510>"
      ]
     },
     "execution_count": 7,
     "metadata": {},
     "output_type": "execute_result"
    }
   ],
   "source": [
    "gen_func = code_to_function(name='gen_iris', kind='job')\n",
    "gen_func.spec.build.commands = ['pip install sklearn', 'pip install pyarrow']\n",
    "skproj.set_function(gen_func,image='mlrun/mlrun')"
   ]
  },
  {
   "cell_type": "markdown",
   "metadata": {},
   "source": [
    "## Load and run a library function (visualize dataset features and stats)\n",
    "\n",
    "<b>Step 1:</b> load the function object from the function hub (marketplace)<br>\n",
    "> note: the function marketplace location is configurable, by default it points to `mlrun/functions` git\n"
   ]
  },
  {
   "cell_type": "code",
   "execution_count": 8,
   "metadata": {},
   "outputs": [
    {
     "data": {
      "text/plain": [
       "<mlrun.runtimes.kubejob.KubejobRuntime at 0x7fa3730bc9d0>"
      ]
     },
     "execution_count": 8,
     "metadata": {},
     "output_type": "execute_result"
    }
   ],
   "source": [
    "skproj.set_function('hub://describe', 'describe')"
   ]
  },
  {
   "cell_type": "code",
   "execution_count": 9,
   "metadata": {},
   "outputs": [
    {
     "name": "stdout",
     "output_type": "stream",
     "text": [
      "function: describe\n",
      "describe and visualizes dataset stats\n",
      "default handler: summarize\n",
      "entry points:\n",
      "  summarize: Summarize a table\n",
      "    context(MLClientCtx)  - the function context, default=\n",
      "    table(DataItem)  - MLRun input pointing to pandas dataframe (csv/parquet file path), default=\n",
      "    label_column(str)  - ground truth column label, default=None\n",
      "    class_labels(List[str])  - label for each class in tables and plots, default=[]\n",
      "    plot_hist(bool)  - (True) set this to False for large tables, default=True\n",
      "    plots_dest(str)  - destination folder of summary plots (relative to artifact_path), default=plots\n",
      "    update_dataset  - when the table is a registered dataset update the charts in-place, default=False\n"
     ]
    }
   ],
   "source": [
    "# read the remote function doc, params, usage\n",
    "skproj.func('describe').doc()\n",
    "#skproj.func('describe').spec.image_pull_policy = 'Always'"
   ]
  },
  {
   "cell_type": "markdown",
   "metadata": {},
   "source": [
    "<b>Step 2:</b> Run the describe function as a Kubernetes job with specified parameters.\n",
    "\n",
    "> `mount_v3io()` vonnect our function to v3io shared file system and allow us to pass the data and get back the results (plots) directly to our notebook, we can choose other mount options to use NFS or object storage"
   ]
  },
  {
   "cell_type": "code",
   "execution_count": 10,
   "metadata": {},
   "outputs": [
    {
     "name": "stdout",
     "output_type": "stream",
     "text": [
      "> 2021-09-29 10:45:07,516 [info] starting run describe-summarize uid=0ef5466782d34d41af618366be6a1d5e DB=http://mlrun-api:8080\n",
      "> 2021-09-29 10:45:07,634 [info] Job is running in the background, pod: describe-summarize-b4nzc\n",
      "> 2021-09-29 10:45:20,582 [info] run executed, status=completed\n",
      "final state: completed\n"
     ]
    },
    {
     "data": {
      "text/html": [
       "<style>\n",
       ".dictlist {\n",
       "  background-color: #4EC64B;\n",
       "  text-align: center;\n",
       "  margin: 4px;\n",
       "  border-radius: 3px; padding: 0px 3px 1px 3px; display: inline-block;}\n",
       ".artifact {\n",
       "  cursor: pointer;\n",
       "  background-color: #4EC64B;\n",
       "  text-align: left;\n",
       "  margin: 4px; border-radius: 3px; padding: 0px 3px 1px 3px; display: inline-block;\n",
       "}\n",
       "div.block.hidden {\n",
       "  display: none;\n",
       "}\n",
       ".clickable {\n",
       "  cursor: pointer;\n",
       "}\n",
       ".ellipsis {\n",
       "  display: inline-block;\n",
       "  max-width: 60px;\n",
       "  white-space: nowrap;\n",
       "  overflow: hidden;\n",
       "  text-overflow: ellipsis;\n",
       "}\n",
       ".master-wrapper {\n",
       "  display: flex;\n",
       "  flex-flow: row nowrap;\n",
       "  justify-content: flex-start;\n",
       "  align-items: stretch;\n",
       "}\n",
       ".master-tbl {\n",
       "  flex: 3\n",
       "}\n",
       ".master-wrapper > div {\n",
       "  margin: 4px;\n",
       "  padding: 10px;\n",
       "}\n",
       "iframe.fileview {\n",
       "  border: 0 none;\n",
       "  height: 100%;\n",
       "  width: 100%;\n",
       "  white-space: pre-wrap;\n",
       "}\n",
       ".pane-header-title {\n",
       "  width: 80%;\n",
       "  font-weight: 500;\n",
       "}\n",
       ".pane-header {\n",
       "  line-height: 1;\n",
       "  background-color: #4EC64B;\n",
       "  padding: 3px;\n",
       "}\n",
       ".pane-header .close {\n",
       "  font-size: 20px;\n",
       "  font-weight: 700;\n",
       "  float: right;\n",
       "  margin-top: -5px;\n",
       "}\n",
       ".master-wrapper .right-pane {\n",
       "  border: 1px inset silver;\n",
       "  width: 40%;\n",
       "  min-height: 300px;\n",
       "  flex: 3\n",
       "  min-width: 500px;\n",
       "}\n",
       ".master-wrapper * {\n",
       "  box-sizing: border-box;\n",
       "}\n",
       "</style><script>\n",
       "function copyToClipboard(fld) {\n",
       "    if (document.queryCommandSupported && document.queryCommandSupported('copy')) {\n",
       "        var textarea = document.createElement('textarea');\n",
       "        textarea.textContent = fld.innerHTML;\n",
       "        textarea.style.position = 'fixed';\n",
       "        document.body.appendChild(textarea);\n",
       "        textarea.select();\n",
       "\n",
       "        try {\n",
       "            return document.execCommand('copy'); // Security exception may be thrown by some browsers.\n",
       "        } catch (ex) {\n",
       "\n",
       "        } finally {\n",
       "            document.body.removeChild(textarea);\n",
       "        }\n",
       "    }\n",
       "}\n",
       "function expandPanel(el) {\n",
       "  const panelName = \"#\" + el.getAttribute('paneName');\n",
       "  console.log(el.title);\n",
       "\n",
       "  document.querySelector(panelName + \"-title\").innerHTML = el.title\n",
       "  iframe = document.querySelector(panelName + \"-body\");\n",
       "\n",
       "  const tblcss = `<style> body { font-family: Arial, Helvetica, sans-serif;}\n",
       "    #csv { margin-bottom: 15px; }\n",
       "    #csv table { border-collapse: collapse;}\n",
       "    #csv table td { padding: 4px 8px; border: 1px solid silver;} </style>`;\n",
       "\n",
       "  function csvToHtmlTable(str) {\n",
       "    return '<div id=\"csv\"><table><tr><td>' +  str.replace(/[\\n\\r]+$/g, '').replace(/[\\n\\r]+/g, '</td></tr><tr><td>')\n",
       "      .replace(/,/g, '</td><td>') + '</td></tr></table></div>';\n",
       "  }\n",
       "\n",
       "  function reqListener () {\n",
       "    if (el.title.endsWith(\".csv\")) {\n",
       "      iframe.setAttribute(\"srcdoc\", tblcss + csvToHtmlTable(this.responseText));\n",
       "    } else {\n",
       "      iframe.setAttribute(\"srcdoc\", this.responseText);\n",
       "    }\n",
       "    console.log(this.responseText);\n",
       "  }\n",
       "\n",
       "  const oReq = new XMLHttpRequest();\n",
       "  oReq.addEventListener(\"load\", reqListener);\n",
       "  oReq.open(\"GET\", el.title);\n",
       "  oReq.send();\n",
       "\n",
       "\n",
       "  //iframe.src = el.title;\n",
       "  const resultPane = document.querySelector(panelName + \"-pane\");\n",
       "  if (resultPane.classList.contains(\"hidden\")) {\n",
       "    resultPane.classList.remove(\"hidden\");\n",
       "  }\n",
       "}\n",
       "function closePanel(el) {\n",
       "  const panelName = \"#\" + el.getAttribute('paneName')\n",
       "  const resultPane = document.querySelector(panelName + \"-pane\");\n",
       "  if (!resultPane.classList.contains(\"hidden\")) {\n",
       "    resultPane.classList.add(\"hidden\");\n",
       "  }\n",
       "}\n",
       "\n",
       "</script>\n",
       "<div class=\"master-wrapper\">\n",
       "  <div class=\"block master-tbl\"><div>\n",
       "<style scoped>\n",
       "    .dataframe tbody tr th:only-of-type {\n",
       "        vertical-align: middle;\n",
       "    }\n",
       "\n",
       "    .dataframe tbody tr th {\n",
       "        vertical-align: top;\n",
       "    }\n",
       "\n",
       "    .dataframe thead th {\n",
       "        text-align: right;\n",
       "    }\n",
       "</style>\n",
       "<table border=\"1\" class=\"dataframe\">\n",
       "  <thead>\n",
       "    <tr style=\"text-align: right;\">\n",
       "      <th>project</th>\n",
       "      <th>uid</th>\n",
       "      <th>iter</th>\n",
       "      <th>start</th>\n",
       "      <th>state</th>\n",
       "      <th>name</th>\n",
       "      <th>labels</th>\n",
       "      <th>inputs</th>\n",
       "      <th>parameters</th>\n",
       "      <th>results</th>\n",
       "      <th>artifacts</th>\n",
       "    </tr>\n",
       "  </thead>\n",
       "  <tbody>\n",
       "    <tr>\n",
       "      <td>sk-project</td>\n",
       "      <td><div title=\"0ef5466782d34d41af618366be6a1d5e\"><a href=\"https://dashboard.default-tenant.app.dev8.lab.iguazeng.com/mlprojects/sk-project/jobs/monitor/0ef5466782d34d41af618366be6a1d5e/overview\" target=\"_blank\" >...be6a1d5e</a></div></td>\n",
       "      <td>0</td>\n",
       "      <td>Sep 29 10:45:14</td>\n",
       "      <td>completed</td>\n",
       "      <td>describe-summarize</td>\n",
       "      <td><div class=\"dictlist\">v3io_user=dani</div><div class=\"dictlist\">kind=job</div><div class=\"dictlist\">owner=dani</div><div class=\"dictlist\">host=describe-summarize-b4nzc</div></td>\n",
       "      <td><div title=\"store://artifacts/sk-project/iris_gen_iris_dataset:7f800eb7f7dc49c590516d15026c0ef7\">table</div></td>\n",
       "      <td><div class=\"dictlist\">label_column=label</div></td>\n",
       "      <td></td>\n",
       "      <td><div class=\"artifact\" onclick=\"expandPanel(this)\" paneName=\"result20976588\" title=\"files/v3io/projects/sk-project/artifacts/plots/hist.html\">histograms</div><div class=\"artifact\" onclick=\"expandPanel(this)\" paneName=\"result20976588\" title=\"files/v3io/projects/sk-project/artifacts/plots/violin.html\">violin</div><div class=\"artifact\" onclick=\"expandPanel(this)\" paneName=\"result20976588\" title=\"files/v3io/projects/sk-project/artifacts/plots/imbalance.html\">imbalance</div><div class=\"artifact\" onclick=\"expandPanel(this)\" paneName=\"result20976588\" title=\"files/v3io/projects/sk-project/artifacts/plots/imbalance-weights-vec.csv\">imbalance-weights-vec</div><div class=\"artifact\" onclick=\"expandPanel(this)\" paneName=\"result20976588\" title=\"files/v3io/projects/sk-project/artifacts/plots/correlation-matrix.csv\">correlation-matrix</div><div class=\"artifact\" onclick=\"expandPanel(this)\" paneName=\"result20976588\" title=\"files/v3io/projects/sk-project/artifacts/plots/corr.html\">correlation</div></td>\n",
       "    </tr>\n",
       "  </tbody>\n",
       "</table>\n",
       "</div></div>\n",
       "  <div id=\"result20976588-pane\" class=\"right-pane block hidden\">\n",
       "    <div class=\"pane-header\">\n",
       "      <span id=\"result20976588-title\" class=\"pane-header-title\">Title</span>\n",
       "      <span onclick=\"closePanel(this)\" paneName=\"result20976588\" class=\"close clickable\">&times;</span>\n",
       "    </div>\n",
       "    <iframe class=\"fileview\" id=\"result20976588-body\"></iframe>\n",
       "  </div>\n",
       "</div>\n"
      ],
      "text/plain": [
       "<IPython.core.display.HTML object>"
      ]
     },
     "metadata": {},
     "output_type": "display_data"
    },
    {
     "name": "stdout",
     "output_type": "stream",
     "text": [
      "\n"
     ]
    },
    {
     "data": {
      "text/html": [
       "<b> > to track results use the .show() or .logs() methods  or <a href=\"https://dashboard.default-tenant.app.dev8.lab.iguazeng.com/mlprojects/sk-project/jobs/monitor/0ef5466782d34d41af618366be6a1d5e/overview\" target=\"_blank\">click here</a> to open in UI</b>"
      ],
      "text/plain": [
       "<IPython.core.display.HTML object>"
      ]
     },
     "metadata": {},
     "output_type": "display_data"
    },
    {
     "name": "stdout",
     "output_type": "stream",
     "text": [
      "> 2021-09-29 10:45:26,846 [info] run executed, status=completed\n"
     ]
    },
    {
     "data": {
      "text/plain": [
       "<mlrun.model.RunObject at 0x7fa3671a1a90>"
      ]
     },
     "execution_count": 10,
     "metadata": {},
     "output_type": "execute_result"
    }
   ],
   "source": [
    "skproj.func('describe').apply(mount_v3io()).run(params={'label_column': 'label'}, \n",
    "                                                inputs={\"table\": gen.outputs['iris_dataset']}, \n",
    "                                                artifact_path=artifact_path)"
   ]
  },
  {
   "cell_type": "markdown",
   "metadata": {},
   "source": [
    "## Create a Fully Automated ML Pipeline\n",
    "\n",
    "#### Add more functions to our project to be used in our pipeline (from the functions hub/marketplace)\n",
    "\n",
    "AutoML training (classifier), Model validation (test_classifier), Real-time model server, and Model REST API Tester"
   ]
  },
  {
   "cell_type": "code",
   "execution_count": 11,
   "metadata": {},
   "outputs": [
    {
     "data": {
      "text/plain": [
       "<mlrun.runtimes.kubejob.KubejobRuntime at 0x7fa3749a8350>"
      ]
     },
     "execution_count": 11,
     "metadata": {},
     "output_type": "execute_result"
    }
   ],
   "source": [
    "skproj.set_function('hub://sklearn_classifier', 'train')\n",
    "skproj.set_function('hub://test_classifier', 'test')\n",
    "skproj.set_function('hub://model_server', 'serving')\n",
    "skproj.set_function('hub://model_server_tester', 'live_tester')\n",
    "#print(skproj.to_yaml())"
   ]
  },
  {
   "cell_type": "markdown",
   "metadata": {},
   "source": [
    "#### Define and save a pipeline \n",
    "\n",
    "The following workflow definition will be written into a file, it describes a Kubeflow execution graph (DAG)<br>\n",
    "and how functions and data are connected  to form an end to end pipeline. \n",
    "\n",
    "* Build the iris generator (ingest) function container \n",
    "* Ingest the iris data\n",
    "* Analyze the dataset (describe)\n",
    "* Train and test the model\n",
    "* Deploy the model as a real-time serverless function\n",
    "* Test the serverless function REST API with test dataset\n",
    "\n",
    "Check the code below to see how functions objects are initialized and used (by name) inside the workflow.<br>\n",
    "The `workflow.py` file has two parts, initialize the function objects and define pipeline dsl (connect the function inputs and outputs).\n",
    "\n",
    "> Note: the pipeline can include CI steps like building container images and deploying models as illustrated  in the following example.\n"
   ]
  },
  {
   "cell_type": "code",
   "execution_count": 12,
   "metadata": {},
   "outputs": [
    {
     "name": "stdout",
     "output_type": "stream",
     "text": [
      "Overwriting project/workflow.py\n"
     ]
    }
   ],
   "source": [
    "%%writefile project/workflow.py\n",
    "from kfp import dsl\n",
    "from mlrun import mount_v3io\n",
    "\n",
    "funcs = {}\n",
    "DATASET = 'iris_dataset'\n",
    "LABELS  = \"label\"\n",
    "\n",
    "\n",
    "# init functions is used to configure function resources and local settings\n",
    "def init_functions(functions: dict, project=None, secrets=None):\n",
    "    for f in functions.values():\n",
    "        f.apply(mount_v3io())\n",
    "     \n",
    "    # uncomment this line to collect the inference results into a stream\n",
    "    # and specify a path in V3IO (<datacontainer>/<subpath>)\n",
    "    #functions['serving'].set_env('INFERENCE_STREAM', 'users/admin/model_stream')\n",
    "    \n",
    "@dsl.pipeline(\n",
    "    name=\"Demo training pipeline\",\n",
    "    description=\"Shows how to use mlrun.\"\n",
    ")\n",
    "def kfpipeline():\n",
    "    \n",
    "    # build our ingestion function (container image)\n",
    "    builder = funcs['gen-iris'].deploy_step(skip_deployed=True)\n",
    "    \n",
    "    # run the ingestion function with the new image and params\n",
    "    ingest = funcs['gen-iris'].as_step(\n",
    "        name=\"get-data\",\n",
    "        handler='iris_generator',\n",
    "        image=builder.outputs['image'],\n",
    "        params={'format': 'pq'},\n",
    "        outputs=[DATASET])\n",
    "\n",
    "    # analyze our dataset\n",
    "    describe = funcs[\"describe\"].as_step(\n",
    "        name=\"summary\",\n",
    "        params={\"label_column\": LABELS},\n",
    "        inputs={\"table\": ingest.outputs[DATASET]})\n",
    "    \n",
    "    # train with hyper-paremeters \n",
    "    train = funcs[\"train\"].as_step(\n",
    "        name=\"train-skrf\",\n",
    "        params={\"sample\"          : -1, \n",
    "                \"label_column\"    : LABELS,\n",
    "                \"test_size\"       : 0.10},\n",
    "        hyperparams={'model_pkg_class': [\"sklearn.ensemble.RandomForestClassifier\", \n",
    "                                         \"sklearn.linear_model.LogisticRegression\",\n",
    "                                         \"sklearn.ensemble.AdaBoostClassifier\"]},\n",
    "        selector='max.accuracy',\n",
    "        inputs={\"dataset\"         : ingest.outputs[DATASET]},\n",
    "        outputs=['model', 'test_set'])\n",
    "\n",
    "    # test and visualize our model\n",
    "    test = funcs[\"test\"].as_step(\n",
    "        name=\"test\",\n",
    "        params={\"label_column\": LABELS},\n",
    "        inputs={\"models_path\" : train.outputs['model'],\n",
    "                \"test_set\"    : train.outputs['test_set']})\n",
    "\n",
    "    # deploy our model as a serverless function\n",
    "    deploy = funcs[\"serving\"].deploy_step(models={f\"{DATASET}_v1\": train.outputs['model']}, tag='v2')\n",
    "    \n",
    "    # test out new model server (via REST API calls)\n",
    "    tester = funcs[\"live_tester\"].as_step(name='model-tester',\n",
    "        params={'addr': deploy.outputs['endpoint'], 'model': f\"{DATASET}_v1\"},\n",
    "        inputs={'table': train.outputs['test_set']})\n"
   ]
  },
  {
   "cell_type": "code",
   "execution_count": 13,
   "metadata": {},
   "outputs": [],
   "source": [
    "# register the workflow file as \"main\", embed the workflow code into the project YAML\n",
    "skproj.set_workflow('main', 'workflow.py', embed=True)"
   ]
  },
  {
   "cell_type": "markdown",
   "metadata": {},
   "source": [
    "Save the project definitions to a file (project.yaml), it is recommended to commit all changes to a Git repo."
   ]
  },
  {
   "cell_type": "code",
   "execution_count": 14,
   "metadata": {},
   "outputs": [],
   "source": [
    "skproj.save()"
   ]
  },
  {
   "cell_type": "markdown",
   "metadata": {},
   "source": [
    "<a id='run-pipeline'></a>\n",
    "## Run a pipeline workflow\n",
    "use the `run` method to execute a workflow, you can provide alternative arguments and specify the default target for workflow artifacts.<br>\n",
    "The workflow ID is returned and can be used to track the progress or you can use the hyperlinks\n",
    "\n",
    "> Note: The same command can be issued through CLI commands:<br>\n",
    "    `mlrun project my-proj/ -r main -p \"v3io:///users/admin/mlrun/kfp/{{workflow.uid}}/\"`\n",
    "\n",
    "The `dirty` flag allow us to run a project with uncommited changes (when the notebook is in the same git dir it will always be dirty)<br>\n",
    "The `watch` flag will wait for the pipeline to complete and print results"
   ]
  },
  {
   "cell_type": "code",
   "execution_count": null,
   "metadata": {},
   "outputs": [
    {
     "data": {
      "image/svg+xml": [
       "<?xml version=\"1.0\" encoding=\"UTF-8\" standalone=\"no\"?>\n",
       "<!DOCTYPE svg PUBLIC \"-//W3C//DTD SVG 1.1//EN\"\n",
       " \"http://www.w3.org/Graphics/SVG/1.1/DTD/svg11.dtd\">\n",
       "<!-- Generated by graphviz version 2.40.1 (20161225.0304)\n",
       " -->\n",
       "<!-- Title: kfp Pages: 1 -->\n",
       "<svg width=\"334pt\" height=\"260pt\"\n",
       " viewBox=\"0.00 0.00 333.95 260.00\" xmlns=\"http://www.w3.org/2000/svg\" xmlns:xlink=\"http://www.w3.org/1999/xlink\">\n",
       "<g id=\"graph0\" class=\"graph\" transform=\"scale(1 1) rotate(0) translate(4 256)\">\n",
       "<title>kfp</title>\n",
       "<polygon fill=\"#ffffff\" stroke=\"transparent\" points=\"-4,4 -4,-256 329.9452,-256 329.9452,4 -4,4\"/>\n",
       "<!-- demo&#45;training&#45;pipeline&#45;rfqrv&#45;2886416896 -->\n",
       "<g id=\"node1\" class=\"node\">\n",
       "<title>demo&#45;training&#45;pipeline&#45;rfqrv&#45;2886416896</title>\n",
       "<ellipse fill=\"#d3d3d3\" stroke=\"#000000\" cx=\"116.9452\" cy=\"-18\" rx=\"28.6953\" ry=\"18\"/>\n",
       "<text text-anchor=\"middle\" x=\"116.9452\" y=\"-14.3\" font-family=\"Times,serif\" font-size=\"14.00\" fill=\"#000000\">test</text>\n",
       "</g>\n",
       "<!-- demo&#45;training&#45;pipeline&#45;rfqrv&#45;3157494924 -->\n",
       "<g id=\"node2\" class=\"node\">\n",
       "<title>demo&#45;training&#45;pipeline&#45;rfqrv&#45;3157494924</title>\n",
       "<polygon fill=\"#00ff00\" stroke=\"#000000\" points=\"177.9452,-252 55.9452,-252 55.9452,-216 177.9452,-216 177.9452,-252\"/>\n",
       "<text text-anchor=\"middle\" x=\"116.9452\" y=\"-230.3\" font-family=\"Times,serif\" font-size=\"14.00\" fill=\"#000000\">deploy&#45;gen&#45;iris</text>\n",
       "</g>\n",
       "<!-- demo&#45;training&#45;pipeline&#45;rfqrv&#45;4212057663 -->\n",
       "<g id=\"node3\" class=\"node\">\n",
       "<title>demo&#45;training&#45;pipeline&#45;rfqrv&#45;4212057663</title>\n",
       "<ellipse fill=\"#00ff00\" stroke=\"#000000\" cx=\"116.9452\" cy=\"-162\" rx=\"49.2915\" ry=\"18\"/>\n",
       "<text text-anchor=\"middle\" x=\"116.9452\" y=\"-158.3\" font-family=\"Times,serif\" font-size=\"14.00\" fill=\"#000000\">get&#45;data</text>\n",
       "</g>\n",
       "<!-- demo&#45;training&#45;pipeline&#45;rfqrv&#45;3157494924&#45;&gt;demo&#45;training&#45;pipeline&#45;rfqrv&#45;4212057663 -->\n",
       "<g id=\"edge1\" class=\"edge\">\n",
       "<title>demo&#45;training&#45;pipeline&#45;rfqrv&#45;3157494924&#45;&gt;demo&#45;training&#45;pipeline&#45;rfqrv&#45;4212057663</title>\n",
       "<path fill=\"none\" stroke=\"#000000\" d=\"M116.9452,-215.8314C116.9452,-208.131 116.9452,-198.9743 116.9452,-190.4166\"/>\n",
       "<polygon fill=\"#000000\" stroke=\"#000000\" points=\"120.4453,-190.4132 116.9452,-180.4133 113.4453,-190.4133 120.4453,-190.4132\"/>\n",
       "</g>\n",
       "<!-- demo&#45;training&#45;pipeline&#45;rfqrv&#45;3179014380 -->\n",
       "<g id=\"node4\" class=\"node\">\n",
       "<title>demo&#45;training&#45;pipeline&#45;rfqrv&#45;3179014380</title>\n",
       "<ellipse fill=\"#00ff00\" stroke=\"#000000\" cx=\"53.9452\" cy=\"-90\" rx=\"53.8905\" ry=\"18\"/>\n",
       "<text text-anchor=\"middle\" x=\"53.9452\" y=\"-86.3\" font-family=\"Times,serif\" font-size=\"14.00\" fill=\"#000000\">summary</text>\n",
       "</g>\n",
       "<!-- demo&#45;training&#45;pipeline&#45;rfqrv&#45;4212057663&#45;&gt;demo&#45;training&#45;pipeline&#45;rfqrv&#45;3179014380 -->\n",
       "<g id=\"edge5\" class=\"edge\">\n",
       "<title>demo&#45;training&#45;pipeline&#45;rfqrv&#45;4212057663&#45;&gt;demo&#45;training&#45;pipeline&#45;rfqrv&#45;3179014380</title>\n",
       "<path fill=\"none\" stroke=\"#000000\" d=\"M101.6947,-144.5708C94.0132,-135.7919 84.5563,-124.9841 76.0908,-115.3093\"/>\n",
       "<polygon fill=\"#000000\" stroke=\"#000000\" points=\"78.4928,-112.7393 69.2737,-107.5182 73.2247,-117.3488 78.4928,-112.7393\"/>\n",
       "</g>\n",
       "<!-- demo&#45;training&#45;pipeline&#45;rfqrv&#45;3362174659 -->\n",
       "<g id=\"node5\" class=\"node\">\n",
       "<title>demo&#45;training&#45;pipeline&#45;rfqrv&#45;3362174659</title>\n",
       "<ellipse fill=\"#00ff00\" stroke=\"#000000\" cx=\"180.9452\" cy=\"-90\" rx=\"54.6905\" ry=\"18\"/>\n",
       "<text text-anchor=\"middle\" x=\"180.9452\" y=\"-86.3\" font-family=\"Times,serif\" font-size=\"14.00\" fill=\"#000000\">train&#45;skrf</text>\n",
       "</g>\n",
       "<!-- demo&#45;training&#45;pipeline&#45;rfqrv&#45;4212057663&#45;&gt;demo&#45;training&#45;pipeline&#45;rfqrv&#45;3362174659 -->\n",
       "<g id=\"edge4\" class=\"edge\">\n",
       "<title>demo&#45;training&#45;pipeline&#45;rfqrv&#45;4212057663&#45;&gt;demo&#45;training&#45;pipeline&#45;rfqrv&#45;3362174659</title>\n",
       "<path fill=\"none\" stroke=\"#000000\" d=\"M132.4378,-144.5708C140.3193,-135.7041 150.0405,-124.7678 158.7058,-115.0194\"/>\n",
       "<polygon fill=\"#000000\" stroke=\"#000000\" points=\"161.3457,-117.3176 165.3734,-107.5182 156.1138,-112.6671 161.3457,-117.3176\"/>\n",
       "</g>\n",
       "<!-- demo&#45;training&#45;pipeline&#45;rfqrv&#45;3362174659&#45;&gt;demo&#45;training&#45;pipeline&#45;rfqrv&#45;2886416896 -->\n",
       "<g id=\"edge3\" class=\"edge\">\n",
       "<title>demo&#45;training&#45;pipeline&#45;rfqrv&#45;3362174659&#45;&gt;demo&#45;training&#45;pipeline&#45;rfqrv&#45;2886416896</title>\n",
       "<path fill=\"none\" stroke=\"#000000\" d=\"M165.4526,-72.5708C157.1625,-63.2444 146.8368,-51.6281 137.8456,-41.513\"/>\n",
       "<polygon fill=\"#000000\" stroke=\"#000000\" points=\"140.245,-38.944 130.9853,-33.7951 135.0131,-43.5945 140.245,-38.944\"/>\n",
       "</g>\n",
       "<!-- demo&#45;training&#45;pipeline&#45;rfqrv&#45;4281131909 -->\n",
       "<g id=\"node6\" class=\"node\">\n",
       "<title>demo&#45;training&#45;pipeline&#45;rfqrv&#45;4281131909</title>\n",
       "<polygon fill=\"#d3d3d3\" stroke=\"#000000\" points=\"325.9452,-36 167.9452,-36 163.9452,-32 163.9452,0 321.9452,0 325.9452,-4 325.9452,-36\"/>\n",
       "<polyline fill=\"none\" stroke=\"#000000\" points=\"321.9452,-32 163.9452,-32 \"/>\n",
       "<polyline fill=\"none\" stroke=\"#000000\" points=\"321.9452,-32 321.9452,0 \"/>\n",
       "<polyline fill=\"none\" stroke=\"#000000\" points=\"321.9452,-32 325.9452,-36 \"/>\n",
       "<text text-anchor=\"middle\" x=\"244.9452\" y=\"-14.3\" font-family=\"Times,serif\" font-size=\"14.00\" fill=\"#000000\">deploy&#45;model&#45;server</text>\n",
       "</g>\n",
       "<!-- demo&#45;training&#45;pipeline&#45;rfqrv&#45;3362174659&#45;&gt;demo&#45;training&#45;pipeline&#45;rfqrv&#45;4281131909 -->\n",
       "<g id=\"edge2\" class=\"edge\">\n",
       "<title>demo&#45;training&#45;pipeline&#45;rfqrv&#45;3362174659&#45;&gt;demo&#45;training&#45;pipeline&#45;rfqrv&#45;4281131909</title>\n",
       "<path fill=\"none\" stroke=\"#000000\" d=\"M196.4378,-72.5708C204.1257,-63.922 213.564,-53.3039 222.0652,-43.74\"/>\n",
       "<polygon fill=\"#000000\" stroke=\"#000000\" points=\"224.8992,-45.82 228.9269,-36.0206 219.6673,-41.1694 224.8992,-45.82\"/>\n",
       "</g>\n",
       "</g>\n",
       "</svg>\n"
      ],
      "text/plain": [
       "<graphviz.dot.Digraph at 0x7fa36706b350>"
      ]
     },
     "metadata": {},
     "output_type": "display_data"
    }
   ],
   "source": [
    "artifact_path = path.abspath('./pipe/{{workflow.uid}}')\n",
    "run_id = skproj.run(\n",
    "    'main',\n",
    "    arguments={}, \n",
    "    artifact_path=artifact_path, \n",
    "    dirty=True, watch=True)"
   ]
  },
  {
   "cell_type": "markdown",
   "metadata": {},
   "source": [
    "**[back to top](#top)**"
   ]
  }
 ],
 "metadata": {
  "kernelspec": {
   "display_name": "Python 3",
   "language": "python",
   "name": "python3"
  },
  "language_info": {
   "codemirror_mode": {
    "name": "ipython",
    "version": 3
   },
   "file_extension": ".py",
   "mimetype": "text/x-python",
   "name": "python",
   "nbconvert_exporter": "python",
   "pygments_lexer": "ipython3",
   "version": "3.7.6"
  }
 },
 "nbformat": 4,
 "nbformat_minor": 4
}
