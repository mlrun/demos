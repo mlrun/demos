{
 "cells": [
  {
   "cell_type": "markdown",
   "metadata": {},
   "source": [
    "# Stocks demo"
   ]
  },
  {
   "cell_type": "markdown",
   "metadata": {},
   "source": [
    "## **steps**\n",
    "> * Run notebook ingest_stocks\n",
    "> * Run notebook ingest_news\n",
    "> * Create feature vector\n",
    "> * Create pipeline"
   ]
  },
  {
   "cell_type": "code",
   "execution_count": 15,
   "metadata": {},
   "outputs": [
    {
     "name": "stdout",
     "output_type": "stream",
     "text": [
      "> 2022-05-19 12:45:04,662 [info] loaded project stocks from MLRun DB\n"
     ]
    }
   ],
   "source": [
    "import mlrun\n",
    "project = mlrun.get_or_create_project(name='stocks',user_project=True, context=\"./\")"
   ]
  },
  {
   "cell_type": "markdown",
   "metadata": {},
   "source": [
    "## Create feature vector"
   ]
  },
  {
   "cell_type": "code",
   "execution_count": 16,
   "metadata": {},
   "outputs": [],
   "source": [
    "# Define the list of features we will be using\n",
    "features = ['stocks_data.*',\n",
    "            'stocks_news.sentiment',\n",
    "            ]\n",
    "\n",
    "# Import MLRun's Feature Store\n",
    "import mlrun.feature_store as fstore\n",
    "\n",
    "# Define the feature vector name for future reference\n",
    "fv_name = 'stocks'\n",
    "\n",
    "# Define the feature vector using our Feature Store (fstore)\n",
    "transactions_fv = fstore.FeatureVector(fv_name, \n",
    "                          features, \n",
    "                          description='stocks information')\n",
    "\n",
    "# Save the feature vector in the Feature Store\n",
    "transactions_fv.save()"
   ]
  },
  {
   "cell_type": "code",
   "execution_count": 17,
   "metadata": {},
   "outputs": [
    {
     "data": {
      "text/html": [
       "<div>\n",
       "<style scoped>\n",
       "    .dataframe tbody tr th:only-of-type {\n",
       "        vertical-align: middle;\n",
       "    }\n",
       "\n",
       "    .dataframe tbody tr th {\n",
       "        vertical-align: top;\n",
       "    }\n",
       "\n",
       "    .dataframe thead th {\n",
       "        text-align: right;\n",
       "    }\n",
       "</style>\n",
       "<table border=\"1\" class=\"dataframe\">\n",
       "  <thead>\n",
       "    <tr style=\"text-align: right;\">\n",
       "      <th></th>\n",
       "      <th>Open</th>\n",
       "      <th>High</th>\n",
       "      <th>Low</th>\n",
       "      <th>Close</th>\n",
       "      <th>Volume</th>\n",
       "      <th>ticker2onehot_A</th>\n",
       "      <th>ticker2onehot_AAL</th>\n",
       "      <th>ticker2onehot_AAP</th>\n",
       "      <th>ticker2onehot_AAPL</th>\n",
       "      <th>sentiment</th>\n",
       "    </tr>\n",
       "  </thead>\n",
       "  <tbody>\n",
       "    <tr>\n",
       "      <th>0</th>\n",
       "      <td>115.239998</td>\n",
       "      <td>115.430000</td>\n",
       "      <td>115.070000</td>\n",
       "      <td>115.260002</td>\n",
       "      <td>7618</td>\n",
       "      <td>1.0</td>\n",
       "      <td>0.0</td>\n",
       "      <td>0.0</td>\n",
       "      <td>0.0</td>\n",
       "      <td>NaN</td>\n",
       "    </tr>\n",
       "    <tr>\n",
       "      <th>1</th>\n",
       "      <td>209.160294</td>\n",
       "      <td>209.419998</td>\n",
       "      <td>208.960007</td>\n",
       "      <td>209.020004</td>\n",
       "      <td>5910</td>\n",
       "      <td>0.0</td>\n",
       "      <td>0.0</td>\n",
       "      <td>1.0</td>\n",
       "      <td>0.0</td>\n",
       "      <td>NaN</td>\n",
       "    </tr>\n",
       "    <tr>\n",
       "      <th>2</th>\n",
       "      <td>15.695000</td>\n",
       "      <td>15.730000</td>\n",
       "      <td>15.640000</td>\n",
       "      <td>15.690000</td>\n",
       "      <td>191455</td>\n",
       "      <td>0.0</td>\n",
       "      <td>1.0</td>\n",
       "      <td>0.0</td>\n",
       "      <td>0.0</td>\n",
       "      <td>NaN</td>\n",
       "    </tr>\n",
       "    <tr>\n",
       "      <th>3</th>\n",
       "      <td>142.100006</td>\n",
       "      <td>142.264999</td>\n",
       "      <td>141.750000</td>\n",
       "      <td>142.069000</td>\n",
       "      <td>794298</td>\n",
       "      <td>0.0</td>\n",
       "      <td>0.0</td>\n",
       "      <td>0.0</td>\n",
       "      <td>1.0</td>\n",
       "      <td>NaN</td>\n",
       "    </tr>\n",
       "    <tr>\n",
       "      <th>4</th>\n",
       "      <td>142.059998</td>\n",
       "      <td>142.399994</td>\n",
       "      <td>141.634995</td>\n",
       "      <td>141.800003</td>\n",
       "      <td>986422</td>\n",
       "      <td>0.0</td>\n",
       "      <td>0.0</td>\n",
       "      <td>0.0</td>\n",
       "      <td>1.0</td>\n",
       "      <td>NaN</td>\n",
       "    </tr>\n",
       "  </tbody>\n",
       "</table>\n",
       "</div>"
      ],
      "text/plain": [
       "         Open        High         Low       Close  Volume  ticker2onehot_A  \\\n",
       "0  115.239998  115.430000  115.070000  115.260002    7618              1.0   \n",
       "1  209.160294  209.419998  208.960007  209.020004    5910              0.0   \n",
       "2   15.695000   15.730000   15.640000   15.690000  191455              0.0   \n",
       "3  142.100006  142.264999  141.750000  142.069000  794298              0.0   \n",
       "4  142.059998  142.399994  141.634995  141.800003  986422              0.0   \n",
       "\n",
       "   ticker2onehot_AAL  ticker2onehot_AAP  ticker2onehot_AAPL  sentiment  \n",
       "0                0.0                0.0                 0.0        NaN  \n",
       "1                0.0                1.0                 0.0        NaN  \n",
       "2                1.0                0.0                 0.0        NaN  \n",
       "3                0.0                0.0                 1.0        NaN  \n",
       "4                0.0                0.0                 1.0        NaN  "
      ]
     },
     "execution_count": 17,
     "metadata": {},
     "output_type": "execute_result"
    }
   ],
   "source": [
    "# Get offline feature vector as dataframe and save the dataset to parquet\n",
    "import datetime\n",
    "start_time = datetime.datetime.now()-datetime.timedelta(7)\n",
    "end_time = datetime.datetime.now()-datetime.timedelta(0)\n",
    "train_dataset = fstore.get_offline_features(fv_name,start_time=start_time,end_time=end_time, entity_timestamp_column = 'Datetime')\n",
    "train_dataset.to_dataframe().head()#.sentiment.unique()"
   ]
  },
  {
   "cell_type": "markdown",
   "metadata": {},
   "source": [
    "## Set up the project"
   ]
  },
  {
   "cell_type": "code",
   "execution_count": 18,
   "metadata": {},
   "outputs": [
    {
     "data": {
      "text/plain": [
       "<mlrun.runtimes.serving.ServingRuntime at 0x7f6649a3e210>"
      ]
     },
     "execution_count": 18,
     "metadata": {},
     "output_type": "execute_result"
    }
   ],
   "source": [
    "import os\n",
    "\n",
    "# getting our model training function\n",
    "project.set_function(os.path.join(os.getcwd(),'src','train_stocks.py'),\n",
    "                     name='train_stocks', kind='job', image='mlrun/ml-models')\n",
    "\n",
    "\n",
    "project.set_function(os.path.join(os.getcwd(),'src','train_stocks.py'),\n",
    "                     name='serving', kind='serving', image='mlrun/ml-models')"
   ]
  },
  {
   "cell_type": "markdown",
   "metadata": {},
   "source": [
    "## Write and save workflow"
   ]
  },
  {
   "cell_type": "code",
   "execution_count": 19,
   "metadata": {},
   "outputs": [
    {
     "name": "stdout",
     "output_type": "stream",
     "text": [
      "Overwriting workflow.py\n"
     ]
    }
   ],
   "source": [
    "%%writefile workflow.py\n",
    "import mlrun\n",
    "from kfp import dsl\n",
    "\n",
    "@dsl.pipeline(\n",
    "    name=\"Stocks Prediction Pipeline\",\n",
    "    description=\"predicting stock prices using yahoo api with sentiment analysis\"\n",
    ")\n",
    "\n",
    "def kfpipeline(vector_name:str,\n",
    "               seq_size:int = 5,\n",
    "               batch_size:int = 32,\n",
    "               hidden_dim:int = 10,\n",
    "               n_layers:int = 4,\n",
    "               epochs:int = 3,\n",
    "               start_time:int = 7,\n",
    "               end_time:int = 0,\n",
    "               model_filepath = './'\n",
    "               ):\n",
    "    \n",
    "    project = mlrun.get_current_project()\n",
    "    \n",
    "    preprocess = project.get_function('train_stocks').apply(mlrun.auto_mount())\n",
    "\n",
    "    preprocess_run = mlrun.run_function(name='train_stocks',\n",
    "                                        function='train_stocks',\n",
    "                                        handler='train_stocks',\n",
    "                                        params={'context':context,\n",
    "                                                'hidden_dim':hidden_dim,\n",
    "                                                'n_layers':n_layers,\n",
    "                                                'epochs':epochs, \n",
    "                                                'vector_name':vector_name,\n",
    "                                                'seq_size':seq_size,\n",
    "                                                'start_time':start_time,\n",
    "                                                'end_time':end_time,\n",
    "                                                'batch_size':batch_size,\n",
    "                                                'model_filepath':model_filepath},\n",
    "                                       outputs=[\"model\"])\n",
    "    \n",
    "    \n",
    "    # deploying serving function\n",
    "    serving_function = project.get_function(\"serving\")\n",
    "    # Mount it:\n",
    "    serving_function.apply(mlrun.mount_v3io())\n",
    "    # Set the topology and get the graph object:\n",
    "    graph = serving_function.set_topology(\"flow\", engine=\"async\")\n",
    "    # Build the serving graph:\n",
    "    graph.to(class_name=\"mlrun.frameworks.pytorch.PyTorchModelServer\", model_name='pytorch_stocks_model', model_path=str(preprocess_run.outputs[\"model\"]))\\\n",
    "         \n",
    "    \n",
    "    # Set the desired requirements:\n",
    "    serving_function.with_requirements(requirements=['yfinance','yahoo_fin'])\n",
    "    # Deploy the serving function:\n",
    "    mlrun.deploy_function(\"serving\")"
   ]
  },
  {
   "cell_type": "code",
   "execution_count": 20,
   "metadata": {},
   "outputs": [],
   "source": [
    "# Register the workflow file:\n",
    "workflow_name = \"stocks_workflow\"\n",
    "project.set_workflow(workflow_name, \"workflow.py\")\n",
    "\n",
    "# Save the project:\n",
    "project.save()"
   ]
  },
  {
   "cell_type": "code",
   "execution_count": 21,
   "metadata": {},
   "outputs": [
    {
     "name": "stdout",
     "output_type": "stream",
     "text": [
      "> 2022-05-19 12:45:12,583 [info] submitted pipeline stocks-avia-stocks_workflow 2022-05-19 12-45-12 id=d1d43b0f-32f9-4852-8ac8-c66b9eebb59a\n",
      "> 2022-05-19 12:45:12,584 [info] Pipeline run id=d1d43b0f-32f9-4852-8ac8-c66b9eebb59a, check UI for progress\n"
     ]
    },
    {
     "data": {
      "text/html": [
       "Pipeline started in project stocks-avia id=d1d43b0f-32f9-4852-8ac8-c66b9eebb59a<div><a href=\"https://dashboard.default-tenant.app.app-lab-eks-b71.iguazio-cd0.com/mlprojects/stocks-avia/jobs/monitor-workflows/workflow/d1d43b0f-32f9-4852-8ac8-c66b9eebb59a\" target=\"_blank\">click here to view progress</a></div>"
      ],
      "text/plain": [
       "<IPython.core.display.HTML object>"
      ]
     },
     "metadata": {},
     "output_type": "display_data"
    },
    {
     "data": {
      "text/plain": [
       "d1d43b0f-32f9-4852-8ac8-c66b9eebb59a"
      ]
     },
     "execution_count": 21,
     "metadata": {},
     "output_type": "execute_result"
    }
   ],
   "source": [
    "project.run(name=workflow_name,\n",
    "            arguments={\n",
    "                \"vector_name\":\"stocks\",\n",
    "                \"seq_size\": 5,\n",
    "                \"batch_size\": 32,\n",
    "                \"hidden_dim\": 10,\n",
    "                \"n_layers\": 4,\n",
    "                \"epochs\": 3,\n",
    "                \"start_time\":7,\n",
    "                \"end_time\":0,\n",
    "                \"model_filepath\":os.path.join(os.getcwd(),'src')\n",
    "            })"
   ]
  },
  {
   "cell_type": "code",
   "execution_count": null,
   "metadata": {},
   "outputs": [],
   "source": []
  }
 ],
 "metadata": {
  "kernelspec": {
   "display_name": "Python 3",
   "language": "python",
   "name": "python3"
  },
  "language_info": {
   "codemirror_mode": {
    "name": "ipython",
    "version": 3
   },
   "file_extension": ".py",
   "mimetype": "text/x-python",
   "name": "python",
   "nbconvert_exporter": "python",
   "pygments_lexer": "ipython3",
   "version": "3.7.6"
  }
 },
 "nbformat": 4,
 "nbformat_minor": 4
}
