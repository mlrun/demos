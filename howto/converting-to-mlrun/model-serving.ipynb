{
 "cells": [
  {
   "cell_type": "code",
   "execution_count": 1,
   "metadata": {},
   "outputs": [],
   "source": [
    "import mlrun"
   ]
  },
  {
   "cell_type": "code",
   "execution_count": 2,
   "metadata": {},
   "outputs": [],
   "source": [
    "# nuclio: start-code"
   ]
  },
  {
   "cell_type": "code",
   "execution_count": 3,
   "metadata": {},
   "outputs": [],
   "source": [
    "%nuclio cmd -c pip install lightgbm"
   ]
  },
  {
   "cell_type": "code",
   "execution_count": 4,
   "metadata": {},
   "outputs": [
    {
     "name": "stdout",
     "output_type": "stream",
     "text": [
      "%nuclio: setting spec.build.baseImage to 'mlrun/mlrun'\n",
      "%nuclio: setting kind to 'serving'\n"
     ]
    }
   ],
   "source": [
    "%nuclio config spec.build.baseImage = \"mlrun/mlrun\"\n",
    "%nuclio config kind = \"serving\""
   ]
  },
  {
   "cell_type": "code",
   "execution_count": 5,
   "metadata": {},
   "outputs": [],
   "source": [
    "import numpy as np \n",
    "import pandas as pd\n",
    "import lightgbm as lgbm\n",
    "from mlrun.artifacts import get_model, update_model"
   ]
  },
  {
   "cell_type": "code",
   "execution_count": 6,
   "metadata": {},
   "outputs": [],
   "source": [
    "import mlrun\n",
    "import numpy as np\n",
    "import lightgbm as lgbm\n",
    "import os\n",
    "from cloudpickle import load\n",
    "\n",
    "class LGBMModel(mlrun.serving.V2ModelServer):\n",
    "    \n",
    "    def load(self):\n",
    "        model_file, extra_data = self.get_model('.pkl')\n",
    "        self.model = load(open(model_file, 'rb'))\n",
    "\n",
    "    def predict(self, body):\n",
    "        try:\n",
    "            feats = np.asarray(body['inputs'])\n",
    "            result = self.model.predict(feats)\n",
    "            return result.tolist()\n",
    "        except Exception as e:\n",
    "            raise Exception(\"Failed to predict %s\" % e)"
   ]
  },
  {
   "cell_type": "code",
   "execution_count": 7,
   "metadata": {},
   "outputs": [],
   "source": [
    "# nuclio: end-code"
   ]
  },
  {
   "cell_type": "code",
   "execution_count": 8,
   "metadata": {},
   "outputs": [],
   "source": [
    "models_path = 'https://s3.wasabisys.com/iguazio/models/lightgbm/SampleModel.pkl'"
   ]
  },
  {
   "cell_type": "code",
   "execution_count": 9,
   "metadata": {},
   "outputs": [],
   "source": [
    "fn = mlrun.code_to_function('lightgbm-serving',\n",
    "                            description=\"LightGBM Serving\",\n",
    "                            categories=['serving', 'ml'],\n",
    "                            labels={'author': 'edmondg', 'framework': 'lightgbm'},\n",
    "                            code_output='.')\n",
    "fn.spec.default_class = 'LGBMModel'"
   ]
  },
  {
   "cell_type": "code",
   "execution_count": 10,
   "metadata": {},
   "outputs": [
    {
     "data": {
      "text/plain": [
       "<mlrun.serving.states.TaskState at 0x7f88d2de78d0>"
      ]
     },
     "execution_count": 10,
     "metadata": {},
     "output_type": "execute_result"
    }
   ],
   "source": [
    "fn.add_model('nyc-taxi-server', model_path=models_path)"
   ]
  },
  {
   "cell_type": "code",
   "execution_count": 11,
   "metadata": {},
   "outputs": [
    {
     "name": "stdout",
     "output_type": "stream",
     "text": [
      "> 2021-01-27 09:58:53,966 [info] Starting remote function deploy\n",
      "2021-01-27 09:58:54  (info) Deploying function\n",
      "2021-01-27 09:58:54  (info) Building\n",
      "2021-01-27 09:58:54  (info) Staging files and preparing base images\n",
      "2021-01-27 09:58:54  (info) Building processor image\n",
      "2021-01-27 09:58:55  (info) Build complete\n",
      "2021-01-27 09:59:03  (info) Function deploy complete\n",
      "> 2021-01-27 09:59:04,345 [info] function deployed, address=default-tenant.app.jinkwubtllaf.iguazio-cd1.com:32617\n"
     ]
    }
   ],
   "source": [
    "fn.apply(mlrun.platforms.auto_mount())\n",
    "address = fn.deploy()"
   ]
  },
  {
   "cell_type": "code",
   "execution_count": 12,
   "metadata": {},
   "outputs": [
    {
     "data": {
      "text/plain": [
       "{'id': '10ad6a7b-fcc5-4d38-a2d5-a77a6e4efe18',\n",
       " 'model_name': 'nyc-taxi-server',\n",
       " 'outputs': [25.374309065093435]}"
      ]
     },
     "execution_count": 12,
     "metadata": {},
     "output_type": "execute_result"
    }
   ],
   "source": [
    "my_data = '''{\"inputs\":[[5.1, 3.5, 1.4, 3, 5.1, 3.5, 1.4, 0.2, 5.1, 3.5, 1.4, 0.2, 5.1, 3.5, 1.4, 0.2]]}'''\n",
    "fn.invoke('/v2/models/nyc-taxi-server/predict', my_data)"
   ]
  }
 ],
 "metadata": {
  "kernelspec": {
   "display_name": "Python 3",
   "language": "python",
   "name": "python3"
  },
  "language_info": {
   "codemirror_mode": {
    "name": "ipython",
    "version": 3
   },
   "file_extension": ".py",
   "mimetype": "text/x-python",
   "name": "python",
   "nbconvert_exporter": "python",
   "pygments_lexer": "ipython3",
   "version": "3.7.6"
  }
 },
 "nbformat": 4,
 "nbformat_minor": 4
}
