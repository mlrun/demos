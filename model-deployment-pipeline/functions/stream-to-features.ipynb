{
 "cells": [
  {
   "cell_type": "markdown",
   "metadata": {},
   "source": [
    "# Stream to Features\n",
    "  --------------------------------------------------------------------"
   ]
  },
  {
   "cell_type": "markdown",
   "metadata": {},
   "source": [
    "Receive a stream of events from `incoming-events-stream`, enrich specific events and update a set of aggregations on the data. The output data is stored to an aggregation table called `feature-table` and a new event that includes the calculated features is written to `serving-stream`\n"
   ]
  },
  {
   "cell_type": "markdown",
   "metadata": {},
   "source": [
    "Enrich the relevant events with socioeconomic data by looking up the enrichment table.<br>\n",
    "During the feature calculation, we calculate sum, mean, count and variance for the 3 amount fields (`amount`, `bet_amount` and `win_amount` for `new_purchases`, `new_bet` and `new_win` respectively). This results with the following list of fields:\n",
    "\n",
    "- purchase_sum\n",
    "- purchase_mean\n",
    "- purchase_count\n",
    "- purchase_var\n",
    "- bet_sum\n",
    "- bet_mean\n",
    "- bet_count\n",
    "- bet_var\n",
    "- win_sum\n",
    "- win_mean\n",
    "- win_count\n",
    "- win_var\n",
    "\n",
    "You can change the incoming events and the generated features by customizing the methods below."
   ]
  },
  {
   "cell_type": "markdown",
   "metadata": {},
   "source": [
    "## Create and Test a Local Function "
   ]
  },
  {
   "cell_type": "markdown",
   "metadata": {},
   "source": [
    "[Nuclio](https://nuclio.io/) is a high-performance open-source and managed serverless framework, which is available as a predefined tenant-wide platform service (`nuclio`).\n",
    "The demo uses Nuclio to create and deploy serverless functions.\n",
    "Therefore, you need to import the Nuclio package and configure Nuclio for your project.\n",
    "\n",
    "The platform's Jupyter Notebook service preinstalls the [nuclio-jupyter SDK](https://github.com/nuclio/nuclio-jupyter/blob/master/README.md) for creating and deploying Nuclio functions with Python and Jupyter Notebook.\n",
    "The tutorial uses the Nuclio magic commands and annotation comments of this SDK to automate function code generation.\n",
    "The magic commands are initialized when you import the `nuclio` package.<br>\n",
    "The `%nuclio` magic commands are used to run Nuclio commands from Jupyter notebooks (`%nuclio <Nuclio command>`).\n",
    "You can also use `%%nuclio` at the start of a cell to identify the entire cell as containing Nuclio code.\n",
    "The magic commands are initialized when you import the `nuclio` package.<br>\n",
    "The `# nuclio: start-code`, `# nuclio: end-code`, and `# nuclio: ignore` section-marker annotations notify Nuclio of the beginning or end of code sections.\n",
    "Nuclio ignores all notebook code before a `# nuclio: start-code` marker or after an `# nuclio: end-code` marker.\n",
    "Nuclio translates all other notebook code sections into function code, except for sections that are marked with the `# nuclio: ignore` marker."
   ]
  },
  {
   "cell_type": "markdown",
   "metadata": {},
   "source": [
    "### Import Nuclio"
   ]
  },
  {
   "cell_type": "markdown",
   "metadata": {},
   "source": [
    "The following code imports the `nuclio` Python package."
   ]
  },
  {
   "cell_type": "code",
   "execution_count": null,
   "metadata": {},
   "outputs": [],
   "source": [
    "import nuclio"
   ]
  },
  {
   "cell_type": "markdown",
   "metadata": {},
   "source": [
    "#### Configure Nuclio"
   ]
  },
  {
   "cell_type": "markdown",
   "metadata": {},
   "source": [
    "The following code uses the `# nuclio: start-code` marker to instruct Nuclio to start processing code only from this location, and then performs basic Nuclio function configuration &mdash; defining the name of the function's container image (`mlrun/ml-models`), the function type (`nuclio`), and some additional package installation commands.\n",
    "\n",
    "> **Note:** You can add code to define function dependencies and perform additional configuration after the `# nuclio: start-code` marker."
   ]
  },
  {
   "cell_type": "code",
   "execution_count": null,
   "metadata": {},
   "outputs": [],
   "source": [
    "# nuclio: start-code"
   ]
  },
  {
   "cell_type": "markdown",
   "metadata": {},
   "source": [
    "<b>Specify function dependencies and configuration<b>"
   ]
  },
  {
   "cell_type": "code",
   "execution_count": null,
   "metadata": {},
   "outputs": [],
   "source": [
    "%%nuclio config\n",
    "spec.build.baseImage = \"mlrun/mlrun\"\n",
    "kind = \"nuclio\""
   ]
  },
  {
   "cell_type": "markdown",
   "metadata": {},
   "source": [
    "## Function code"
   ]
  },
  {
   "cell_type": "code",
   "execution_count": null,
   "metadata": {},
   "outputs": [],
   "source": [
    "import os\n",
    "import json\n",
    "import numpy as np\n",
    "from v3io import dataplane, common\n",
    "from datetime import datetime"
   ]
  },
  {
   "cell_type": "code",
   "execution_count": null,
   "metadata": {},
   "outputs": [],
   "source": [
    "def init_context(context):\n",
    "    v3io_access_key = os.getenv('V3IO_ACCESS_KEY')\n",
    "    container = os.getenv('CONTAINER')\n",
    "    feature_table_path = os.getenv('FEATURE_TABLE_PATH')\n",
    "    feature_list = [v.strip() for v in os.getenv('FEATURE_LIST').split(',')]\n",
    "    serving_events = [v.strip() for v in os.getenv('SERVING_EVENTS').split(',')]\n",
    "    output_stream_path = os.getenv('OUTPUT_STREAM_PATH')    \n",
    "    partition_attr = os.getenv('PARTITION_ATTR')\n",
    "    enrichment_table_path = os.getenv('ENRICHMENT_TABLE_PATH')\n",
    "    enrichment_key = os.getenv('ENRICHMENT_KEY')\n",
    "    \n",
    "    v3io_client = dataplane.Client(endpoint='http://v3io-webapi:8081', access_key=v3io_access_key)\n",
    "    \n",
    "    event_handlers = {'registration': process_registration,\n",
    "                      'purchase': process_purchase,\n",
    "                      'bet': process_bet,\n",
    "                      'win': process_win}\n",
    "    \n",
    "    setattr(context, 'v3io_client', v3io_client)\n",
    "    setattr(context, 'container', container)\n",
    "    setattr(context, 'feature_table_path', feature_table_path)\n",
    "    setattr(context, 'feature_list', feature_list)\n",
    "    setattr(context, 'serving_events', serving_events)\n",
    "    setattr(context, 'output_stream_path', output_stream_path)\n",
    "    setattr(context, 'partition_attr', partition_attr)\n",
    "    setattr(context, 'event_handlers', event_handlers)\n",
    "    setattr(context, 'enrichment_table_path', enrichment_table_path)\n",
    "    setattr(context, 'enrichment_key', enrichment_key)\n",
    "    pass"
   ]
  },
  {
   "cell_type": "code",
   "execution_count": null,
   "metadata": {},
   "outputs": [],
   "source": [
    "def handler(context, event):\n",
    "    if type(event.body) is dict:\n",
    "        event_dict = event.body\n",
    "    else:\n",
    "        event_dict = json.loads(event.body)\n",
    "        \n",
    "    if is_relevant_event(context, event_dict):\n",
    "        event_type = get_event_type(event_dict)\n",
    "        context.logger.info(f'Incoming event type: {event_type}')\n",
    "        \n",
    "        # python switch-case\n",
    "        process_func = context.event_handlers.get(event_type)\n",
    "        context.logger.info(f'Processing event {event_dict}')\n",
    "        response = process_func(context, event_dict)\n",
    "        context.logger.info(f'Finished processing with status: {response.status_code} - and response body: {response.body} , event: {event_dict}')\n",
    "        if event_type in context.serving_events and (200 <= response.status_code < 300) :\n",
    "            context.logger.info(f'sending event for serving')\n",
    "            write_to_output_stream(context, event_dict)\n",
    "    else:\n",
    "        context.logger.info(f'Not relevant event')\n",
    "    pass\n",
    "\n",
    "        \n",
    "def get_event_type(event):\n",
    "    return event['event_type']\n",
    "\n",
    "\n",
    "def is_relevant_event(context, event):\n",
    "    return get_event_type(event) in context.event_handlers\n",
    "        \n",
    "def get_features(context, event):\n",
    "    user_id = event['user_id']\n",
    "    features_list = context.feature_list\n",
    "    resp = context.v3io_client.kv.get(container=context.container, \n",
    "                                      table_path=context.feature_table_path,\n",
    "                                      key=str(user_id),\n",
    "                                      raise_for_status=dataplane.RaiseForStatus.never)\n",
    "    \n",
    "    feat_list = [resp.output.item.get(feat) for feat in features_list]\n",
    "    feat_list = [0 if v is None else v for v in feat_list]\n",
    "    return json.dumps({'user_id': user_id, 'instances': np.array(feat_list).reshape(1,-1).tolist()})\n",
    "\n",
    "\n",
    "def write_to_output_stream(context, event):\n",
    "    partition_key = event.get(context.partition_attr)    \n",
    "    data = get_features(context, event)\n",
    "    \n",
    "    record = {'partition_key': str(partition_key), 'data': data }\n",
    "    resp = context.v3io_client.stream.put_records(container=context.container, \n",
    "                                                  stream_path=context.output_stream_path, \n",
    "                                                  records=[record], \n",
    "                                                  raise_for_status=dataplane.RaiseForStatus.never)\n",
    "    context.logger.info(f'Sent features for user: {event[\"user_id\"]} to serving stream')\n",
    "    context.logger.debug(f'Feature values: {data}')\n",
    "\n",
    "\n",
    "def event_time_to_ts(event_time):\n",
    "    dt = datetime.strptime(event_time,'%Y-%m-%d %H:%M:%S.%f')\n",
    "    return datetime.timestamp(dt)\n",
    "\n",
    "\n",
    "def get_sum_count_mean_var_expr(feature: str, current_value):\n",
    "    sum_str = f\"SET {feature}_sum= if_not_exists({feature}_sum, 0) + {current_value};\"\n",
    "    count_str = f\"SET {feature}_count= if_not_exists({feature}_count, 0) + 1;\"\n",
    "    delta_str = f\"SET {feature}_delta= {current_value} - if_not_exists({feature}_mean, 0);\"\n",
    "    mean_str = f\"SET {feature}_mean= if_not_exists({feature}_mean, 0) + ({feature}_delta / {feature}_count);\"\n",
    "    m2_str = f\"SET {feature}_m2= if_not_exists({feature}_m2, 0) + ({feature}_delta * ({current_value} - {feature}_mean));\"\n",
    "    var_str = f\"SET {feature}_var= {feature}_m2 / (max(2, {feature}_count)-1) ;\"\n",
    "    expression = sum_str + count_str + delta_str + mean_str + m2_str + var_str\n",
    "    return expression\n",
    "\n",
    "\n",
    "def update_features(context, user_id, expression, condition):\n",
    "    return context.v3io_client.kv.update(container=context.container,\n",
    "                                         table_path=context.feature_table_path,\n",
    "                                         key=str(user_id),\n",
    "                                         condition=condition,\n",
    "                                         expression=expression,\n",
    "                                         raise_for_status=dataplane.RaiseForStatus.never)\n",
    "\n",
    "\n",
    "def enrich_event(context, event):\n",
    "    if context.enrichment_key in event:\n",
    "        enrichment_key_value = event[context.enrichment_key]\n",
    "        resp = context.v3io_client.kv.get(container=context.container, \n",
    "                                          table_path=context.enrichment_table_path,\n",
    "                                          key=str(enrichment_key_value),\n",
    "                                          raise_for_status=dataplane.RaiseForStatus.never)\n",
    "        if 200 <= resp.status_code <= 299:\n",
    "            enriched_event = dict(event, **resp.output.item)\n",
    "            context.logger.info_with('Event was enriched', enriched_event=enriched_event)\n",
    "            return enriched_event\n",
    "        else:\n",
    "            context.logger.debug_with(\"Couldn't enrich event\", \n",
    "                                      enrichment_key_value=enrichment_key_value,\n",
    "                                      response_status=resp.status_code, \n",
    "                                      response_body=resp.body.decode('utf-8'))\n",
    "            return event\n",
    "    else:\n",
    "        return event\n",
    "\n",
    "\n",
    "def process_registration(context, event):\n",
    "    user_id = event['user_id']\n",
    "    \n",
    "    event = enrich_event(context, event)\n",
    "    \n",
    "    features = {'user_id': event['user_id'],\n",
    "               'registration_date': event['event_time'],\n",
    "               'date_of_birth': event['date_of_birth'],\n",
    "               'socioeconomic_idx':  event['socioeconomic_idx'],\n",
    "               'affiliate_url': event['affiliate_url'],\n",
    "               'label': event['label']}\n",
    "    \n",
    "    response = context.v3io_client.kv.put(container=context.container,\n",
    "                                          table_path=context.feature_table_path,\n",
    "                                          key=str(user_id),\n",
    "                                          attributes=features,\n",
    "                                          raise_for_status=dataplane.RaiseForStatus.never)\n",
    "    return response\n",
    "\n",
    "\n",
    "def process_purchase(context, event):\n",
    "    user_id = event['user_id']\n",
    "    event_time = event['event_time']\n",
    "    event_ts = event_time_to_ts(event_time)\n",
    "    \n",
    "    purchase_amount = event['amount']\n",
    "\n",
    "    first_purchase_ts_str = f\"SET first_purchase_ts=if_not_exists(first_purchase_ts, {event_ts});\"\n",
    "    sum_count_mean_var_expr = get_sum_count_mean_var_expr('purchase', purchase_amount)\n",
    "    \n",
    "    expression = first_purchase_ts_str + sum_count_mean_var_expr\n",
    "    condition = f\"exists(registration_date) AND (NOT exists(first_purchase_ts) OR first_purchase_ts >= ({event_ts} - 86400 ))\"\n",
    "    \n",
    "    return update_features(context, user_id, expression, condition)\n",
    "\n",
    "\n",
    "def process_bet(context, event):\n",
    "    user_id = event['user_id']\n",
    "    event_time = event['event_time']\n",
    "    event_ts = event_time_to_ts(event_time)\n",
    "    \n",
    "    bet_amount = event['bet_amount']\n",
    "\n",
    "    sum_count_mean_var_expr = get_sum_count_mean_var_expr('bet', bet_amount)\n",
    "    \n",
    "    expression = sum_count_mean_var_expr\n",
    "    condition = f\"first_purchase_ts >= ({event_ts} - 86400 )\"\n",
    "    \n",
    "    return update_features(context, user_id, expression, condition)\n",
    "\n",
    "\n",
    "def process_win(context, event):\n",
    "    user_id = event['user_id']\n",
    "    event_time = event['event_time']\n",
    "    event_ts = event_time_to_ts(event_time)\n",
    "    \n",
    "    win_amount = event['win_amount']\n",
    "\n",
    "    sum_count_mean_var_expr = get_sum_count_mean_var_expr('win', win_amount)\n",
    "    \n",
    "    expression = sum_count_mean_var_expr\n",
    "    condition = f\"first_purchase_ts >= ({event_ts} - 86400 )\"\n",
    "    \n",
    "    return update_features(context, user_id, expression, condition)\n"
   ]
  },
  {
   "cell_type": "markdown",
   "metadata": {},
   "source": [
    "The following cell uses the `# nuclio: end-code` marker to mark the end of a Nuclio code section and instruct Nuclio to stop parsing the notebook at this point.<br>\n",
    "> **IMPORTANT:** Do not remove the end-code cell."
   ]
  },
  {
   "cell_type": "code",
   "execution_count": null,
   "metadata": {},
   "outputs": [],
   "source": [
    "# nuclio: end-code"
   ]
  },
  {
   "cell_type": "markdown",
   "metadata": {},
   "source": [
    "Set a dictionary for initializing the environment variables used by the function"
   ]
  },
  {
   "cell_type": "markdown",
   "metadata": {},
   "source": [
    "\n",
    "## Test locally"
   ]
  },
  {
   "cell_type": "code",
   "execution_count": null,
   "metadata": {},
   "outputs": [],
   "source": [
    "import v3io.dataplane\n",
    "v3io_client = v3io.dataplane.Client()\n",
    "\n",
    "test_path = os.path.join(os.getcwd(), 'test')\n",
    "\n",
    "# Create a test target stream\n",
    "v3io_client = v3io.dataplane.Client()\n",
    "container = 'users'\n",
    "output_stream_path = os.path.join(test_path.replace('/User', os.getenv('V3IO_USERNAME')), 'serving-stream')\n",
    "v3io_client.stream.create(container=container, stream_path=output_stream_path, shard_count=1)\n",
    "\n",
    "# Create a test enrichment table\n",
    "enrichment_table_path = os.path.join(test_path.replace('/User', os.getenv('V3IO_USERNAME')), 'enrichment-table')\n",
    "postcode = 11012\n",
    "attr = {'postcode': postcode ,'socioeconomic_idx': 3}\n",
    "v3io_client.kv.put(container=container,\n",
    "                   table_path=enrichment_table_path,\n",
    "                   key=str(postcode),\n",
    "                   attributes=attr)\n",
    "\n",
    "# Create feature table\n",
    "feature_table_path = os.path.join(test_path.replace('/User', os.getenv('V3IO_USERNAME')), 'feature-table')\n",
    "feature_list = ['socioeconomic_idx','purchase_sum','purchase_mean','purchase_count',\n",
    "                'purchase_var','bet_sum','bet_mean','bet_count',\n",
    "                'bet_var','win_sum','win_mean','win_count','win_var']\n"
   ]
  },
  {
   "cell_type": "code",
   "execution_count": null,
   "metadata": {},
   "outputs": [],
   "source": [
    "envs = {'V3IO_ACCESS_KEY': os.getenv('V3IO_ACCESS_KEY'),\n",
    "        'FEATURE_TABLE_PATH': feature_table_path,\n",
    "        'SERVING_EVENTS': \",\".join(['bet','win']),\n",
    "        'FEATURE_LIST': \",\".join(feature_list),\n",
    "        'CONTAINER': container,\n",
    "        'OUTPUT_STREAM_PATH': output_stream_path,\n",
    "        'PARTITION_ATTR': 'user_id',\n",
    "        'ENRICHMENT_TABLE_PATH': enrichment_table_path,\n",
    "        'ENRICHMENT_KEY':\"postcode\"}"
   ]
  },
  {
   "cell_type": "code",
   "execution_count": null,
   "metadata": {},
   "outputs": [],
   "source": [
    "for key, value in envs.items():\n",
    "    os.environ[key] = str(value)\n",
    "reg_event = nuclio.Event(body=f'{{\"user_id\" : 111111 ,\"affiliate_url\":\"aa.biz\", \"event_type\": \"registration\", \"postcode\": {postcode}, \"event_time\": \"2020-07-20 11:00:00\",\"date_of_birth\": \"1970-03-03\", \"label\":0}}'.encode())\n",
    "pur_event = nuclio.Event(body=b'{\"user_id\" : 111111 ,\"amount\": 3000, \"event_type\": \"purchase\", \"event_time\": \"2020-07-20 11:00:00.009\"}') \n",
    "bet_event = nuclio.Event(body=b'{\"user_id\" : 111111 ,\"bet_amount\": 300, \"event_type\": \"bet\", \"event_time\": \"2020-07-20 11:00:00.889\"}') \n",
    "init_context(context)\n",
    "handler(context, reg_event)\n",
    "handler(context, pur_event)\n",
    "handler(context, bet_event)"
   ]
  },
  {
   "cell_type": "code",
   "execution_count": null,
   "metadata": {},
   "outputs": [],
   "source": [
    "# cleanup\n",
    "!rm -rf {test_path}"
   ]
  },
  {
   "cell_type": "markdown",
   "metadata": {},
   "source": [
    "## Nuclio Deploy"
   ]
  },
  {
   "cell_type": "markdown",
   "metadata": {},
   "source": [
    "### Convert code to function"
   ]
  },
  {
   "cell_type": "markdown",
   "metadata": {},
   "source": [
    "We use MLRun `code_to_function` in order to convert the python code to a Nuclio function. We then set the relevant enrivonment variables and streaming trigger."
   ]
  },
  {
   "cell_type": "code",
   "execution_count": null,
   "metadata": {},
   "outputs": [],
   "source": [
    "from mlrun import code_to_function\n",
    "\n",
    "fn = code_to_function(name='features')\n",
    "fn.set_envs(envs)"
   ]
  },
  {
   "cell_type": "markdown",
   "metadata": {},
   "source": [
    "### Deploy"
   ]
  },
  {
   "cell_type": "code",
   "execution_count": null,
   "metadata": {},
   "outputs": [],
   "source": [
    "fn.deploy()"
   ]
  },
  {
   "cell_type": "markdown",
   "metadata": {},
   "source": [
    "## Done"
   ]
  }
 ],
 "metadata": {
  "kernelspec": {
   "display_name": "Python 3",
   "language": "python",
   "name": "python3"
  },
  "language_info": {
   "codemirror_mode": {
    "name": "ipython",
    "version": 3
   },
   "file_extension": ".py",
   "mimetype": "text/x-python",
   "name": "python",
   "nbconvert_exporter": "python",
   "pygments_lexer": "ipython3",
   "version": "3.7.6"
  }
 },
 "nbformat": 4,
 "nbformat_minor": 4
}
