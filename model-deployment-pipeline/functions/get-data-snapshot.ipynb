{
 "cells": [
  {
   "cell_type": "markdown",
   "metadata": {},
   "source": [
    "# Get Data Snapshot\n",
    " --------------------------------------------------------------------\n",
    " This function will take a snapshot of the feature table to train a model"
   ]
  },
  {
   "cell_type": "markdown",
   "metadata": {},
   "source": [
    "## Create and Test a Function "
   ]
  },
  {
   "cell_type": "code",
   "execution_count": null,
   "metadata": {},
   "outputs": [],
   "source": [
    "import mlrun"
   ]
  },
  {
   "cell_type": "markdown",
   "metadata": {},
   "source": [
    "The following code uses the `# nuclio: start-code` marker to instruct Nuclio to start processing code only from this location, and then performs basic Nuclio function configuration &mdash; defining the name of the function's container image (`mlrun/ml-models`) and the function type (`job`).\n",
    "\n",
    "> **Note:** You can add code to define function dependencies and perform additional configuration after the `# nuclio: start-code` marker."
   ]
  },
  {
   "cell_type": "code",
   "execution_count": null,
   "metadata": {},
   "outputs": [],
   "source": [
    "# nuclio: start-code"
   ]
  },
  {
   "cell_type": "code",
   "execution_count": null,
   "metadata": {},
   "outputs": [],
   "source": [
    "%nuclio config spec.build.baseImage = \"mlrun/mlrun\"\n",
    "%nuclio config kind = \"job\"\n",
    "%nuclio cmd -c pip install v3io-frames==0.8.*"
   ]
  },
  {
   "cell_type": "markdown",
   "metadata": {},
   "source": [
    "### Define a Data-Snapshot Function <a id=\"gs-step-ingest-data-define-function\"></a>\n"
   ]
  },
  {
   "cell_type": "code",
   "execution_count": null,
   "metadata": {},
   "outputs": [],
   "source": [
    "from os import path, getenv, getcwd\n",
    "import pandas as pd\n",
    "import v3io_frames as v3f\n",
    "\n",
    "\n",
    "# Ingest a data set into the platform\n",
    "def snapshot_data(context, container, table_path, columns, format='csv'):\n",
    "    \n",
    "    client = v3f.Client(\"framesd:8081\", container=container)\n",
    "    client.execute(backend=\"kv\", table=table_path, command=\"infer\")\n",
    "    df = client.read('kv', table_path, columns=columns)\n",
    "    \n",
    "    target_path = path.join(context.artifact_path, 'data')\n",
    "    # Optionally print data to your logger\n",
    "    context.logger.info('Saving snapshot data set to {} ...'.format(target_path))\n",
    "    \n",
    "    # Store the data set in your artifacts database\n",
    "    context.log_dataset('snapshot_dataset', df=df, format=format,\n",
    "                        index=False, artifact_path=target_path)"
   ]
  },
  {
   "cell_type": "markdown",
   "metadata": {},
   "source": [
    "The following cell uses the `# nuclio: end-code` marker to mark the end of a Nuclio code section and instruct Nuclio to stop parsing the notebook at this point.<br>\n",
    "> **IMPORTANT:** Do not remove the end-code cell."
   ]
  },
  {
   "cell_type": "code",
   "execution_count": null,
   "metadata": {},
   "outputs": [],
   "source": [
    "# nuclio: end-code"
   ]
  },
  {
   "cell_type": "markdown",
   "metadata": {},
   "source": [
    "### Convert code to function"
   ]
  },
  {
   "cell_type": "code",
   "execution_count": null,
   "metadata": {},
   "outputs": [],
   "source": [
    "from mlrun import code_to_function, mlconf, mount_v3io\n",
    "\n",
    "mlconf.dbpath = mlconf.dbpath or 'http://mlrun-api:8080'\n",
    "mlconf.artifact_path = mlconf.artifact_path or f'{getenv(\"HOME\")}/artifacts'\n",
    "\n",
    "\n",
    "# Convert the local snapshot_data function into a gen_func project function\n",
    "snapshot_data_func = code_to_function(name='snapshot-data')"
   ]
  },
  {
   "cell_type": "code",
   "execution_count": null,
   "metadata": {},
   "outputs": [],
   "source": [
    "# Set the source-data URL\n",
    "container = 'users'\n",
    "test_path = path.join(getcwd(), 'test')\n",
    "table_path = path.join(getenv('V3IO_USERNAME'), 'examples/model-deployment-pipeline/data/feature-table')\n",
    "\n",
    "columns = ['label', 'socioeconomic_idx', \n",
    "           'purchase_sum', 'purchase_mean', 'purchase_count', 'purchase_var', \n",
    "           'bet_sum', 'bet_mean', 'bet_count' ,'bet_var',\n",
    "           'win_sum', 'win_mean', 'win_count' ,'win_var']\n",
    "format = 'csv'\n",
    "\n",
    "envs = {'V3IO_USERNAME': getenv('V3IO_USERNAME'),\n",
    "       'V3IO_ACCESS_KEY': getenv('V3IO_ACCESS_KEY')}\n",
    "snapshot_data_func.set_envs(envs)\n",
    "snapshot_data_func.apply(mount_v3io())"
   ]
  },
  {
   "cell_type": "markdown",
   "metadata": {},
   "source": [
    "#### Run the Function on a Cluster <a id=\"gs-run-ingest-func-cluster\"></a>\n"
   ]
  },
  {
   "cell_type": "code",
   "execution_count": null,
   "metadata": {},
   "outputs": [],
   "source": [
    "#Build image\n",
    "snapshot_data_func.deploy()"
   ]
  },
  {
   "cell_type": "markdown",
   "metadata": {},
   "source": [
    "##### Run the Function on the Cluster <a id=\"gs-run-ingest-func-on-the-cluster-run-function\"></a>\n"
   ]
  },
  {
   "cell_type": "code",
   "execution_count": null,
   "metadata": {},
   "outputs": [],
   "source": [
    "snapshot_data_run = snapshot_data_func.run(name='snapshot_data',\n",
    "                                 handler='snapshot_data',\n",
    "                                 params={'container': container, 'table_path': table_path, \n",
    "                                         'columns':columns, 'format': format},\n",
    "                                 artifact_path=test_path)"
   ]
  },
  {
   "cell_type": "code",
   "execution_count": null,
   "metadata": {},
   "outputs": [],
   "source": [
    "#clean up\n",
    "!rm -rf test/data"
   ]
  },
  {
   "cell_type": "markdown",
   "metadata": {},
   "source": [
    "## Done"
   ]
  }
 ],
 "metadata": {
  "kernelspec": {
   "display_name": "Python 3",
   "language": "python",
   "name": "python3"
  },
  "language_info": {
   "codemirror_mode": {
    "name": "ipython",
    "version": 3
   },
   "file_extension": ".py",
   "mimetype": "text/x-python",
   "name": "python",
   "nbconvert_exporter": "python",
   "pygments_lexer": "ipython3",
   "version": "3.7.6"
  },
  "toc-showcode": false,
  "toc-showmarkdowntxt": false
 },
 "nbformat": 4,
 "nbformat_minor": 4
}
