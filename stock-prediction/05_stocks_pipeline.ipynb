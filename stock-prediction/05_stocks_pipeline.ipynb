{
 "cells": [
  {
   "cell_type": "markdown",
   "id": "85cb6b11",
   "metadata": {},
   "source": [
    "# Stocks demo pipeline"
   ]
  },
  {
   "cell_type": "markdown",
   "id": "faf6b9a0",
   "metadata": {},
   "source": [
    "## steps\n",
    "* [Run notebook ingest_stocks](01_ingest_news.ipynb)\n",
    "* [Run notebook ingest_news](02_ingest_stocks.ipynb)\n",
    "* [Create feature vector](#Create-feature-vector)\n",
    "* [Set up the project](#Set-up-the-project)\n",
    "* [Write and save workflow](#Write-and-save-workflow)\n",
    "* [Run the workflow](#Run-the-workflow)"
   ]
  },
  {
   "cell_type": "code",
   "execution_count": 1,
   "id": "380313f2",
   "metadata": {},
   "outputs": [],
   "source": [
    "# !/User/align_mlrun.sh"
   ]
  },
  {
   "cell_type": "code",
   "execution_count": 2,
   "id": "18cc7558",
   "metadata": {},
   "outputs": [
    {
     "name": "stdout",
     "output_type": "stream",
     "text": [
      "> 2022-08-10 06:52:14,645 [info] loaded project stocks from MLRun DB\n"
     ]
    }
   ],
   "source": [
    "import mlrun\n",
    "project = mlrun.get_or_create_project(name='stocks',user_project=True, context=\"src/\")"
   ]
  },
  {
   "cell_type": "markdown",
   "id": "c84749e2",
   "metadata": {},
   "source": [
    "# Create feature vector"
   ]
  },
  {
   "cell_type": "code",
   "execution_count": 3,
   "id": "d4ca77fe",
   "metadata": {},
   "outputs": [],
   "source": [
    "# Define the list of features we will be using\n",
    "features = ['stocks.*',\n",
    "            'news.sentiment',\n",
    "            ]\n",
    "\n",
    "# Import MLRun's Feature Store\n",
    "import mlrun.feature_store as fstore\n",
    "\n",
    "# Define the feature vector name for future reference\n",
    "fv_name = 'stocks'\n",
    "\n",
    "# Define the feature vector using our Feature Store (fstore)\n",
    "transactions_fv = fstore.FeatureVector(fv_name, \n",
    "                          features, \n",
    "                          description='stocks information')\n",
    "\n",
    "# Save the feature vector in the Feature Store\n",
    "transactions_fv.save()"
   ]
  },
  {
   "cell_type": "code",
   "execution_count": 4,
   "id": "d4139cfc",
   "metadata": {},
   "outputs": [
    {
     "data": {
      "text/html": [
       "<div>\n",
       "<style scoped>\n",
       "    .dataframe tbody tr th:only-of-type {\n",
       "        vertical-align: middle;\n",
       "    }\n",
       "\n",
       "    .dataframe tbody tr th {\n",
       "        vertical-align: top;\n",
       "    }\n",
       "\n",
       "    .dataframe thead th {\n",
       "        text-align: right;\n",
       "    }\n",
       "</style>\n",
       "<table border=\"1\" class=\"dataframe\">\n",
       "  <thead>\n",
       "    <tr style=\"text-align: right;\">\n",
       "      <th></th>\n",
       "      <th>Open</th>\n",
       "      <th>High</th>\n",
       "      <th>Low</th>\n",
       "      <th>Close</th>\n",
       "      <th>Volume</th>\n",
       "      <th>ticker2onehot_A</th>\n",
       "      <th>ticker2onehot_AAL</th>\n",
       "      <th>ticker2onehot_AAP</th>\n",
       "      <th>ticker2onehot_AAPL</th>\n",
       "      <th>ticker2onehot_ABBV</th>\n",
       "      <th>ticker2onehot_ABC</th>\n",
       "      <th>ticker2onehot_ABMD</th>\n",
       "      <th>ticker2onehot_ABT</th>\n",
       "      <th>ticker2onehot_ACN</th>\n",
       "      <th>ticker2onehot_ADBE</th>\n",
       "      <th>sentiment</th>\n",
       "    </tr>\n",
       "  </thead>\n",
       "  <tbody>\n",
       "    <tr>\n",
       "      <th>0</th>\n",
       "      <td>140.860001</td>\n",
       "      <td>142.065002</td>\n",
       "      <td>140.800003</td>\n",
       "      <td>141.500000</td>\n",
       "      <td>271559</td>\n",
       "      <td>0</td>\n",
       "      <td>0</td>\n",
       "      <td>0</td>\n",
       "      <td>0</td>\n",
       "      <td>1</td>\n",
       "      <td>0</td>\n",
       "      <td>0</td>\n",
       "      <td>0</td>\n",
       "      <td>0</td>\n",
       "      <td>0</td>\n",
       "      <td>NaN</td>\n",
       "    </tr>\n",
       "    <tr>\n",
       "      <th>1</th>\n",
       "      <td>377.359985</td>\n",
       "      <td>384.329987</td>\n",
       "      <td>376.320007</td>\n",
       "      <td>382.179993</td>\n",
       "      <td>286897</td>\n",
       "      <td>0</td>\n",
       "      <td>0</td>\n",
       "      <td>0</td>\n",
       "      <td>0</td>\n",
       "      <td>0</td>\n",
       "      <td>0</td>\n",
       "      <td>0</td>\n",
       "      <td>0</td>\n",
       "      <td>0</td>\n",
       "      <td>1</td>\n",
       "      <td>NaN</td>\n",
       "    </tr>\n",
       "    <tr>\n",
       "      <th>2</th>\n",
       "      <td>116.669998</td>\n",
       "      <td>116.925003</td>\n",
       "      <td>116.455002</td>\n",
       "      <td>116.925003</td>\n",
       "      <td>63808</td>\n",
       "      <td>1</td>\n",
       "      <td>0</td>\n",
       "      <td>0</td>\n",
       "      <td>0</td>\n",
       "      <td>0</td>\n",
       "      <td>0</td>\n",
       "      <td>0</td>\n",
       "      <td>0</td>\n",
       "      <td>0</td>\n",
       "      <td>0</td>\n",
       "      <td>NaN</td>\n",
       "    </tr>\n",
       "    <tr>\n",
       "      <th>3</th>\n",
       "      <td>133.500000</td>\n",
       "      <td>133.960007</td>\n",
       "      <td>133.009995</td>\n",
       "      <td>133.080002</td>\n",
       "      <td>8841401</td>\n",
       "      <td>0</td>\n",
       "      <td>0</td>\n",
       "      <td>0</td>\n",
       "      <td>1</td>\n",
       "      <td>0</td>\n",
       "      <td>0</td>\n",
       "      <td>0</td>\n",
       "      <td>0</td>\n",
       "      <td>0</td>\n",
       "      <td>0</td>\n",
       "      <td>NaN</td>\n",
       "    </tr>\n",
       "    <tr>\n",
       "      <th>4</th>\n",
       "      <td>142.229996</td>\n",
       "      <td>143.500000</td>\n",
       "      <td>142.080002</td>\n",
       "      <td>143.229996</td>\n",
       "      <td>20155</td>\n",
       "      <td>0</td>\n",
       "      <td>0</td>\n",
       "      <td>0</td>\n",
       "      <td>0</td>\n",
       "      <td>0</td>\n",
       "      <td>1</td>\n",
       "      <td>0</td>\n",
       "      <td>0</td>\n",
       "      <td>0</td>\n",
       "      <td>0</td>\n",
       "      <td>NaN</td>\n",
       "    </tr>\n",
       "  </tbody>\n",
       "</table>\n",
       "</div>"
      ],
      "text/plain": [
       "         Open        High         Low       Close   Volume  ticker2onehot_A  \\\n",
       "0  140.860001  142.065002  140.800003  141.500000   271559                0   \n",
       "1  377.359985  384.329987  376.320007  382.179993   286897                0   \n",
       "2  116.669998  116.925003  116.455002  116.925003    63808                1   \n",
       "3  133.500000  133.960007  133.009995  133.080002  8841401                0   \n",
       "4  142.229996  143.500000  142.080002  143.229996    20155                0   \n",
       "\n",
       "   ticker2onehot_AAL  ticker2onehot_AAP  ticker2onehot_AAPL  \\\n",
       "0                  0                  0                   0   \n",
       "1                  0                  0                   0   \n",
       "2                  0                  0                   0   \n",
       "3                  0                  0                   1   \n",
       "4                  0                  0                   0   \n",
       "\n",
       "   ticker2onehot_ABBV  ticker2onehot_ABC  ticker2onehot_ABMD  \\\n",
       "0                   1                  0                   0   \n",
       "1                   0                  0                   0   \n",
       "2                   0                  0                   0   \n",
       "3                   0                  0                   0   \n",
       "4                   0                  1                   0   \n",
       "\n",
       "   ticker2onehot_ABT  ticker2onehot_ACN  ticker2onehot_ADBE  sentiment  \n",
       "0                  0                  0                   0        NaN  \n",
       "1                  0                  0                   1        NaN  \n",
       "2                  0                  0                   0        NaN  \n",
       "3                  0                  0                   0        NaN  \n",
       "4                  0                  0                   0        NaN  "
      ]
     },
     "execution_count": 4,
     "metadata": {},
     "output_type": "execute_result"
    }
   ],
   "source": [
    "# Get offline feature vector as dataframe and save the dataset to parquet\n",
    "import datetime\n",
    "start_time = 59\n",
    "end_time = 0\n",
    "fv_data = fstore.get_offline_features(fv_name,start_time=start_time,end_time=end_time, entity_timestamp_column = 'Datetime')\n",
    "fv_data.to_dataframe().head()"
   ]
  },
  {
   "cell_type": "markdown",
   "id": "1bb75d53",
   "metadata": {},
   "source": [
    "## Set up the project"
   ]
  },
  {
   "cell_type": "code",
   "execution_count": 5,
   "id": "5b76fa63",
   "metadata": {},
   "outputs": [
    {
     "data": {
      "text/plain": [
       "<mlrun.runtimes.serving.ServingRuntime at 0x7ff132e55a10>"
      ]
     },
     "execution_count": 5,
     "metadata": {},
     "output_type": "execute_result"
    }
   ],
   "source": [
    "import os\n",
    "\n",
    "# getting our model training function\n",
    "project.set_function(os.path.join(os.getcwd(),'src','train_stocks.py'),\n",
    "                     name='train_stocks', kind='job', image='mlrun/ml-models')\n",
    "\n",
    "\n",
    "project.set_function(os.path.join(os.getcwd(),'src','serving_stocks.py'),\n",
    "                     name='serving_stocks', kind='serving', image='mlrun/ml-models')"
   ]
  },
  {
   "cell_type": "markdown",
   "id": "15547558",
   "metadata": {},
   "source": [
    "## Write and save workflow"
   ]
  },
  {
   "cell_type": "code",
   "execution_count": 6,
   "id": "8f99a830",
   "metadata": {},
   "outputs": [
    {
     "name": "stdout",
     "output_type": "stream",
     "text": [
      "Writing src/workflow.py\n"
     ]
    }
   ],
   "source": [
    "%%writefile src/workflow.py\n",
    "import mlrun\n",
    "from kfp import dsl\n",
    "\n",
    "@dsl.pipeline(\n",
    "    name=\"Stocks Prediction Pipeline\",\n",
    "    description=\"predicting stock prices using yahoo api with sentiment analysis\"\n",
    ")\n",
    "\n",
    "def kfpipeline(vector_name:str,\n",
    "               seq_size:int = 5,\n",
    "               batch_size:int = 1,\n",
    "               hidden_dim:int = 2,\n",
    "               n_layers:int = 1,\n",
    "               epochs:int = 3,\n",
    "               start_time:int = 59,\n",
    "               end_time:int = 0,\n",
    "               model_filepath = './'\n",
    "               ):\n",
    "    \n",
    "    project = mlrun.get_current_project()\n",
    "    \n",
    "    train_stocks = project.get_function('train_stocks').apply(mlrun.auto_mount())\n",
    "\n",
    "    train_stocks_run = mlrun.run_function(name='train_stocks',\n",
    "                                          function='train_stocks',\n",
    "                                          handler='handler',\n",
    "                                          params={'context':context,\n",
    "                                                  'hidden_dim':hidden_dim,\n",
    "                                                  'n_layers':n_layers,\n",
    "                                                  'epochs':epochs, \n",
    "                                                  'vector_name':vector_name,\n",
    "                                                  'seq_size':seq_size,\n",
    "                                                  'start_time':start_time,\n",
    "                                                  'end_time':end_time,\n",
    "                                                  'batch_size':batch_size,\n",
    "                                                  'model_filepath':model_filepath},\n",
    "                                          outputs=[\"model\"])\n",
    "    \n",
    "    \n",
    "    # deploying serving function\n",
    "    serving_function = project.get_function(\"serving_stocks\")\n",
    "    # Mount it:\n",
    "    serving_function.apply(mlrun.mount_v3io())\n",
    "    # Set the topology and get the graph object:\n",
    "    graph = serving_function.set_topology(\"flow\", engine=\"async\")\n",
    "    # Build the serving graph:\n",
    "    graph.to(handler='preprocess', name='reading_data')\\\n",
    "         .to(class_name=\"StocksModel\", model_name='stocks_model', model_path=str(train_stocks_run.outputs['model']))\\\n",
    "         .to(handler='postprocess',name='postprocess').respond()\n",
    "         \n",
    "    \n",
    "    # Set the desired requirements:\n",
    "    serving_function.with_requirements(requirements=['yfinance','yahoo_fin'])\n",
    "    # Deploy the serving function:\n",
    "    mlrun.deploy_function(\"serving_stocks\")"
   ]
  },
  {
   "cell_type": "code",
   "execution_count": 7,
   "id": "051c7b3f",
   "metadata": {},
   "outputs": [
    {
     "data": {
      "text/plain": [
       "<mlrun.projects.project.MlrunProject at 0x7ff12a3568d0>"
      ]
     },
     "execution_count": 7,
     "metadata": {},
     "output_type": "execute_result"
    }
   ],
   "source": [
    "# Register the workflow file:\n",
    "workflow_name = \"stocks_workflow\"\n",
    "project.set_workflow(workflow_name, \"workflow.py\")\n",
    "\n",
    "# Save the project:\n",
    "project.save()"
   ]
  },
  {
   "cell_type": "markdown",
   "id": "5039557e",
   "metadata": {},
   "source": [
    "## Run the workflow"
   ]
  },
  {
   "cell_type": "code",
   "execution_count": 8,
   "id": "fc6f051d",
   "metadata": {},
   "outputs": [
    {
     "name": "stdout",
     "output_type": "stream",
     "text": [
      "> 2022-08-10 06:52:16,972 [info] submitted pipeline stocks-dani-stocks_workflow 2022-08-10 06-52-16 id=b27d022f-d17d-4ca5-b4c2-ca73be67353a\n",
      "> 2022-08-10 06:52:16,973 [info] Pipeline run id=b27d022f-d17d-4ca5-b4c2-ca73be67353a, check UI for progress\n"
     ]
    },
    {
     "data": {
      "text/html": [
       "Pipeline started in project stocks-dani id=b27d022f-d17d-4ca5-b4c2-ca73be67353a<div><a href=\"https://dashboard.default-tenant.app.vmdev93.lab.iguazeng.com/mlprojects/stocks-dani/jobs/monitor-workflows/workflow/b27d022f-d17d-4ca5-b4c2-ca73be67353a\" target=\"_blank\">click here to view progress</a></div>"
      ],
      "text/plain": [
       "<IPython.core.display.HTML object>"
      ]
     },
     "metadata": {},
     "output_type": "display_data"
    },
    {
     "name": "stdout",
     "output_type": "stream",
     "text": [
      "> 2022-08-10 06:52:16,977 [info] started run workflow stocks-dani-stocks_workflow with run id = 'b27d022f-d17d-4ca5-b4c2-ca73be67353a' by kfp engine\n"
     ]
    },
    {
     "data": {
      "text/plain": [
       "b27d022f-d17d-4ca5-b4c2-ca73be67353a"
      ]
     },
     "execution_count": 8,
     "metadata": {},
     "output_type": "execute_result"
    }
   ],
   "source": [
    "project.run(name=workflow_name,\n",
    "            arguments={\n",
    "                \"vector_name\":\"stocks\",\n",
    "                \"seq_size\": 5,\n",
    "                \"batch_size\": 1,\n",
    "                \"hidden_dim\": 2,\n",
    "                \"n_layers\": 1,\n",
    "                \"epochs\": 5,\n",
    "                \"start_time\":59,\n",
    "                \"end_time\":0,\n",
    "                \"model_filepath\":os.path.join(os.getcwd(),'src')})"
   ]
  }
 ],
 "metadata": {
  "kernelspec": {
   "display_name": "Python 3",
   "language": "python",
   "name": "python3"
  },
  "language_info": {
   "codemirror_mode": {
    "name": "ipython",
    "version": 3
   },
   "file_extension": ".py",
   "mimetype": "text/x-python",
   "name": "python",
   "nbconvert_exporter": "python",
   "pygments_lexer": "ipython3",
   "version": "3.7.6"
  }
 },
 "nbformat": 4,
 "nbformat_minor": 5
}
